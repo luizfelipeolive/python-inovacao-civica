{
  "cells": [
    {
      "cell_type": "markdown",
      "id": "4914c7df",
      "metadata": {
        "id": "4914c7df"
      },
      "source": [
        "# Desafio"
      ]
    },
    {
      "cell_type": "markdown",
      "id": "4ac55729",
      "metadata": {
        "id": "4ac55729"
      },
      "source": [
        "### 1) Acesse a api da camara, e recupere os reembolsos do ano de 2018"
      ]
    },
    {
      "cell_type": "markdown",
      "id": "97ad968f",
      "metadata": {
        "id": "97ad968f"
      },
      "source": [
        "1. Leitura da API e download da `response` na nossa máquina\n",
        "2. Extração do arquivo zip\n",
        "3. Não esqueça de fechar o arquivo, depois de salvar ele!"
      ]
    },
    {
      "cell_type": "code",
      "execution_count": 1,
      "id": "e335c8c7",
      "metadata": {
        "id": "e335c8c7"
      },
      "outputs": [],
      "source": [
        "import requests\n",
        "from zipfile import ZipFile\n",
        "\n",
        "# fazendo o download do conteúdo do arquivo\n",
        "url = f\"http://www.camara.leg.br/cotas/Ano-2018.csv.zip\"\n",
        "r = requests.get(url)\n",
        "\n",
        "file = open(f\"Ano-2018.csv.zip\", \"wb\")\n",
        "file.write(r.content)\n",
        "file.close()\n",
        "\n",
        "zip_file = ZipFile(f\"Ano-2018.csv.zip\", \"r\")\n",
        "zip_file.extract(member=f\"Ano-2018.csv\", path=f\"reembolso-2018\")\n",
        "zip_file.close()"
      ]
    },
    {
      "cell_type": "markdown",
      "id": "e7244afa",
      "metadata": {
        "id": "e7244afa"
      },
      "source": [
        "### 2) Leia o Arquivo csv"
      ]
    },
    {
      "cell_type": "markdown",
      "id": "581a8f4d",
      "metadata": {
        "id": "581a8f4d"
      },
      "source": [
        "1. Vamos passar o `DTYPE` para garantir que o CSV será lido com os tipos corretos\n",
        "2. Utilizar o `display.max_columns` nos ajuda a conseguir ler os dados sem que o jupyter comprima eles\n",
        "3. O nosso csv utiliza `;` como separador das colunas, por isso, precisamos informar isso no momento de leitura dos dados"
      ]
    },
    {
      "cell_type": "code",
      "execution_count": 2,
      "id": "55880b49",
      "metadata": {
        "id": "55880b49",
        "scrolled": true
      },
      "outputs": [],
      "source": [
        "import pandas as pd\n",
        "pd.set_option(\"display.max_columns\", None)\n",
        "\n",
        "DTYPE = {\n",
        "    \"txNomeParlamentar\": str,\n",
        "    \"ideCadastro\": str,\n",
        "    \"nuCarteiraParlamentar\": str,\n",
        "    \"nuLegislatura\": str,\n",
        "    \"sgUF\": str,\n",
        "    \"sgPartido\": str,\n",
        "    \"codLegislatura\": str,\n",
        "    \"numSubCota\": str,\n",
        "    \"txtDescricao\": str,\n",
        "    \"numEspecificacaoSubCota\": str,\n",
        "    \"txtDescricaoEspecificacao\": str,\n",
        "    \"txtFornecedor\": str,\n",
        "    \"txtCNPJCPF\": str,\n",
        "    \"txtNumero\": str,\n",
        "    \"indTipoDocumento\": str,\n",
        "    \"datEmissao\": str,\n",
        "    \"vlrDocumento\": float,\n",
        "    \"vlrGlosa\": str,\n",
        "    \"vlrLiquido\": float,\n",
        "    \"numMes\": str,\n",
        "    \"numAno\": str,\n",
        "    \"numParcela\": str,\n",
        "    \"txtPassageiro\": str,\n",
        "    \"txtTrecho\": str,\n",
        "    \"numLote\": str,\n",
        "    \"numRessarcimento\": str,\n",
        "    \"nuDeputadoId\": str,\n",
        "    \"ideDocumento\": str,\n",
        "    \"cpf\": str\n",
        "}\n",
        "\n",
        "df_reembolso = pd.read_csv(\n",
        "    \"reembolso-2018/Ano-2018.csv\",\n",
        "    sep=\";\",\n",
        "    dtype=DTYPE\n",
        ")"
      ]
    },
    {
      "cell_type": "markdown",
      "id": "04ac3026",
      "metadata": {
        "id": "04ac3026"
      },
      "source": [
        "### 3) Visualize 10 linhas aleatórias"
      ]
    },
    {
      "cell_type": "markdown",
      "id": "9bdfea91",
      "metadata": {
        "id": "9bdfea91"
      },
      "source": [
        "1. Visualizar uma amostra aleatoria dos dados é importante para nos ajudar a encontrar situações \"estranhas\" na nossa base, e assim, entender melhor os dados."
      ]
    },
    {
      "cell_type": "code",
      "execution_count": 3,
      "id": "fbde4877",
      "metadata": {
        "colab": {
          "base_uri": "https://localhost:8080/",
          "height": 861
        },
        "id": "fbde4877",
        "outputId": "f57a93d2-f927-4322-e98f-6e38494e7d3b"
      },
      "outputs": [
        {
          "data": {
            "text/html": [
              "<div>\n",
              "<style scoped>\n",
              "    .dataframe tbody tr th:only-of-type {\n",
              "        vertical-align: middle;\n",
              "    }\n",
              "\n",
              "    .dataframe tbody tr th {\n",
              "        vertical-align: top;\n",
              "    }\n",
              "\n",
              "    .dataframe thead th {\n",
              "        text-align: right;\n",
              "    }\n",
              "</style>\n",
              "<table border=\"1\" class=\"dataframe\">\n",
              "  <thead>\n",
              "    <tr style=\"text-align: right;\">\n",
              "      <th></th>\n",
              "      <th>txNomeParlamentar</th>\n",
              "      <th>cpf</th>\n",
              "      <th>ideCadastro</th>\n",
              "      <th>nuCarteiraParlamentar</th>\n",
              "      <th>nuLegislatura</th>\n",
              "      <th>sgUF</th>\n",
              "      <th>sgPartido</th>\n",
              "      <th>codLegislatura</th>\n",
              "      <th>numSubCota</th>\n",
              "      <th>txtDescricao</th>\n",
              "      <th>numEspecificacaoSubCota</th>\n",
              "      <th>txtDescricaoEspecificacao</th>\n",
              "      <th>txtFornecedor</th>\n",
              "      <th>txtCNPJCPF</th>\n",
              "      <th>txtNumero</th>\n",
              "      <th>indTipoDocumento</th>\n",
              "      <th>datEmissao</th>\n",
              "      <th>vlrDocumento</th>\n",
              "      <th>vlrGlosa</th>\n",
              "      <th>vlrLiquido</th>\n",
              "      <th>numMes</th>\n",
              "      <th>numAno</th>\n",
              "      <th>numParcela</th>\n",
              "      <th>txtPassageiro</th>\n",
              "      <th>txtTrecho</th>\n",
              "      <th>numLote</th>\n",
              "      <th>numRessarcimento</th>\n",
              "      <th>datPagamentoRestituicao</th>\n",
              "      <th>vlrRestituicao</th>\n",
              "      <th>nuDeputadoId</th>\n",
              "      <th>ideDocumento</th>\n",
              "      <th>urlDocumento</th>\n",
              "    </tr>\n",
              "  </thead>\n",
              "  <tbody>\n",
              "    <tr>\n",
              "      <th>98854</th>\n",
              "      <td>Rogério Peninha Mendonça</td>\n",
              "      <td>NaN</td>\n",
              "      <td>160651</td>\n",
              "      <td>483</td>\n",
              "      <td>2015</td>\n",
              "      <td>SC</td>\n",
              "      <td>MDB</td>\n",
              "      <td>55</td>\n",
              "      <td>13</td>\n",
              "      <td>FORNECIMENTO DE ALIMENTAÇÃO DO PARLAMENTAR</td>\n",
              "      <td>0</td>\n",
              "      <td>NaN</td>\n",
              "      <td>PROSPERA COMÉRCIO DE ALIMENTOS LTDA ME</td>\n",
              "      <td>229.473.020/0010-4</td>\n",
              "      <td>046487</td>\n",
              "      <td>0</td>\n",
              "      <td>2018-11-27T00:00:00</td>\n",
              "      <td>30.80</td>\n",
              "      <td>3</td>\n",
              "      <td>27.80</td>\n",
              "      <td>11</td>\n",
              "      <td>2018</td>\n",
              "      <td>0</td>\n",
              "      <td>NaN</td>\n",
              "      <td>NaN</td>\n",
              "      <td>1546812</td>\n",
              "      <td>NaN</td>\n",
              "      <td>NaN</td>\n",
              "      <td>NaN</td>\n",
              "      <td>2244</td>\n",
              "      <td>6719146</td>\n",
              "      <td>https://www.camara.leg.br/cota-parlamentar/doc...</td>\n",
              "    </tr>\n",
              "    <tr>\n",
              "      <th>18283</th>\n",
              "      <td>VALDIR COLATTO</td>\n",
              "      <td>NaN</td>\n",
              "      <td>74010</td>\n",
              "      <td>489</td>\n",
              "      <td>2015</td>\n",
              "      <td>SC</td>\n",
              "      <td>MDB</td>\n",
              "      <td>55</td>\n",
              "      <td>3</td>\n",
              "      <td>COMBUSTÍVEIS E LUBRIFICANTES.</td>\n",
              "      <td>1</td>\n",
              "      <td>Veículos Automotores</td>\n",
              "      <td>POSTO COMERCIAL NORTE LTDA</td>\n",
              "      <td>050.845.880/0012-2</td>\n",
              "      <td>46568</td>\n",
              "      <td>4</td>\n",
              "      <td>2018-11-09T00:00:00</td>\n",
              "      <td>173.01</td>\n",
              "      <td>0</td>\n",
              "      <td>173.01</td>\n",
              "      <td>11</td>\n",
              "      <td>2018</td>\n",
              "      <td>0</td>\n",
              "      <td>NaN</td>\n",
              "      <td>NaN</td>\n",
              "      <td>1541374</td>\n",
              "      <td>NaN</td>\n",
              "      <td>NaN</td>\n",
              "      <td>NaN</td>\n",
              "      <td>527</td>\n",
              "      <td>6704385</td>\n",
              "      <td>https://www.camara.leg.br/cota-parlamentar/not...</td>\n",
              "    </tr>\n",
              "    <tr>\n",
              "      <th>59809</th>\n",
              "      <td>Laerte Bessa</td>\n",
              "      <td>NaN</td>\n",
              "      <td>141478</td>\n",
              "      <td>580</td>\n",
              "      <td>2015</td>\n",
              "      <td>DF</td>\n",
              "      <td>PL</td>\n",
              "      <td>55</td>\n",
              "      <td>1</td>\n",
              "      <td>MANUTENÇÃO DE ESCRITÓRIO DE APOIO À ATIVIDADE ...</td>\n",
              "      <td>0</td>\n",
              "      <td>NaN</td>\n",
              "      <td>SHOPPING DO ALUNO LIVRARIA E PAPELARIA LTDA</td>\n",
              "      <td>089.953.500/0014-7</td>\n",
              "      <td>23151</td>\n",
              "      <td>4</td>\n",
              "      <td>2018-08-08T00:00:00</td>\n",
              "      <td>566.00</td>\n",
              "      <td>0</td>\n",
              "      <td>566.00</td>\n",
              "      <td>8</td>\n",
              "      <td>2018</td>\n",
              "      <td>0</td>\n",
              "      <td>NaN</td>\n",
              "      <td>NaN</td>\n",
              "      <td>1521871</td>\n",
              "      <td>NaN</td>\n",
              "      <td>NaN</td>\n",
              "      <td>NaN</td>\n",
              "      <td>1867</td>\n",
              "      <td>6649706</td>\n",
              "      <td>https://www.camara.leg.br/cota-parlamentar/not...</td>\n",
              "    </tr>\n",
              "    <tr>\n",
              "      <th>69164</th>\n",
              "      <td>Marcelo Aro</td>\n",
              "      <td>NaN</td>\n",
              "      <td>146788</td>\n",
              "      <td>236</td>\n",
              "      <td>2015</td>\n",
              "      <td>MG</td>\n",
              "      <td>PP</td>\n",
              "      <td>55</td>\n",
              "      <td>1</td>\n",
              "      <td>MANUTENÇÃO DE ESCRITÓRIO DE APOIO À ATIVIDADE ...</td>\n",
              "      <td>0</td>\n",
              "      <td>NaN</td>\n",
              "      <td>CIA DA MÍDIA LOCAÇÕES DE EQUIP. P/ EVENTOS LTD...</td>\n",
              "      <td>062.474.540/0014-8</td>\n",
              "      <td>1458</td>\n",
              "      <td>1</td>\n",
              "      <td>2018-08-06T00:00:00</td>\n",
              "      <td>435.00</td>\n",
              "      <td>0</td>\n",
              "      <td>435.00</td>\n",
              "      <td>7</td>\n",
              "      <td>2018</td>\n",
              "      <td>0</td>\n",
              "      <td>NaN</td>\n",
              "      <td>NaN</td>\n",
              "      <td>1522881</td>\n",
              "      <td>NaN</td>\n",
              "      <td>NaN</td>\n",
              "      <td>NaN</td>\n",
              "      <td>3015</td>\n",
              "      <td>6653082</td>\n",
              "      <td>https://www.camara.leg.br/cota-parlamentar/doc...</td>\n",
              "    </tr>\n",
              "    <tr>\n",
              "      <th>96467</th>\n",
              "      <td>WILSON FILHO</td>\n",
              "      <td>NaN</td>\n",
              "      <td>160636</td>\n",
              "      <td>139</td>\n",
              "      <td>2015</td>\n",
              "      <td>PB</td>\n",
              "      <td>PTB</td>\n",
              "      <td>55</td>\n",
              "      <td>13</td>\n",
              "      <td>FORNECIMENTO DE ALIMENTAÇÃO DO PARLAMENTAR</td>\n",
              "      <td>0</td>\n",
              "      <td>NaN</td>\n",
              "      <td>LAURITA FIGUEIREDO DE MEDEIROS</td>\n",
              "      <td>056.292.490/0018-4</td>\n",
              "      <td>22434</td>\n",
              "      <td>4</td>\n",
              "      <td>2018-07-27T00:00:00</td>\n",
              "      <td>108.00</td>\n",
              "      <td>0</td>\n",
              "      <td>108.00</td>\n",
              "      <td>7</td>\n",
              "      <td>2018</td>\n",
              "      <td>0</td>\n",
              "      <td>NaN</td>\n",
              "      <td>NaN</td>\n",
              "      <td>1518440</td>\n",
              "      <td>NaN</td>\n",
              "      <td>NaN</td>\n",
              "      <td>NaN</td>\n",
              "      <td>2366</td>\n",
              "      <td>6639664</td>\n",
              "      <td>https://www.camara.leg.br/cota-parlamentar/not...</td>\n",
              "    </tr>\n",
              "    <tr>\n",
              "      <th>36056</th>\n",
              "      <td>JUTAHY JUNIOR</td>\n",
              "      <td>NaN</td>\n",
              "      <td>74570</td>\n",
              "      <td>206</td>\n",
              "      <td>2015</td>\n",
              "      <td>BA</td>\n",
              "      <td>PSDB</td>\n",
              "      <td>55</td>\n",
              "      <td>3</td>\n",
              "      <td>COMBUSTÍVEIS E LUBRIFICANTES.</td>\n",
              "      <td>1</td>\n",
              "      <td>Veículos Automotores</td>\n",
              "      <td>PARAISO COMERCIO DE DERIVADOS DO PETROLEO E SE...</td>\n",
              "      <td>340.607.640/0019-4</td>\n",
              "      <td>99335</td>\n",
              "      <td>4</td>\n",
              "      <td>2018-11-11T00:00:00</td>\n",
              "      <td>100.00</td>\n",
              "      <td>0</td>\n",
              "      <td>100.00</td>\n",
              "      <td>11</td>\n",
              "      <td>2018</td>\n",
              "      <td>0</td>\n",
              "      <td>NaN</td>\n",
              "      <td>NaN</td>\n",
              "      <td>1543657</td>\n",
              "      <td>NaN</td>\n",
              "      <td>NaN</td>\n",
              "      <td>NaN</td>\n",
              "      <td>198</td>\n",
              "      <td>6711049</td>\n",
              "      <td>https://www.camara.leg.br/cota-parlamentar/not...</td>\n",
              "    </tr>\n",
              "    <tr>\n",
              "      <th>53497</th>\n",
              "      <td>Cleber Verde</td>\n",
              "      <td>NaN</td>\n",
              "      <td>141408</td>\n",
              "      <td>70</td>\n",
              "      <td>2015</td>\n",
              "      <td>MA</td>\n",
              "      <td>MDB</td>\n",
              "      <td>55</td>\n",
              "      <td>5</td>\n",
              "      <td>DIVULGAÇÃO DA ATIVIDADE PARLAMENTAR.</td>\n",
              "      <td>0</td>\n",
              "      <td>NaN</td>\n",
              "      <td>WILIBALDO MIGUEL BORGMANN NETO</td>\n",
              "      <td>297.633.330/0015-4</td>\n",
              "      <td>000935301</td>\n",
              "      <td>0</td>\n",
              "      <td>2018-06-04T00:00:00</td>\n",
              "      <td>4000.00</td>\n",
              "      <td>0</td>\n",
              "      <td>4000.00</td>\n",
              "      <td>5</td>\n",
              "      <td>2018</td>\n",
              "      <td>0</td>\n",
              "      <td>NaN</td>\n",
              "      <td>NaN</td>\n",
              "      <td>1501158</td>\n",
              "      <td>NaN</td>\n",
              "      <td>NaN</td>\n",
              "      <td>NaN</td>\n",
              "      <td>1804</td>\n",
              "      <td>6595656</td>\n",
              "      <td>https://www.camara.leg.br/cota-parlamentar/doc...</td>\n",
              "    </tr>\n",
              "    <tr>\n",
              "      <th>124615</th>\n",
              "      <td>Sergio Vidigal</td>\n",
              "      <td>NaN</td>\n",
              "      <td>178874</td>\n",
              "      <td>283</td>\n",
              "      <td>2015</td>\n",
              "      <td>ES</td>\n",
              "      <td>PDT</td>\n",
              "      <td>55</td>\n",
              "      <td>1</td>\n",
              "      <td>MANUTENÇÃO DE ESCRITÓRIO DE APOIO À ATIVIDADE ...</td>\n",
              "      <td>0</td>\n",
              "      <td>NaN</td>\n",
              "      <td>CENTRAL CARTUCHOS LTDA - ME</td>\n",
              "      <td>054.307.340/0012-4</td>\n",
              "      <td>14208</td>\n",
              "      <td>0</td>\n",
              "      <td>2018-03-28T00:00:00</td>\n",
              "      <td>85.00</td>\n",
              "      <td>35</td>\n",
              "      <td>50.00</td>\n",
              "      <td>3</td>\n",
              "      <td>2018</td>\n",
              "      <td>0</td>\n",
              "      <td>NaN</td>\n",
              "      <td>NaN</td>\n",
              "      <td>1485457</td>\n",
              "      <td>NaN</td>\n",
              "      <td>NaN</td>\n",
              "      <td>NaN</td>\n",
              "      <td>3046</td>\n",
              "      <td>6555763</td>\n",
              "      <td>https://www.camara.leg.br/cota-parlamentar/doc...</td>\n",
              "    </tr>\n",
              "    <tr>\n",
              "      <th>123250</th>\n",
              "      <td>Evair Vieira de Melo</td>\n",
              "      <td>NaN</td>\n",
              "      <td>178871</td>\n",
              "      <td>274</td>\n",
              "      <td>2015</td>\n",
              "      <td>ES</td>\n",
              "      <td>PP</td>\n",
              "      <td>55</td>\n",
              "      <td>3</td>\n",
              "      <td>COMBUSTÍVEIS E LUBRIFICANTES.</td>\n",
              "      <td>1</td>\n",
              "      <td>Veículos Automotores</td>\n",
              "      <td>POSTO CAILA LTDA</td>\n",
              "      <td>093.558.550/0010-0</td>\n",
              "      <td>4705</td>\n",
              "      <td>4</td>\n",
              "      <td>2018-03-20T00:00:00</td>\n",
              "      <td>200.04</td>\n",
              "      <td>0</td>\n",
              "      <td>200.04</td>\n",
              "      <td>3</td>\n",
              "      <td>2018</td>\n",
              "      <td>0</td>\n",
              "      <td>NaN</td>\n",
              "      <td>NaN</td>\n",
              "      <td>1478163</td>\n",
              "      <td>NaN</td>\n",
              "      <td>NaN</td>\n",
              "      <td>NaN</td>\n",
              "      <td>2984</td>\n",
              "      <td>6537144</td>\n",
              "      <td>https://www.camara.leg.br/cota-parlamentar/not...</td>\n",
              "    </tr>\n",
              "    <tr>\n",
              "      <th>65537</th>\n",
              "      <td>ROGÉRIO MARINHO</td>\n",
              "      <td>NaN</td>\n",
              "      <td>141535</td>\n",
              "      <td>124</td>\n",
              "      <td>2015</td>\n",
              "      <td>RN</td>\n",
              "      <td>PSDB</td>\n",
              "      <td>55</td>\n",
              "      <td>3</td>\n",
              "      <td>COMBUSTÍVEIS E LUBRIFICANTES.</td>\n",
              "      <td>1</td>\n",
              "      <td>Veículos Automotores</td>\n",
              "      <td>driver car transportes e combustiveis ltda</td>\n",
              "      <td>000.122.110/0022-5</td>\n",
              "      <td>78402</td>\n",
              "      <td>4</td>\n",
              "      <td>2018-04-30T00:00:00</td>\n",
              "      <td>100.00</td>\n",
              "      <td>0</td>\n",
              "      <td>100.00</td>\n",
              "      <td>4</td>\n",
              "      <td>2018</td>\n",
              "      <td>0</td>\n",
              "      <td>NaN</td>\n",
              "      <td>NaN</td>\n",
              "      <td>1490279</td>\n",
              "      <td>NaN</td>\n",
              "      <td>NaN</td>\n",
              "      <td>NaN</td>\n",
              "      <td>1931</td>\n",
              "      <td>6568258</td>\n",
              "      <td>https://www.camara.leg.br/cota-parlamentar/not...</td>\n",
              "    </tr>\n",
              "  </tbody>\n",
              "</table>\n",
              "</div>"
            ],
            "text/plain": [
              "               txNomeParlamentar  cpf ideCadastro nuCarteiraParlamentar  \\\n",
              "98854   Rogério Peninha Mendonça  NaN      160651                   483   \n",
              "18283             VALDIR COLATTO  NaN       74010                   489   \n",
              "59809               Laerte Bessa  NaN      141478                   580   \n",
              "69164                Marcelo Aro  NaN      146788                   236   \n",
              "96467               WILSON FILHO  NaN      160636                   139   \n",
              "36056              JUTAHY JUNIOR  NaN       74570                   206   \n",
              "53497               Cleber Verde  NaN      141408                    70   \n",
              "124615            Sergio Vidigal  NaN      178874                   283   \n",
              "123250      Evair Vieira de Melo  NaN      178871                   274   \n",
              "65537            ROGÉRIO MARINHO  NaN      141535                   124   \n",
              "\n",
              "       nuLegislatura sgUF sgPartido codLegislatura numSubCota  \\\n",
              "98854           2015   SC       MDB             55         13   \n",
              "18283           2015   SC       MDB             55          3   \n",
              "59809           2015   DF        PL             55          1   \n",
              "69164           2015   MG        PP             55          1   \n",
              "96467           2015   PB       PTB             55         13   \n",
              "36056           2015   BA      PSDB             55          3   \n",
              "53497           2015   MA       MDB             55          5   \n",
              "124615          2015   ES       PDT             55          1   \n",
              "123250          2015   ES        PP             55          3   \n",
              "65537           2015   RN      PSDB             55          3   \n",
              "\n",
              "                                             txtDescricao  \\\n",
              "98854          FORNECIMENTO DE ALIMENTAÇÃO DO PARLAMENTAR   \n",
              "18283                       COMBUSTÍVEIS E LUBRIFICANTES.   \n",
              "59809   MANUTENÇÃO DE ESCRITÓRIO DE APOIO À ATIVIDADE ...   \n",
              "69164   MANUTENÇÃO DE ESCRITÓRIO DE APOIO À ATIVIDADE ...   \n",
              "96467          FORNECIMENTO DE ALIMENTAÇÃO DO PARLAMENTAR   \n",
              "36056                       COMBUSTÍVEIS E LUBRIFICANTES.   \n",
              "53497                DIVULGAÇÃO DA ATIVIDADE PARLAMENTAR.   \n",
              "124615  MANUTENÇÃO DE ESCRITÓRIO DE APOIO À ATIVIDADE ...   \n",
              "123250                      COMBUSTÍVEIS E LUBRIFICANTES.   \n",
              "65537                       COMBUSTÍVEIS E LUBRIFICANTES.   \n",
              "\n",
              "       numEspecificacaoSubCota txtDescricaoEspecificacao  \\\n",
              "98854                        0                       NaN   \n",
              "18283                        1      Veículos Automotores   \n",
              "59809                        0                       NaN   \n",
              "69164                        0                       NaN   \n",
              "96467                        0                       NaN   \n",
              "36056                        1      Veículos Automotores   \n",
              "53497                        0                       NaN   \n",
              "124615                       0                       NaN   \n",
              "123250                       1      Veículos Automotores   \n",
              "65537                        1      Veículos Automotores   \n",
              "\n",
              "                                            txtFornecedor          txtCNPJCPF  \\\n",
              "98854              PROSPERA COMÉRCIO DE ALIMENTOS LTDA ME  229.473.020/0010-4   \n",
              "18283                          POSTO COMERCIAL NORTE LTDA  050.845.880/0012-2   \n",
              "59809         SHOPPING DO ALUNO LIVRARIA E PAPELARIA LTDA  089.953.500/0014-7   \n",
              "69164   CIA DA MÍDIA LOCAÇÕES DE EQUIP. P/ EVENTOS LTD...  062.474.540/0014-8   \n",
              "96467                      LAURITA FIGUEIREDO DE MEDEIROS  056.292.490/0018-4   \n",
              "36056   PARAISO COMERCIO DE DERIVADOS DO PETROLEO E SE...  340.607.640/0019-4   \n",
              "53497                      WILIBALDO MIGUEL BORGMANN NETO  297.633.330/0015-4   \n",
              "124615                        CENTRAL CARTUCHOS LTDA - ME  054.307.340/0012-4   \n",
              "123250                                   POSTO CAILA LTDA  093.558.550/0010-0   \n",
              "65537          driver car transportes e combustiveis ltda  000.122.110/0022-5   \n",
              "\n",
              "        txtNumero indTipoDocumento           datEmissao  vlrDocumento  \\\n",
              "98854      046487                0  2018-11-27T00:00:00         30.80   \n",
              "18283       46568                4  2018-11-09T00:00:00        173.01   \n",
              "59809       23151                4  2018-08-08T00:00:00        566.00   \n",
              "69164        1458                1  2018-08-06T00:00:00        435.00   \n",
              "96467       22434                4  2018-07-27T00:00:00        108.00   \n",
              "36056       99335                4  2018-11-11T00:00:00        100.00   \n",
              "53497   000935301                0  2018-06-04T00:00:00       4000.00   \n",
              "124615      14208                0  2018-03-28T00:00:00         85.00   \n",
              "123250       4705                4  2018-03-20T00:00:00        200.04   \n",
              "65537       78402                4  2018-04-30T00:00:00        100.00   \n",
              "\n",
              "       vlrGlosa  vlrLiquido numMes numAno numParcela txtPassageiro txtTrecho  \\\n",
              "98854         3       27.80     11   2018          0           NaN       NaN   \n",
              "18283         0      173.01     11   2018          0           NaN       NaN   \n",
              "59809         0      566.00      8   2018          0           NaN       NaN   \n",
              "69164         0      435.00      7   2018          0           NaN       NaN   \n",
              "96467         0      108.00      7   2018          0           NaN       NaN   \n",
              "36056         0      100.00     11   2018          0           NaN       NaN   \n",
              "53497         0     4000.00      5   2018          0           NaN       NaN   \n",
              "124615       35       50.00      3   2018          0           NaN       NaN   \n",
              "123250        0      200.04      3   2018          0           NaN       NaN   \n",
              "65537         0      100.00      4   2018          0           NaN       NaN   \n",
              "\n",
              "        numLote numRessarcimento  datPagamentoRestituicao  vlrRestituicao  \\\n",
              "98854   1546812              NaN                      NaN             NaN   \n",
              "18283   1541374              NaN                      NaN             NaN   \n",
              "59809   1521871              NaN                      NaN             NaN   \n",
              "69164   1522881              NaN                      NaN             NaN   \n",
              "96467   1518440              NaN                      NaN             NaN   \n",
              "36056   1543657              NaN                      NaN             NaN   \n",
              "53497   1501158              NaN                      NaN             NaN   \n",
              "124615  1485457              NaN                      NaN             NaN   \n",
              "123250  1478163              NaN                      NaN             NaN   \n",
              "65537   1490279              NaN                      NaN             NaN   \n",
              "\n",
              "       nuDeputadoId ideDocumento  \\\n",
              "98854          2244      6719146   \n",
              "18283           527      6704385   \n",
              "59809          1867      6649706   \n",
              "69164          3015      6653082   \n",
              "96467          2366      6639664   \n",
              "36056           198      6711049   \n",
              "53497          1804      6595656   \n",
              "124615         3046      6555763   \n",
              "123250         2984      6537144   \n",
              "65537          1931      6568258   \n",
              "\n",
              "                                             urlDocumento  \n",
              "98854   https://www.camara.leg.br/cota-parlamentar/doc...  \n",
              "18283   https://www.camara.leg.br/cota-parlamentar/not...  \n",
              "59809   https://www.camara.leg.br/cota-parlamentar/not...  \n",
              "69164   https://www.camara.leg.br/cota-parlamentar/doc...  \n",
              "96467   https://www.camara.leg.br/cota-parlamentar/not...  \n",
              "36056   https://www.camara.leg.br/cota-parlamentar/not...  \n",
              "53497   https://www.camara.leg.br/cota-parlamentar/doc...  \n",
              "124615  https://www.camara.leg.br/cota-parlamentar/doc...  \n",
              "123250  https://www.camara.leg.br/cota-parlamentar/not...  \n",
              "65537   https://www.camara.leg.br/cota-parlamentar/not...  "
            ]
          },
          "execution_count": 3,
          "metadata": {},
          "output_type": "execute_result"
        }
      ],
      "source": [
        "df_reembolso.sample(10)"
      ]
    },
    {
      "cell_type": "markdown",
      "id": "be0725bb",
      "metadata": {
        "id": "be0725bb"
      },
      "source": [
        "### 4) Existem registros com `ideDocumento` nulo?"
      ]
    },
    {
      "cell_type": "code",
      "execution_count": 4,
      "id": "bc915fec",
      "metadata": {
        "colab": {
          "base_uri": "https://localhost:8080/",
          "height": 113
        },
        "id": "bc915fec",
        "outputId": "10601a6b-1b31-4f6f-e3b6-dca69cee670f"
      },
      "outputs": [
        {
          "data": {
            "text/html": [
              "<div>\n",
              "<style scoped>\n",
              "    .dataframe tbody tr th:only-of-type {\n",
              "        vertical-align: middle;\n",
              "    }\n",
              "\n",
              "    .dataframe tbody tr th {\n",
              "        vertical-align: top;\n",
              "    }\n",
              "\n",
              "    .dataframe thead th {\n",
              "        text-align: right;\n",
              "    }\n",
              "</style>\n",
              "<table border=\"1\" class=\"dataframe\">\n",
              "  <thead>\n",
              "    <tr style=\"text-align: right;\">\n",
              "      <th></th>\n",
              "      <th>txNomeParlamentar</th>\n",
              "      <th>cpf</th>\n",
              "      <th>ideCadastro</th>\n",
              "      <th>nuCarteiraParlamentar</th>\n",
              "      <th>nuLegislatura</th>\n",
              "      <th>sgUF</th>\n",
              "      <th>sgPartido</th>\n",
              "      <th>codLegislatura</th>\n",
              "      <th>numSubCota</th>\n",
              "      <th>txtDescricao</th>\n",
              "      <th>numEspecificacaoSubCota</th>\n",
              "      <th>txtDescricaoEspecificacao</th>\n",
              "      <th>txtFornecedor</th>\n",
              "      <th>txtCNPJCPF</th>\n",
              "      <th>txtNumero</th>\n",
              "      <th>indTipoDocumento</th>\n",
              "      <th>datEmissao</th>\n",
              "      <th>vlrDocumento</th>\n",
              "      <th>vlrGlosa</th>\n",
              "      <th>vlrLiquido</th>\n",
              "      <th>numMes</th>\n",
              "      <th>numAno</th>\n",
              "      <th>numParcela</th>\n",
              "      <th>txtPassageiro</th>\n",
              "      <th>txtTrecho</th>\n",
              "      <th>numLote</th>\n",
              "      <th>numRessarcimento</th>\n",
              "      <th>datPagamentoRestituicao</th>\n",
              "      <th>vlrRestituicao</th>\n",
              "      <th>nuDeputadoId</th>\n",
              "      <th>ideDocumento</th>\n",
              "      <th>urlDocumento</th>\n",
              "    </tr>\n",
              "  </thead>\n",
              "  <tbody>\n",
              "  </tbody>\n",
              "</table>\n",
              "</div>"
            ],
            "text/plain": [
              "Empty DataFrame\n",
              "Columns: [txNomeParlamentar, cpf, ideCadastro, nuCarteiraParlamentar, nuLegislatura, sgUF, sgPartido, codLegislatura, numSubCota, txtDescricao, numEspecificacaoSubCota, txtDescricaoEspecificacao, txtFornecedor, txtCNPJCPF, txtNumero, indTipoDocumento, datEmissao, vlrDocumento, vlrGlosa, vlrLiquido, numMes, numAno, numParcela, txtPassageiro, txtTrecho, numLote, numRessarcimento, datPagamentoRestituicao, vlrRestituicao, nuDeputadoId, ideDocumento, urlDocumento]\n",
              "Index: []"
            ]
          },
          "execution_count": 4,
          "metadata": {},
          "output_type": "execute_result"
        }
      ],
      "source": [
        "df_reembolso[df_reembolso.ideDocumento.isna()]"
      ]
    },
    {
      "cell_type": "markdown",
      "id": "c84d73e8",
      "metadata": {
        "id": "c84d73e8"
      },
      "source": [
        "O campo`ideDocumento` é o **Identificador Único do Documento Fiscal ou do Recibo**, todo gasto parlamentar precisa ter esse ID, ele significa que o documento fiscal foi recebido e cadastrado na base da Câmara dos Deputados.\n",
        "\n",
        "Esse campo infelizmente não está descrito no [dicionário de dados](https://www2.camara.leg.br/transparencia/cota-para-exercicio-da-atividade-parlamentar/explicacoes-sobre-o-formato-dos-arquivos-xml). Conseguimos saber o seu significado olhando algumas mensagens compartilhadas pela comunidade no GitHub, como [essa](https://github.com/victorpedrocs/dados-abertos-cd/wiki/Fontes).\n",
        "\n",
        "Verificar se ele está nulo, é uma forma de validar a qualidade dos nossos dados. Imagina como seria ruim se na base tivessemos registros onde esse campo estivesse nulo?\n",
        "\n",
        "Mais informações sobre o `isna()` ou `isnull()` veja a [documentação](https://pandas.pydata.org/pandas-docs/stable/reference/api/pandas.isna.html).\n",
        "\n",
        "> Você sabia que no pandas `isna()` e `isnull()` são a mesma coisa?"
      ]
    },
    {
      "cell_type": "markdown",
      "id": "f048cb6e",
      "metadata": {
        "id": "f048cb6e"
      },
      "source": [
        "### 5) Converta a coluna `datEmissao` para `datetime`, e descubra quantos reembolsos aconteceram no primeiro semestre de 2018"
      ]
    },
    {
      "cell_type": "markdown",
      "id": "c627eec7",
      "metadata": {
        "id": "c627eec7"
      },
      "source": [
        "O tipo atualmente da coluna `datEmissao` é `Object`, por isso não conseguiremos realizar algumas operações que são especificas para elementos do tipo `datetime`, como capturar apenas o mês ou utilizar um filtro de datas."
      ]
    },
    {
      "cell_type": "code",
      "execution_count": 5,
      "id": "188a23c3",
      "metadata": {
        "colab": {
          "base_uri": "https://localhost:8080/"
        },
        "id": "188a23c3",
        "outputId": "59643537-4f06-4a9f-c209-9e0ef0ad16a0"
      },
      "outputs": [
        {
          "data": {
            "text/plain": [
              "dtype('O')"
            ]
          },
          "execution_count": 5,
          "metadata": {},
          "output_type": "execute_result"
        }
      ],
      "source": [
        "df_reembolso[\"datEmissao\"].dtypes"
      ]
    },
    {
      "cell_type": "markdown",
      "id": "5fe58ff0",
      "metadata": {
        "id": "5fe58ff0"
      },
      "source": [
        "Para converter para `datetime` precisamos utilizar a função `to_datetime`, passando no `format` qual o formato iremos utilizar.\n",
        "\n",
        "Para saber mais sobre esse padrão de data e hora, recomendo a documentação do [W3C](https://www.w3.org/TR/NOTE-datetime) e do [Python](https://docs.python.org/3/library/datetime.html#strftime-and-strptime-format-codes)"
      ]
    },
    {
      "cell_type": "code",
      "execution_count": 6,
      "id": "841f51c2",
      "metadata": {
        "id": "841f51c2"
      },
      "outputs": [
        {
          "data": {
            "text/plain": [
              "0        2018-06-26\n",
              "1        2018-05-22\n",
              "2        2018-06-06\n",
              "3        2018-03-12\n",
              "4        2018-03-12\n",
              "            ...    \n",
              "166046   2018-12-20\n",
              "166047   2018-12-20\n",
              "166048   2018-12-20\n",
              "166049   2018-12-20\n",
              "166050   2019-01-08\n",
              "Name: datEmissao, Length: 166051, dtype: datetime64[ns]"
            ]
          },
          "execution_count": 6,
          "metadata": {},
          "output_type": "execute_result"
        }
      ],
      "source": [
        "df_reembolso['datEmissao'] = df_reembolso['datEmissao'].astype('datetime64[ns]')\n",
        "\n",
        "df_reembolso['datEmissao'] = pd.to_datetime(df_reembolso['datEmissao'], format='%Y-%m-%d')\n",
        "\n",
        "df_reembolso['datEmissao']"
      ]
    },
    {
      "cell_type": "markdown",
      "id": "1182e465",
      "metadata": {
        "id": "1182e465"
      },
      "source": [
        "*Não esqueça de sobreescrever a coluna `datEmissao` com o resultado da função `to_datetime`.*"
      ]
    },
    {
      "cell_type": "markdown",
      "id": "1f43c1ed",
      "metadata": {
        "id": "1f43c1ed"
      },
      "source": [
        "Para responder a segunda parte da pergunta, vamos precisar utilizar a função [`loc`](https://pandas.pydata.org/pandas-docs/stable/reference/api/pandas.DataFrame.loc.html) do pandas, que nós permite acessar um conjunto de linhas a partir do index."
      ]
    },
    {
      "cell_type": "markdown",
      "id": "6df3f47d",
      "metadata": {
        "id": "6df3f47d"
      },
      "source": [
        "Visto isso, vamos precisar antes converter a coluna `datEmissao` no index do dataframe:"
      ]
    },
    {
      "cell_type": "code",
      "execution_count": 7,
      "id": "50181633",
      "metadata": {
        "colab": {
          "base_uri": "https://localhost:8080/",
          "height": 245
        },
        "id": "50181633",
        "outputId": "122a365c-1145-4927-cc9e-1163d88c58ea"
      },
      "outputs": [
        {
          "data": {
            "text/html": [
              "<div>\n",
              "<style scoped>\n",
              "    .dataframe tbody tr th:only-of-type {\n",
              "        vertical-align: middle;\n",
              "    }\n",
              "\n",
              "    .dataframe tbody tr th {\n",
              "        vertical-align: top;\n",
              "    }\n",
              "\n",
              "    .dataframe thead th {\n",
              "        text-align: right;\n",
              "    }\n",
              "</style>\n",
              "<table border=\"1\" class=\"dataframe\">\n",
              "  <thead>\n",
              "    <tr style=\"text-align: right;\">\n",
              "      <th></th>\n",
              "      <th>txNomeParlamentar</th>\n",
              "      <th>cpf</th>\n",
              "      <th>ideCadastro</th>\n",
              "      <th>nuCarteiraParlamentar</th>\n",
              "      <th>nuLegislatura</th>\n",
              "      <th>sgUF</th>\n",
              "      <th>sgPartido</th>\n",
              "      <th>codLegislatura</th>\n",
              "      <th>numSubCota</th>\n",
              "      <th>txtDescricao</th>\n",
              "      <th>numEspecificacaoSubCota</th>\n",
              "      <th>txtDescricaoEspecificacao</th>\n",
              "      <th>txtFornecedor</th>\n",
              "      <th>txtCNPJCPF</th>\n",
              "      <th>txtNumero</th>\n",
              "      <th>indTipoDocumento</th>\n",
              "      <th>vlrDocumento</th>\n",
              "      <th>vlrGlosa</th>\n",
              "      <th>vlrLiquido</th>\n",
              "      <th>numMes</th>\n",
              "      <th>numAno</th>\n",
              "      <th>numParcela</th>\n",
              "      <th>txtPassageiro</th>\n",
              "      <th>txtTrecho</th>\n",
              "      <th>numLote</th>\n",
              "      <th>numRessarcimento</th>\n",
              "      <th>datPagamentoRestituicao</th>\n",
              "      <th>vlrRestituicao</th>\n",
              "      <th>nuDeputadoId</th>\n",
              "      <th>ideDocumento</th>\n",
              "      <th>urlDocumento</th>\n",
              "    </tr>\n",
              "    <tr>\n",
              "      <th>datEmissao</th>\n",
              "      <th></th>\n",
              "      <th></th>\n",
              "      <th></th>\n",
              "      <th></th>\n",
              "      <th></th>\n",
              "      <th></th>\n",
              "      <th></th>\n",
              "      <th></th>\n",
              "      <th></th>\n",
              "      <th></th>\n",
              "      <th></th>\n",
              "      <th></th>\n",
              "      <th></th>\n",
              "      <th></th>\n",
              "      <th></th>\n",
              "      <th></th>\n",
              "      <th></th>\n",
              "      <th></th>\n",
              "      <th></th>\n",
              "      <th></th>\n",
              "      <th></th>\n",
              "      <th></th>\n",
              "      <th></th>\n",
              "      <th></th>\n",
              "      <th></th>\n",
              "      <th></th>\n",
              "      <th></th>\n",
              "      <th></th>\n",
              "      <th></th>\n",
              "      <th></th>\n",
              "      <th></th>\n",
              "    </tr>\n",
              "  </thead>\n",
              "  <tbody>\n",
              "    <tr>\n",
              "      <th>2018-06-26</th>\n",
              "      <td>AVANTE</td>\n",
              "      <td>NaN</td>\n",
              "      <td>NaN</td>\n",
              "      <td>NaN</td>\n",
              "      <td>2015</td>\n",
              "      <td>NaN</td>\n",
              "      <td>NaN</td>\n",
              "      <td>55</td>\n",
              "      <td>13</td>\n",
              "      <td>FORNECIMENTO DE ALIMENTAÇÃO DO PARLAMENTAR</td>\n",
              "      <td>0</td>\n",
              "      <td>NaN</td>\n",
              "      <td>BISCOITOS CASEIROS HOMONNAI LTDA</td>\n",
              "      <td>046.448.200/0017-7</td>\n",
              "      <td>5507</td>\n",
              "      <td>4</td>\n",
              "      <td>181.37</td>\n",
              "      <td>0</td>\n",
              "      <td>181.37</td>\n",
              "      <td>6</td>\n",
              "      <td>2018</td>\n",
              "      <td>0</td>\n",
              "      <td>NaN</td>\n",
              "      <td>NaN</td>\n",
              "      <td>1510946</td>\n",
              "      <td>NaN</td>\n",
              "      <td>NaN</td>\n",
              "      <td>NaN</td>\n",
              "      <td>3175</td>\n",
              "      <td>6621498</td>\n",
              "      <td>https://www.camara.leg.br/cota-parlamentar/not...</td>\n",
              "    </tr>\n",
              "  </tbody>\n",
              "</table>\n",
              "</div>"
            ],
            "text/plain": [
              "           txNomeParlamentar  cpf ideCadastro nuCarteiraParlamentar  \\\n",
              "datEmissao                                                            \n",
              "2018-06-26            AVANTE  NaN         NaN                   NaN   \n",
              "\n",
              "           nuLegislatura sgUF sgPartido codLegislatura numSubCota  \\\n",
              "datEmissao                                                          \n",
              "2018-06-26          2015  NaN       NaN             55         13   \n",
              "\n",
              "                                          txtDescricao  \\\n",
              "datEmissao                                               \n",
              "2018-06-26  FORNECIMENTO DE ALIMENTAÇÃO DO PARLAMENTAR   \n",
              "\n",
              "           numEspecificacaoSubCota txtDescricaoEspecificacao  \\\n",
              "datEmissao                                                     \n",
              "2018-06-26                       0                       NaN   \n",
              "\n",
              "                               txtFornecedor          txtCNPJCPF txtNumero  \\\n",
              "datEmissao                                                                   \n",
              "2018-06-26  BISCOITOS CASEIROS HOMONNAI LTDA  046.448.200/0017-7      5507   \n",
              "\n",
              "           indTipoDocumento  vlrDocumento vlrGlosa  vlrLiquido numMes numAno  \\\n",
              "datEmissao                                                                     \n",
              "2018-06-26                4        181.37        0      181.37      6   2018   \n",
              "\n",
              "           numParcela txtPassageiro txtTrecho  numLote numRessarcimento  \\\n",
              "datEmissao                                                                \n",
              "2018-06-26          0           NaN       NaN  1510946              NaN   \n",
              "\n",
              "            datPagamentoRestituicao  vlrRestituicao nuDeputadoId ideDocumento  \\\n",
              "datEmissao                                                                      \n",
              "2018-06-26                      NaN             NaN         3175      6621498   \n",
              "\n",
              "                                                 urlDocumento  \n",
              "datEmissao                                                     \n",
              "2018-06-26  https://www.camara.leg.br/cota-parlamentar/not...  "
            ]
          },
          "execution_count": 7,
          "metadata": {},
          "output_type": "execute_result"
        }
      ],
      "source": [
        "df_reembolso.set_index(\"datEmissao\").head(1)"
      ]
    },
    {
      "cell_type": "markdown",
      "id": "dcc69e3d",
      "metadata": {
        "id": "dcc69e3d"
      },
      "source": [
        "E depois vamos filtrar utilizando o `loc` pelos index que estão entre o primeiro semestre de 2018:"
      ]
    },
    {
      "cell_type": "code",
      "execution_count": 8,
      "id": "34d2359a",
      "metadata": {
        "id": "34d2359a"
      },
      "outputs": [],
      "source": [
        "df_reembolso_ps = df_reembolso.set_index(\"datEmissao\").loc[\"2018-01-01\":\"2018-06-30\"]"
      ]
    },
    {
      "cell_type": "markdown",
      "id": "dd6bd0c9",
      "metadata": {
        "id": "dd6bd0c9"
      },
      "source": [
        "Com o `.shape` você consegue ver que tiramos apenas uma amostra dos dados:"
      ]
    },
    {
      "cell_type": "code",
      "execution_count": 9,
      "id": "510c6588",
      "metadata": {
        "colab": {
          "base_uri": "https://localhost:8080/"
        },
        "id": "510c6588",
        "outputId": "bd5c0770-f9b3-4d98-f793-98a62c6d76a0"
      },
      "outputs": [
        {
          "data": {
            "text/plain": [
              "(97314, 31)"
            ]
          },
          "execution_count": 9,
          "metadata": {},
          "output_type": "execute_result"
        }
      ],
      "source": [
        "df_reembolso_ps.shape"
      ]
    },
    {
      "cell_type": "markdown",
      "id": "58c6415d",
      "metadata": {
        "id": "58c6415d"
      },
      "source": [
        "Dessa forma, podemos ver que no primeiro semestre de 2018 tivemos 159.694 reembolsos!\n",
        "\n",
        "Obs: Rodei outra vez e deu 97.314 reembolsos"
      ]
    },
    {
      "cell_type": "code",
      "execution_count": 10,
      "id": "qCr8X2uT9TFv",
      "metadata": {
        "colab": {
          "base_uri": "https://localhost:8080/"
        },
        "id": "qCr8X2uT9TFv",
        "outputId": "6d4bda09-d950-4b90-ed85-5e65e95deb0b"
      },
      "outputs": [
        {
          "data": {
            "text/plain": [
              "(97314, 31)"
            ]
          },
          "execution_count": 10,
          "metadata": {},
          "output_type": "execute_result"
        }
      ],
      "source": [
        "df_reembolso_ps.drop_duplicates().shape"
      ]
    },
    {
      "cell_type": "markdown",
      "id": "7897d34c",
      "metadata": {
        "id": "7897d34c"
      },
      "source": [
        "#### Existem registros com `datEmissao` nulos? Se sim, quantos?"
      ]
    },
    {
      "cell_type": "markdown",
      "id": "647802b4",
      "metadata": {
        "id": "647802b4"
      },
      "source": [
        "Olhando para a base como um todo, podemos filtrar por apenas `datEmissao` que estejam nulos:"
      ]
    },
    {
      "cell_type": "code",
      "execution_count": 11,
      "id": "2209dbac",
      "metadata": {
        "colab": {
          "base_uri": "https://localhost:8080/"
        },
        "id": "2209dbac",
        "outputId": "c0a6019f-c74d-4aa8-def0-576a830812db"
      },
      "outputs": [
        {
          "data": {
            "text/plain": [
              "(0, 32)"
            ]
          },
          "execution_count": 11,
          "metadata": {},
          "output_type": "execute_result"
        }
      ],
      "source": [
        "df_reembolso[df_reembolso.datEmissao.isna()].shape"
      ]
    },
    {
      "cell_type": "markdown",
      "id": "c98e9449",
      "metadata": {
        "id": "c98e9449"
      },
      "source": [
        "E caso queiramos atrabalhar apenas com reembolsos que tenham `datEmissao` não nulo, precisamos remover os registros nulos da base rodando o seguinte código:"
      ]
    },
    {
      "cell_type": "code",
      "execution_count": 12,
      "id": "20830692",
      "metadata": {
        "id": "20830692"
      },
      "outputs": [],
      "source": [
        "df_reembolso = df_reembolso[~df_reembolso.datEmissao.isna()]"
      ]
    },
    {
      "cell_type": "markdown",
      "id": "f15c1467",
      "metadata": {
        "id": "f15c1467"
      },
      "source": [
        "Mas e o dataframe com os dados apenas do primeiro semestre?\n",
        "\n",
        "Ele não terá valores nulos, porque lá no momento em que filtramos os registros nós deixamos claro que gostaríamos que a coluna `datEmissao` tivesse algum valor (no caso, valores correspondentes ao primeiro semestre de 2018)"
      ]
    },
    {
      "cell_type": "code",
      "execution_count": 14,
      "id": "249aa34d",
      "metadata": {
        "colab": {
          "base_uri": "https://localhost:8080/",
          "height": 145
        },
        "id": "249aa34d",
        "outputId": "91e6cfa9-e6b6-4398-b494-b15053d97274"
      },
      "outputs": [
        {
          "data": {
            "text/html": [
              "<div>\n",
              "<style scoped>\n",
              "    .dataframe tbody tr th:only-of-type {\n",
              "        vertical-align: middle;\n",
              "    }\n",
              "\n",
              "    .dataframe tbody tr th {\n",
              "        vertical-align: top;\n",
              "    }\n",
              "\n",
              "    .dataframe thead th {\n",
              "        text-align: right;\n",
              "    }\n",
              "</style>\n",
              "<table border=\"1\" class=\"dataframe\">\n",
              "  <thead>\n",
              "    <tr style=\"text-align: right;\">\n",
              "      <th></th>\n",
              "      <th>txNomeParlamentar</th>\n",
              "      <th>cpf</th>\n",
              "      <th>ideCadastro</th>\n",
              "      <th>nuCarteiraParlamentar</th>\n",
              "      <th>nuLegislatura</th>\n",
              "      <th>sgUF</th>\n",
              "      <th>sgPartido</th>\n",
              "      <th>codLegislatura</th>\n",
              "      <th>numSubCota</th>\n",
              "      <th>txtDescricao</th>\n",
              "      <th>numEspecificacaoSubCota</th>\n",
              "      <th>txtDescricaoEspecificacao</th>\n",
              "      <th>txtFornecedor</th>\n",
              "      <th>txtCNPJCPF</th>\n",
              "      <th>txtNumero</th>\n",
              "      <th>indTipoDocumento</th>\n",
              "      <th>vlrDocumento</th>\n",
              "      <th>vlrGlosa</th>\n",
              "      <th>vlrLiquido</th>\n",
              "      <th>numMes</th>\n",
              "      <th>numAno</th>\n",
              "      <th>numParcela</th>\n",
              "      <th>txtPassageiro</th>\n",
              "      <th>txtTrecho</th>\n",
              "      <th>numLote</th>\n",
              "      <th>numRessarcimento</th>\n",
              "      <th>datPagamentoRestituicao</th>\n",
              "      <th>vlrRestituicao</th>\n",
              "      <th>nuDeputadoId</th>\n",
              "      <th>ideDocumento</th>\n",
              "      <th>urlDocumento</th>\n",
              "    </tr>\n",
              "    <tr>\n",
              "      <th>datEmissao</th>\n",
              "      <th></th>\n",
              "      <th></th>\n",
              "      <th></th>\n",
              "      <th></th>\n",
              "      <th></th>\n",
              "      <th></th>\n",
              "      <th></th>\n",
              "      <th></th>\n",
              "      <th></th>\n",
              "      <th></th>\n",
              "      <th></th>\n",
              "      <th></th>\n",
              "      <th></th>\n",
              "      <th></th>\n",
              "      <th></th>\n",
              "      <th></th>\n",
              "      <th></th>\n",
              "      <th></th>\n",
              "      <th></th>\n",
              "      <th></th>\n",
              "      <th></th>\n",
              "      <th></th>\n",
              "      <th></th>\n",
              "      <th></th>\n",
              "      <th></th>\n",
              "      <th></th>\n",
              "      <th></th>\n",
              "      <th></th>\n",
              "      <th></th>\n",
              "      <th></th>\n",
              "      <th></th>\n",
              "    </tr>\n",
              "  </thead>\n",
              "  <tbody>\n",
              "  </tbody>\n",
              "</table>\n",
              "</div>"
            ],
            "text/plain": [
              "Empty DataFrame\n",
              "Columns: [txNomeParlamentar, cpf, ideCadastro, nuCarteiraParlamentar, nuLegislatura, sgUF, sgPartido, codLegislatura, numSubCota, txtDescricao, numEspecificacaoSubCota, txtDescricaoEspecificacao, txtFornecedor, txtCNPJCPF, txtNumero, indTipoDocumento, vlrDocumento, vlrGlosa, vlrLiquido, numMes, numAno, numParcela, txtPassageiro, txtTrecho, numLote, numRessarcimento, datPagamentoRestituicao, vlrRestituicao, nuDeputadoId, ideDocumento, urlDocumento]\n",
              "Index: []"
            ]
          },
          "execution_count": 14,
          "metadata": {},
          "output_type": "execute_result"
        }
      ],
      "source": [
        "df_reembolso_ps[df_reembolso_ps.index.isna()]"
      ]
    },
    {
      "cell_type": "markdown",
      "id": "a488b724",
      "metadata": {
        "id": "a488b724"
      },
      "source": [
        "#### Existem registros de outros anos no arquivo de 2018? Se sim, quais anos e quantos registros há nessas datas?"
      ]
    },
    {
      "cell_type": "markdown",
      "id": "521fd955",
      "metadata": {
        "id": "521fd955"
      },
      "source": [
        "Quando estamos trabalhando com uma base nova, é interessante que façamos a mais diversas perguntas, como essa ai de cima.\n",
        "\n",
        "Mesmo a base sendo especifica de um ano, é importante que verifiquemos a consistência desses dados."
      ]
    },
    {
      "cell_type": "markdown",
      "id": "96086514",
      "metadata": {
        "id": "96086514"
      },
      "source": [
        "Com a ajuda do método [`dt`](https://pandas.pydata.org/pandas-docs/stable/reference/api/pandas.Series.dt.html) que está disponível em **colunas do time datetime**, podemos acessar o ano, mês e dia desse registro.\n",
        "\n",
        "Dessa forma, para acessar o ano da data de emissão dos reembolsos, vamos fazer o seguinte:"
      ]
    },
    {
      "cell_type": "code",
      "execution_count": 15,
      "id": "af7a6cee",
      "metadata": {
        "colab": {
          "base_uri": "https://localhost:8080/"
        },
        "id": "af7a6cee",
        "outputId": "558deb20-a6ac-4e0f-b63c-7486d21808c4"
      },
      "outputs": [
        {
          "data": {
            "text/plain": [
              "array([2018, 2019, 2017])"
            ]
          },
          "execution_count": 15,
          "metadata": {},
          "output_type": "execute_result"
        }
      ],
      "source": [
        "df_reembolso.datEmissao.dt.year.unique()"
      ]
    },
    {
      "cell_type": "markdown",
      "id": "a602c1c6",
      "metadata": {
        "id": "a602c1c6"
      },
      "source": [
        "Após constatar que temos registros fora do ano de 2018, vamos filtrar por eles e contar quantos são:"
      ]
    },
    {
      "cell_type": "code",
      "execution_count": 16,
      "id": "b0d3bf12",
      "metadata": {
        "id": "b0d3bf12"
      },
      "outputs": [],
      "source": [
        "df_reembolso_ntps = df_reembolso[df_reembolso.datEmissao.dt.year != 2018]"
      ]
    },
    {
      "cell_type": "code",
      "execution_count": 17,
      "id": "aa41db4e",
      "metadata": {
        "colab": {
          "base_uri": "https://localhost:8080/"
        },
        "id": "aa41db4e",
        "outputId": "e76ccb94-3ca0-4a58-e73e-b4baa1be3a07"
      },
      "outputs": [
        {
          "data": {
            "text/plain": [
              "(900, 32)"
            ]
          },
          "execution_count": 17,
          "metadata": {},
          "output_type": "execute_result"
        }
      ],
      "source": [
        "df_reembolso_ntps.shape"
      ]
    },
    {
      "cell_type": "markdown",
      "id": "ab96d19b",
      "metadata": {
        "id": "ab96d19b"
      },
      "source": [
        "Será que esses 1.792 registros são únicos ou tem algo repetido? Vamos utilizar o `drop_duplicates()` para responder isso."
      ]
    },
    {
      "cell_type": "code",
      "execution_count": 18,
      "id": "tlpJwSu4-hJe",
      "metadata": {
        "colab": {
          "base_uri": "https://localhost:8080/"
        },
        "id": "tlpJwSu4-hJe",
        "outputId": "e52fdae4-e8d1-4413-e6fa-e754089e975a"
      },
      "outputs": [
        {
          "data": {
            "text/plain": [
              "(900, 32)"
            ]
          },
          "execution_count": 18,
          "metadata": {},
          "output_type": "execute_result"
        }
      ],
      "source": [
        "df_reembolso_ntps.drop_duplicates().shape"
      ]
    },
    {
      "cell_type": "markdown",
      "id": "d08e205e",
      "metadata": {
        "id": "d08e205e"
      },
      "source": [
        "Caso você queira saber quantos registros temos por datas fora do ano de 2018, podemos utilizar a função `groupby()`, agrupando por `datEmissao` e contando a quantidade de `ideDocumento`:"
      ]
    },
    {
      "cell_type": "code",
      "execution_count": 19,
      "id": "17c8777f",
      "metadata": {
        "colab": {
          "base_uri": "https://localhost:8080/"
        },
        "id": "17c8777f",
        "outputId": "5e093ddf-6819-4f2c-cebc-e94fa677baf1"
      },
      "outputs": [
        {
          "data": {
            "text/plain": [
              "datEmissao\n",
              "2019-01-01    101\n",
              "2019-01-02     91\n",
              "2019-01-03     77\n",
              "2019-01-07     60\n",
              "2019-01-09     56\n",
              "             ... \n",
              "2017-12-04      1\n",
              "2019-01-26      1\n",
              "2017-12-17      1\n",
              "2017-03-22      1\n",
              "2017-03-20      1\n",
              "Name: ideDocumento, Length: 87, dtype: int64"
            ]
          },
          "execution_count": 19,
          "metadata": {},
          "output_type": "execute_result"
        }
      ],
      "source": [
        "df_reembolso_ntps.groupby(\"datEmissao\")[\"ideDocumento\"].count().sort_values(ascending=False)"
      ]
    },
    {
      "cell_type": "markdown",
      "id": "b64992cc",
      "metadata": {
        "id": "b64992cc"
      },
      "source": [
        "> O que você acha que pode ter acontecido nessa base?"
      ]
    },
    {
      "cell_type": "markdown",
      "id": "40159e31",
      "metadata": {
        "id": "40159e31"
      },
      "source": [
        "### 6) Quais os meses que mais tem solicitação de reembolso?"
      ]
    },
    {
      "cell_type": "markdown",
      "id": "7159087a",
      "metadata": {
        "id": "7159087a"
      },
      "source": [
        "Utilizando de novo no método [`dt`](https://pandas.pydata.org/pandas-docs/stable/reference/api/pandas.Series.dt.html), vamos agora extrair o mês das datas e salvar o resultado em uma nova coluna auxiliar:"
      ]
    },
    {
      "cell_type": "code",
      "execution_count": 20,
      "id": "ed46b277",
      "metadata": {
        "id": "ed46b277"
      },
      "outputs": [],
      "source": [
        "df_reembolso[\"datEmissaoMes\"] = df_reembolso.datEmissao.dt.month"
      ]
    },
    {
      "cell_type": "code",
      "execution_count": 21,
      "id": "d3c438a5",
      "metadata": {
        "colab": {
          "base_uri": "https://localhost:8080/"
        },
        "id": "d3c438a5",
        "outputId": "1f127e7e-f29b-4ffb-ffed-47d19dc71904"
      },
      "outputs": [
        {
          "data": {
            "text/plain": [
              "0          6\n",
              "1          5\n",
              "2          6\n",
              "3          3\n",
              "4          3\n",
              "          ..\n",
              "166046    12\n",
              "166047    12\n",
              "166048    12\n",
              "166049    12\n",
              "166050     1\n",
              "Name: datEmissaoMes, Length: 166051, dtype: int32"
            ]
          },
          "execution_count": 21,
          "metadata": {},
          "output_type": "execute_result"
        }
      ],
      "source": [
        "df_reembolso[\"datEmissaoMes\"]"
      ]
    },
    {
      "cell_type": "markdown",
      "id": "7f2328a2",
      "metadata": {
        "id": "7f2328a2"
      },
      "source": [
        "Para saber quantos registros tivemos por mês, vamos precisar utilizar de novo o `groupby`, mas dessa vez agrupando pela coluna auxiliar que criamos no passo anterior:"
      ]
    },
    {
      "cell_type": "code",
      "execution_count": 22,
      "id": "3b8cecdc",
      "metadata": {
        "colab": {
          "base_uri": "https://localhost:8080/",
          "height": 457
        },
        "id": "3b8cecdc",
        "outputId": "16b416b9-0f4a-4fc5-b300-916fcb6c2248"
      },
      "outputs": [
        {
          "data": {
            "text/html": [
              "<div>\n",
              "<style scoped>\n",
              "    .dataframe tbody tr th:only-of-type {\n",
              "        vertical-align: middle;\n",
              "    }\n",
              "\n",
              "    .dataframe tbody tr th {\n",
              "        vertical-align: top;\n",
              "    }\n",
              "\n",
              "    .dataframe thead th {\n",
              "        text-align: right;\n",
              "    }\n",
              "</style>\n",
              "<table border=\"1\" class=\"dataframe\">\n",
              "  <thead>\n",
              "    <tr style=\"text-align: right;\">\n",
              "      <th></th>\n",
              "      <th>ideDocumento</th>\n",
              "    </tr>\n",
              "    <tr>\n",
              "      <th>datEmissaoMes</th>\n",
              "      <th></th>\n",
              "    </tr>\n",
              "  </thead>\n",
              "  <tbody>\n",
              "    <tr>\n",
              "      <th>3</th>\n",
              "      <td>18479</td>\n",
              "    </tr>\n",
              "    <tr>\n",
              "      <th>5</th>\n",
              "      <td>18300</td>\n",
              "    </tr>\n",
              "    <tr>\n",
              "      <th>4</th>\n",
              "      <td>17678</td>\n",
              "    </tr>\n",
              "    <tr>\n",
              "      <th>6</th>\n",
              "      <td>17026</td>\n",
              "    </tr>\n",
              "    <tr>\n",
              "      <th>7</th>\n",
              "      <td>15576</td>\n",
              "    </tr>\n",
              "    <tr>\n",
              "      <th>2</th>\n",
              "      <td>14767</td>\n",
              "    </tr>\n",
              "    <tr>\n",
              "      <th>11</th>\n",
              "      <td>12546</td>\n",
              "    </tr>\n",
              "    <tr>\n",
              "      <th>1</th>\n",
              "      <td>11787</td>\n",
              "    </tr>\n",
              "    <tr>\n",
              "      <th>8</th>\n",
              "      <td>11450</td>\n",
              "    </tr>\n",
              "    <tr>\n",
              "      <th>12</th>\n",
              "      <td>11084</td>\n",
              "    </tr>\n",
              "    <tr>\n",
              "      <th>10</th>\n",
              "      <td>10820</td>\n",
              "    </tr>\n",
              "    <tr>\n",
              "      <th>9</th>\n",
              "      <td>6538</td>\n",
              "    </tr>\n",
              "  </tbody>\n",
              "</table>\n",
              "</div>"
            ],
            "text/plain": [
              "               ideDocumento\n",
              "datEmissaoMes              \n",
              "3                     18479\n",
              "5                     18300\n",
              "4                     17678\n",
              "6                     17026\n",
              "7                     15576\n",
              "2                     14767\n",
              "11                    12546\n",
              "1                     11787\n",
              "8                     11450\n",
              "12                    11084\n",
              "10                    10820\n",
              "9                      6538"
            ]
          },
          "execution_count": 22,
          "metadata": {},
          "output_type": "execute_result"
        }
      ],
      "source": [
        "df_reembolso.groupby(\"datEmissaoMes\")[\"ideDocumento\"].count().sort_values(ascending=False).to_frame()"
      ]
    },
    {
      "cell_type": "markdown",
      "id": "b35050ee",
      "metadata": {
        "id": "b35050ee"
      },
      "source": [
        "No mês de **março** e **maio** é quando tem mais solicitação de reembolso"
      ]
    },
    {
      "cell_type": "markdown",
      "id": "e032d1c5",
      "metadata": {
        "id": "e032d1c5"
      },
      "source": [
        "#### Como seria para agrupar os dados no formato `mes/ano` , ao invés de apenas mês?"
      ]
    },
    {
      "cell_type": "markdown",
      "id": "0ed8b26c",
      "metadata": {
        "id": "0ed8b26c"
      },
      "source": [
        "Agrupar por mês é legal para ter uma visão mais ampla de sacionalidade, mas como vimos anteriormente, essa base não tem dados apenas de 2018! Por isso, vamos precisar agrupar por ano também.\n",
        "\n",
        "Uma forma de fazer é criando uma função [`lambda`](https://wiki.python.org.br/PythonFuncional), que será aplicada ([`apply()`](https://pandas.pydata.org/pandas-docs/stable/reference/api/pandas.Series.apply.html)) em uma coluna (nesse caso o `datEmissao`). Para todas as linhas dessa coluna iremos aplicar a função lambda abaixo, essa função recebe um valor, que será do tipo `datetime` (já que a coluna `datEmissao` é do tipo `datetime`, todas as linhas nessa coluna também serão desse mesmo tipo), e a partir desse valor será extraído o mês e o ano, que serão utilizados na construção de uma string. O resultado dessa função será armazenado na coluna `datEmissaoMesAno`.\n",
        "\n",
        "\n",
        "* Mais informações sobre funções Lambda, veja esse [blog post](https://www.covildodev.com.br/artigo/funcao-lambda-python)."
      ]
    },
    {
      "cell_type": "code",
      "execution_count": 23,
      "id": "db3cefbb",
      "metadata": {
        "id": "db3cefbb"
      },
      "outputs": [],
      "source": [
        "df_reembolso[\"datEmissaoMesAno\"] = df_reembolso.datEmissao.apply(lambda linha: f\"{linha.month}/{linha.year}\")"
      ]
    },
    {
      "cell_type": "code",
      "execution_count": 24,
      "id": "a298470d",
      "metadata": {
        "colab": {
          "base_uri": "https://localhost:8080/"
        },
        "id": "a298470d",
        "outputId": "fd63adeb-28d6-49f3-9252-e597d7f444fb"
      },
      "outputs": [
        {
          "data": {
            "text/plain": [
              "0          6/2018\n",
              "1          5/2018\n",
              "2          6/2018\n",
              "3          3/2018\n",
              "4          3/2018\n",
              "           ...   \n",
              "166046    12/2018\n",
              "166047    12/2018\n",
              "166048    12/2018\n",
              "166049    12/2018\n",
              "166050     1/2019\n",
              "Name: datEmissaoMesAno, Length: 166051, dtype: object"
            ]
          },
          "execution_count": 24,
          "metadata": {},
          "output_type": "execute_result"
        }
      ],
      "source": [
        "df_reembolso[\"datEmissaoMesAno\"]"
      ]
    },
    {
      "cell_type": "code",
      "execution_count": 25,
      "id": "9b817ac9",
      "metadata": {
        "colab": {
          "base_uri": "https://localhost:8080/",
          "height": 707
        },
        "id": "9b817ac9",
        "outputId": "c634f402-8d7f-4a0c-b3cb-c7f5b0dfb01d"
      },
      "outputs": [
        {
          "data": {
            "text/html": [
              "<div>\n",
              "<style scoped>\n",
              "    .dataframe tbody tr th:only-of-type {\n",
              "        vertical-align: middle;\n",
              "    }\n",
              "\n",
              "    .dataframe tbody tr th {\n",
              "        vertical-align: top;\n",
              "    }\n",
              "\n",
              "    .dataframe thead th {\n",
              "        text-align: right;\n",
              "    }\n",
              "</style>\n",
              "<table border=\"1\" class=\"dataframe\">\n",
              "  <thead>\n",
              "    <tr style=\"text-align: right;\">\n",
              "      <th></th>\n",
              "      <th>ideDocumento</th>\n",
              "    </tr>\n",
              "    <tr>\n",
              "      <th>datEmissaoMesAno</th>\n",
              "      <th></th>\n",
              "    </tr>\n",
              "  </thead>\n",
              "  <tbody>\n",
              "    <tr>\n",
              "      <th>3/2018</th>\n",
              "      <td>18470</td>\n",
              "    </tr>\n",
              "    <tr>\n",
              "      <th>5/2018</th>\n",
              "      <td>18300</td>\n",
              "    </tr>\n",
              "    <tr>\n",
              "      <th>4/2018</th>\n",
              "      <td>17678</td>\n",
              "    </tr>\n",
              "    <tr>\n",
              "      <th>6/2018</th>\n",
              "      <td>17026</td>\n",
              "    </tr>\n",
              "    <tr>\n",
              "      <th>7/2018</th>\n",
              "      <td>15574</td>\n",
              "    </tr>\n",
              "    <tr>\n",
              "      <th>2/2018</th>\n",
              "      <td>14741</td>\n",
              "    </tr>\n",
              "    <tr>\n",
              "      <th>11/2018</th>\n",
              "      <td>12531</td>\n",
              "    </tr>\n",
              "    <tr>\n",
              "      <th>8/2018</th>\n",
              "      <td>11450</td>\n",
              "    </tr>\n",
              "    <tr>\n",
              "      <th>1/2018</th>\n",
              "      <td>11099</td>\n",
              "    </tr>\n",
              "    <tr>\n",
              "      <th>12/2018</th>\n",
              "      <td>10926</td>\n",
              "    </tr>\n",
              "    <tr>\n",
              "      <th>10/2018</th>\n",
              "      <td>10818</td>\n",
              "    </tr>\n",
              "    <tr>\n",
              "      <th>9/2018</th>\n",
              "      <td>6538</td>\n",
              "    </tr>\n",
              "    <tr>\n",
              "      <th>1/2019</th>\n",
              "      <td>688</td>\n",
              "    </tr>\n",
              "    <tr>\n",
              "      <th>12/2017</th>\n",
              "      <td>158</td>\n",
              "    </tr>\n",
              "    <tr>\n",
              "      <th>2/2019</th>\n",
              "      <td>26</td>\n",
              "    </tr>\n",
              "    <tr>\n",
              "      <th>11/2017</th>\n",
              "      <td>15</td>\n",
              "    </tr>\n",
              "    <tr>\n",
              "      <th>3/2019</th>\n",
              "      <td>7</td>\n",
              "    </tr>\n",
              "    <tr>\n",
              "      <th>7/2017</th>\n",
              "      <td>2</td>\n",
              "    </tr>\n",
              "    <tr>\n",
              "      <th>10/2017</th>\n",
              "      <td>2</td>\n",
              "    </tr>\n",
              "    <tr>\n",
              "      <th>3/2017</th>\n",
              "      <td>2</td>\n",
              "    </tr>\n",
              "  </tbody>\n",
              "</table>\n",
              "</div>"
            ],
            "text/plain": [
              "                  ideDocumento\n",
              "datEmissaoMesAno              \n",
              "3/2018                   18470\n",
              "5/2018                   18300\n",
              "4/2018                   17678\n",
              "6/2018                   17026\n",
              "7/2018                   15574\n",
              "2/2018                   14741\n",
              "11/2018                  12531\n",
              "8/2018                   11450\n",
              "1/2018                   11099\n",
              "12/2018                  10926\n",
              "10/2018                  10818\n",
              "9/2018                    6538\n",
              "1/2019                     688\n",
              "12/2017                    158\n",
              "2/2019                      26\n",
              "11/2017                     15\n",
              "3/2019                       7\n",
              "7/2017                       2\n",
              "10/2017                      2\n",
              "3/2017                       2"
            ]
          },
          "execution_count": 25,
          "metadata": {},
          "output_type": "execute_result"
        }
      ],
      "source": [
        "df_reembolso.groupby(\"datEmissaoMesAno\")[\"ideDocumento\"].count().sort_values(ascending=False).to_frame()"
      ]
    },
    {
      "cell_type": "markdown",
      "id": "b2bef673",
      "metadata": {
        "id": "b2bef673"
      },
      "source": [
        "Interessante que os registros diferentes de 2018 são tão pequenos, tirando janeiro de 2019, que o resultado atual é quase o mesmo do exercício anterior."
      ]
    },
    {
      "cell_type": "markdown",
      "id": "a98577da",
      "metadata": {
        "id": "a98577da"
      },
      "source": [
        "### 7) Limpe a coluna `txtCNPJCPF`: ela deve conter somente dígitos numéricos"
      ]
    },
    {
      "cell_type": "markdown",
      "id": "6e512fb6",
      "metadata": {
        "id": "6e512fb6"
      },
      "source": [
        "Com o objetivo de normalizar os registros presentes nessa coluna, iremos remover qualquer caracter diferente de número."
      ]
    },
    {
      "cell_type": "code",
      "execution_count": 26,
      "id": "5db50a0c",
      "metadata": {
        "colab": {
          "base_uri": "https://localhost:8080/"
        },
        "id": "5db50a0c",
        "outputId": "c4ac2936-2319-427a-aacc-e971a5314b70"
      },
      "outputs": [
        {
          "data": {
            "text/plain": [
              "0         046.448.200/0017-7\n",
              "1         246.489.700/0016-6\n",
              "2         367.564.350/0010-8\n",
              "3         292.865.450/0019-8\n",
              "4         292.865.450/0019-8\n",
              "                 ...        \n",
              "166046    075.756.510/0015-9\n",
              "166047    075.756.510/0015-9\n",
              "166048    009.829.330/0012-1\n",
              "166049    274.020.970/0011-5\n",
              "166050    022.149.320/0016-2\n",
              "Name: txtCNPJCPF, Length: 166051, dtype: object"
            ]
          },
          "execution_count": 26,
          "metadata": {},
          "output_type": "execute_result"
        }
      ],
      "source": [
        "df_reembolso[\"txtCNPJCPF\"]"
      ]
    },
    {
      "cell_type": "markdown",
      "id": "9838e99d",
      "metadata": {
        "id": "9838e99d"
      },
      "source": [
        "Para realizar essa remoção iremos utilizar a função `replace`, ela é bem parecida com aquela que vimos no começo do curso quando estavámos aprendendo `strings`. A diferença que o `replace` do pandas, possuí alguns argumentos a mais, como você pode ver na [documentação](https://pandas.pydata.org/pandas-docs/stable/reference/api/pandas.DataFrame.replace.html) oficial. Um desses argumentos novos é o `regex=True`, com ele nós podemos passar um regex como condição da string que será buscada e alterada.\n",
        "\n",
        "* Para saber mais sobre regex, recomendo alguns links:\n",
        "\n",
        "    * https://blog.geekhunter.com.br/python-regex/\n",
        "    * https://docs.python.org/pt-br/3/howto/regex.html\n",
        "    * https://www.w3schools.com/python/python_regex.asp"
      ]
    },
    {
      "cell_type": "code",
      "execution_count": 27,
      "id": "72548aa5",
      "metadata": {
        "id": "72548aa5"
      },
      "outputs": [],
      "source": [
        "df_reembolso[\"txtCNPJCPF\"] = df_reembolso[\"txtCNPJCPF\"].replace(to_replace=r\"\\D\", value=\"\", regex=True)"
      ]
    },
    {
      "cell_type": "markdown",
      "id": "89b8c270",
      "metadata": {
        "id": "89b8c270"
      },
      "source": [
        "Após atualizar a coluna `txtCNPJCPF` com o retorno da função `replace`, ficaremos com o seguinte resultado:"
      ]
    },
    {
      "cell_type": "code",
      "execution_count": 28,
      "id": "89721357",
      "metadata": {
        "colab": {
          "base_uri": "https://localhost:8080/"
        },
        "id": "89721357",
        "outputId": "483be62a-43e8-4a51-db24-4a4de151092a"
      },
      "outputs": [
        {
          "data": {
            "text/plain": [
              "0         04644820000177\n",
              "1         24648970000166\n",
              "2         36756435000108\n",
              "3         29286545000198\n",
              "4         29286545000198\n",
              "               ...      \n",
              "166046    07575651000159\n",
              "166047    07575651000159\n",
              "166048    00982933000121\n",
              "166049    27402097000115\n",
              "166050    02214932000162\n",
              "Name: txtCNPJCPF, Length: 166051, dtype: object"
            ]
          },
          "execution_count": 28,
          "metadata": {},
          "output_type": "execute_result"
        }
      ],
      "source": [
        "df_reembolso[\"txtCNPJCPF\"]"
      ]
    },
    {
      "cell_type": "markdown",
      "id": "d5592506",
      "metadata": {
        "id": "d5592506"
      },
      "source": [
        "### 8) Quais são os valores únicos do campo `indTipoDocumento`? Substitua o conteúdo pela respectiva legenda\n",
        "\n",
        "*Dica*: 0 (Zero), para Nota Fiscal; 1 (um), para Recibo; e 2, para Despesa no Exterior."
      ]
    },
    {
      "cell_type": "markdown",
      "id": "bcbdee11",
      "metadata": {
        "id": "bcbdee11"
      },
      "source": [
        "Caso você tenha curiosidade de saber quais os valores disponíveis nessa coluna, utilize a função `unique()`:"
      ]
    },
    {
      "cell_type": "code",
      "execution_count": 29,
      "id": "1c9b5dcd",
      "metadata": {
        "colab": {
          "base_uri": "https://localhost:8080/"
        },
        "id": "1c9b5dcd",
        "outputId": "45a2f1ad-190a-45e4-aa03-e2031211aae6"
      },
      "outputs": [
        {
          "data": {
            "text/plain": [
              "array(['4', '0', '1', '2', '3'], dtype=object)"
            ]
          },
          "execution_count": 29,
          "metadata": {},
          "output_type": "execute_result"
        }
      ],
      "source": [
        "df_reembolso.indTipoDocumento.unique()"
      ]
    },
    {
      "cell_type": "markdown",
      "id": "ca9b53a9",
      "metadata": {
        "id": "ca9b53a9"
      },
      "source": [
        "Caso você tenha percebido, os código `3` e `4` não estão na documentação oficial da [API](https://www2.camara.leg.br/transparencia/cota-para-exercicio-da-atividade-parlamentar/explicacoes-sobre-o-formato-dos-arquivos-xml). **Vamos ignorar os outros valores, por que não estão na documentação oficinal.**\n",
        "\n",
        "> Pesquisando no GitHub sobre esse campo, podemos encontrar essa [Issue](https://github.com/CamaraDosDeputados/dados-abertos/issues/93) aberta, onde se questionam o que seriam esses outros valores. Essa issue foi aberta em 2017 e a documentação continua desatualizada até então."
      ]
    },
    {
      "cell_type": "markdown",
      "id": "d3a9c5c5",
      "metadata": {
        "id": "d3a9c5c5"
      },
      "source": [
        "Utilizando de novo a função `replace`, iremos agora passar no argumento `to_replace` um **dicionário**. Onde as chaves desse dicionário são o conteúdo antigo que queremos alterar, e os valores são os novos conteúdos que queremos colocar no local."
      ]
    },
    {
      "cell_type": "code",
      "execution_count": 30,
      "id": "8aa6f57b",
      "metadata": {
        "id": "8aa6f57b"
      },
      "outputs": [],
      "source": [
        "converters = {\n",
        "    \"0\": \"nota_fiscal\",\n",
        "    \"1\": \"recibo\",\n",
        "    \"2\": \"despesa_exterior\",\n",
        "    \"3\": None,\n",
        "    \"4\": None\n",
        "}\n",
        "\n",
        "df_reembolso.indTipoDocumento.replace(to_replace=converters, inplace=True)"
      ]
    },
    {
      "cell_type": "markdown",
      "id": "3cceae09",
      "metadata": {
        "id": "3cceae09"
      },
      "source": [
        "> O argumento `inplace` é legal porque ele já altera o dataframe, não precisamos pegar o resultado da operação e sobreescrever a coluna, ele já faz isso pela gente o/"
      ]
    },
    {
      "cell_type": "markdown",
      "id": "294d8092",
      "metadata": {
        "id": "294d8092"
      },
      "source": [
        "Agora você pode observar que essa coluna não possuí mais aqueles valores numericos:"
      ]
    },
    {
      "cell_type": "code",
      "execution_count": 31,
      "id": "94fcd817",
      "metadata": {
        "colab": {
          "base_uri": "https://localhost:8080/"
        },
        "id": "94fcd817",
        "outputId": "3f8a83d6-9a78-42dc-91be-8491b1951d4b"
      },
      "outputs": [
        {
          "data": {
            "text/plain": [
              "array([None, 'nota_fiscal', 'recibo', 'despesa_exterior'], dtype=object)"
            ]
          },
          "execution_count": 31,
          "metadata": {},
          "output_type": "execute_result"
        }
      ],
      "source": [
        "df_reembolso.indTipoDocumento.unique()"
      ]
    },
    {
      "cell_type": "markdown",
      "id": "f2127b07",
      "metadata": {
        "id": "f2127b07"
      },
      "source": [
        "### 9) Agrupe o valor total de despesas por fornecedor, mês e ano. Você encontrou algum padrão?"
      ]
    },
    {
      "cell_type": "markdown",
      "id": "3a97e5d0-b5a9-4be6-8c82-b7e1516a1e57",
      "metadata": {
        "id": "3a97e5d0-b5a9-4be6-8c82-b7e1516a1e57"
      },
      "source": [
        "O objetivo dessa questão é tentar encontrar se existe algum padrão no gasto realizado pelos parlamentares."
      ]
    },
    {
      "cell_type": "code",
      "execution_count": 32,
      "id": "4f79f62e",
      "metadata": {
        "id": "4f79f62e"
      },
      "outputs": [],
      "source": [
        "import numpy as np"
      ]
    },
    {
      "cell_type": "markdown",
      "id": "7f717199-5d4b-44e1-81c4-fad11f791578",
      "metadata": {
        "id": "7f717199-5d4b-44e1-81c4-fad11f791578"
      },
      "source": [
        "Para conseguir responder essa pergunta vamos utilizar o `groupBy`, passando como argumento o nome do fornecedor e a data da despesas. Como a coluna `vlrLiquido` pode possuir valores nulos, vamos utilizar também a função [`nansum`](https://numpy.org/doc/stable/reference/generated/numpy.nansum.html) do Numpy, que ignora valores NaN e realiza a soma de todos os elementos dentro de uma lista."
      ]
    },
    {
      "cell_type": "code",
      "execution_count": 36,
      "id": "843e6567",
      "metadata": {
        "colab": {
          "base_uri": "https://localhost:8080/",
          "height": 676
        },
        "id": "843e6567",
        "outputId": "c4a36725-0d7c-4eba-e5d4-c072372777aa"
      },
      "outputs": [
        {
          "data": {
            "text/html": [
              "<div>\n",
              "<style scoped>\n",
              "    .dataframe tbody tr th:only-of-type {\n",
              "        vertical-align: middle;\n",
              "    }\n",
              "\n",
              "    .dataframe tbody tr th {\n",
              "        vertical-align: top;\n",
              "    }\n",
              "\n",
              "    .dataframe thead th {\n",
              "        text-align: right;\n",
              "    }\n",
              "</style>\n",
              "<table border=\"1\" class=\"dataframe\">\n",
              "  <thead>\n",
              "    <tr style=\"text-align: right;\">\n",
              "      <th></th>\n",
              "      <th>txtFornecedor</th>\n",
              "      <th>datEmissaoMes</th>\n",
              "      <th>vlrLiquido</th>\n",
              "    </tr>\n",
              "  </thead>\n",
              "  <tbody>\n",
              "    <tr>\n",
              "      <th>60806</th>\n",
              "      <td>TELEFONICA BRASIL S.A.</td>\n",
              "      <td>2</td>\n",
              "      <td>344227.13</td>\n",
              "    </tr>\n",
              "    <tr>\n",
              "      <th>60805</th>\n",
              "      <td>TELEFONICA BRASIL S.A.</td>\n",
              "      <td>1</td>\n",
              "      <td>302807.53</td>\n",
              "    </tr>\n",
              "    <tr>\n",
              "      <th>60807</th>\n",
              "      <td>TELEFONICA BRASIL S.A.</td>\n",
              "      <td>3</td>\n",
              "      <td>235048.26</td>\n",
              "    </tr>\n",
              "    <tr>\n",
              "      <th>27828</th>\n",
              "      <td>GP COBERTURA JORNALISTICA LTDA ME</td>\n",
              "      <td>12</td>\n",
              "      <td>222500.00</td>\n",
              "    </tr>\n",
              "    <tr>\n",
              "      <th>60896</th>\n",
              "      <td>TELEFÔNICA BRASIL S.A. VIVO</td>\n",
              "      <td>7</td>\n",
              "      <td>208554.71</td>\n",
              "    </tr>\n",
              "    <tr>\n",
              "      <th>60833</th>\n",
              "      <td>TELEFONICA BRASIL S.A. VIVO</td>\n",
              "      <td>10</td>\n",
              "      <td>200051.51</td>\n",
              "    </tr>\n",
              "    <tr>\n",
              "      <th>60299</th>\n",
              "      <td>T2 COMUNICACAO, VIDEO E PRODUCOES EIRELI - EPP</td>\n",
              "      <td>12</td>\n",
              "      <td>188500.00</td>\n",
              "    </tr>\n",
              "    <tr>\n",
              "      <th>19637</th>\n",
              "      <td>CRIATIVA GRAFICA E EDITORA LTDA</td>\n",
              "      <td>12</td>\n",
              "      <td>150000.00</td>\n",
              "    </tr>\n",
              "    <tr>\n",
              "      <th>60789</th>\n",
              "      <td>TELEFONICA BRASIL S.A</td>\n",
              "      <td>4</td>\n",
              "      <td>149310.21</td>\n",
              "    </tr>\n",
              "    <tr>\n",
              "      <th>60295</th>\n",
              "      <td>T2 COMUNICACAO, VIDEO E PRODUCOES EIRELI - EPP</td>\n",
              "      <td>5</td>\n",
              "      <td>148000.00</td>\n",
              "    </tr>\n",
              "    <tr>\n",
              "      <th>33817</th>\n",
              "      <td>KARISMA IMPRESSOS E PAPELARIA LTDA - EPP</td>\n",
              "      <td>6</td>\n",
              "      <td>146180.00</td>\n",
              "    </tr>\n",
              "    <tr>\n",
              "      <th>60298</th>\n",
              "      <td>T2 COMUNICACAO, VIDEO E PRODUCOES EIRELI - EPP</td>\n",
              "      <td>11</td>\n",
              "      <td>144566.67</td>\n",
              "    </tr>\n",
              "    <tr>\n",
              "      <th>51569</th>\n",
              "      <td>PRATICA BRINDES COPIADORA E GRAFICA RAPIDA LTDA</td>\n",
              "      <td>11</td>\n",
              "      <td>140000.00</td>\n",
              "    </tr>\n",
              "    <tr>\n",
              "      <th>26107</th>\n",
              "      <td>FOXY EDITORA GRÁFICA EIRELI</td>\n",
              "      <td>10</td>\n",
              "      <td>136218.00</td>\n",
              "    </tr>\n",
              "    <tr>\n",
              "      <th>65066</th>\n",
              "      <td>joselito gonçalves silva</td>\n",
              "      <td>5</td>\n",
              "      <td>136026.00</td>\n",
              "    </tr>\n",
              "    <tr>\n",
              "      <th>60815</th>\n",
              "      <td>TELEFONICA BRASIL S.A.</td>\n",
              "      <td>11</td>\n",
              "      <td>132840.94</td>\n",
              "    </tr>\n",
              "    <tr>\n",
              "      <th>60895</th>\n",
              "      <td>TELEFÔNICA BRASIL S.A. VIVO</td>\n",
              "      <td>6</td>\n",
              "      <td>132401.18</td>\n",
              "    </tr>\n",
              "    <tr>\n",
              "      <th>63007</th>\n",
              "      <td>VERTICE - SOCIEDADE CIVIL DE PROFISSIONAIS ASS...</td>\n",
              "      <td>12</td>\n",
              "      <td>131500.00</td>\n",
              "    </tr>\n",
              "    <tr>\n",
              "      <th>60819</th>\n",
              "      <td>TELEFONICA BRASIL S.A. - VIVO</td>\n",
              "      <td>5</td>\n",
              "      <td>131096.88</td>\n",
              "    </tr>\n",
              "    <tr>\n",
              "      <th>63005</th>\n",
              "      <td>VERTICE - SOCIEDADE CIVIL DE PROFISSIONAIS ASS...</td>\n",
              "      <td>10</td>\n",
              "      <td>130500.00</td>\n",
              "    </tr>\n",
              "  </tbody>\n",
              "</table>\n",
              "</div>"
            ],
            "text/plain": [
              "                                           txtFornecedor  datEmissaoMes  \\\n",
              "60806                             TELEFONICA BRASIL S.A.              2   \n",
              "60805                             TELEFONICA BRASIL S.A.              1   \n",
              "60807                             TELEFONICA BRASIL S.A.              3   \n",
              "27828                  GP COBERTURA JORNALISTICA LTDA ME             12   \n",
              "60896                        TELEFÔNICA BRASIL S.A. VIVO              7   \n",
              "60833                        TELEFONICA BRASIL S.A. VIVO             10   \n",
              "60299     T2 COMUNICACAO, VIDEO E PRODUCOES EIRELI - EPP             12   \n",
              "19637                    CRIATIVA GRAFICA E EDITORA LTDA             12   \n",
              "60789                              TELEFONICA BRASIL S.A              4   \n",
              "60295     T2 COMUNICACAO, VIDEO E PRODUCOES EIRELI - EPP              5   \n",
              "33817           KARISMA IMPRESSOS E PAPELARIA LTDA - EPP              6   \n",
              "60298     T2 COMUNICACAO, VIDEO E PRODUCOES EIRELI - EPP             11   \n",
              "51569    PRATICA BRINDES COPIADORA E GRAFICA RAPIDA LTDA             11   \n",
              "26107                        FOXY EDITORA GRÁFICA EIRELI             10   \n",
              "65066                           joselito gonçalves silva              5   \n",
              "60815                             TELEFONICA BRASIL S.A.             11   \n",
              "60895                        TELEFÔNICA BRASIL S.A. VIVO              6   \n",
              "63007  VERTICE - SOCIEDADE CIVIL DE PROFISSIONAIS ASS...             12   \n",
              "60819                      TELEFONICA BRASIL S.A. - VIVO              5   \n",
              "63005  VERTICE - SOCIEDADE CIVIL DE PROFISSIONAIS ASS...             10   \n",
              "\n",
              "       vlrLiquido  \n",
              "60806   344227.13  \n",
              "60805   302807.53  \n",
              "60807   235048.26  \n",
              "27828   222500.00  \n",
              "60896   208554.71  \n",
              "60833   200051.51  \n",
              "60299   188500.00  \n",
              "19637   150000.00  \n",
              "60789   149310.21  \n",
              "60295   148000.00  \n",
              "33817   146180.00  \n",
              "60298   144566.67  \n",
              "51569   140000.00  \n",
              "26107   136218.00  \n",
              "65066   136026.00  \n",
              "60815   132840.94  \n",
              "60895   132401.18  \n",
              "63007   131500.00  \n",
              "60819   131096.88  \n",
              "63005   130500.00  "
            ]
          },
          "execution_count": 36,
          "metadata": {},
          "output_type": "execute_result"
        }
      ],
      "source": [
        "df_reembolso.groupby([\"txtFornecedor\", \"datEmissaoMes\"], as_index=False) \\\n",
        "    .agg({\"vlrLiquido\": np.nansum})\\\n",
        "    .sort_values(by=\"vlrLiquido\", ascending=False)[0:20]"
      ]
    },
    {
      "cell_type": "markdown",
      "id": "5d805153",
      "metadata": {
        "id": "5d805153"
      },
      "source": [
        "### 10) Quais os 10 parlamentares que mais solicitaram reembolso?"
      ]
    },
    {
      "cell_type": "markdown",
      "id": "ef8fc249-52e6-4f2d-81df-9754df40aea3",
      "metadata": {
        "id": "ef8fc249-52e6-4f2d-81df-9754df40aea3"
      },
      "source": [
        "Essa questão é bem semelhante com a anterior :)"
      ]
    },
    {
      "cell_type": "code",
      "execution_count": 34,
      "id": "6b4722f9",
      "metadata": {
        "colab": {
          "base_uri": "https://localhost:8080/",
          "height": 363
        },
        "id": "6b4722f9",
        "outputId": "b25cc313-eb24-4892-87f1-a87eac0bf77f"
      },
      "outputs": [
        {
          "data": {
            "text/html": [
              "<div>\n",
              "<style scoped>\n",
              "    .dataframe tbody tr th:only-of-type {\n",
              "        vertical-align: middle;\n",
              "    }\n",
              "\n",
              "    .dataframe tbody tr th {\n",
              "        vertical-align: top;\n",
              "    }\n",
              "\n",
              "    .dataframe thead th {\n",
              "        text-align: right;\n",
              "    }\n",
              "</style>\n",
              "<table border=\"1\" class=\"dataframe\">\n",
              "  <thead>\n",
              "    <tr style=\"text-align: right;\">\n",
              "      <th></th>\n",
              "      <th>txNomeParlamentar</th>\n",
              "      <th>vlrLiquido</th>\n",
              "    </tr>\n",
              "  </thead>\n",
              "  <tbody>\n",
              "    <tr>\n",
              "      <th>112</th>\n",
              "      <td>CÉSAR HALUM</td>\n",
              "      <td>518195.20</td>\n",
              "    </tr>\n",
              "    <tr>\n",
              "      <th>146</th>\n",
              "      <td>ELIZEU DIONIZIO</td>\n",
              "      <td>480956.01</td>\n",
              "    </tr>\n",
              "    <tr>\n",
              "      <th>125</th>\n",
              "      <td>Dagoberto Nogueira</td>\n",
              "      <td>469268.21</td>\n",
              "    </tr>\n",
              "    <tr>\n",
              "      <th>269</th>\n",
              "      <td>Jhonatan de Jesus</td>\n",
              "      <td>465779.20</td>\n",
              "    </tr>\n",
              "    <tr>\n",
              "      <th>1</th>\n",
              "      <td>ADAIL CARNEIRO</td>\n",
              "      <td>458612.00</td>\n",
              "    </tr>\n",
              "    <tr>\n",
              "      <th>134</th>\n",
              "      <td>Delegado Éder Mauro</td>\n",
              "      <td>456875.92</td>\n",
              "    </tr>\n",
              "    <tr>\n",
              "      <th>559</th>\n",
              "      <td>Zeca Cavalcanti</td>\n",
              "      <td>454949.37</td>\n",
              "    </tr>\n",
              "    <tr>\n",
              "      <th>469</th>\n",
              "      <td>Ricardo Teobaldo</td>\n",
              "      <td>453276.74</td>\n",
              "    </tr>\n",
              "    <tr>\n",
              "      <th>442</th>\n",
              "      <td>REMÍDIO MONAI</td>\n",
              "      <td>451906.07</td>\n",
              "    </tr>\n",
              "    <tr>\n",
              "      <th>0</th>\n",
              "      <td>ABEL MESQUITA JR.</td>\n",
              "      <td>451381.12</td>\n",
              "    </tr>\n",
              "  </tbody>\n",
              "</table>\n",
              "</div>"
            ],
            "text/plain": [
              "       txNomeParlamentar  vlrLiquido\n",
              "112          CÉSAR HALUM   518195.20\n",
              "146      ELIZEU DIONIZIO   480956.01\n",
              "125   Dagoberto Nogueira   469268.21\n",
              "269    Jhonatan de Jesus   465779.20\n",
              "1         ADAIL CARNEIRO   458612.00\n",
              "134  Delegado Éder Mauro   456875.92\n",
              "559      Zeca Cavalcanti   454949.37\n",
              "469     Ricardo Teobaldo   453276.74\n",
              "442        REMÍDIO MONAI   451906.07\n",
              "0      ABEL MESQUITA JR.   451381.12"
            ]
          },
          "execution_count": 34,
          "metadata": {},
          "output_type": "execute_result"
        }
      ],
      "source": [
        "df_reembolso.groupby([\"txNomeParlamentar\"], as_index=False) \\\n",
        "    .agg({\"vlrLiquido\": np.nansum})\\\n",
        "    .sort_values(by=\"vlrLiquido\", ascending=False)[0:10]"
      ]
    },
    {
      "cell_type": "markdown",
      "id": "b00886f0",
      "metadata": {
        "id": "b00886f0"
      },
      "source": [
        "#### Como ficaria a resposta, caso queiramos saber quais os seus estados e partidos?"
      ]
    },
    {
      "cell_type": "code",
      "execution_count": 37,
      "id": "7c2b09c6",
      "metadata": {
        "colab": {
          "base_uri": "https://localhost:8080/",
          "height": 363
        },
        "id": "7c2b09c6",
        "outputId": "3171daaa-7008-478b-d900-04e16f967765"
      },
      "outputs": [
        {
          "data": {
            "text/html": [
              "<div>\n",
              "<style scoped>\n",
              "    .dataframe tbody tr th:only-of-type {\n",
              "        vertical-align: middle;\n",
              "    }\n",
              "\n",
              "    .dataframe tbody tr th {\n",
              "        vertical-align: top;\n",
              "    }\n",
              "\n",
              "    .dataframe thead th {\n",
              "        text-align: right;\n",
              "    }\n",
              "</style>\n",
              "<table border=\"1\" class=\"dataframe\">\n",
              "  <thead>\n",
              "    <tr style=\"text-align: right;\">\n",
              "      <th></th>\n",
              "      <th>txNomeParlamentar</th>\n",
              "      <th>sgPartido</th>\n",
              "      <th>sgUF</th>\n",
              "      <th>vlrLiquido</th>\n",
              "    </tr>\n",
              "  </thead>\n",
              "  <tbody>\n",
              "    <tr>\n",
              "      <th>111</th>\n",
              "      <td>CÉSAR HALUM</td>\n",
              "      <td>PRB</td>\n",
              "      <td>TO</td>\n",
              "      <td>518195.20</td>\n",
              "    </tr>\n",
              "    <tr>\n",
              "      <th>144</th>\n",
              "      <td>ELIZEU DIONIZIO</td>\n",
              "      <td>PSB</td>\n",
              "      <td>MS</td>\n",
              "      <td>480956.01</td>\n",
              "    </tr>\n",
              "    <tr>\n",
              "      <th>123</th>\n",
              "      <td>Dagoberto Nogueira</td>\n",
              "      <td>PSDB</td>\n",
              "      <td>MS</td>\n",
              "      <td>469268.21</td>\n",
              "    </tr>\n",
              "    <tr>\n",
              "      <th>267</th>\n",
              "      <td>Jhonatan de Jesus</td>\n",
              "      <td>REPUBLICANOS</td>\n",
              "      <td>RR</td>\n",
              "      <td>465779.20</td>\n",
              "    </tr>\n",
              "    <tr>\n",
              "      <th>1</th>\n",
              "      <td>ADAIL CARNEIRO</td>\n",
              "      <td>PODE</td>\n",
              "      <td>CE</td>\n",
              "      <td>458612.00</td>\n",
              "    </tr>\n",
              "    <tr>\n",
              "      <th>132</th>\n",
              "      <td>Delegado Éder Mauro</td>\n",
              "      <td>PL</td>\n",
              "      <td>PA</td>\n",
              "      <td>456875.92</td>\n",
              "    </tr>\n",
              "    <tr>\n",
              "      <th>546</th>\n",
              "      <td>Zeca Cavalcanti</td>\n",
              "      <td>PTB</td>\n",
              "      <td>PE</td>\n",
              "      <td>454949.37</td>\n",
              "    </tr>\n",
              "    <tr>\n",
              "      <th>457</th>\n",
              "      <td>Ricardo Teobaldo</td>\n",
              "      <td>PODE</td>\n",
              "      <td>PE</td>\n",
              "      <td>453276.74</td>\n",
              "    </tr>\n",
              "    <tr>\n",
              "      <th>430</th>\n",
              "      <td>REMÍDIO MONAI</td>\n",
              "      <td>PR</td>\n",
              "      <td>RR</td>\n",
              "      <td>451906.07</td>\n",
              "    </tr>\n",
              "    <tr>\n",
              "      <th>0</th>\n",
              "      <td>ABEL MESQUITA JR.</td>\n",
              "      <td>DEM</td>\n",
              "      <td>RR</td>\n",
              "      <td>451381.12</td>\n",
              "    </tr>\n",
              "  </tbody>\n",
              "</table>\n",
              "</div>"
            ],
            "text/plain": [
              "       txNomeParlamentar     sgPartido sgUF  vlrLiquido\n",
              "111          CÉSAR HALUM           PRB   TO   518195.20\n",
              "144      ELIZEU DIONIZIO           PSB   MS   480956.01\n",
              "123   Dagoberto Nogueira          PSDB   MS   469268.21\n",
              "267    Jhonatan de Jesus  REPUBLICANOS   RR   465779.20\n",
              "1         ADAIL CARNEIRO          PODE   CE   458612.00\n",
              "132  Delegado Éder Mauro            PL   PA   456875.92\n",
              "546      Zeca Cavalcanti           PTB   PE   454949.37\n",
              "457     Ricardo Teobaldo          PODE   PE   453276.74\n",
              "430        REMÍDIO MONAI            PR   RR   451906.07\n",
              "0      ABEL MESQUITA JR.           DEM   RR   451381.12"
            ]
          },
          "execution_count": 37,
          "metadata": {},
          "output_type": "execute_result"
        }
      ],
      "source": [
        "df_reembolso.groupby([\"txNomeParlamentar\", \"sgPartido\", \"sgUF\"], as_index=False) \\\n",
        "    .agg({\"vlrLiquido\": np.nansum})\\\n",
        "    .sort_values(by=\"vlrLiquido\", ascending=False)[0:10]"
      ]
    },
    {
      "cell_type": "markdown",
      "id": "8b0ccb5d",
      "metadata": {
        "id": "8b0ccb5d"
      },
      "source": [
        "### 11) Quais os partidos e os estados que mais solicitaram reembolso?"
      ]
    },
    {
      "cell_type": "markdown",
      "id": "5bd280d0-3988-4d67-a2a1-514f1fddf3f9",
      "metadata": {
        "id": "5bd280d0-3988-4d67-a2a1-514f1fddf3f9"
      },
      "source": [
        "Continuando no mesmo tipo de questão das duas últimas :)"
      ]
    },
    {
      "cell_type": "code",
      "execution_count": 38,
      "id": "58ec0ba6",
      "metadata": {
        "colab": {
          "base_uri": "https://localhost:8080/",
          "height": 363
        },
        "id": "58ec0ba6",
        "outputId": "6ccb034a-4d2c-4b53-cba1-9a64f96395f4"
      },
      "outputs": [
        {
          "data": {
            "text/html": [
              "<div>\n",
              "<style scoped>\n",
              "    .dataframe tbody tr th:only-of-type {\n",
              "        vertical-align: middle;\n",
              "    }\n",
              "\n",
              "    .dataframe tbody tr th {\n",
              "        vertical-align: top;\n",
              "    }\n",
              "\n",
              "    .dataframe thead th {\n",
              "        text-align: right;\n",
              "    }\n",
              "</style>\n",
              "<table border=\"1\" class=\"dataframe\">\n",
              "  <thead>\n",
              "    <tr style=\"text-align: right;\">\n",
              "      <th></th>\n",
              "      <th>sgPartido</th>\n",
              "      <th>sgUF</th>\n",
              "      <th>vlrLiquido</th>\n",
              "    </tr>\n",
              "  </thead>\n",
              "  <tbody>\n",
              "    <tr>\n",
              "      <th>216</th>\n",
              "      <td>PSDB</td>\n",
              "      <td>SP</td>\n",
              "      <td>3591212.88</td>\n",
              "    </tr>\n",
              "    <tr>\n",
              "      <th>244</th>\n",
              "      <td>PT</td>\n",
              "      <td>SP</td>\n",
              "      <td>3102103.61</td>\n",
              "    </tr>\n",
              "    <tr>\n",
              "      <th>241</th>\n",
              "      <td>PT</td>\n",
              "      <td>RS</td>\n",
              "      <td>2463721.66</td>\n",
              "    </tr>\n",
              "    <tr>\n",
              "      <th>106</th>\n",
              "      <td>PP</td>\n",
              "      <td>MG</td>\n",
              "      <td>2387966.81</td>\n",
              "    </tr>\n",
              "    <tr>\n",
              "      <th>227</th>\n",
              "      <td>PT</td>\n",
              "      <td>BA</td>\n",
              "      <td>2276794.48</td>\n",
              "    </tr>\n",
              "    <tr>\n",
              "      <th>113</th>\n",
              "      <td>PP</td>\n",
              "      <td>PR</td>\n",
              "      <td>2239246.22</td>\n",
              "    </tr>\n",
              "    <tr>\n",
              "      <th>183</th>\n",
              "      <td>PSD</td>\n",
              "      <td>MG</td>\n",
              "      <td>2179571.66</td>\n",
              "    </tr>\n",
              "    <tr>\n",
              "      <th>233</th>\n",
              "      <td>PT</td>\n",
              "      <td>MG</td>\n",
              "      <td>2118433.48</td>\n",
              "    </tr>\n",
              "    <tr>\n",
              "      <th>189</th>\n",
              "      <td>PSD</td>\n",
              "      <td>RJ</td>\n",
              "      <td>2016223.46</td>\n",
              "    </tr>\n",
              "    <tr>\n",
              "      <th>276</th>\n",
              "      <td>REPUBLICANOS</td>\n",
              "      <td>SP</td>\n",
              "      <td>1988467.62</td>\n",
              "    </tr>\n",
              "  </tbody>\n",
              "</table>\n",
              "</div>"
            ],
            "text/plain": [
              "        sgPartido sgUF  vlrLiquido\n",
              "216          PSDB   SP  3591212.88\n",
              "244            PT   SP  3102103.61\n",
              "241            PT   RS  2463721.66\n",
              "106            PP   MG  2387966.81\n",
              "227            PT   BA  2276794.48\n",
              "113            PP   PR  2239246.22\n",
              "183           PSD   MG  2179571.66\n",
              "233            PT   MG  2118433.48\n",
              "189           PSD   RJ  2016223.46\n",
              "276  REPUBLICANOS   SP  1988467.62"
            ]
          },
          "execution_count": 38,
          "metadata": {},
          "output_type": "execute_result"
        }
      ],
      "source": [
        "df_reembolso.groupby([\"sgPartido\", \"sgUF\"], as_index=False) \\\n",
        "    .agg({\"vlrLiquido\": np.nansum})\\\n",
        "    .sort_values(by=\"vlrLiquido\", ascending=False)[0:10]"
      ]
    },
    {
      "cell_type": "markdown",
      "id": "cc0aa26d",
      "metadata": {
        "id": "cc0aa26d"
      },
      "source": [
        "### 12) Recupere os reembolsos de 2019 e acrescente aos dados de 2018"
      ]
    },
    {
      "cell_type": "markdown",
      "id": "18bf52e8-bffd-45a8-8c53-c72d23f985f1",
      "metadata": {
        "id": "18bf52e8-bffd-45a8-8c53-c72d23f985f1"
      },
      "source": [
        "Antes de adicionar os dados de 2019 na base que temos atualmente, vamos dar uma olhada no nome das colunas e na quantidade de registros que temos atualmente:"
      ]
    },
    {
      "cell_type": "code",
      "execution_count": 39,
      "id": "e08519b1",
      "metadata": {
        "colab": {
          "base_uri": "https://localhost:8080/"
        },
        "id": "e08519b1",
        "outputId": "0a1b6683-3f8a-438b-c8b6-9cc647fcc890"
      },
      "outputs": [
        {
          "data": {
            "text/plain": [
              "Index(['txNomeParlamentar', 'cpf', 'ideCadastro', 'nuCarteiraParlamentar',\n",
              "       'nuLegislatura', 'sgUF', 'sgPartido', 'codLegislatura', 'numSubCota',\n",
              "       'txtDescricao', 'numEspecificacaoSubCota', 'txtDescricaoEspecificacao',\n",
              "       'txtFornecedor', 'txtCNPJCPF', 'txtNumero', 'indTipoDocumento',\n",
              "       'datEmissao', 'vlrDocumento', 'vlrGlosa', 'vlrLiquido', 'numMes',\n",
              "       'numAno', 'numParcela', 'txtPassageiro', 'txtTrecho', 'numLote',\n",
              "       'numRessarcimento', 'datPagamentoRestituicao', 'vlrRestituicao',\n",
              "       'nuDeputadoId', 'ideDocumento', 'urlDocumento', 'datEmissaoMes',\n",
              "       'datEmissaoMesAno'],\n",
              "      dtype='object')"
            ]
          },
          "execution_count": 39,
          "metadata": {},
          "output_type": "execute_result"
        }
      ],
      "source": [
        "df_reembolso.columns"
      ]
    },
    {
      "cell_type": "markdown",
      "id": "615eb727",
      "metadata": {},
      "source": [
        "Obs Felipe: antes de eu tentar, o formato era (282747, 34) "
      ]
    },
    {
      "cell_type": "code",
      "execution_count": 40,
      "id": "8d916476",
      "metadata": {
        "colab": {
          "base_uri": "https://localhost:8080/"
        },
        "id": "8d916476",
        "outputId": "19d7a89b-9d6f-4ebb-9f0a-1098b50f62a3"
      },
      "outputs": [
        {
          "data": {
            "text/plain": [
              "(166051, 34)"
            ]
          },
          "execution_count": 40,
          "metadata": {},
          "output_type": "execute_result"
        }
      ],
      "source": [
        "df_reembolso.shape"
      ]
    },
    {
      "cell_type": "markdown",
      "id": "338cb75f-6155-43ba-b135-df5c4084a8db",
      "metadata": {
        "id": "338cb75f-6155-43ba-b135-df5c4084a8db"
      },
      "source": [
        "Após ler o arquivo de 2019 (não esqueça de baixar ele), vamos verificar se o esquema de colunas se mantém o mesmo:"
      ]
    },
    {
      "cell_type": "code",
      "execution_count": 41,
      "id": "G1BmYZ3fFFde",
      "metadata": {
        "id": "G1BmYZ3fFFde"
      },
      "outputs": [],
      "source": [
        "import requests\n",
        "from zipfile import ZipFile\n",
        "\n",
        "# fazendo o download do conteúdo do arquivo\n",
        "url = f\"http://www.camara.leg.br/cotas/Ano-2019.csv.zip\"\n",
        "r = requests.get(url)\n",
        "\n",
        "file = open(f\"Ano-2019.csv.zip\", \"wb\")\n",
        "file.write(r.content)\n",
        "file.close()\n",
        "\n",
        "zip_file = ZipFile(f\"Ano-2019.csv.zip\", \"r\")\n",
        "zip_file.extract(member=f\"Ano-2019.csv\", path=f\"reembolso-2019\")\n",
        "zip_file.close()"
      ]
    },
    {
      "cell_type": "code",
      "execution_count": 42,
      "id": "72a00f8c",
      "metadata": {
        "colab": {
          "base_uri": "https://localhost:8080/"
        },
        "id": "72a00f8c",
        "outputId": "f07ec2b5-798b-4caf-de4a-3f14a713fce1"
      },
      "outputs": [
        {
          "data": {
            "text/plain": [
              "Index(['txNomeParlamentar', 'cpf', 'ideCadastro', 'nuCarteiraParlamentar',\n",
              "       'nuLegislatura', 'sgUF', 'sgPartido', 'codLegislatura', 'numSubCota',\n",
              "       'txtDescricao', 'numEspecificacaoSubCota', 'txtDescricaoEspecificacao',\n",
              "       'txtFornecedor', 'txtCNPJCPF', 'txtNumero', 'indTipoDocumento',\n",
              "       'datEmissao', 'vlrDocumento', 'vlrGlosa', 'vlrLiquido', 'numMes',\n",
              "       'numAno', 'numParcela', 'txtPassageiro', 'txtTrecho', 'numLote',\n",
              "       'numRessarcimento', 'datPagamentoRestituicao', 'vlrRestituicao',\n",
              "       'nuDeputadoId', 'ideDocumento', 'urlDocumento'],\n",
              "      dtype='object')"
            ]
          },
          "execution_count": 42,
          "metadata": {},
          "output_type": "execute_result"
        }
      ],
      "source": [
        "df_reembolso_19 = pd.read_csv(\n",
        "    \"reembolso-2019/Ano-2019.csv\",\n",
        "    sep=\";\",\n",
        "    dtype=DTYPE\n",
        ")\n",
        "\n",
        "df_reembolso_19.columns"
      ]
    },
    {
      "cell_type": "code",
      "execution_count": 43,
      "id": "83155556",
      "metadata": {
        "colab": {
          "base_uri": "https://localhost:8080/"
        },
        "id": "83155556",
        "outputId": "725f959f-4ec6-430e-97ac-7d21850135a1"
      },
      "outputs": [
        {
          "data": {
            "text/plain": [
              "(177248, 32)"
            ]
          },
          "execution_count": 43,
          "metadata": {},
          "output_type": "execute_result"
        }
      ],
      "source": [
        "df_reembolso_19.shape"
      ]
    },
    {
      "cell_type": "markdown",
      "id": "2daf253d-304c-423a-9e09-a3bf6eaf98db",
      "metadata": {
        "id": "2daf253d-304c-423a-9e09-a3bf6eaf98db"
      },
      "source": [
        "Estando tudo certo, vamos concatenar os dados dos dois dataframes, gerando um novo dataframe:"
      ]
    },
    {
      "cell_type": "code",
      "execution_count": 44,
      "id": "17190480",
      "metadata": {
        "id": "17190480"
      },
      "outputs": [],
      "source": [
        "df_final = pd.concat([df_reembolso, df_reembolso_19], ignore_index=True)"
      ]
    },
    {
      "cell_type": "markdown",
      "id": "27a87e7d-25c0-4831-99b6-c6aae795e782",
      "metadata": {
        "id": "27a87e7d-25c0-4831-99b6-c6aae795e782"
      },
      "source": [
        "Agora nos temos 582.186 mil registros :)\n",
        "\n",
        "Obs Felipe: no meu (343299, 34)"
      ]
    },
    {
      "cell_type": "code",
      "execution_count": 45,
      "id": "c7745359",
      "metadata": {
        "colab": {
          "base_uri": "https://localhost:8080/"
        },
        "id": "c7745359",
        "outputId": "beadb4a5-3dff-4bd6-82f3-7e27f5ffdf89"
      },
      "outputs": [
        {
          "data": {
            "text/plain": [
              "(343299, 34)"
            ]
          },
          "execution_count": 45,
          "metadata": {},
          "output_type": "execute_result"
        }
      ],
      "source": [
        "df_final.shape"
      ]
    },
    {
      "cell_type": "markdown",
      "id": "27ba098f-7156-4b39-a4d8-110934f7b8ed",
      "metadata": {
        "id": "27ba098f-7156-4b39-a4d8-110934f7b8ed"
      },
      "source": [
        "Mas será que todos são registros únicos?"
      ]
    },
    {
      "cell_type": "code",
      "execution_count": 46,
      "id": "ce8374d1",
      "metadata": {
        "colab": {
          "base_uri": "https://localhost:8080/"
        },
        "id": "ce8374d1",
        "outputId": "cf37e4a9-11dd-418f-bdaa-e5ab7f6d8a50"
      },
      "outputs": [
        {
          "data": {
            "text/plain": [
              "(343299, 34)"
            ]
          },
          "execution_count": 46,
          "metadata": {},
          "output_type": "execute_result"
        }
      ],
      "source": [
        "df_final = df_final.drop_duplicates()\n",
        "\n",
        "df_final.shape"
      ]
    },
    {
      "cell_type": "markdown",
      "id": "d5eded54-305d-4d5e-b501-dcc8b4f13d2e",
      "metadata": {
        "id": "d5eded54-305d-4d5e-b501-dcc8b4f13d2e"
      },
      "source": [
        "Aparentemente sim!"
      ]
    },
    {
      "cell_type": "markdown",
      "id": "c0c16ef7",
      "metadata": {
        "id": "c0c16ef7"
      },
      "source": [
        "### 13) Responda novamente as questões 9, 10 e 11. Houve alguma mudança nos resultados?"
      ]
    },
    {
      "cell_type": "code",
      "execution_count": 48,
      "id": "0a8f9ac5",
      "metadata": {
        "id": "0a8f9ac5"
      },
      "outputs": [],
      "source": [
        "df_final[\"datEmissao\"] = df_final[\"datEmissao\"].astype(\"datetime64[ns]\")\n",
        "\n",
        "df_final[\"datEmissao\"] = pd.to_datetime(\n",
        "    df_final.datEmissao,\n",
        "    format=\"%Y-%m-%d\"\n",
        "    )\n",
        "\n",
        "df_final[\"txtCNPJCPF\"] = df_final[\"txtCNPJCPF\"].str.replace(r\"\\D\", \"\", regex=True)"
      ]
    },
    {
      "cell_type": "code",
      "execution_count": 49,
      "id": "961806fa",
      "metadata": {
        "colab": {
          "base_uri": "https://localhost:8080/",
          "height": 617
        },
        "id": "961806fa",
        "outputId": "e5c1c1ab-7047-4628-a423-b3d98925232c"
      },
      "outputs": [
        {
          "data": {
            "text/html": [
              "<div>\n",
              "<style scoped>\n",
              "    .dataframe tbody tr th:only-of-type {\n",
              "        vertical-align: middle;\n",
              "    }\n",
              "\n",
              "    .dataframe tbody tr th {\n",
              "        vertical-align: top;\n",
              "    }\n",
              "\n",
              "    .dataframe thead th {\n",
              "        text-align: right;\n",
              "    }\n",
              "</style>\n",
              "<table border=\"1\" class=\"dataframe\">\n",
              "  <thead>\n",
              "    <tr style=\"text-align: right;\">\n",
              "      <th></th>\n",
              "      <th>txNomeParlamentar</th>\n",
              "      <th>cpf</th>\n",
              "      <th>ideCadastro</th>\n",
              "      <th>nuCarteiraParlamentar</th>\n",
              "      <th>nuLegislatura</th>\n",
              "      <th>sgUF</th>\n",
              "      <th>sgPartido</th>\n",
              "      <th>codLegislatura</th>\n",
              "      <th>numSubCota</th>\n",
              "      <th>txtDescricao</th>\n",
              "      <th>numEspecificacaoSubCota</th>\n",
              "      <th>txtDescricaoEspecificacao</th>\n",
              "      <th>txtFornecedor</th>\n",
              "      <th>txtCNPJCPF</th>\n",
              "      <th>txtNumero</th>\n",
              "      <th>indTipoDocumento</th>\n",
              "      <th>datEmissao</th>\n",
              "      <th>vlrDocumento</th>\n",
              "      <th>vlrGlosa</th>\n",
              "      <th>vlrLiquido</th>\n",
              "      <th>numMes</th>\n",
              "      <th>numAno</th>\n",
              "      <th>numParcela</th>\n",
              "      <th>txtPassageiro</th>\n",
              "      <th>txtTrecho</th>\n",
              "      <th>numLote</th>\n",
              "      <th>numRessarcimento</th>\n",
              "      <th>datPagamentoRestituicao</th>\n",
              "      <th>vlrRestituicao</th>\n",
              "      <th>nuDeputadoId</th>\n",
              "      <th>ideDocumento</th>\n",
              "      <th>urlDocumento</th>\n",
              "      <th>datEmissaoMes</th>\n",
              "      <th>datEmissaoMesAno</th>\n",
              "    </tr>\n",
              "  </thead>\n",
              "  <tbody>\n",
              "    <tr>\n",
              "      <th>0</th>\n",
              "      <td>AVANTE</td>\n",
              "      <td>NaN</td>\n",
              "      <td>NaN</td>\n",
              "      <td>NaN</td>\n",
              "      <td>2015</td>\n",
              "      <td>NaN</td>\n",
              "      <td>NaN</td>\n",
              "      <td>55</td>\n",
              "      <td>13</td>\n",
              "      <td>FORNECIMENTO DE ALIMENTAÇÃO DO PARLAMENTAR</td>\n",
              "      <td>0</td>\n",
              "      <td>NaN</td>\n",
              "      <td>BISCOITOS CASEIROS HOMONNAI LTDA</td>\n",
              "      <td>04644820000177</td>\n",
              "      <td>5507</td>\n",
              "      <td>None</td>\n",
              "      <td>2018-06-26</td>\n",
              "      <td>181.37</td>\n",
              "      <td>0</td>\n",
              "      <td>181.37</td>\n",
              "      <td>6</td>\n",
              "      <td>2018</td>\n",
              "      <td>0</td>\n",
              "      <td>NaN</td>\n",
              "      <td>NaN</td>\n",
              "      <td>1510946</td>\n",
              "      <td>NaN</td>\n",
              "      <td>NaN</td>\n",
              "      <td>NaN</td>\n",
              "      <td>3175</td>\n",
              "      <td>6621498</td>\n",
              "      <td>https://www.camara.leg.br/cota-parlamentar/not...</td>\n",
              "      <td>6.0</td>\n",
              "      <td>6/2018</td>\n",
              "    </tr>\n",
              "    <tr>\n",
              "      <th>1</th>\n",
              "      <td>AVANTE</td>\n",
              "      <td>NaN</td>\n",
              "      <td>NaN</td>\n",
              "      <td>NaN</td>\n",
              "      <td>2015</td>\n",
              "      <td>NaN</td>\n",
              "      <td>NaN</td>\n",
              "      <td>55</td>\n",
              "      <td>13</td>\n",
              "      <td>FORNECIMENTO DE ALIMENTAÇÃO DO PARLAMENTAR</td>\n",
              "      <td>0</td>\n",
              "      <td>NaN</td>\n",
              "      <td>CASA DE CARNES GOMES E ARAUJO</td>\n",
              "      <td>24648970000166</td>\n",
              "      <td>37545</td>\n",
              "      <td>None</td>\n",
              "      <td>2018-05-22</td>\n",
              "      <td>259.28</td>\n",
              "      <td>0</td>\n",
              "      <td>259.28</td>\n",
              "      <td>5</td>\n",
              "      <td>2018</td>\n",
              "      <td>0</td>\n",
              "      <td>NaN</td>\n",
              "      <td>NaN</td>\n",
              "      <td>1496849</td>\n",
              "      <td>NaN</td>\n",
              "      <td>NaN</td>\n",
              "      <td>NaN</td>\n",
              "      <td>3175</td>\n",
              "      <td>6585814</td>\n",
              "      <td>https://www.camara.leg.br/cota-parlamentar/not...</td>\n",
              "      <td>5.0</td>\n",
              "      <td>5/2018</td>\n",
              "    </tr>\n",
              "    <tr>\n",
              "      <th>2</th>\n",
              "      <td>AVANTE</td>\n",
              "      <td>NaN</td>\n",
              "      <td>NaN</td>\n",
              "      <td>NaN</td>\n",
              "      <td>2015</td>\n",
              "      <td>NaN</td>\n",
              "      <td>NaN</td>\n",
              "      <td>55</td>\n",
              "      <td>13</td>\n",
              "      <td>FORNECIMENTO DE ALIMENTAÇÃO DO PARLAMENTAR</td>\n",
              "      <td>0</td>\n",
              "      <td>NaN</td>\n",
              "      <td>FRED RESTAURANTE LTDA</td>\n",
              "      <td>36756435000108</td>\n",
              "      <td>11609</td>\n",
              "      <td>None</td>\n",
              "      <td>2018-06-06</td>\n",
              "      <td>353.00</td>\n",
              "      <td>21</td>\n",
              "      <td>332.00</td>\n",
              "      <td>6</td>\n",
              "      <td>2018</td>\n",
              "      <td>0</td>\n",
              "      <td>NaN</td>\n",
              "      <td>NaN</td>\n",
              "      <td>1502980</td>\n",
              "      <td>NaN</td>\n",
              "      <td>NaN</td>\n",
              "      <td>NaN</td>\n",
              "      <td>3175</td>\n",
              "      <td>6599785</td>\n",
              "      <td>https://www.camara.leg.br/cota-parlamentar/not...</td>\n",
              "      <td>6.0</td>\n",
              "      <td>6/2018</td>\n",
              "    </tr>\n",
              "    <tr>\n",
              "      <th>3</th>\n",
              "      <td>AVANTE</td>\n",
              "      <td>NaN</td>\n",
              "      <td>NaN</td>\n",
              "      <td>NaN</td>\n",
              "      <td>2015</td>\n",
              "      <td>NaN</td>\n",
              "      <td>NaN</td>\n",
              "      <td>55</td>\n",
              "      <td>13</td>\n",
              "      <td>FORNECIMENTO DE ALIMENTAÇÃO DO PARLAMENTAR</td>\n",
              "      <td>0</td>\n",
              "      <td>NaN</td>\n",
              "      <td>JAMILLE LAFAIATE DE ANDRADE MORAIS</td>\n",
              "      <td>29286545000198</td>\n",
              "      <td>27368</td>\n",
              "      <td>nota_fiscal</td>\n",
              "      <td>2018-03-12</td>\n",
              "      <td>300.00</td>\n",
              "      <td>0</td>\n",
              "      <td>300.00</td>\n",
              "      <td>3</td>\n",
              "      <td>2018</td>\n",
              "      <td>0</td>\n",
              "      <td>NaN</td>\n",
              "      <td>NaN</td>\n",
              "      <td>1479240</td>\n",
              "      <td>NaN</td>\n",
              "      <td>NaN</td>\n",
              "      <td>NaN</td>\n",
              "      <td>3175</td>\n",
              "      <td>6539679</td>\n",
              "      <td>https://www.camara.leg.br/cota-parlamentar/doc...</td>\n",
              "      <td>3.0</td>\n",
              "      <td>3/2018</td>\n",
              "    </tr>\n",
              "    <tr>\n",
              "      <th>4</th>\n",
              "      <td>AVANTE</td>\n",
              "      <td>NaN</td>\n",
              "      <td>NaN</td>\n",
              "      <td>NaN</td>\n",
              "      <td>2015</td>\n",
              "      <td>NaN</td>\n",
              "      <td>NaN</td>\n",
              "      <td>55</td>\n",
              "      <td>13</td>\n",
              "      <td>FORNECIMENTO DE ALIMENTAÇÃO DO PARLAMENTAR</td>\n",
              "      <td>0</td>\n",
              "      <td>NaN</td>\n",
              "      <td>JAMILLE LAFAIETE DE ANDRADE MORAIS 06555315130</td>\n",
              "      <td>29286545000198</td>\n",
              "      <td>27367</td>\n",
              "      <td>nota_fiscal</td>\n",
              "      <td>2018-03-12</td>\n",
              "      <td>330.00</td>\n",
              "      <td>0</td>\n",
              "      <td>330.00</td>\n",
              "      <td>3</td>\n",
              "      <td>2018</td>\n",
              "      <td>0</td>\n",
              "      <td>NaN</td>\n",
              "      <td>NaN</td>\n",
              "      <td>1479240</td>\n",
              "      <td>NaN</td>\n",
              "      <td>NaN</td>\n",
              "      <td>NaN</td>\n",
              "      <td>3175</td>\n",
              "      <td>6539680</td>\n",
              "      <td>https://www.camara.leg.br/cota-parlamentar/doc...</td>\n",
              "      <td>3.0</td>\n",
              "      <td>3/2018</td>\n",
              "    </tr>\n",
              "  </tbody>\n",
              "</table>\n",
              "</div>"
            ],
            "text/plain": [
              "  txNomeParlamentar  cpf ideCadastro nuCarteiraParlamentar nuLegislatura sgUF  \\\n",
              "0            AVANTE  NaN         NaN                   NaN          2015  NaN   \n",
              "1            AVANTE  NaN         NaN                   NaN          2015  NaN   \n",
              "2            AVANTE  NaN         NaN                   NaN          2015  NaN   \n",
              "3            AVANTE  NaN         NaN                   NaN          2015  NaN   \n",
              "4            AVANTE  NaN         NaN                   NaN          2015  NaN   \n",
              "\n",
              "  sgPartido codLegislatura numSubCota  \\\n",
              "0       NaN             55         13   \n",
              "1       NaN             55         13   \n",
              "2       NaN             55         13   \n",
              "3       NaN             55         13   \n",
              "4       NaN             55         13   \n",
              "\n",
              "                                 txtDescricao numEspecificacaoSubCota  \\\n",
              "0  FORNECIMENTO DE ALIMENTAÇÃO DO PARLAMENTAR                       0   \n",
              "1  FORNECIMENTO DE ALIMENTAÇÃO DO PARLAMENTAR                       0   \n",
              "2  FORNECIMENTO DE ALIMENTAÇÃO DO PARLAMENTAR                       0   \n",
              "3  FORNECIMENTO DE ALIMENTAÇÃO DO PARLAMENTAR                       0   \n",
              "4  FORNECIMENTO DE ALIMENTAÇÃO DO PARLAMENTAR                       0   \n",
              "\n",
              "  txtDescricaoEspecificacao                                   txtFornecedor  \\\n",
              "0                       NaN                BISCOITOS CASEIROS HOMONNAI LTDA   \n",
              "1                       NaN                   CASA DE CARNES GOMES E ARAUJO   \n",
              "2                       NaN                           FRED RESTAURANTE LTDA   \n",
              "3                       NaN              JAMILLE LAFAIATE DE ANDRADE MORAIS   \n",
              "4                       NaN  JAMILLE LAFAIETE DE ANDRADE MORAIS 06555315130   \n",
              "\n",
              "       txtCNPJCPF txtNumero indTipoDocumento datEmissao  vlrDocumento  \\\n",
              "0  04644820000177      5507             None 2018-06-26        181.37   \n",
              "1  24648970000166     37545             None 2018-05-22        259.28   \n",
              "2  36756435000108     11609             None 2018-06-06        353.00   \n",
              "3  29286545000198     27368      nota_fiscal 2018-03-12        300.00   \n",
              "4  29286545000198     27367      nota_fiscal 2018-03-12        330.00   \n",
              "\n",
              "  vlrGlosa  vlrLiquido numMes numAno numParcela txtPassageiro txtTrecho  \\\n",
              "0        0      181.37      6   2018          0           NaN       NaN   \n",
              "1        0      259.28      5   2018          0           NaN       NaN   \n",
              "2       21      332.00      6   2018          0           NaN       NaN   \n",
              "3        0      300.00      3   2018          0           NaN       NaN   \n",
              "4        0      330.00      3   2018          0           NaN       NaN   \n",
              "\n",
              "   numLote numRessarcimento  datPagamentoRestituicao  vlrRestituicao  \\\n",
              "0  1510946              NaN                      NaN             NaN   \n",
              "1  1496849              NaN                      NaN             NaN   \n",
              "2  1502980              NaN                      NaN             NaN   \n",
              "3  1479240              NaN                      NaN             NaN   \n",
              "4  1479240              NaN                      NaN             NaN   \n",
              "\n",
              "  nuDeputadoId ideDocumento  \\\n",
              "0         3175      6621498   \n",
              "1         3175      6585814   \n",
              "2         3175      6599785   \n",
              "3         3175      6539679   \n",
              "4         3175      6539680   \n",
              "\n",
              "                                        urlDocumento  datEmissaoMes  \\\n",
              "0  https://www.camara.leg.br/cota-parlamentar/not...            6.0   \n",
              "1  https://www.camara.leg.br/cota-parlamentar/not...            5.0   \n",
              "2  https://www.camara.leg.br/cota-parlamentar/not...            6.0   \n",
              "3  https://www.camara.leg.br/cota-parlamentar/doc...            3.0   \n",
              "4  https://www.camara.leg.br/cota-parlamentar/doc...            3.0   \n",
              "\n",
              "  datEmissaoMesAno  \n",
              "0           6/2018  \n",
              "1           5/2018  \n",
              "2           6/2018  \n",
              "3           3/2018  \n",
              "4           3/2018  "
            ]
          },
          "execution_count": 49,
          "metadata": {},
          "output_type": "execute_result"
        }
      ],
      "source": [
        "df_final.head()"
      ]
    },
    {
      "cell_type": "code",
      "execution_count": 50,
      "id": "15592844",
      "metadata": {
        "id": "15592844"
      },
      "outputs": [],
      "source": [
        "df_final[\"datEmissaoMes\"] = df_final.datEmissao.apply(lambda x: f\"{x.month}\")"
      ]
    },
    {
      "cell_type": "code",
      "execution_count": 51,
      "id": "5cc258b1",
      "metadata": {
        "colab": {
          "base_uri": "https://localhost:8080/",
          "height": 676
        },
        "id": "5cc258b1",
        "outputId": "64cc2af9-06d2-4969-a17b-6dd4566d01a8"
      },
      "outputs": [
        {
          "data": {
            "text/html": [
              "<div>\n",
              "<style scoped>\n",
              "    .dataframe tbody tr th:only-of-type {\n",
              "        vertical-align: middle;\n",
              "    }\n",
              "\n",
              "    .dataframe tbody tr th {\n",
              "        vertical-align: top;\n",
              "    }\n",
              "\n",
              "    .dataframe thead th {\n",
              "        text-align: right;\n",
              "    }\n",
              "</style>\n",
              "<table border=\"1\" class=\"dataframe\">\n",
              "  <thead>\n",
              "    <tr style=\"text-align: right;\">\n",
              "      <th></th>\n",
              "      <th>txtFornecedor</th>\n",
              "      <th>datEmissaoMes</th>\n",
              "      <th>vlrLiquido</th>\n",
              "    </tr>\n",
              "  </thead>\n",
              "  <tbody>\n",
              "    <tr>\n",
              "      <th>104294</th>\n",
              "      <td>TELEFONICA BRASIL S.A.</td>\n",
              "      <td>2</td>\n",
              "      <td>378425.95</td>\n",
              "    </tr>\n",
              "    <tr>\n",
              "      <th>104405</th>\n",
              "      <td>TELEFÔNICA BRASIL S.A. VIVO</td>\n",
              "      <td>7</td>\n",
              "      <td>349674.79</td>\n",
              "    </tr>\n",
              "    <tr>\n",
              "      <th>104290</th>\n",
              "      <td>TELEFONICA BRASIL S.A.</td>\n",
              "      <td>1</td>\n",
              "      <td>347164.39</td>\n",
              "    </tr>\n",
              "    <tr>\n",
              "      <th>103628</th>\n",
              "      <td>TAM LINHAS AEREAS S/A.</td>\n",
              "      <td>2</td>\n",
              "      <td>292252.32</td>\n",
              "    </tr>\n",
              "    <tr>\n",
              "      <th>103442</th>\n",
              "      <td>T2 COMUNICACAO, VIDEO E PRODUCOES EIRELI - EPP</td>\n",
              "      <td>12</td>\n",
              "      <td>289454.00</td>\n",
              "    </tr>\n",
              "    <tr>\n",
              "      <th>104295</th>\n",
              "      <td>TELEFONICA BRASIL S.A.</td>\n",
              "      <td>3</td>\n",
              "      <td>274317.88</td>\n",
              "    </tr>\n",
              "    <tr>\n",
              "      <th>47397</th>\n",
              "      <td>GP COBERTURA JORNALISTICA LTDA ME</td>\n",
              "      <td>12</td>\n",
              "      <td>271500.00</td>\n",
              "    </tr>\n",
              "    <tr>\n",
              "      <th>73513</th>\n",
              "      <td>PANTANAL VEÍCULOS LTDA</td>\n",
              "      <td>8</td>\n",
              "      <td>269592.00</td>\n",
              "    </tr>\n",
              "    <tr>\n",
              "      <th>73505</th>\n",
              "      <td>PANTANAL VEÍCULOS LTDA</td>\n",
              "      <td>11</td>\n",
              "      <td>267989.86</td>\n",
              "    </tr>\n",
              "    <tr>\n",
              "      <th>6725</th>\n",
              "      <td>ARTGRAFICA PREMIO LTDA - ME</td>\n",
              "      <td>12</td>\n",
              "      <td>261001.20</td>\n",
              "    </tr>\n",
              "    <tr>\n",
              "      <th>104404</th>\n",
              "      <td>TELEFÔNICA BRASIL S.A. VIVO</td>\n",
              "      <td>6</td>\n",
              "      <td>256429.75</td>\n",
              "    </tr>\n",
              "    <tr>\n",
              "      <th>73506</th>\n",
              "      <td>PANTANAL VEÍCULOS LTDA</td>\n",
              "      <td>12</td>\n",
              "      <td>248035.32</td>\n",
              "    </tr>\n",
              "    <tr>\n",
              "      <th>73512</th>\n",
              "      <td>PANTANAL VEÍCULOS LTDA</td>\n",
              "      <td>7</td>\n",
              "      <td>242530.00</td>\n",
              "    </tr>\n",
              "    <tr>\n",
              "      <th>103446</th>\n",
              "      <td>T2 COMUNICACAO, VIDEO E PRODUCOES EIRELI - EPP</td>\n",
              "      <td>5</td>\n",
              "      <td>238640.00</td>\n",
              "    </tr>\n",
              "    <tr>\n",
              "      <th>47139</th>\n",
              "      <td>GOLD CAR BRASILIA LOCADORA DE VEICULOS ME</td>\n",
              "      <td>10</td>\n",
              "      <td>235710.00</td>\n",
              "    </tr>\n",
              "    <tr>\n",
              "      <th>73511</th>\n",
              "      <td>PANTANAL VEÍCULOS LTDA</td>\n",
              "      <td>6</td>\n",
              "      <td>230424.00</td>\n",
              "    </tr>\n",
              "    <tr>\n",
              "      <th>107912</th>\n",
              "      <td>VERTICE - SOCIEDADE CIVIL DE PROFISSIONAIS ASS...</td>\n",
              "      <td>12</td>\n",
              "      <td>226167.00</td>\n",
              "    </tr>\n",
              "    <tr>\n",
              "      <th>73509</th>\n",
              "      <td>PANTANAL VEÍCULOS LTDA</td>\n",
              "      <td>4</td>\n",
              "      <td>223583.32</td>\n",
              "    </tr>\n",
              "    <tr>\n",
              "      <th>107914</th>\n",
              "      <td>VERTICE - SOCIEDADE CIVIL DE PROFISSIONAIS ASS...</td>\n",
              "      <td>3</td>\n",
              "      <td>221800.00</td>\n",
              "    </tr>\n",
              "    <tr>\n",
              "      <th>73504</th>\n",
              "      <td>PANTANAL VEÍCULOS LTDA</td>\n",
              "      <td>10</td>\n",
              "      <td>217544.36</td>\n",
              "    </tr>\n",
              "  </tbody>\n",
              "</table>\n",
              "</div>"
            ],
            "text/plain": [
              "                                            txtFornecedor datEmissaoMes  \\\n",
              "104294                             TELEFONICA BRASIL S.A.             2   \n",
              "104405                        TELEFÔNICA BRASIL S.A. VIVO             7   \n",
              "104290                             TELEFONICA BRASIL S.A.             1   \n",
              "103628                             TAM LINHAS AEREAS S/A.             2   \n",
              "103442     T2 COMUNICACAO, VIDEO E PRODUCOES EIRELI - EPP            12   \n",
              "104295                             TELEFONICA BRASIL S.A.             3   \n",
              "47397                   GP COBERTURA JORNALISTICA LTDA ME            12   \n",
              "73513                              PANTANAL VEÍCULOS LTDA             8   \n",
              "73505                              PANTANAL VEÍCULOS LTDA            11   \n",
              "6725                          ARTGRAFICA PREMIO LTDA - ME            12   \n",
              "104404                        TELEFÔNICA BRASIL S.A. VIVO             6   \n",
              "73506                              PANTANAL VEÍCULOS LTDA            12   \n",
              "73512                              PANTANAL VEÍCULOS LTDA             7   \n",
              "103446     T2 COMUNICACAO, VIDEO E PRODUCOES EIRELI - EPP             5   \n",
              "47139           GOLD CAR BRASILIA LOCADORA DE VEICULOS ME            10   \n",
              "73511                              PANTANAL VEÍCULOS LTDA             6   \n",
              "107912  VERTICE - SOCIEDADE CIVIL DE PROFISSIONAIS ASS...            12   \n",
              "73509                              PANTANAL VEÍCULOS LTDA             4   \n",
              "107914  VERTICE - SOCIEDADE CIVIL DE PROFISSIONAIS ASS...             3   \n",
              "73504                              PANTANAL VEÍCULOS LTDA            10   \n",
              "\n",
              "        vlrLiquido  \n",
              "104294   378425.95  \n",
              "104405   349674.79  \n",
              "104290   347164.39  \n",
              "103628   292252.32  \n",
              "103442   289454.00  \n",
              "104295   274317.88  \n",
              "47397    271500.00  \n",
              "73513    269592.00  \n",
              "73505    267989.86  \n",
              "6725     261001.20  \n",
              "104404   256429.75  \n",
              "73506    248035.32  \n",
              "73512    242530.00  \n",
              "103446   238640.00  \n",
              "47139    235710.00  \n",
              "73511    230424.00  \n",
              "107912   226167.00  \n",
              "73509    223583.32  \n",
              "107914   221800.00  \n",
              "73504    217544.36  "
            ]
          },
          "execution_count": 51,
          "metadata": {},
          "output_type": "execute_result"
        }
      ],
      "source": [
        "df_final.groupby([\"txtFornecedor\", \"datEmissaoMes\"], as_index=False) \\\n",
        "    .agg({\"vlrLiquido\": np.nansum})\\\n",
        "    .sort_values(by=\"vlrLiquido\", ascending=False)[0:20]"
      ]
    },
    {
      "cell_type": "code",
      "execution_count": 52,
      "id": "e1526811",
      "metadata": {
        "id": "e1526811"
      },
      "outputs": [],
      "source": [
        "df_final[\"datEmissaoMes\"] = df_final.datEmissao.apply(lambda x: f\"{x.month}/{x.year}\")"
      ]
    },
    {
      "cell_type": "code",
      "execution_count": 53,
      "id": "c37b4617",
      "metadata": {
        "colab": {
          "base_uri": "https://localhost:8080/",
          "height": 676
        },
        "id": "c37b4617",
        "outputId": "903e75ff-1b22-4bd5-8122-fc7d1834544a"
      },
      "outputs": [
        {
          "data": {
            "text/html": [
              "<div>\n",
              "<style scoped>\n",
              "    .dataframe tbody tr th:only-of-type {\n",
              "        vertical-align: middle;\n",
              "    }\n",
              "\n",
              "    .dataframe tbody tr th {\n",
              "        vertical-align: top;\n",
              "    }\n",
              "\n",
              "    .dataframe thead th {\n",
              "        text-align: right;\n",
              "    }\n",
              "</style>\n",
              "<table border=\"1\" class=\"dataframe\">\n",
              "  <thead>\n",
              "    <tr style=\"text-align: right;\">\n",
              "      <th></th>\n",
              "      <th>txtFornecedor</th>\n",
              "      <th>datEmissaoMes</th>\n",
              "      <th>vlrLiquido</th>\n",
              "    </tr>\n",
              "  </thead>\n",
              "  <tbody>\n",
              "    <tr>\n",
              "      <th>119464</th>\n",
              "      <td>TELEFONICA BRASIL S.A.</td>\n",
              "      <td>2/2018</td>\n",
              "      <td>344227.13</td>\n",
              "    </tr>\n",
              "    <tr>\n",
              "      <th>119454</th>\n",
              "      <td>TELEFONICA BRASIL S.A.</td>\n",
              "      <td>1/2018</td>\n",
              "      <td>283497.72</td>\n",
              "    </tr>\n",
              "    <tr>\n",
              "      <th>83891</th>\n",
              "      <td>PANTANAL VEÍCULOS LTDA</td>\n",
              "      <td>11/2019</td>\n",
              "      <td>247992.99</td>\n",
              "    </tr>\n",
              "    <tr>\n",
              "      <th>83905</th>\n",
              "      <td>PANTANAL VEÍCULOS LTDA</td>\n",
              "      <td>8/2019</td>\n",
              "      <td>243592.00</td>\n",
              "    </tr>\n",
              "    <tr>\n",
              "      <th>118666</th>\n",
              "      <td>TAM LINHAS AEREAS S/A.</td>\n",
              "      <td>2/2019</td>\n",
              "      <td>237116.44</td>\n",
              "    </tr>\n",
              "    <tr>\n",
              "      <th>54223</th>\n",
              "      <td>GOLD CAR BRASILIA LOCADORA DE VEICULOS ME</td>\n",
              "      <td>10/2019</td>\n",
              "      <td>235710.00</td>\n",
              "    </tr>\n",
              "    <tr>\n",
              "      <th>119467</th>\n",
              "      <td>TELEFONICA BRASIL S.A.</td>\n",
              "      <td>3/2018</td>\n",
              "      <td>235048.26</td>\n",
              "    </tr>\n",
              "    <tr>\n",
              "      <th>54517</th>\n",
              "      <td>GP COBERTURA JORNALISTICA LTDA ME</td>\n",
              "      <td>12/2018</td>\n",
              "      <td>222500.00</td>\n",
              "    </tr>\n",
              "    <tr>\n",
              "      <th>83903</th>\n",
              "      <td>PANTANAL VEÍCULOS LTDA</td>\n",
              "      <td>7/2019</td>\n",
              "      <td>214830.00</td>\n",
              "    </tr>\n",
              "    <tr>\n",
              "      <th>83901</th>\n",
              "      <td>PANTANAL VEÍCULOS LTDA</td>\n",
              "      <td>6/2019</td>\n",
              "      <td>212976.00</td>\n",
              "    </tr>\n",
              "    <tr>\n",
              "      <th>83897</th>\n",
              "      <td>PANTANAL VEÍCULOS LTDA</td>\n",
              "      <td>4/2019</td>\n",
              "      <td>212583.32</td>\n",
              "    </tr>\n",
              "    <tr>\n",
              "      <th>83893</th>\n",
              "      <td>PANTANAL VEÍCULOS LTDA</td>\n",
              "      <td>12/2019</td>\n",
              "      <td>210218.66</td>\n",
              "    </tr>\n",
              "    <tr>\n",
              "      <th>119633</th>\n",
              "      <td>TELEFÔNICA BRASIL S.A. VIVO</td>\n",
              "      <td>7/2018</td>\n",
              "      <td>208554.71</td>\n",
              "    </tr>\n",
              "    <tr>\n",
              "      <th>83899</th>\n",
              "      <td>PANTANAL VEÍCULOS LTDA</td>\n",
              "      <td>5/2019</td>\n",
              "      <td>200755.80</td>\n",
              "    </tr>\n",
              "    <tr>\n",
              "      <th>119492</th>\n",
              "      <td>TELEFONICA BRASIL S.A. VIVO</td>\n",
              "      <td>10/2018</td>\n",
              "      <td>200051.51</td>\n",
              "    </tr>\n",
              "    <tr>\n",
              "      <th>42030</th>\n",
              "      <td>DMD Gestão Administrativa LTDA - ME</td>\n",
              "      <td>12/2019</td>\n",
              "      <td>192000.00</td>\n",
              "    </tr>\n",
              "    <tr>\n",
              "      <th>83907</th>\n",
              "      <td>PANTANAL VEÍCULOS LTDA</td>\n",
              "      <td>9/2019</td>\n",
              "      <td>191378.06</td>\n",
              "    </tr>\n",
              "    <tr>\n",
              "      <th>118451</th>\n",
              "      <td>T2 COMUNICACAO, VIDEO E PRODUCOES EIRELI - EPP</td>\n",
              "      <td>12/2018</td>\n",
              "      <td>188500.00</td>\n",
              "    </tr>\n",
              "    <tr>\n",
              "      <th>83889</th>\n",
              "      <td>PANTANAL VEÍCULOS LTDA</td>\n",
              "      <td>10/2019</td>\n",
              "      <td>185994.36</td>\n",
              "    </tr>\n",
              "    <tr>\n",
              "      <th>118676</th>\n",
              "      <td>TAM LINHAS AEREAS S/A.</td>\n",
              "      <td>7/2019</td>\n",
              "      <td>174720.95</td>\n",
              "    </tr>\n",
              "  </tbody>\n",
              "</table>\n",
              "</div>"
            ],
            "text/plain": [
              "                                         txtFornecedor datEmissaoMes  \\\n",
              "119464                          TELEFONICA BRASIL S.A.        2/2018   \n",
              "119454                          TELEFONICA BRASIL S.A.        1/2018   \n",
              "83891                           PANTANAL VEÍCULOS LTDA       11/2019   \n",
              "83905                           PANTANAL VEÍCULOS LTDA        8/2019   \n",
              "118666                          TAM LINHAS AEREAS S/A.        2/2019   \n",
              "54223        GOLD CAR BRASILIA LOCADORA DE VEICULOS ME       10/2019   \n",
              "119467                          TELEFONICA BRASIL S.A.        3/2018   \n",
              "54517                GP COBERTURA JORNALISTICA LTDA ME       12/2018   \n",
              "83903                           PANTANAL VEÍCULOS LTDA        7/2019   \n",
              "83901                           PANTANAL VEÍCULOS LTDA        6/2019   \n",
              "83897                           PANTANAL VEÍCULOS LTDA        4/2019   \n",
              "83893                           PANTANAL VEÍCULOS LTDA       12/2019   \n",
              "119633                     TELEFÔNICA BRASIL S.A. VIVO        7/2018   \n",
              "83899                           PANTANAL VEÍCULOS LTDA        5/2019   \n",
              "119492                     TELEFONICA BRASIL S.A. VIVO       10/2018   \n",
              "42030              DMD Gestão Administrativa LTDA - ME       12/2019   \n",
              "83907                           PANTANAL VEÍCULOS LTDA        9/2019   \n",
              "118451  T2 COMUNICACAO, VIDEO E PRODUCOES EIRELI - EPP       12/2018   \n",
              "83889                           PANTANAL VEÍCULOS LTDA       10/2019   \n",
              "118676                          TAM LINHAS AEREAS S/A.        7/2019   \n",
              "\n",
              "        vlrLiquido  \n",
              "119464   344227.13  \n",
              "119454   283497.72  \n",
              "83891    247992.99  \n",
              "83905    243592.00  \n",
              "118666   237116.44  \n",
              "54223    235710.00  \n",
              "119467   235048.26  \n",
              "54517    222500.00  \n",
              "83903    214830.00  \n",
              "83901    212976.00  \n",
              "83897    212583.32  \n",
              "83893    210218.66  \n",
              "119633   208554.71  \n",
              "83899    200755.80  \n",
              "119492   200051.51  \n",
              "42030    192000.00  \n",
              "83907    191378.06  \n",
              "118451   188500.00  \n",
              "83889    185994.36  \n",
              "118676   174720.95  "
            ]
          },
          "execution_count": 53,
          "metadata": {},
          "output_type": "execute_result"
        }
      ],
      "source": [
        "df_final.groupby([\"txtFornecedor\", \"datEmissaoMes\"], as_index=False) \\\n",
        "    .agg({\"vlrLiquido\": np.nansum})\\\n",
        "    .sort_values(by=\"vlrLiquido\", ascending=False)[0:20]"
      ]
    },
    {
      "cell_type": "code",
      "execution_count": 54,
      "id": "3f6dcd99",
      "metadata": {
        "colab": {
          "base_uri": "https://localhost:8080/",
          "height": 363
        },
        "id": "3f6dcd99",
        "outputId": "e7d746e7-172a-4669-dffa-0a313e0792b0"
      },
      "outputs": [
        {
          "data": {
            "text/html": [
              "<div>\n",
              "<style scoped>\n",
              "    .dataframe tbody tr th:only-of-type {\n",
              "        vertical-align: middle;\n",
              "    }\n",
              "\n",
              "    .dataframe tbody tr th {\n",
              "        vertical-align: top;\n",
              "    }\n",
              "\n",
              "    .dataframe thead th {\n",
              "        text-align: right;\n",
              "    }\n",
              "</style>\n",
              "<table border=\"1\" class=\"dataframe\">\n",
              "  <thead>\n",
              "    <tr style=\"text-align: right;\">\n",
              "      <th></th>\n",
              "      <th>txNomeParlamentar</th>\n",
              "      <th>vlrLiquido</th>\n",
              "    </tr>\n",
              "  </thead>\n",
              "  <tbody>\n",
              "    <tr>\n",
              "      <th>769</th>\n",
              "      <td>Shéridan</td>\n",
              "      <td>941239.70</td>\n",
              "    </tr>\n",
              "    <tr>\n",
              "      <th>409</th>\n",
              "      <td>Jhonatan de Jesus</td>\n",
              "      <td>893969.71</td>\n",
              "    </tr>\n",
              "    <tr>\n",
              "      <th>204</th>\n",
              "      <td>Delegado Éder Mauro</td>\n",
              "      <td>875471.82</td>\n",
              "    </tr>\n",
              "    <tr>\n",
              "      <th>721</th>\n",
              "      <td>Ricardo Teobaldo</td>\n",
              "      <td>865149.94</td>\n",
              "    </tr>\n",
              "    <tr>\n",
              "      <th>819</th>\n",
              "      <td>Vicentinho Júnior</td>\n",
              "      <td>856841.69</td>\n",
              "    </tr>\n",
              "    <tr>\n",
              "      <th>353</th>\n",
              "      <td>Hiran Gonçalves</td>\n",
              "      <td>853659.88</td>\n",
              "    </tr>\n",
              "    <tr>\n",
              "      <th>429</th>\n",
              "      <td>João Daniel</td>\n",
              "      <td>839160.41</td>\n",
              "    </tr>\n",
              "    <tr>\n",
              "      <th>173</th>\n",
              "      <td>Célio Silveira</td>\n",
              "      <td>834816.93</td>\n",
              "    </tr>\n",
              "    <tr>\n",
              "      <th>185</th>\n",
              "      <td>Dagoberto Nogueira</td>\n",
              "      <td>830766.57</td>\n",
              "    </tr>\n",
              "    <tr>\n",
              "      <th>64</th>\n",
              "      <td>André Abdon</td>\n",
              "      <td>825137.69</td>\n",
              "    </tr>\n",
              "  </tbody>\n",
              "</table>\n",
              "</div>"
            ],
            "text/plain": [
              "       txNomeParlamentar  vlrLiquido\n",
              "769             Shéridan   941239.70\n",
              "409    Jhonatan de Jesus   893969.71\n",
              "204  Delegado Éder Mauro   875471.82\n",
              "721     Ricardo Teobaldo   865149.94\n",
              "819    Vicentinho Júnior   856841.69\n",
              "353      Hiran Gonçalves   853659.88\n",
              "429          João Daniel   839160.41\n",
              "173       Célio Silveira   834816.93\n",
              "185   Dagoberto Nogueira   830766.57\n",
              "64           André Abdon   825137.69"
            ]
          },
          "execution_count": 54,
          "metadata": {},
          "output_type": "execute_result"
        }
      ],
      "source": [
        "df_final.groupby([\"txNomeParlamentar\"], as_index=False) \\\n",
        "    .agg({\"vlrLiquido\": np.nansum})\\\n",
        "    .sort_values(by=\"vlrLiquido\", ascending=False)[0:10]"
      ]
    },
    {
      "cell_type": "code",
      "execution_count": 55,
      "id": "a5db04f8",
      "metadata": {
        "colab": {
          "base_uri": "https://localhost:8080/",
          "height": 363
        },
        "id": "a5db04f8",
        "outputId": "dbc7ad50-54e1-43fd-c8e2-7d9b72bef969"
      },
      "outputs": [
        {
          "data": {
            "text/html": [
              "<div>\n",
              "<style scoped>\n",
              "    .dataframe tbody tr th:only-of-type {\n",
              "        vertical-align: middle;\n",
              "    }\n",
              "\n",
              "    .dataframe tbody tr th {\n",
              "        vertical-align: top;\n",
              "    }\n",
              "\n",
              "    .dataframe thead th {\n",
              "        text-align: right;\n",
              "    }\n",
              "</style>\n",
              "<table border=\"1\" class=\"dataframe\">\n",
              "  <thead>\n",
              "    <tr style=\"text-align: right;\">\n",
              "      <th></th>\n",
              "      <th>sgPartido</th>\n",
              "      <th>sgUF</th>\n",
              "      <th>vlrLiquido</th>\n",
              "    </tr>\n",
              "  </thead>\n",
              "  <tbody>\n",
              "    <tr>\n",
              "      <th>268</th>\n",
              "      <td>PSDB</td>\n",
              "      <td>SP</td>\n",
              "      <td>5592984.73</td>\n",
              "    </tr>\n",
              "    <tr>\n",
              "      <th>301</th>\n",
              "      <td>PT</td>\n",
              "      <td>SP</td>\n",
              "      <td>5450865.98</td>\n",
              "    </tr>\n",
              "    <tr>\n",
              "      <th>288</th>\n",
              "      <td>PT</td>\n",
              "      <td>MG</td>\n",
              "      <td>4524561.09</td>\n",
              "    </tr>\n",
              "    <tr>\n",
              "      <th>282</th>\n",
              "      <td>PT</td>\n",
              "      <td>BA</td>\n",
              "      <td>4467872.90</td>\n",
              "    </tr>\n",
              "    <tr>\n",
              "      <th>346</th>\n",
              "      <td>REPUBLICANOS</td>\n",
              "      <td>SP</td>\n",
              "      <td>4419128.10</td>\n",
              "    </tr>\n",
              "    <tr>\n",
              "      <th>110</th>\n",
              "      <td>PL</td>\n",
              "      <td>SP</td>\n",
              "      <td>4334978.51</td>\n",
              "    </tr>\n",
              "    <tr>\n",
              "      <th>298</th>\n",
              "      <td>PT</td>\n",
              "      <td>RS</td>\n",
              "      <td>4210956.49</td>\n",
              "    </tr>\n",
              "    <tr>\n",
              "      <th>137</th>\n",
              "      <td>PP</td>\n",
              "      <td>MG</td>\n",
              "      <td>4105300.94</td>\n",
              "    </tr>\n",
              "    <tr>\n",
              "      <th>144</th>\n",
              "      <td>PP</td>\n",
              "      <td>PR</td>\n",
              "      <td>4059069.35</td>\n",
              "    </tr>\n",
              "    <tr>\n",
              "      <th>239</th>\n",
              "      <td>PSD</td>\n",
              "      <td>RJ</td>\n",
              "      <td>3522786.45</td>\n",
              "    </tr>\n",
              "  </tbody>\n",
              "</table>\n",
              "</div>"
            ],
            "text/plain": [
              "        sgPartido sgUF  vlrLiquido\n",
              "268          PSDB   SP  5592984.73\n",
              "301            PT   SP  5450865.98\n",
              "288            PT   MG  4524561.09\n",
              "282            PT   BA  4467872.90\n",
              "346  REPUBLICANOS   SP  4419128.10\n",
              "110            PL   SP  4334978.51\n",
              "298            PT   RS  4210956.49\n",
              "137            PP   MG  4105300.94\n",
              "144            PP   PR  4059069.35\n",
              "239           PSD   RJ  3522786.45"
            ]
          },
          "execution_count": 55,
          "metadata": {},
          "output_type": "execute_result"
        }
      ],
      "source": [
        "df_final.groupby([\"sgPartido\", \"sgUF\"], as_index=False) \\\n",
        "    .agg({\"vlrLiquido\": np.nansum})\\\n",
        "    .sort_values(by=\"vlrLiquido\", ascending=False)[0:10]"
      ]
    },
    {
      "cell_type": "code",
      "execution_count": 51,
      "id": "d270e6f7",
      "metadata": {
        "id": "d270e6f7"
      },
      "outputs": [],
      "source": []
    }
  ],
  "metadata": {
    "colab": {
      "provenance": []
    },
    "kernelspec": {
      "display_name": "Python 3 (ipykernel)",
      "language": "python",
      "name": "python3"
    },
    "language_info": {
      "codemirror_mode": {
        "name": "ipython",
        "version": 3
      },
      "file_extension": ".py",
      "mimetype": "text/x-python",
      "name": "python",
      "nbconvert_exporter": "python",
      "pygments_lexer": "ipython3",
      "version": "3.11.4"
    },
    "toc": {
      "base_numbering": 1,
      "nav_menu": {},
      "number_sections": true,
      "sideBar": true,
      "skip_h1_title": false,
      "title_cell": "Table of Contents",
      "title_sidebar": "Contents",
      "toc_cell": false,
      "toc_position": {
        "height": "calc(100% - 180px)",
        "left": "10px",
        "top": "150px",
        "width": "165px"
      },
      "toc_section_display": true,
      "toc_window_display": true
    }
  },
  "nbformat": 4,
  "nbformat_minor": 5
}
