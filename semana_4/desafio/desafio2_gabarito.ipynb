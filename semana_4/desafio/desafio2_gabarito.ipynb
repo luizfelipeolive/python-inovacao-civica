{
  "cells": [
    {
      "cell_type": "markdown",
      "id": "3fa47b5e",
      "metadata": {
        "id": "3fa47b5e"
      },
      "source": [
        "# Desafio 2\n",
        "\n",
        "Escolha a página do wikipédia relacionada a lista de parlamentares do seu estado e extraia as tabelas existentes na página."
      ]
    },
    {
      "cell_type": "markdown",
      "id": "1e14669d",
      "metadata": {},
      "source": [
        "Atenção para quando existiram caracteres especiais na URL. Neste caso, como estou tentando São Paulo, o ~ tem uma codificação especial que não aparece na url original. Para conversões de caracteres especiais ver: https://www.w3schools.com/tags/ref_urlencode.ASP , na parte URL ENCODING FUNCTIONS"
      ]
    },
    {
      "cell_type": "code",
      "execution_count": 123,
      "id": "yhZxy6cIllwL",
      "metadata": {
        "id": "yhZxy6cIllwL"
      },
      "outputs": [],
      "source": [
        "import pandas as pd\n",
        "\n",
        "url = (\n",
        "  \"https://pt.wikipedia.org/wiki/Lista_de_parlamentares_de_S%C3%A3o_Paulo\"\n",
        ")\n",
        "\n",
        "tables = pd.read_html(url)"
      ]
    },
    {
      "cell_type": "markdown",
      "id": "db63e93d",
      "metadata": {
        "id": "db63e93d"
      },
      "source": [
        "## Quantas tabelas existem na página?"
      ]
    },
    {
      "cell_type": "code",
      "execution_count": 124,
      "id": "74363a0c",
      "metadata": {
        "colab": {
          "base_uri": "https://localhost:8080/"
        },
        "id": "74363a0c",
        "outputId": "81c985d0-072b-4ceb-a403-b12927ea0ee4"
      },
      "outputs": [
        {
          "data": {
            "text/plain": [
              "4"
            ]
          },
          "execution_count": 124,
          "metadata": {},
          "output_type": "execute_result"
        }
      ],
      "source": [
        "len(tables)"
      ]
    },
    {
      "cell_type": "code",
      "execution_count": 125,
      "id": "WFQGnLSTmFh_",
      "metadata": {
        "colab": {
          "base_uri": "https://localhost:8080/"
        },
        "id": "WFQGnLSTmFh_",
        "outputId": "53dcc80f-cbf3-4a92-957a-54db1ced44b4"
      },
      "outputs": [
        {
          "name": "stdout",
          "output_type": "stream",
          "text": [
            "Tabela 0\n",
            "<class 'pandas.core.frame.DataFrame'>\n",
            "RangeIndex: 25 entries, 0 to 24\n",
            "Data columns (total 5 columns):\n",
            " #   Column             Non-Null Count  Dtype \n",
            "---  ------             --------------  ----- \n",
            " 0   Senadores eleitos  25 non-null     object\n",
            " 1   Naturalidade       25 non-null     object\n",
            " 2   Mandatos           25 non-null     object\n",
            " 3   Ano da eleição     25 non-null     object\n",
            " 4   Notas              12 non-null     object\n",
            "dtypes: object(5)\n",
            "memory usage: 1.1+ KB\n",
            "None\n",
            "\n",
            "\n",
            "Tabela 1\n",
            "<class 'pandas.core.frame.DataFrame'>\n",
            "RangeIndex: 580 entries, 0 to 579\n",
            "Data columns (total 5 columns):\n",
            " #   Column                      Non-Null Count  Dtype \n",
            "---  ------                      --------------  ----- \n",
            " 0   Deputados federais eleitos  580 non-null    object\n",
            " 1   Naturalidade ou base        580 non-null    object\n",
            " 2   Mandatos                    580 non-null    object\n",
            " 3   Ano da eleição              580 non-null    object\n",
            " 4   Notas                       53 non-null     object\n",
            "dtypes: object(5)\n",
            "memory usage: 22.8+ KB\n",
            "None\n",
            "\n",
            "\n",
            "Tabela 2\n",
            "<class 'pandas.core.frame.DataFrame'>\n",
            "RangeIndex: 2 entries, 0 to 1\n",
            "Data columns (total 3 columns):\n",
            " #   Column                                 Non-Null Count  Dtype \n",
            "---  ------                                 --------------  ----- \n",
            " 0   vde Eleições estaduais em São Paulo    2 non-null      object\n",
            " 1   vde Eleições estaduais em São Paulo.1  2 non-null      object\n",
            " 2   vde Eleições estaduais em São Paulo.2  1 non-null      object\n",
            "dtypes: object(3)\n",
            "memory usage: 180.0+ bytes\n",
            "None\n",
            "\n",
            "\n",
            "Tabela 3\n",
            "<class 'pandas.core.frame.DataFrame'>\n",
            "RangeIndex: 1 entries, 0 to 0\n",
            "Data columns (total 2 columns):\n",
            " #   Column                                                         Non-Null Count  Dtype \n",
            "---  ------                                                         --------------  ----- \n",
            " 0   vdeParlamentares do Congresso Nacional do Brasil por estado    1 non-null      object\n",
            " 1   vdeParlamentares do Congresso Nacional do Brasil por estado.1  1 non-null      object\n",
            "dtypes: object(2)\n",
            "memory usage: 148.0+ bytes\n",
            "None\n",
            "\n",
            "\n"
          ]
        }
      ],
      "source": [
        "for id, table in enumerate(tables):\n",
        "    print(f\"Tabela {id}\")\n",
        "    print(table.info())\n",
        "    print(\"\\n\")"
      ]
    },
    {
      "cell_type": "markdown",
      "id": "79e2ce18",
      "metadata": {
        "id": "79e2ce18"
      },
      "source": [
        "## Qual o total de senadores já eleitos no seu estado?"
      ]
    },
    {
      "cell_type": "code",
      "execution_count": 126,
      "id": "dcec24d2",
      "metadata": {
        "colab": {
          "base_uri": "https://localhost:8080/",
          "height": 833
        },
        "id": "dcec24d2",
        "outputId": "11e5b99e-6888-4bd2-820c-ceecaaba7d32"
      },
      "outputs": [
        {
          "data": {
            "text/html": [
              "<div>\n",
              "<style scoped>\n",
              "    .dataframe tbody tr th:only-of-type {\n",
              "        vertical-align: middle;\n",
              "    }\n",
              "\n",
              "    .dataframe tbody tr th {\n",
              "        vertical-align: top;\n",
              "    }\n",
              "\n",
              "    .dataframe thead th {\n",
              "        text-align: right;\n",
              "    }\n",
              "</style>\n",
              "<table border=\"1\" class=\"dataframe\">\n",
              "  <thead>\n",
              "    <tr style=\"text-align: right;\">\n",
              "      <th></th>\n",
              "      <th>Senadores eleitos</th>\n",
              "      <th>Naturalidade</th>\n",
              "      <th>Mandatos</th>\n",
              "      <th>Ano da eleição</th>\n",
              "      <th>Notas</th>\n",
              "    </tr>\n",
              "  </thead>\n",
              "  <tbody>\n",
              "    <tr>\n",
              "      <th>0</th>\n",
              "      <td>Eduardo Suplicy</td>\n",
              "      <td>São Paulo, SP</td>\n",
              "      <td>03</td>\n",
              "      <td>1990, 1998, 2006</td>\n",
              "      <td>NaN</td>\n",
              "    </tr>\n",
              "    <tr>\n",
              "      <th>1</th>\n",
              "      <td>Auro de Moura Andrade</td>\n",
              "      <td>Barretos, SP</td>\n",
              "      <td>02</td>\n",
              "      <td>1954, 1962</td>\n",
              "      <td>NaN</td>\n",
              "    </tr>\n",
              "    <tr>\n",
              "      <th>2</th>\n",
              "      <td>Lino de Matos</td>\n",
              "      <td>Ipaussu, SP</td>\n",
              "      <td>02</td>\n",
              "      <td>1954, 1962</td>\n",
              "      <td>[nota 1]</td>\n",
              "    </tr>\n",
              "    <tr>\n",
              "      <th>3</th>\n",
              "      <td>Franco Montoro</td>\n",
              "      <td>São Paulo, SP</td>\n",
              "      <td>02</td>\n",
              "      <td>1970, 1978</td>\n",
              "      <td>[nota 2]</td>\n",
              "    </tr>\n",
              "    <tr>\n",
              "      <th>4</th>\n",
              "      <td>Romeu Tuma</td>\n",
              "      <td>São Paulo, SP</td>\n",
              "      <td>02</td>\n",
              "      <td>1994, 2002</td>\n",
              "      <td>[nota 3]</td>\n",
              "    </tr>\n",
              "    <tr>\n",
              "      <th>5</th>\n",
              "      <td>José Serra</td>\n",
              "      <td>São Paulo, SP</td>\n",
              "      <td>02</td>\n",
              "      <td>1994, 2014</td>\n",
              "      <td>NaN</td>\n",
              "    </tr>\n",
              "    <tr>\n",
              "      <th>6</th>\n",
              "      <td>Marcondes Filho</td>\n",
              "      <td>São Paulo, SP</td>\n",
              "      <td>01</td>\n",
              "      <td>1945</td>\n",
              "      <td>NaN</td>\n",
              "    </tr>\n",
              "    <tr>\n",
              "      <th>7</th>\n",
              "      <td>Euclides Vieira</td>\n",
              "      <td>Itapira, SP</td>\n",
              "      <td>01</td>\n",
              "      <td>1947</td>\n",
              "      <td>[nota 4]</td>\n",
              "    </tr>\n",
              "    <tr>\n",
              "      <th>8</th>\n",
              "      <td>Roberto Simonsen</td>\n",
              "      <td>Santos, SP</td>\n",
              "      <td>01</td>\n",
              "      <td>1947</td>\n",
              "      <td>[nota 5]</td>\n",
              "    </tr>\n",
              "    <tr>\n",
              "      <th>9</th>\n",
              "      <td>César Vergueiro</td>\n",
              "      <td>Santos, SP</td>\n",
              "      <td>01</td>\n",
              "      <td>1950</td>\n",
              "      <td>[nota 6]</td>\n",
              "    </tr>\n",
              "    <tr>\n",
              "      <th>10</th>\n",
              "      <td>Benedito Calazans</td>\n",
              "      <td>Paraibuna, SP</td>\n",
              "      <td>01</td>\n",
              "      <td>1958</td>\n",
              "      <td>NaN</td>\n",
              "    </tr>\n",
              "    <tr>\n",
              "      <th>11</th>\n",
              "      <td>Carvalho Pinto</td>\n",
              "      <td>São Paulo, SP</td>\n",
              "      <td>01</td>\n",
              "      <td>1966</td>\n",
              "      <td>NaN</td>\n",
              "    </tr>\n",
              "    <tr>\n",
              "      <th>12</th>\n",
              "      <td>Orlando Zancaner</td>\n",
              "      <td>Catiguá, SP</td>\n",
              "      <td>01</td>\n",
              "      <td>1970</td>\n",
              "      <td>[nota 7]</td>\n",
              "    </tr>\n",
              "    <tr>\n",
              "      <th>13</th>\n",
              "      <td>Orestes Quércia</td>\n",
              "      <td>Pedregulho, SP</td>\n",
              "      <td>01</td>\n",
              "      <td>1974</td>\n",
              "      <td>NaN</td>\n",
              "    </tr>\n",
              "    <tr>\n",
              "      <th>14</th>\n",
              "      <td>Amaral Furlan</td>\n",
              "      <td>Sertãozinho, SP</td>\n",
              "      <td>01</td>\n",
              "      <td>1978</td>\n",
              "      <td>[nota 8]</td>\n",
              "    </tr>\n",
              "    <tr>\n",
              "      <th>15</th>\n",
              "      <td>Severo Gomes</td>\n",
              "      <td>São Paulo, SP</td>\n",
              "      <td>01</td>\n",
              "      <td>1982</td>\n",
              "      <td>NaN</td>\n",
              "    </tr>\n",
              "    <tr>\n",
              "      <th>16</th>\n",
              "      <td>Fernando Henrique Cardoso</td>\n",
              "      <td>Rio de Janeiro, RJ</td>\n",
              "      <td>01</td>\n",
              "      <td>1986</td>\n",
              "      <td>[nota 9]</td>\n",
              "    </tr>\n",
              "    <tr>\n",
              "      <th>17</th>\n",
              "      <td>Mário Covas</td>\n",
              "      <td>Santos, SP</td>\n",
              "      <td>01</td>\n",
              "      <td>1986</td>\n",
              "      <td>[nota 10]</td>\n",
              "    </tr>\n",
              "    <tr>\n",
              "      <th>18</th>\n",
              "      <td>Aloizio Mercadante</td>\n",
              "      <td>Santos, SP</td>\n",
              "      <td>01</td>\n",
              "      <td>2002</td>\n",
              "      <td>NaN</td>\n",
              "    </tr>\n",
              "    <tr>\n",
              "      <th>19</th>\n",
              "      <td>Aloysio Nunes</td>\n",
              "      <td>São José do Rio Preto, SP</td>\n",
              "      <td>01</td>\n",
              "      <td>2010</td>\n",
              "      <td>NaN</td>\n",
              "    </tr>\n",
              "    <tr>\n",
              "      <th>20</th>\n",
              "      <td>Marta Suplicy</td>\n",
              "      <td>São Paulo, SP</td>\n",
              "      <td>01</td>\n",
              "      <td>2010</td>\n",
              "      <td>NaN</td>\n",
              "    </tr>\n",
              "    <tr>\n",
              "      <th>21</th>\n",
              "      <td>Major Olímpio</td>\n",
              "      <td>Presidente Venceslau, SP</td>\n",
              "      <td>01</td>\n",
              "      <td>2018</td>\n",
              "      <td>[nota 11]</td>\n",
              "    </tr>\n",
              "    <tr>\n",
              "      <th>22</th>\n",
              "      <td>Mara Gabrilli</td>\n",
              "      <td>São Paulo, SP</td>\n",
              "      <td>01</td>\n",
              "      <td>2018</td>\n",
              "      <td>NaN</td>\n",
              "    </tr>\n",
              "    <tr>\n",
              "      <th>23</th>\n",
              "      <td>Marcos Pontes</td>\n",
              "      <td>Bauru, SP</td>\n",
              "      <td>01</td>\n",
              "      <td>2022</td>\n",
              "      <td>NaN</td>\n",
              "    </tr>\n",
              "    <tr>\n",
              "      <th>24</th>\n",
              "      <td>Fonte:[1][3]</td>\n",
              "      <td>Fonte:[1][3]</td>\n",
              "      <td>Fonte:[1][3]</td>\n",
              "      <td>Fonte:[1][3]</td>\n",
              "      <td>Fonte:[1][3]</td>\n",
              "    </tr>\n",
              "  </tbody>\n",
              "</table>\n",
              "</div>"
            ],
            "text/plain": [
              "            Senadores eleitos               Naturalidade      Mandatos  \\\n",
              "0             Eduardo Suplicy              São Paulo, SP            03   \n",
              "1       Auro de Moura Andrade               Barretos, SP            02   \n",
              "2               Lino de Matos                Ipaussu, SP            02   \n",
              "3              Franco Montoro              São Paulo, SP            02   \n",
              "4                  Romeu Tuma              São Paulo, SP            02   \n",
              "5                  José Serra              São Paulo, SP            02   \n",
              "6             Marcondes Filho              São Paulo, SP            01   \n",
              "7             Euclides Vieira                Itapira, SP            01   \n",
              "8            Roberto Simonsen                 Santos, SP            01   \n",
              "9             César Vergueiro                 Santos, SP            01   \n",
              "10          Benedito Calazans              Paraibuna, SP            01   \n",
              "11             Carvalho Pinto              São Paulo, SP            01   \n",
              "12           Orlando Zancaner                Catiguá, SP            01   \n",
              "13            Orestes Quércia             Pedregulho, SP            01   \n",
              "14              Amaral Furlan            Sertãozinho, SP            01   \n",
              "15               Severo Gomes              São Paulo, SP            01   \n",
              "16  Fernando Henrique Cardoso         Rio de Janeiro, RJ            01   \n",
              "17                Mário Covas                 Santos, SP            01   \n",
              "18         Aloizio Mercadante                 Santos, SP            01   \n",
              "19              Aloysio Nunes  São José do Rio Preto, SP            01   \n",
              "20              Marta Suplicy              São Paulo, SP            01   \n",
              "21              Major Olímpio   Presidente Venceslau, SP            01   \n",
              "22              Mara Gabrilli              São Paulo, SP            01   \n",
              "23              Marcos Pontes                  Bauru, SP            01   \n",
              "24               Fonte:[1][3]               Fonte:[1][3]  Fonte:[1][3]   \n",
              "\n",
              "      Ano da eleição         Notas  \n",
              "0   1990, 1998, 2006           NaN  \n",
              "1         1954, 1962           NaN  \n",
              "2         1954, 1962      [nota 1]  \n",
              "3         1970, 1978      [nota 2]  \n",
              "4         1994, 2002      [nota 3]  \n",
              "5         1994, 2014           NaN  \n",
              "6               1945           NaN  \n",
              "7               1947      [nota 4]  \n",
              "8               1947      [nota 5]  \n",
              "9               1950      [nota 6]  \n",
              "10              1958           NaN  \n",
              "11              1966           NaN  \n",
              "12              1970      [nota 7]  \n",
              "13              1974           NaN  \n",
              "14              1978      [nota 8]  \n",
              "15              1982           NaN  \n",
              "16              1986      [nota 9]  \n",
              "17              1986     [nota 10]  \n",
              "18              2002           NaN  \n",
              "19              2010           NaN  \n",
              "20              2010           NaN  \n",
              "21              2018     [nota 11]  \n",
              "22              2018           NaN  \n",
              "23              2022           NaN  \n",
              "24      Fonte:[1][3]  Fonte:[1][3]  "
            ]
          },
          "execution_count": 126,
          "metadata": {},
          "output_type": "execute_result"
        }
      ],
      "source": [
        "tb_senadores = tables[0]\n",
        "tb_senadores"
      ]
    },
    {
      "cell_type": "code",
      "execution_count": 127,
      "id": "49DKzp8JmrhL",
      "metadata": {
        "colab": {
          "base_uri": "https://localhost:8080/",
          "height": 802
        },
        "id": "49DKzp8JmrhL",
        "outputId": "ec5228bd-8578-43f2-81fa-e7bf83e8d34e"
      },
      "outputs": [
        {
          "data": {
            "text/html": [
              "<div>\n",
              "<style scoped>\n",
              "    .dataframe tbody tr th:only-of-type {\n",
              "        vertical-align: middle;\n",
              "    }\n",
              "\n",
              "    .dataframe tbody tr th {\n",
              "        vertical-align: top;\n",
              "    }\n",
              "\n",
              "    .dataframe thead th {\n",
              "        text-align: right;\n",
              "    }\n",
              "</style>\n",
              "<table border=\"1\" class=\"dataframe\">\n",
              "  <thead>\n",
              "    <tr style=\"text-align: right;\">\n",
              "      <th></th>\n",
              "      <th>Senadores eleitos</th>\n",
              "      <th>Naturalidade</th>\n",
              "      <th>Mandatos</th>\n",
              "      <th>Ano da eleição</th>\n",
              "      <th>Notas</th>\n",
              "    </tr>\n",
              "  </thead>\n",
              "  <tbody>\n",
              "    <tr>\n",
              "      <th>0</th>\n",
              "      <td>Eduardo Suplicy</td>\n",
              "      <td>São Paulo, SP</td>\n",
              "      <td>03</td>\n",
              "      <td>1990, 1998, 2006</td>\n",
              "      <td>NaN</td>\n",
              "    </tr>\n",
              "    <tr>\n",
              "      <th>1</th>\n",
              "      <td>Auro de Moura Andrade</td>\n",
              "      <td>Barretos, SP</td>\n",
              "      <td>02</td>\n",
              "      <td>1954, 1962</td>\n",
              "      <td>NaN</td>\n",
              "    </tr>\n",
              "    <tr>\n",
              "      <th>2</th>\n",
              "      <td>Lino de Matos</td>\n",
              "      <td>Ipaussu, SP</td>\n",
              "      <td>02</td>\n",
              "      <td>1954, 1962</td>\n",
              "      <td>[nota 1]</td>\n",
              "    </tr>\n",
              "    <tr>\n",
              "      <th>3</th>\n",
              "      <td>Franco Montoro</td>\n",
              "      <td>São Paulo, SP</td>\n",
              "      <td>02</td>\n",
              "      <td>1970, 1978</td>\n",
              "      <td>[nota 2]</td>\n",
              "    </tr>\n",
              "    <tr>\n",
              "      <th>4</th>\n",
              "      <td>Romeu Tuma</td>\n",
              "      <td>São Paulo, SP</td>\n",
              "      <td>02</td>\n",
              "      <td>1994, 2002</td>\n",
              "      <td>[nota 3]</td>\n",
              "    </tr>\n",
              "    <tr>\n",
              "      <th>5</th>\n",
              "      <td>José Serra</td>\n",
              "      <td>São Paulo, SP</td>\n",
              "      <td>02</td>\n",
              "      <td>1994, 2014</td>\n",
              "      <td>NaN</td>\n",
              "    </tr>\n",
              "    <tr>\n",
              "      <th>6</th>\n",
              "      <td>Marcondes Filho</td>\n",
              "      <td>São Paulo, SP</td>\n",
              "      <td>01</td>\n",
              "      <td>1945</td>\n",
              "      <td>NaN</td>\n",
              "    </tr>\n",
              "    <tr>\n",
              "      <th>7</th>\n",
              "      <td>Euclides Vieira</td>\n",
              "      <td>Itapira, SP</td>\n",
              "      <td>01</td>\n",
              "      <td>1947</td>\n",
              "      <td>[nota 4]</td>\n",
              "    </tr>\n",
              "    <tr>\n",
              "      <th>8</th>\n",
              "      <td>Roberto Simonsen</td>\n",
              "      <td>Santos, SP</td>\n",
              "      <td>01</td>\n",
              "      <td>1947</td>\n",
              "      <td>[nota 5]</td>\n",
              "    </tr>\n",
              "    <tr>\n",
              "      <th>9</th>\n",
              "      <td>César Vergueiro</td>\n",
              "      <td>Santos, SP</td>\n",
              "      <td>01</td>\n",
              "      <td>1950</td>\n",
              "      <td>[nota 6]</td>\n",
              "    </tr>\n",
              "    <tr>\n",
              "      <th>10</th>\n",
              "      <td>Benedito Calazans</td>\n",
              "      <td>Paraibuna, SP</td>\n",
              "      <td>01</td>\n",
              "      <td>1958</td>\n",
              "      <td>NaN</td>\n",
              "    </tr>\n",
              "    <tr>\n",
              "      <th>11</th>\n",
              "      <td>Carvalho Pinto</td>\n",
              "      <td>São Paulo, SP</td>\n",
              "      <td>01</td>\n",
              "      <td>1966</td>\n",
              "      <td>NaN</td>\n",
              "    </tr>\n",
              "    <tr>\n",
              "      <th>12</th>\n",
              "      <td>Orlando Zancaner</td>\n",
              "      <td>Catiguá, SP</td>\n",
              "      <td>01</td>\n",
              "      <td>1970</td>\n",
              "      <td>[nota 7]</td>\n",
              "    </tr>\n",
              "    <tr>\n",
              "      <th>13</th>\n",
              "      <td>Orestes Quércia</td>\n",
              "      <td>Pedregulho, SP</td>\n",
              "      <td>01</td>\n",
              "      <td>1974</td>\n",
              "      <td>NaN</td>\n",
              "    </tr>\n",
              "    <tr>\n",
              "      <th>14</th>\n",
              "      <td>Amaral Furlan</td>\n",
              "      <td>Sertãozinho, SP</td>\n",
              "      <td>01</td>\n",
              "      <td>1978</td>\n",
              "      <td>[nota 8]</td>\n",
              "    </tr>\n",
              "    <tr>\n",
              "      <th>15</th>\n",
              "      <td>Severo Gomes</td>\n",
              "      <td>São Paulo, SP</td>\n",
              "      <td>01</td>\n",
              "      <td>1982</td>\n",
              "      <td>NaN</td>\n",
              "    </tr>\n",
              "    <tr>\n",
              "      <th>16</th>\n",
              "      <td>Fernando Henrique Cardoso</td>\n",
              "      <td>Rio de Janeiro, RJ</td>\n",
              "      <td>01</td>\n",
              "      <td>1986</td>\n",
              "      <td>[nota 9]</td>\n",
              "    </tr>\n",
              "    <tr>\n",
              "      <th>17</th>\n",
              "      <td>Mário Covas</td>\n",
              "      <td>Santos, SP</td>\n",
              "      <td>01</td>\n",
              "      <td>1986</td>\n",
              "      <td>[nota 10]</td>\n",
              "    </tr>\n",
              "    <tr>\n",
              "      <th>18</th>\n",
              "      <td>Aloizio Mercadante</td>\n",
              "      <td>Santos, SP</td>\n",
              "      <td>01</td>\n",
              "      <td>2002</td>\n",
              "      <td>NaN</td>\n",
              "    </tr>\n",
              "    <tr>\n",
              "      <th>19</th>\n",
              "      <td>Aloysio Nunes</td>\n",
              "      <td>São José do Rio Preto, SP</td>\n",
              "      <td>01</td>\n",
              "      <td>2010</td>\n",
              "      <td>NaN</td>\n",
              "    </tr>\n",
              "    <tr>\n",
              "      <th>20</th>\n",
              "      <td>Marta Suplicy</td>\n",
              "      <td>São Paulo, SP</td>\n",
              "      <td>01</td>\n",
              "      <td>2010</td>\n",
              "      <td>NaN</td>\n",
              "    </tr>\n",
              "    <tr>\n",
              "      <th>21</th>\n",
              "      <td>Major Olímpio</td>\n",
              "      <td>Presidente Venceslau, SP</td>\n",
              "      <td>01</td>\n",
              "      <td>2018</td>\n",
              "      <td>[nota 11]</td>\n",
              "    </tr>\n",
              "    <tr>\n",
              "      <th>22</th>\n",
              "      <td>Mara Gabrilli</td>\n",
              "      <td>São Paulo, SP</td>\n",
              "      <td>01</td>\n",
              "      <td>2018</td>\n",
              "      <td>NaN</td>\n",
              "    </tr>\n",
              "    <tr>\n",
              "      <th>23</th>\n",
              "      <td>Marcos Pontes</td>\n",
              "      <td>Bauru, SP</td>\n",
              "      <td>01</td>\n",
              "      <td>2022</td>\n",
              "      <td>NaN</td>\n",
              "    </tr>\n",
              "  </tbody>\n",
              "</table>\n",
              "</div>"
            ],
            "text/plain": [
              "            Senadores eleitos               Naturalidade Mandatos  \\\n",
              "0             Eduardo Suplicy              São Paulo, SP       03   \n",
              "1       Auro de Moura Andrade               Barretos, SP       02   \n",
              "2               Lino de Matos                Ipaussu, SP       02   \n",
              "3              Franco Montoro              São Paulo, SP       02   \n",
              "4                  Romeu Tuma              São Paulo, SP       02   \n",
              "5                  José Serra              São Paulo, SP       02   \n",
              "6             Marcondes Filho              São Paulo, SP       01   \n",
              "7             Euclides Vieira                Itapira, SP       01   \n",
              "8            Roberto Simonsen                 Santos, SP       01   \n",
              "9             César Vergueiro                 Santos, SP       01   \n",
              "10          Benedito Calazans              Paraibuna, SP       01   \n",
              "11             Carvalho Pinto              São Paulo, SP       01   \n",
              "12           Orlando Zancaner                Catiguá, SP       01   \n",
              "13            Orestes Quércia             Pedregulho, SP       01   \n",
              "14              Amaral Furlan            Sertãozinho, SP       01   \n",
              "15               Severo Gomes              São Paulo, SP       01   \n",
              "16  Fernando Henrique Cardoso         Rio de Janeiro, RJ       01   \n",
              "17                Mário Covas                 Santos, SP       01   \n",
              "18         Aloizio Mercadante                 Santos, SP       01   \n",
              "19              Aloysio Nunes  São José do Rio Preto, SP       01   \n",
              "20              Marta Suplicy              São Paulo, SP       01   \n",
              "21              Major Olímpio   Presidente Venceslau, SP       01   \n",
              "22              Mara Gabrilli              São Paulo, SP       01   \n",
              "23              Marcos Pontes                  Bauru, SP       01   \n",
              "\n",
              "      Ano da eleição      Notas  \n",
              "0   1990, 1998, 2006        NaN  \n",
              "1         1954, 1962        NaN  \n",
              "2         1954, 1962   [nota 1]  \n",
              "3         1970, 1978   [nota 2]  \n",
              "4         1994, 2002   [nota 3]  \n",
              "5         1994, 2014        NaN  \n",
              "6               1945        NaN  \n",
              "7               1947   [nota 4]  \n",
              "8               1947   [nota 5]  \n",
              "9               1950   [nota 6]  \n",
              "10              1958        NaN  \n",
              "11              1966        NaN  \n",
              "12              1970   [nota 7]  \n",
              "13              1974        NaN  \n",
              "14              1978   [nota 8]  \n",
              "15              1982        NaN  \n",
              "16              1986   [nota 9]  \n",
              "17              1986  [nota 10]  \n",
              "18              2002        NaN  \n",
              "19              2010        NaN  \n",
              "20              2010        NaN  \n",
              "21              2018  [nota 11]  \n",
              "22              2018        NaN  \n",
              "23              2022        NaN  "
            ]
          },
          "execution_count": 127,
          "metadata": {},
          "output_type": "execute_result"
        }
      ],
      "source": [
        "tb_senadores = tb_senadores.iloc[:-1] # para remover a última linha\n",
        "tb_senadores"
      ]
    },
    {
      "cell_type": "code",
      "execution_count": 128,
      "id": "DGKeDWQXmQdK",
      "metadata": {
        "colab": {
          "base_uri": "https://localhost:8080/"
        },
        "id": "DGKeDWQXmQdK",
        "outputId": "1e0e88ba-b917-47ba-d81c-f40f7294968b"
      },
      "outputs": [
        {
          "data": {
            "text/plain": [
              "24"
            ]
          },
          "execution_count": 128,
          "metadata": {},
          "output_type": "execute_result"
        }
      ],
      "source": [
        "len(tb_senadores[\"Senadores eleitos\"].unique())"
      ]
    },
    {
      "cell_type": "code",
      "execution_count": 129,
      "id": "r5fcA7-bmw0w",
      "metadata": {
        "colab": {
          "base_uri": "https://localhost:8080/"
        },
        "id": "r5fcA7-bmw0w",
        "outputId": "dc3a7e45-4d15-4881-ac44-e4cae127101c"
      },
      "outputs": [
        {
          "data": {
            "text/plain": [
              "24"
            ]
          },
          "execution_count": 129,
          "metadata": {},
          "output_type": "execute_result"
        }
      ],
      "source": [
        "# também podemos responder assim\n",
        "tb_senadores.shape[0]"
      ]
    },
    {
      "cell_type": "markdown",
      "id": "dd782b0e",
      "metadata": {
        "id": "dd782b0e"
      },
      "source": [
        "## Qual o total de deputados federais já eleitos no seu estado?"
      ]
    },
    {
      "cell_type": "code",
      "execution_count": 130,
      "id": "e2d5f589",
      "metadata": {
        "colab": {
          "base_uri": "https://localhost:8080/",
          "height": 424
        },
        "id": "e2d5f589",
        "outputId": "5a5e6e13-85ed-4057-fca0-5f6d633e9ded"
      },
      "outputs": [
        {
          "data": {
            "text/html": [
              "<div>\n",
              "<style scoped>\n",
              "    .dataframe tbody tr th:only-of-type {\n",
              "        vertical-align: middle;\n",
              "    }\n",
              "\n",
              "    .dataframe tbody tr th {\n",
              "        vertical-align: top;\n",
              "    }\n",
              "\n",
              "    .dataframe thead th {\n",
              "        text-align: right;\n",
              "    }\n",
              "</style>\n",
              "<table border=\"1\" class=\"dataframe\">\n",
              "  <thead>\n",
              "    <tr style=\"text-align: right;\">\n",
              "      <th></th>\n",
              "      <th>Deputados federais eleitos</th>\n",
              "      <th>Naturalidade ou base</th>\n",
              "      <th>Mandatos</th>\n",
              "      <th>Ano da eleição</th>\n",
              "      <th>Notas</th>\n",
              "    </tr>\n",
              "  </thead>\n",
              "  <tbody>\n",
              "    <tr>\n",
              "      <th>0</th>\n",
              "      <td>Ulysses Guimarães</td>\n",
              "      <td>Itirapina, SP</td>\n",
              "      <td>11</td>\n",
              "      <td>1950, 1954, 1958, 1962, 1966, 1970, 1974, 1978...</td>\n",
              "      <td>NaN</td>\n",
              "    </tr>\n",
              "    <tr>\n",
              "      <th>1</th>\n",
              "      <td>Herbert Levy</td>\n",
              "      <td>São Paulo, SP</td>\n",
              "      <td>09</td>\n",
              "      <td>1950, 1954, 1958, 1962, 1966, 1970, 1974, 1978...</td>\n",
              "      <td>NaN</td>\n",
              "    </tr>\n",
              "    <tr>\n",
              "      <th>2</th>\n",
              "      <td>Arnaldo Faria de Sá</td>\n",
              "      <td>São Paulo, SP</td>\n",
              "      <td>08</td>\n",
              "      <td>1986, 1990, 1994, 1998, 2002, 2006, 2010, 2014</td>\n",
              "      <td>NaN</td>\n",
              "    </tr>\n",
              "    <tr>\n",
              "      <th>3</th>\n",
              "      <td>Arlindo Chinaglia</td>\n",
              "      <td>Serra Azul, SP</td>\n",
              "      <td>08</td>\n",
              "      <td>1994, 1998, 2002, 2006, 2010, 2014, 2018, 2022</td>\n",
              "      <td>NaN</td>\n",
              "    </tr>\n",
              "    <tr>\n",
              "      <th>4</th>\n",
              "      <td>Pacheco Chaves</td>\n",
              "      <td>São Paulo, SP</td>\n",
              "      <td>07</td>\n",
              "      <td>1954, 1958, 1962, 1970, 1974, 1978, 1982</td>\n",
              "      <td>NaN</td>\n",
              "    </tr>\n",
              "    <tr>\n",
              "      <th>...</th>\n",
              "      <td>...</td>\n",
              "      <td>...</td>\n",
              "      <td>...</td>\n",
              "      <td>...</td>\n",
              "      <td>...</td>\n",
              "    </tr>\n",
              "    <tr>\n",
              "      <th>575</th>\n",
              "      <td>Rodrigo Gambale</td>\n",
              "      <td>Mogi das Cruzes, SP</td>\n",
              "      <td>01</td>\n",
              "      <td>2022</td>\n",
              "      <td>NaN</td>\n",
              "    </tr>\n",
              "    <tr>\n",
              "      <th>576</th>\n",
              "      <td>Rosângela Moro</td>\n",
              "      <td>Curitiba, PR</td>\n",
              "      <td>01</td>\n",
              "      <td>2022</td>\n",
              "      <td>NaN</td>\n",
              "    </tr>\n",
              "    <tr>\n",
              "      <th>577</th>\n",
              "      <td>Simone Marquetto</td>\n",
              "      <td>São Paulo, SP</td>\n",
              "      <td>01</td>\n",
              "      <td>2022</td>\n",
              "      <td>NaN</td>\n",
              "    </tr>\n",
              "    <tr>\n",
              "      <th>578</th>\n",
              "      <td>Sônia Guajajara</td>\n",
              "      <td>Amarante do Maranhão, MA</td>\n",
              "      <td>01</td>\n",
              "      <td>2022</td>\n",
              "      <td>[nota 35]</td>\n",
              "    </tr>\n",
              "    <tr>\n",
              "      <th>579</th>\n",
              "      <td>Fonte:[2][3]</td>\n",
              "      <td>Fonte:[2][3]</td>\n",
              "      <td>Fonte:[2][3]</td>\n",
              "      <td>Fonte:[2][3]</td>\n",
              "      <td>Fonte:[2][3]</td>\n",
              "    </tr>\n",
              "  </tbody>\n",
              "</table>\n",
              "<p>580 rows × 5 columns</p>\n",
              "</div>"
            ],
            "text/plain": [
              "    Deputados federais eleitos      Naturalidade ou base      Mandatos  \\\n",
              "0            Ulysses Guimarães             Itirapina, SP            11   \n",
              "1                 Herbert Levy             São Paulo, SP            09   \n",
              "2          Arnaldo Faria de Sá             São Paulo, SP            08   \n",
              "3            Arlindo Chinaglia            Serra Azul, SP            08   \n",
              "4               Pacheco Chaves             São Paulo, SP            07   \n",
              "..                         ...                       ...           ...   \n",
              "575            Rodrigo Gambale       Mogi das Cruzes, SP            01   \n",
              "576             Rosângela Moro              Curitiba, PR            01   \n",
              "577           Simone Marquetto             São Paulo, SP            01   \n",
              "578            Sônia Guajajara  Amarante do Maranhão, MA            01   \n",
              "579               Fonte:[2][3]              Fonte:[2][3]  Fonte:[2][3]   \n",
              "\n",
              "                                        Ano da eleição         Notas  \n",
              "0    1950, 1954, 1958, 1962, 1966, 1970, 1974, 1978...           NaN  \n",
              "1    1950, 1954, 1958, 1962, 1966, 1970, 1974, 1978...           NaN  \n",
              "2       1986, 1990, 1994, 1998, 2002, 2006, 2010, 2014           NaN  \n",
              "3       1994, 1998, 2002, 2006, 2010, 2014, 2018, 2022           NaN  \n",
              "4             1954, 1958, 1962, 1970, 1974, 1978, 1982           NaN  \n",
              "..                                                 ...           ...  \n",
              "575                                               2022           NaN  \n",
              "576                                               2022           NaN  \n",
              "577                                               2022           NaN  \n",
              "578                                               2022     [nota 35]  \n",
              "579                                       Fonte:[2][3]  Fonte:[2][3]  \n",
              "\n",
              "[580 rows x 5 columns]"
            ]
          },
          "execution_count": 130,
          "metadata": {},
          "output_type": "execute_result"
        }
      ],
      "source": [
        "tb_federais = tables[1]\n",
        "tb_federais"
      ]
    },
    {
      "cell_type": "code",
      "execution_count": 131,
      "id": "3XPbTUaRnmpc",
      "metadata": {
        "colab": {
          "base_uri": "https://localhost:8080/",
          "height": 424
        },
        "id": "3XPbTUaRnmpc",
        "outputId": "29b02153-0631-442f-b450-cfb42e4e796a"
      },
      "outputs": [
        {
          "data": {
            "text/html": [
              "<div>\n",
              "<style scoped>\n",
              "    .dataframe tbody tr th:only-of-type {\n",
              "        vertical-align: middle;\n",
              "    }\n",
              "\n",
              "    .dataframe tbody tr th {\n",
              "        vertical-align: top;\n",
              "    }\n",
              "\n",
              "    .dataframe thead th {\n",
              "        text-align: right;\n",
              "    }\n",
              "</style>\n",
              "<table border=\"1\" class=\"dataframe\">\n",
              "  <thead>\n",
              "    <tr style=\"text-align: right;\">\n",
              "      <th></th>\n",
              "      <th>Deputados federais eleitos</th>\n",
              "      <th>Naturalidade ou base</th>\n",
              "      <th>Mandatos</th>\n",
              "      <th>Ano da eleição</th>\n",
              "      <th>Notas</th>\n",
              "    </tr>\n",
              "  </thead>\n",
              "  <tbody>\n",
              "    <tr>\n",
              "      <th>0</th>\n",
              "      <td>Ulysses Guimarães</td>\n",
              "      <td>Itirapina, SP</td>\n",
              "      <td>11</td>\n",
              "      <td>1950, 1954, 1958, 1962, 1966, 1970, 1974, 1978...</td>\n",
              "      <td>NaN</td>\n",
              "    </tr>\n",
              "    <tr>\n",
              "      <th>1</th>\n",
              "      <td>Herbert Levy</td>\n",
              "      <td>São Paulo, SP</td>\n",
              "      <td>09</td>\n",
              "      <td>1950, 1954, 1958, 1962, 1966, 1970, 1974, 1978...</td>\n",
              "      <td>NaN</td>\n",
              "    </tr>\n",
              "    <tr>\n",
              "      <th>2</th>\n",
              "      <td>Arnaldo Faria de Sá</td>\n",
              "      <td>São Paulo, SP</td>\n",
              "      <td>08</td>\n",
              "      <td>1986, 1990, 1994, 1998, 2002, 2006, 2010, 2014</td>\n",
              "      <td>NaN</td>\n",
              "    </tr>\n",
              "    <tr>\n",
              "      <th>3</th>\n",
              "      <td>Arlindo Chinaglia</td>\n",
              "      <td>Serra Azul, SP</td>\n",
              "      <td>08</td>\n",
              "      <td>1994, 1998, 2002, 2006, 2010, 2014, 2018, 2022</td>\n",
              "      <td>NaN</td>\n",
              "    </tr>\n",
              "    <tr>\n",
              "      <th>4</th>\n",
              "      <td>Pacheco Chaves</td>\n",
              "      <td>São Paulo, SP</td>\n",
              "      <td>07</td>\n",
              "      <td>1954, 1958, 1962, 1970, 1974, 1978, 1982</td>\n",
              "      <td>NaN</td>\n",
              "    </tr>\n",
              "    <tr>\n",
              "      <th>...</th>\n",
              "      <td>...</td>\n",
              "      <td>...</td>\n",
              "      <td>...</td>\n",
              "      <td>...</td>\n",
              "      <td>...</td>\n",
              "    </tr>\n",
              "    <tr>\n",
              "      <th>574</th>\n",
              "      <td>Ricardo Silva</td>\n",
              "      <td>Ribeirão Preto, SP</td>\n",
              "      <td>01</td>\n",
              "      <td>2022</td>\n",
              "      <td>NaN</td>\n",
              "    </tr>\n",
              "    <tr>\n",
              "      <th>575</th>\n",
              "      <td>Rodrigo Gambale</td>\n",
              "      <td>Mogi das Cruzes, SP</td>\n",
              "      <td>01</td>\n",
              "      <td>2022</td>\n",
              "      <td>NaN</td>\n",
              "    </tr>\n",
              "    <tr>\n",
              "      <th>576</th>\n",
              "      <td>Rosângela Moro</td>\n",
              "      <td>Curitiba, PR</td>\n",
              "      <td>01</td>\n",
              "      <td>2022</td>\n",
              "      <td>NaN</td>\n",
              "    </tr>\n",
              "    <tr>\n",
              "      <th>577</th>\n",
              "      <td>Simone Marquetto</td>\n",
              "      <td>São Paulo, SP</td>\n",
              "      <td>01</td>\n",
              "      <td>2022</td>\n",
              "      <td>NaN</td>\n",
              "    </tr>\n",
              "    <tr>\n",
              "      <th>578</th>\n",
              "      <td>Sônia Guajajara</td>\n",
              "      <td>Amarante do Maranhão, MA</td>\n",
              "      <td>01</td>\n",
              "      <td>2022</td>\n",
              "      <td>[nota 35]</td>\n",
              "    </tr>\n",
              "  </tbody>\n",
              "</table>\n",
              "<p>579 rows × 5 columns</p>\n",
              "</div>"
            ],
            "text/plain": [
              "    Deputados federais eleitos      Naturalidade ou base Mandatos  \\\n",
              "0            Ulysses Guimarães             Itirapina, SP       11   \n",
              "1                 Herbert Levy             São Paulo, SP       09   \n",
              "2          Arnaldo Faria de Sá             São Paulo, SP       08   \n",
              "3            Arlindo Chinaglia            Serra Azul, SP       08   \n",
              "4               Pacheco Chaves             São Paulo, SP       07   \n",
              "..                         ...                       ...      ...   \n",
              "574              Ricardo Silva        Ribeirão Preto, SP       01   \n",
              "575            Rodrigo Gambale       Mogi das Cruzes, SP       01   \n",
              "576             Rosângela Moro              Curitiba, PR       01   \n",
              "577           Simone Marquetto             São Paulo, SP       01   \n",
              "578            Sônia Guajajara  Amarante do Maranhão, MA       01   \n",
              "\n",
              "                                        Ano da eleição      Notas  \n",
              "0    1950, 1954, 1958, 1962, 1966, 1970, 1974, 1978...        NaN  \n",
              "1    1950, 1954, 1958, 1962, 1966, 1970, 1974, 1978...        NaN  \n",
              "2       1986, 1990, 1994, 1998, 2002, 2006, 2010, 2014        NaN  \n",
              "3       1994, 1998, 2002, 2006, 2010, 2014, 2018, 2022        NaN  \n",
              "4             1954, 1958, 1962, 1970, 1974, 1978, 1982        NaN  \n",
              "..                                                 ...        ...  \n",
              "574                                               2022        NaN  \n",
              "575                                               2022        NaN  \n",
              "576                                               2022        NaN  \n",
              "577                                               2022        NaN  \n",
              "578                                               2022  [nota 35]  \n",
              "\n",
              "[579 rows x 5 columns]"
            ]
          },
          "execution_count": 131,
          "metadata": {},
          "output_type": "execute_result"
        }
      ],
      "source": [
        "tb_federais = tb_federais.iloc[:-1]\n",
        "tb_federais"
      ]
    },
    {
      "cell_type": "code",
      "execution_count": 132,
      "id": "noOhhGZnntK5",
      "metadata": {
        "colab": {
          "base_uri": "https://localhost:8080/"
        },
        "id": "noOhhGZnntK5",
        "outputId": "991be0d9-8d9a-42c4-f381-d66decda6425"
      },
      "outputs": [
        {
          "data": {
            "text/plain": [
              "579"
            ]
          },
          "execution_count": 132,
          "metadata": {},
          "output_type": "execute_result"
        }
      ],
      "source": [
        "tb_federais.shape[0]"
      ]
    },
    {
      "cell_type": "markdown",
      "id": "e46e7b1a",
      "metadata": {
        "id": "e46e7b1a"
      },
      "source": [
        "## Qual o total de deputados e senadores por cidade?\n",
        "\n",
        "dica: `groupby`"
      ]
    },
    {
      "cell_type": "code",
      "execution_count": 133,
      "id": "adb82dcf",
      "metadata": {
        "colab": {
          "base_uri": "https://localhost:8080/"
        },
        "id": "adb82dcf",
        "outputId": "971ff2b1-c03d-435e-c3ce-d16110992335"
      },
      "outputs": [
        {
          "data": {
            "text/plain": [
              "Naturalidade\n",
              "São Paulo, SP                9\n",
              "Santos, SP                   4\n",
              "Barretos, SP                 1\n",
              "Bauru, SP                    1\n",
              "Catiguá, SP                  1\n",
              "Ipaussu, SP                  1\n",
              "Itapira, SP                  1\n",
              "Paraibuna, SP                1\n",
              "Pedregulho, SP               1\n",
              "Presidente Venceslau, SP     1\n",
              "Rio de Janeiro, RJ           1\n",
              "Sertãozinho, SP              1\n",
              "São José do Rio Preto, SP    1\n",
              "Name: Senadores eleitos, dtype: int64"
            ]
          },
          "execution_count": 133,
          "metadata": {},
          "output_type": "execute_result"
        }
      ],
      "source": [
        "tb_senadores.groupby(\"Naturalidade\").count()[\"Senadores eleitos\"].sort_values(ascending=False)"
      ]
    },
    {
      "cell_type": "code",
      "execution_count": 134,
      "id": "zy1Ik9uboYED",
      "metadata": {
        "colab": {
          "base_uri": "https://localhost:8080/"
        },
        "id": "zy1Ik9uboYED",
        "outputId": "225bdc30-27af-423e-9b23-e674422e22cf"
      },
      "outputs": [
        {
          "data": {
            "text/plain": [
              "Naturalidade ou base\n",
              "São Paulo, SP         132\n",
              "Santos, SP             25\n",
              "Rio de Janeiro, RJ     19\n",
              "Campinas, SP           17\n",
              "Ribeirão Preto, SP     14\n",
              "                     ... \n",
              "Ipiau, BA               1\n",
              "Itabuna, BA             1\n",
              "Itainópolis, PI         1\n",
              "Itajobi, SP             1\n",
              "Óbidos, PA              1\n",
              "Name: Deputados federais eleitos, Length: 248, dtype: int64"
            ]
          },
          "execution_count": 134,
          "metadata": {},
          "output_type": "execute_result"
        }
      ],
      "source": [
        "tb_federais.groupby(\"Naturalidade ou base\").count()[\"Deputados federais eleitos\"].sort_values(ascending=False)"
      ]
    },
    {
      "cell_type": "markdown",
      "id": "149673f0",
      "metadata": {
        "id": "149673f0"
      },
      "source": [
        "## Qual deputado/senador com mais mandatos?"
      ]
    },
    {
      "cell_type": "code",
      "execution_count": 135,
      "id": "ou6OSyC2o6HI",
      "metadata": {
        "colab": {
          "base_uri": "https://localhost:8080/",
          "height": 35
        },
        "id": "ou6OSyC2o6HI",
        "outputId": "622c3aa8-374c-4956-fb45-c6fbaa042ccc"
      },
      "outputs": [
        {
          "data": {
            "text/plain": [
              "'03'"
            ]
          },
          "execution_count": 135,
          "metadata": {},
          "output_type": "execute_result"
        }
      ],
      "source": [
        "max_mandatos_senadores = tb_senadores[\"Mandatos\"].max()\n",
        "max_mandatos_senadores"
      ]
    },
    {
      "cell_type": "code",
      "execution_count": 136,
      "id": "0be894db",
      "metadata": {
        "colab": {
          "base_uri": "https://localhost:8080/"
        },
        "id": "0be894db",
        "outputId": "f745774e-c938-4924-8ea0-d84fa3aa4dc4"
      },
      "outputs": [
        {
          "data": {
            "text/plain": [
              "0      True\n",
              "1     False\n",
              "2     False\n",
              "3     False\n",
              "4     False\n",
              "5     False\n",
              "6     False\n",
              "7     False\n",
              "8     False\n",
              "9     False\n",
              "10    False\n",
              "11    False\n",
              "12    False\n",
              "13    False\n",
              "14    False\n",
              "15    False\n",
              "16    False\n",
              "17    False\n",
              "18    False\n",
              "19    False\n",
              "20    False\n",
              "21    False\n",
              "22    False\n",
              "23    False\n",
              "Name: Mandatos, dtype: bool"
            ]
          },
          "execution_count": 136,
          "metadata": {},
          "output_type": "execute_result"
        }
      ],
      "source": [
        "tb_senadores[\"Mandatos\"] == max_mandatos_senadores"
      ]
    },
    {
      "cell_type": "code",
      "execution_count": 137,
      "id": "KUA7qdnArf5H",
      "metadata": {
        "colab": {
          "base_uri": "https://localhost:8080/",
          "height": 81
        },
        "id": "KUA7qdnArf5H",
        "outputId": "bf05467f-092e-4781-a1cb-026500c8150b"
      },
      "outputs": [
        {
          "data": {
            "text/html": [
              "<div>\n",
              "<style scoped>\n",
              "    .dataframe tbody tr th:only-of-type {\n",
              "        vertical-align: middle;\n",
              "    }\n",
              "\n",
              "    .dataframe tbody tr th {\n",
              "        vertical-align: top;\n",
              "    }\n",
              "\n",
              "    .dataframe thead th {\n",
              "        text-align: right;\n",
              "    }\n",
              "</style>\n",
              "<table border=\"1\" class=\"dataframe\">\n",
              "  <thead>\n",
              "    <tr style=\"text-align: right;\">\n",
              "      <th></th>\n",
              "      <th>Senadores eleitos</th>\n",
              "      <th>Naturalidade</th>\n",
              "      <th>Mandatos</th>\n",
              "      <th>Ano da eleição</th>\n",
              "      <th>Notas</th>\n",
              "    </tr>\n",
              "  </thead>\n",
              "  <tbody>\n",
              "    <tr>\n",
              "      <th>0</th>\n",
              "      <td>Eduardo Suplicy</td>\n",
              "      <td>São Paulo, SP</td>\n",
              "      <td>03</td>\n",
              "      <td>1990, 1998, 2006</td>\n",
              "      <td>NaN</td>\n",
              "    </tr>\n",
              "  </tbody>\n",
              "</table>\n",
              "</div>"
            ],
            "text/plain": [
              "  Senadores eleitos   Naturalidade Mandatos    Ano da eleição Notas\n",
              "0   Eduardo Suplicy  São Paulo, SP       03  1990, 1998, 2006   NaN"
            ]
          },
          "execution_count": 137,
          "metadata": {},
          "output_type": "execute_result"
        }
      ],
      "source": [
        "tb_senadores[tb_senadores[\"Mandatos\"] == max_mandatos_senadores]"
      ]
    },
    {
      "cell_type": "markdown",
      "id": "xRz0aCXGroqV",
      "metadata": {
        "id": "xRz0aCXGroqV"
      },
      "source": [
        "Se cada mandato de senador são 8 anos, então esse senador ficou:"
      ]
    },
    {
      "cell_type": "code",
      "execution_count": 138,
      "id": "5QQlI3mFrmxA",
      "metadata": {
        "colab": {
          "base_uri": "https://localhost:8080/",
          "height": 35
        },
        "id": "5QQlI3mFrmxA",
        "outputId": "a271cf07-99f2-4b33-df88-53a1a1cb9e6b"
      },
      "outputs": [
        {
          "data": {
            "text/plain": [
              "'24 anos como senador'"
            ]
          },
          "execution_count": 138,
          "metadata": {},
          "output_type": "execute_result"
        }
      ],
      "source": [
        "f\"{int(max_mandatos_senadores) * 8} anos como senador\""
      ]
    },
    {
      "cell_type": "code",
      "execution_count": 139,
      "id": "g4TeFdrusA7G",
      "metadata": {
        "colab": {
          "base_uri": "https://localhost:8080/",
          "height": 35
        },
        "id": "g4TeFdrusA7G",
        "outputId": "198a844a-a537-4aa3-c307-3af298c27f51"
      },
      "outputs": [
        {
          "data": {
            "text/plain": [
              "'11'"
            ]
          },
          "execution_count": 139,
          "metadata": {},
          "output_type": "execute_result"
        }
      ],
      "source": [
        "max_mandatos_federais = tb_federais[\"Mandatos\"].max()\n",
        "max_mandatos_federais"
      ]
    },
    {
      "cell_type": "code",
      "execution_count": 140,
      "id": "TrMiXt8RsFIn",
      "metadata": {
        "colab": {
          "base_uri": "https://localhost:8080/",
          "height": 81
        },
        "id": "TrMiXt8RsFIn",
        "outputId": "e4b29df9-548a-4281-e138-c816142b36c5"
      },
      "outputs": [
        {
          "data": {
            "text/html": [
              "<div>\n",
              "<style scoped>\n",
              "    .dataframe tbody tr th:only-of-type {\n",
              "        vertical-align: middle;\n",
              "    }\n",
              "\n",
              "    .dataframe tbody tr th {\n",
              "        vertical-align: top;\n",
              "    }\n",
              "\n",
              "    .dataframe thead th {\n",
              "        text-align: right;\n",
              "    }\n",
              "</style>\n",
              "<table border=\"1\" class=\"dataframe\">\n",
              "  <thead>\n",
              "    <tr style=\"text-align: right;\">\n",
              "      <th></th>\n",
              "      <th>Deputados federais eleitos</th>\n",
              "      <th>Naturalidade ou base</th>\n",
              "      <th>Mandatos</th>\n",
              "      <th>Ano da eleição</th>\n",
              "      <th>Notas</th>\n",
              "    </tr>\n",
              "  </thead>\n",
              "  <tbody>\n",
              "    <tr>\n",
              "      <th>0</th>\n",
              "      <td>Ulysses Guimarães</td>\n",
              "      <td>Itirapina, SP</td>\n",
              "      <td>11</td>\n",
              "      <td>1950, 1954, 1958, 1962, 1966, 1970, 1974, 1978...</td>\n",
              "      <td>NaN</td>\n",
              "    </tr>\n",
              "  </tbody>\n",
              "</table>\n",
              "</div>"
            ],
            "text/plain": [
              "  Deputados federais eleitos Naturalidade ou base Mandatos  \\\n",
              "0          Ulysses Guimarães        Itirapina, SP       11   \n",
              "\n",
              "                                      Ano da eleição Notas  \n",
              "0  1950, 1954, 1958, 1962, 1966, 1970, 1974, 1978...   NaN  "
            ]
          },
          "execution_count": 140,
          "metadata": {},
          "output_type": "execute_result"
        }
      ],
      "source": [
        "tb_federais[tb_federais[\"Mandatos\"] == max_mandatos_federais]"
      ]
    },
    {
      "cell_type": "markdown",
      "id": "AqLWVkzfshRr",
      "metadata": {
        "id": "AqLWVkzfshRr"
      },
      "source": [
        "Se cada mandato de deputado federal tem duração de 4 anos, então esse deputado ficou:"
      ]
    },
    {
      "cell_type": "code",
      "execution_count": 141,
      "id": "o_G2LZx6shRr",
      "metadata": {
        "colab": {
          "base_uri": "https://localhost:8080/",
          "height": 35
        },
        "id": "o_G2LZx6shRr",
        "outputId": "bccb80aa-9274-4177-c947-994831b737b1"
      },
      "outputs": [
        {
          "data": {
            "text/plain": [
              "'44 anos como deputado federal'"
            ]
          },
          "execution_count": 141,
          "metadata": {},
          "output_type": "execute_result"
        }
      ],
      "source": [
        "f\"{int(max_mandatos_federais) * 4} anos como deputado federal\""
      ]
    },
    {
      "cell_type": "code",
      "execution_count": 142,
      "id": "09545b88",
      "metadata": {},
      "outputs": [
        {
          "name": "stderr",
          "output_type": "stream",
          "text": [
            "C:\\Users\\Luiz\\AppData\\Local\\Temp\\ipykernel_11072\\1789297818.py:1: SettingWithCopyWarning: \n",
            "A value is trying to be set on a copy of a slice from a DataFrame.\n",
            "Try using .loc[row_indexer,col_indexer] = value instead\n",
            "\n",
            "See the caveats in the documentation: https://pandas.pydata.org/pandas-docs/stable/user_guide/indexing.html#returning-a-view-versus-a-copy\n",
            "  tb_federais['sg.UF'] = 'SP'\n"
          ]
        }
      ],
      "source": [
        "tb_federais['sg.UF'] = 'SP'"
      ]
    },
    {
      "cell_type": "code",
      "execution_count": 143,
      "id": "b85c216d",
      "metadata": {},
      "outputs": [
        {
          "data": {
            "text/plain": [
              "0      SP\n",
              "1      SP\n",
              "2      SP\n",
              "3      SP\n",
              "4      SP\n",
              "       ..\n",
              "574    SP\n",
              "575    SP\n",
              "576    SP\n",
              "577    SP\n",
              "578    SP\n",
              "Name: sg.UF, Length: 579, dtype: object"
            ]
          },
          "execution_count": 143,
          "metadata": {},
          "output_type": "execute_result"
        }
      ],
      "source": [
        "tb_federais['sg.UF']"
      ]
    },
    {
      "cell_type": "markdown",
      "id": "fdeba3c0",
      "metadata": {
        "id": "fdeba3c0"
      },
      "source": [
        "## Desafio extra\n",
        "\n",
        "Esse desafio traz uma ideia extra de cruzamento de dados. Fique a vontade para tentar encontrar essas respostas :)\n",
        "\n",
        "- Se você cruzasse esses dados com os dados da CEAP? Quanto o deputado com maior número de candidaturas gastou?\n",
        "- Qual a média dos gastos dos parlamentares do seu estado?"
      ]
    },
    {
      "cell_type": "code",
      "execution_count": null,
      "id": "d4fd931f",
      "metadata": {},
      "outputs": [],
      "source": []
    },
    {
      "cell_type": "code",
      "execution_count": 144,
      "id": "b6710678",
      "metadata": {
        "colab": {
          "base_uri": "https://localhost:8080/",
          "height": 617
        },
        "id": "b6710678",
        "outputId": "b43c6ed0-a89f-4044-dea4-1f77978068df"
      },
      "outputs": [
        {
          "name": "stderr",
          "output_type": "stream",
          "text": [
            "C:\\Users\\Luiz\\AppData\\Local\\Temp\\ipykernel_11072\\154289195.py:39: DtypeWarning: Columns (27) have mixed types. Specify dtype option on import or set low_memory=False.\n",
            "  df_reembolso = pd.read_csv(\n"
          ]
        },
        {
          "data": {
            "text/html": [
              "<div>\n",
              "<style scoped>\n",
              "    .dataframe tbody tr th:only-of-type {\n",
              "        vertical-align: middle;\n",
              "    }\n",
              "\n",
              "    .dataframe tbody tr th {\n",
              "        vertical-align: top;\n",
              "    }\n",
              "\n",
              "    .dataframe thead th {\n",
              "        text-align: right;\n",
              "    }\n",
              "</style>\n",
              "<table border=\"1\" class=\"dataframe\">\n",
              "  <thead>\n",
              "    <tr style=\"text-align: right;\">\n",
              "      <th></th>\n",
              "      <th>txNomeParlamentar</th>\n",
              "      <th>cpf</th>\n",
              "      <th>ideCadastro</th>\n",
              "      <th>nuCarteiraParlamentar</th>\n",
              "      <th>nuLegislatura</th>\n",
              "      <th>sgUF</th>\n",
              "      <th>sgPartido</th>\n",
              "      <th>codLegislatura</th>\n",
              "      <th>numSubCota</th>\n",
              "      <th>txtDescricao</th>\n",
              "      <th>...</th>\n",
              "      <th>numParcela</th>\n",
              "      <th>txtPassageiro</th>\n",
              "      <th>txtTrecho</th>\n",
              "      <th>numLote</th>\n",
              "      <th>numRessarcimento</th>\n",
              "      <th>datPagamentoRestituicao</th>\n",
              "      <th>vlrRestituicao</th>\n",
              "      <th>nuDeputadoId</th>\n",
              "      <th>ideDocumento</th>\n",
              "      <th>urlDocumento</th>\n",
              "    </tr>\n",
              "  </thead>\n",
              "  <tbody>\n",
              "    <tr>\n",
              "      <th>0</th>\n",
              "      <td>LID.GOV-CD</td>\n",
              "      <td>NaN</td>\n",
              "      <td>NaN</td>\n",
              "      <td>NaN</td>\n",
              "      <td>2015</td>\n",
              "      <td>NaN</td>\n",
              "      <td>NaN</td>\n",
              "      <td>55</td>\n",
              "      <td>1</td>\n",
              "      <td>MANUTENÇÃO DE ESCRITÓRIO DE APOIO À ATIVIDADE ...</td>\n",
              "      <td>...</td>\n",
              "      <td>0</td>\n",
              "      <td>NaN</td>\n",
              "      <td>NaN</td>\n",
              "      <td>1401321</td>\n",
              "      <td>NaN</td>\n",
              "      <td>NaN</td>\n",
              "      <td>NaN</td>\n",
              "      <td>2812</td>\n",
              "      <td>6328475</td>\n",
              "      <td>NaN</td>\n",
              "    </tr>\n",
              "    <tr>\n",
              "      <th>1</th>\n",
              "      <td>LID.GOV-CD</td>\n",
              "      <td>NaN</td>\n",
              "      <td>NaN</td>\n",
              "      <td>NaN</td>\n",
              "      <td>2015</td>\n",
              "      <td>NaN</td>\n",
              "      <td>NaN</td>\n",
              "      <td>55</td>\n",
              "      <td>1</td>\n",
              "      <td>MANUTENÇÃO DE ESCRITÓRIO DE APOIO À ATIVIDADE ...</td>\n",
              "      <td>...</td>\n",
              "      <td>0</td>\n",
              "      <td>NaN</td>\n",
              "      <td>NaN</td>\n",
              "      <td>1436042</td>\n",
              "      <td>NaN</td>\n",
              "      <td>NaN</td>\n",
              "      <td>NaN</td>\n",
              "      <td>2812</td>\n",
              "      <td>6423547</td>\n",
              "      <td>NaN</td>\n",
              "    </tr>\n",
              "    <tr>\n",
              "      <th>2</th>\n",
              "      <td>LID.GOV-CD</td>\n",
              "      <td>NaN</td>\n",
              "      <td>NaN</td>\n",
              "      <td>NaN</td>\n",
              "      <td>2015</td>\n",
              "      <td>NaN</td>\n",
              "      <td>NaN</td>\n",
              "      <td>55</td>\n",
              "      <td>9</td>\n",
              "      <td>PASSAGEM AÉREA - REEMBOLSO</td>\n",
              "      <td>...</td>\n",
              "      <td>0</td>\n",
              "      <td>MÁRCIA OLIVEIRA GOMES;</td>\n",
              "      <td>SÃO PAULO / BRASÍLIA</td>\n",
              "      <td>1401049</td>\n",
              "      <td>NaN</td>\n",
              "      <td>NaN</td>\n",
              "      <td>NaN</td>\n",
              "      <td>2812</td>\n",
              "      <td>6327499</td>\n",
              "      <td>NaN</td>\n",
              "    </tr>\n",
              "    <tr>\n",
              "      <th>3</th>\n",
              "      <td>LID.GOV-CD</td>\n",
              "      <td>NaN</td>\n",
              "      <td>NaN</td>\n",
              "      <td>NaN</td>\n",
              "      <td>2015</td>\n",
              "      <td>NaN</td>\n",
              "      <td>NaN</td>\n",
              "      <td>55</td>\n",
              "      <td>9</td>\n",
              "      <td>PASSAGEM AÉREA - REEMBOLSO</td>\n",
              "      <td>...</td>\n",
              "      <td>0</td>\n",
              "      <td>MÁRCIA OLIVEIRA GOMES;</td>\n",
              "      <td>BRASÍLIA/SÃO PAULO</td>\n",
              "      <td>1401049</td>\n",
              "      <td>NaN</td>\n",
              "      <td>NaN</td>\n",
              "      <td>NaN</td>\n",
              "      <td>2812</td>\n",
              "      <td>6327494</td>\n",
              "      <td>NaN</td>\n",
              "    </tr>\n",
              "    <tr>\n",
              "      <th>4</th>\n",
              "      <td>LID.GOV-CD</td>\n",
              "      <td>NaN</td>\n",
              "      <td>NaN</td>\n",
              "      <td>NaN</td>\n",
              "      <td>2015</td>\n",
              "      <td>NaN</td>\n",
              "      <td>NaN</td>\n",
              "      <td>55</td>\n",
              "      <td>13</td>\n",
              "      <td>FORNECIMENTO DE ALIMENTAÇÃO DO PARLAMENTAR</td>\n",
              "      <td>...</td>\n",
              "      <td>0</td>\n",
              "      <td>NaN</td>\n",
              "      <td>NaN</td>\n",
              "      <td>1411388</td>\n",
              "      <td>NaN</td>\n",
              "      <td>NaN</td>\n",
              "      <td>NaN</td>\n",
              "      <td>2812</td>\n",
              "      <td>6356388</td>\n",
              "      <td>NaN</td>\n",
              "    </tr>\n",
              "  </tbody>\n",
              "</table>\n",
              "<p>5 rows × 32 columns</p>\n",
              "</div>"
            ],
            "text/plain": [
              "  txNomeParlamentar  cpf ideCadastro nuCarteiraParlamentar nuLegislatura sgUF  \\\n",
              "0        LID.GOV-CD  NaN         NaN                   NaN          2015  NaN   \n",
              "1        LID.GOV-CD  NaN         NaN                   NaN          2015  NaN   \n",
              "2        LID.GOV-CD  NaN         NaN                   NaN          2015  NaN   \n",
              "3        LID.GOV-CD  NaN         NaN                   NaN          2015  NaN   \n",
              "4        LID.GOV-CD  NaN         NaN                   NaN          2015  NaN   \n",
              "\n",
              "  sgPartido codLegislatura numSubCota  \\\n",
              "0       NaN             55          1   \n",
              "1       NaN             55          1   \n",
              "2       NaN             55          9   \n",
              "3       NaN             55          9   \n",
              "4       NaN             55         13   \n",
              "\n",
              "                                        txtDescricao  ... numParcela  \\\n",
              "0  MANUTENÇÃO DE ESCRITÓRIO DE APOIO À ATIVIDADE ...  ...          0   \n",
              "1  MANUTENÇÃO DE ESCRITÓRIO DE APOIO À ATIVIDADE ...  ...          0   \n",
              "2                         PASSAGEM AÉREA - REEMBOLSO  ...          0   \n",
              "3                         PASSAGEM AÉREA - REEMBOLSO  ...          0   \n",
              "4         FORNECIMENTO DE ALIMENTAÇÃO DO PARLAMENTAR  ...          0   \n",
              "\n",
              "            txtPassageiro             txtTrecho  numLote numRessarcimento  \\\n",
              "0                     NaN                   NaN  1401321              NaN   \n",
              "1                     NaN                   NaN  1436042              NaN   \n",
              "2  MÁRCIA OLIVEIRA GOMES;  SÃO PAULO / BRASÍLIA  1401049              NaN   \n",
              "3  MÁRCIA OLIVEIRA GOMES;    BRASÍLIA/SÃO PAULO  1401049              NaN   \n",
              "4                     NaN                   NaN  1411388              NaN   \n",
              "\n",
              "  datPagamentoRestituicao vlrRestituicao  nuDeputadoId ideDocumento  \\\n",
              "0                     NaN            NaN          2812      6328475   \n",
              "1                     NaN            NaN          2812      6423547   \n",
              "2                     NaN            NaN          2812      6327499   \n",
              "3                     NaN            NaN          2812      6327494   \n",
              "4                     NaN            NaN          2812      6356388   \n",
              "\n",
              "   urlDocumento  \n",
              "0           NaN  \n",
              "1           NaN  \n",
              "2           NaN  \n",
              "3           NaN  \n",
              "4           NaN  \n",
              "\n",
              "[5 rows x 32 columns]"
            ]
          },
          "execution_count": 144,
          "metadata": {},
          "output_type": "execute_result"
        }
      ],
      "source": [
        "# No meu caso, como Arnaldo Faria de Sá (escolhi este pois os outros são muito antigos) teve mandato até 2018,\n",
        "# eu irei pegar o arquivo de gastos de 2017.\n",
        "# Você pode alterar, dependendo de até quando foi o mandato do\n",
        "# deputado com mais candidaturas do seu estado.\n",
        "url = \"http://www.camara.leg.br/cotas/Ano-2017.csv.zip\"\n",
        "\n",
        "DTYPE = {\n",
        "    'txNomeParlamentar': str,\n",
        "    'ideCadastro': str,\n",
        "    'nuCarteiraParlamentar': str,\n",
        "    'nuLegislatura': str,\n",
        "    'sgUF': str,\n",
        "    'sgPartido': str,\n",
        "    'codLegislatura': str,\n",
        "    'numSubCota': str,\n",
        "    'txtDescricao': str,\n",
        "    'numEspecificacaoSubCota': str,\n",
        "    'txtDescricaoEspecificacao': str,\n",
        "    'txtFornecedor': str,\n",
        "    \"cpf\": str,\n",
        "    'txtCNPJCPF': str,\n",
        "    'txtNumero': str,\n",
        "    'indTipoDocumento': str,\n",
        "    'datEmissao': str,\n",
        "    'vlrDocumento': float,\n",
        "    'vlrGlosa': str,\n",
        "    'vlrLiquido': float,\n",
        "    'numMes': str,\n",
        "    'numAno': str,\n",
        "    'numParcela': str,\n",
        "    'txtPassageiro': str,\n",
        "    'txtTrecho': str,\n",
        "    'numLote': str,\n",
        "    'numRessarcimento': str,\n",
        "    'nuDeputadoId': str,\n",
        "    'ideDocumento': str,\n",
        "}\n",
        "\n",
        "df_reembolso = pd.read_csv(\n",
        "    url,\n",
        "    sep=\";\",\n",
        "    dtype=DTYPE,\n",
        "    compression=\"zip\"\n",
        ")\n",
        "df_reembolso.head()"
      ]
    },
    {
      "cell_type": "code",
      "execution_count": 145,
      "id": "ol_uFSGrw_eu",
      "metadata": {
        "colab": {
          "base_uri": "https://localhost:8080/"
        },
        "id": "ol_uFSGrw_eu",
        "outputId": "1ea500a0-e1e4-4b97-fc50-29e519508578"
      },
      "outputs": [
        {
          "data": {
            "text/plain": [
              "array(['Fausto Pinato', 'Arlindo Chinaglia', 'ARNALDO FARIA DE SÁ',\n",
              "       'BETO MANSUR', 'Celso Russomanno', 'Ivan Valente',\n",
              "       'JORGE TADEU MUDALEN', 'NELSON MARQUEZELLI', 'SILVIO TORRES',\n",
              "       'ANTONIO CARLOS MENDES THAME', 'ROBERTO FREIRE', 'Carlos Sampaio',\n",
              "       'Gilberto Nascimento', 'Jefferson Campos', 'JOSÉ MENTOR',\n",
              "       'LOBBE NETO', 'Vicentinho', 'Luiza Erundina', 'MILTON MONTI',\n",
              "       'RODRIGO GARCIA', 'Eduardo Bolsonaro', 'VALMIR PRASCIDELLI',\n",
              "       'Marcelo Squassoni', 'PAULO MALUF', 'ANTONIO BULHÕES',\n",
              "       'Arnaldo Jardim', 'Carlos Zarattini', 'RICARDO TRIPOLI',\n",
              "       'Paulo Teixeira', 'Paulinho da Força', 'Vanderlei Macris',\n",
              "       'Vinicius Carvalho', 'WALTER IHOSHI', 'Roberto Alves',\n",
              "       'Eli Corrêa Filho', 'Alexandre Leite', 'Paulo Freire Costa',\n",
              "       'MISSIONÁRIO JOSÉ OLIMPIO', 'MARA GABRILLI', 'Bruna Furlan',\n",
              "       'Pr. Marco Feliciano', 'VICENTE CANDIDO', 'Roberto de Lucena',\n",
              "       'Ricardo Izar', 'KEIKO OTA', 'MARCELO AGUIAR', 'Guilherme Mussi',\n",
              "       'Tiririca', 'MAJOR OLIMPIO', 'EVANDRO GUSSI', 'Capitão Augusto',\n",
              "       'Dr. Sinval Malheiros', 'Alex Manente', 'ANA PERUGINI',\n",
              "       'ANDRES SANCHEZ', 'Baleia Rossi', 'BRUNO COVAS', 'Eduardo Cury',\n",
              "       'FLAVINHO', 'FLORIANO PESARO', 'GOULART', 'Herculano Passos',\n",
              "       'Luiz Lauro Filho', 'Marcio Alvino', 'Miguel Haddad',\n",
              "       'Miguel Lombardi', 'Nilto Tatto', 'Orlando Silva',\n",
              "       'JOÃO PAULO PAPA', 'Renata Abreu', 'Samuel Moreira', 'SÉRGIO REIS',\n",
              "       'Vitor Lippi', 'RICARDO BENTINHO', 'POLLYANA GAMA',\n",
              "       'ADÉRMIS MARINI', 'IZAQUE SILVA'], dtype=object)"
            ]
          },
          "execution_count": 145,
          "metadata": {},
          "output_type": "execute_result"
        }
      ],
      "source": [
        "df_reembolso[df_reembolso[\"sgUF\"] == \"SP\"][\"txNomeParlamentar\"].unique()"
      ]
    },
    {
      "cell_type": "code",
      "execution_count": 146,
      "id": "e3n7LepBxfBT",
      "metadata": {
        "colab": {
          "base_uri": "https://localhost:8080/"
        },
        "id": "e3n7LepBxfBT",
        "outputId": "10a3be89-c843-460b-c84f-09a5ab1070e2"
      },
      "outputs": [
        {
          "data": {
            "text/plain": [
              "0             LID.GOV-CD\n",
              "1             LID.GOV-CD\n",
              "2             LID.GOV-CD\n",
              "3             LID.GOV-CD\n",
              "4             LID.GOV-CD\n",
              "               ...      \n",
              "367996    XUXU DAL MOLIN\n",
              "367997    XUXU DAL MOLIN\n",
              "367998    XUXU DAL MOLIN\n",
              "367999    XUXU DAL MOLIN\n",
              "368000    XUXU DAL MOLIN\n",
              "Name: txNomeParlamentar, Length: 368001, dtype: object"
            ]
          },
          "execution_count": 146,
          "metadata": {},
          "output_type": "execute_result"
        }
      ],
      "source": [
        "df_reembolso[\"txNomeParlamentar\"].str.upper()"
      ]
    },
    {
      "cell_type": "code",
      "execution_count": 147,
      "id": "G-RZO50-xlqY",
      "metadata": {
        "id": "G-RZO50-xlqY"
      },
      "outputs": [],
      "source": [
        "df_reembolso[\"txNomeParlamentar\"] = df_reembolso[\"txNomeParlamentar\"].str.upper()"
      ]
    },
    {
      "cell_type": "code",
      "execution_count": 148,
      "id": "2e6e18c3",
      "metadata": {},
      "outputs": [
        {
          "data": {
            "text/plain": [
              "array(['LID.GOV-CD', 'LID.GOV-CN',\n",
              "       'LIDERANÇA DO PARTIDO REPUBLICANO DA ORDEM SOCIAL',\n",
              "       'LIDERANÇA DO PDT', 'LIDERANÇA DO PHS', 'LIDERANÇA DO PODEMOS',\n",
              "       'LIDERANÇA DO PSDB', 'LIDERANÇA DO PSOL', 'LIDERANÇA DO PT',\n",
              "       'LIDERANÇA DO PTN', 'LIDERANÇA DO SOLIDARIEDADE', 'SILVIO COSTA',\n",
              "       'IZALCI LUCAS', 'DANILO FORTE', 'MARIA HELENA', 'NORMA AYUB',\n",
              "       'FAUSTO PINATO', 'IRACEMA PORTELLA', 'JÚLIA MARINHO', 'BACELAR',\n",
              "       'FELIPE CARRERAS', 'CELSO PANSERA', 'SIMÃO SESSIM',\n",
              "       'ARLINDO CHINAGLIA', 'ARNALDO FARIA DE SÁ', 'BETO MANSUR',\n",
              "       'CELSO RUSSOMANNO', 'ALEX CANZIANI', 'OSMAR SERRAGLIO',\n",
              "       'RUBENS BUENO', 'HENRIQUE FONTANA', 'LUIS CARLOS HEINZE',\n",
              "       'POMPEO DE MATTOS', 'IVAN VALENTE', 'JORGE TADEU MUDALEN',\n",
              "       'NELSON MARQUEZELLI', 'SILVIO TORRES', 'CELSO JACOB',\n",
              "       'ALBERTO FRAGA', 'ANTONIO CARLOS MENDES THAME', 'JÚLIO DELGADO',\n",
              "       'AUGUSTO CARVALHO', 'JOVAIR ARANTES', 'ROBERTO BALESTRA',\n",
              "       'OSMAR TERRA', 'BENEDITA DA SILVA', 'JOSÉ REINALDO', 'CESAR SOUZA',\n",
              "       'DILCEU SPERAFICO', 'HERMES PARCIANELLO', 'LUIZ CARLOS HAULY',\n",
              "       'NELSON MEURER', 'REINHOLD STEPHANES', 'EDINHO BEZ',\n",
              "       'ROBERTO FREIRE', 'SÉRGIO BRITO', 'DARCÍSIO PERONDI',\n",
              "       'JANETE CAPIBERIBE', 'WLADIMIR COSTA', 'ZÉ GERALDO',\n",
              "       'CARLOS SOUZA', 'YEDA CRUSIUS', 'VALDIR COLATTO', 'PAULO FEIJÓ',\n",
              "       'BENJAMIN MARANHÃO', 'LUIZ COUTO', 'WELLINGTON ROBERTO',\n",
              "       'RAUL JUNGMANN', 'MAURÍCIO QUINTELLA LESSA', 'ALICE PORTUGAL',\n",
              "       'DANIEL ALMEIDA', 'ELCIONE BARBALHO', 'JOSÉ PRIANTE', 'ÁTILA LINS',\n",
              "       'PAUDERNEY AVELINO', 'ARIOSTO HOLANDA', 'JOSÉ CARLOS ARAÚJO',\n",
              "       'JOSIAS GOMES', 'LEONARDO MONTEIRO', 'MÁRIO HERINGER',\n",
              "       'PATRUS ANANIAS', 'REGINALDO LOPES', 'CARLOS MANATO',\n",
              "       'CHICO ALENCAR', 'DELEY', 'MARINHA RAUPP', 'SARNEY FILHO',\n",
              "       'ANÍBAL GOMES', 'RAIMUNDO GOMES DE MATOS', 'MARCUS VICENTE',\n",
              "       'JULIO LOPES', 'LEONARDO PICCIANI', 'CARLOS SAMPAIO',\n",
              "       'GILBERTO NASCIMENTO', 'JEFFERSON CAMPOS', 'JOSÉ MENTOR',\n",
              "       'LOBBE NETO', 'VICENTINHO', 'LEÔNIDAS CRISTINO', 'VICENTE ARRUDA',\n",
              "       'JÚLIO CESAR', 'PAES LANDIM', 'JOSUÉ BENGTSON', 'NILSON PINTO',\n",
              "       'SILAS CÂMARA', 'NILTON CAPIXABA', 'JOÃO CAMPOS', 'RUBENS OTONI',\n",
              "       'SANDES JÚNIOR', 'GERALDO RESENDE', 'VANDER LOUBET',\n",
              "       'ASSIS DO COUTO', 'GIACOBO', 'TAKAYAMA', 'JORGE BOEIRA',\n",
              "       'JOSÉ OTÁVIO GERMANO', 'MARIA DO ROSÁRIO', 'ONYX LORENZONI',\n",
              "       'PAULO PIMENTA', 'GONZAGA PATRIOTA', 'MENDONÇA FILHO',\n",
              "       'WOLNEY QUEIROZ', 'PEDRO FERNANDES', 'ÁTILA LIRA',\n",
              "       'MARCELO CASTRO', 'DAMIÃO FELICIANO', 'ANDRÉ DE PAULA',\n",
              "       'CARLOS EDUARDO CADOCA', 'LUCIANO BIVAR', 'BENITO GAMA',\n",
              "       'CLAUDIO CAJADO', 'JOSÉ CARLOS ALELUIA', 'JOSÉ ROCHA',\n",
              "       'GIVALDO CARIMBÃO', 'JUTAHY JUNIOR', 'NELSON PELLEGRINO',\n",
              "       'PAULO MAGALHÃES', 'LINCOLN PORTELA', 'MARCOS MEDRADO',\n",
              "       'BONIFÁCIO DE ANDRADA', 'CARLOS MELLES', 'EDUARDO BARBOSA',\n",
              "       'JAIME MARTINS', 'LUIZ SÉRGIO', 'RODRIGO MAIA', 'MAURO LOPES',\n",
              "       'SARAIVA FELIPE', 'LUIZA ERUNDINA', 'MILTON MONTI', 'PEDRO CHAVES',\n",
              "       'AROLDE DE OLIVEIRA', 'JAIR BOLSONARO', 'JANDIRA FEGHALI',\n",
              "       'LAURA CARNEIRO', 'MIRO TEIXEIRA', 'MARCELO MATOS', 'IRAJÁ ABREU',\n",
              "       'LUANA COSTA', 'RODRIGO GARCIA', 'ROBINSON ALMEIDA',\n",
              "       'EDUARDO BOLSONARO', 'FERNANDO MONTEIRO', 'STEFANO AGUIAR',\n",
              "       'CACÁ LEÃO', 'CRISTIANE BRASIL', 'LUCIO VIEIRA LIMA',\n",
              "       'HERÁCLITO FORTES', 'ERIVELTON SANTANA', 'DAVIDSON MAGALHÃES',\n",
              "       'CABUÇU BORGES', 'JOÃO MARCELO SOUZA', 'VALMIR PRASCIDELLI',\n",
              "       'JOSI NUNES', 'MARCELO SQUASSONI', 'PEDRO PAULO',\n",
              "       'RONALDO MARTINS', 'MAURO PEREIRA', 'GABRIEL GUIMARÃES',\n",
              "       'GORETE PEREIRA', 'JARBAS VASCONCELOS', 'JOSÉ FOGAÇA',\n",
              "       'PAULO MALUF', 'ENIO VERRI', 'MARCO MAIA', 'ADEMIR CAMILO',\n",
              "       'ANDRÉ FIGUEIREDO', 'EDMILSON RODRIGUES', 'AFONSO HAMM',\n",
              "       'VICENTINHO JÚNIOR', 'BETO FARO', 'AELTON FREITAS',\n",
              "       'ANTONIO BULHÕES', 'VALADARES FILHO', 'INDIO DA COSTA',\n",
              "       'ARNALDO JARDIM', 'BRUNO ARAÚJO', 'CARLOS ZARATTINI',\n",
              "       'CARLOS BEZERRA', 'CELSO MALDANER', 'CLEBER VERDE',\n",
              "       'DAGOBERTO NOGUEIRA', 'DÉCIO LIMA', 'EDIO LOPES',\n",
              "       'EDUARDO DA FONTE', 'EFRAIM FILHO', 'FÁBIO RAMALHO', 'FÁBIO FARIA',\n",
              "       'FELIPE MAIA', 'FELIPE BORNIER', 'FERNANDO COELHO FILHO',\n",
              "       'FLAVIANO MELO', \"CHICO D'ANGELO\", 'CHICO LOPES', 'GEORGE HILTON',\n",
              "       'PEPE VARGAS', 'HUGO LEAL', 'ALFREDO KAEFER',\n",
              "       'JOÃO CARLOS BACELAR', 'JOSÉ AIRTON FÉLIX CIRILO',\n",
              "       'JOSÉ GUIMARÃES', 'RICARDO TRIPOLI', 'JULIÃO AMIN', 'LAERTE BESSA',\n",
              "       'LÁZARO BOTELHO', 'LEONARDO QUINTÃO', 'LINDOMAR GARÇON',\n",
              "       'LÚCIO VALE', 'LUIZ CARLOS BUSATO', 'LUIZ FERNANDO FARIA',\n",
              "       'PAULO TEIXEIRA', 'MANOEL JUNIOR', 'MARCOS MONTES', 'JÔ MORAES',\n",
              "       'MAURO MARIANI', 'BILAC PINTO', 'OTAVIO LEITE', 'PAULO ABI-ACKEL',\n",
              "       'PAULO HENRIQUE LUSTOSA', 'PAULINHO DA FORÇA',\n",
              "       'SABINO CASTELO BRANCO', 'RENATO MOLLING', 'ROBERTO BRITTO',\n",
              "       'RODRIGO DE CASTRO', 'ROCHA LOURES', 'ROGÉRIO MARINHO',\n",
              "       'RÔMULO GOUVEIA', 'SÉRGIO MORAES', 'VALTENIR PEREIRA',\n",
              "       'VANDERLEI MACRIS', 'VINICIUS CARVALHO', 'WALDIR MARANHÃO',\n",
              "       'WALTER IHOSHI', 'LELO COIMBRA', 'DOMINGOS NETO', 'DANIEL VILELA',\n",
              "       'MARCELO ARO', 'ROSINHA DA ADEFAL', 'PROFESSOR VICTÓRIO GALLI',\n",
              "       'MÁRCIO MARINHO', 'LAERCIO OLIVEIRA', 'MAIA FILHO',\n",
              "       'GLAUBER BRAGA', 'ROBERTO ALVES', 'ASSIS CARVALHO',\n",
              "       'MARCUS PESTANA', 'ROGÉRIO ROSSO', 'AFONSO FLORENCE',\n",
              "       'JORGINHO MELLO', 'LUIS TIBÉ', 'ALESSANDRO MOLON', 'AUREO RIBEIRO',\n",
              "       'RONALDO BENEDET', 'PAULO FOLETTO', 'WELITON PRADO',\n",
              "       'AGUINALDO RIBEIRO', 'DANILO CABRAL', 'ANTONIO IMBASSAHY',\n",
              "       'JHONATAN DE JESUS', 'ELI CORRÊA FILHO', 'MARCON', 'MARCO TEBALDI',\n",
              "       'BOHN GASS', 'ARTHUR LIRA', 'ANDRE MOURA', 'ALEXANDRE LEITE',\n",
              "       'DANRLEI DE DEUS HINTERHOLZ', 'ANTONIO BRITO', 'PADRE JOÃO',\n",
              "       'PAULO FREIRE COSTA', 'ALCEU MOREIRA', 'MISSIONÁRIO JOSÉ OLIMPIO',\n",
              "       'MARA GABRILLI', 'NELSON PADOVANI', 'NELSON MARCHEZAN JUNIOR',\n",
              "       'WALDENOR PEREIRA', 'JERÔNIMO GOERGEN', 'JOÃO RODRIGUES',\n",
              "       'JORGE CÔRTE REAL', 'JOÃO ARRUDA', 'ERIKA KOKAY', 'CÉSAR HALUM',\n",
              "       'EDMAR ARRUDA', 'ASSIS MELO', 'ALBERTO FILHO', 'DIEGO ANDRADE',\n",
              "       'BRUNA FURLAN', 'VINICIUS GURGEL', 'ZECA DIRCEU',\n",
              "       'HEULER CRUVINEL', 'FLÁVIA MORAIS', 'DIMAS FABIANO',\n",
              "       'ARTHUR OLIVEIRA MAIA', 'PR. MARCO FELICIANO', 'ARNALDO JORDY',\n",
              "       'PEDRO UCZAI', 'JOSE STÉDILE', 'VALMIR ASSUNÇÃO',\n",
              "       'TONINHO PINHEIRO', 'SERGIO ZVEITER', 'THIAGO PEIXOTO',\n",
              "       'JOSÉ NUNES', 'SANDRO ALEX', 'VICENTE CANDIDO', 'LUCIANA SANTOS',\n",
              "       'SÁGUAS MORAES', 'WALNEY ROCHA', 'ZÉ SILVA', 'MANDETTA',\n",
              "       'WILSON FILHO', 'RONALDO FONSECA',\n",
              "       'PROFESSORA DORINHA SEABRA REZENDE', 'EROS BIONDINI',\n",
              "       'PROFESSORA MARCIVANIA', 'PASTOR EURICO', 'DR. JORGE SILVA',\n",
              "       'DELEGADO FRANCISCHINI', 'ESPERIDIÃO AMIN',\n",
              "       'ROGÉRIO PENINHA MENDONÇA', 'ROBERTO DE LUCENA', 'RENZO BRAZ',\n",
              "       'RICARDO IZAR', 'KEIKO OTA', 'MARCELO AGUIAR', 'LEOPOLDO MEYER',\n",
              "       'AUGUSTO COUTINHO', 'FÉLIX MENDONÇA JÚNIOR', 'GUILHERME MUSSI',\n",
              "       'GENECIAS NORONHA', 'JEAN WYLLYS', 'GIOVANI CHERINI', 'HUGO MOTTA',\n",
              "       'FERNANDO TORRES', 'FRANCISCO FLORIANO', 'DOMINGOS SÁVIO',\n",
              "       'TIRIRICA', 'LUIZ NISHIMORI', 'RONALDO NOGUEIRA',\n",
              "       'FERNANDO JORDÃO', 'DELEGADO WALDIR', 'CARMEN ZANOTTO',\n",
              "       'NILSON LEITÃO', 'MAGDA MOFATTO', 'WEVERTON ROCHA',\n",
              "       'SEVERINO NINHO', 'MARCOS ROGÉRIO', 'PAULÃO', 'MARGARIDA SALOMÃO',\n",
              "       'RENATO ANDRADE', 'FABIO REIS', 'SUBTENENTE GONZAGA',\n",
              "       'LUIZ CARLOS RAMOS', 'LEO DE BRITO', 'MAJOR OLIMPIO', 'MAX FILHO',\n",
              "       'EVANDRO GUSSI', 'CAPITÃO AUGUSTO', 'DR. SINVAL MALHEIROS',\n",
              "       'ANDRÉ ABDON', 'LEANDRE', 'ALEXANDRE SERFIOTIS', 'BEBETO',\n",
              "       'AFONSO MOTTA', 'ALAN RICK', 'ANGELIM', 'CÉSAR MESSIAS',\n",
              "       'JÉSSICA SALES', 'ROCHA', 'CÍCERO ALMEIDA', 'JHC', 'MARX BELTRÃO',\n",
              "       'PEDRO VILELA', 'RONALDO LESSA', 'ALFREDO NASCIMENTO',\n",
              "       'ARTHUR VIRGÍLIO BISNETO', 'CONCEIÇÃO SAMPAIO', 'HISSA ABRAHÃO',\n",
              "       'JOZI ARAÚJO', 'MARCOS REATEGUI', 'CAETANO', 'ELMAR NASCIMENTO',\n",
              "       'IRMÃO LAZARO', 'JOÃO GUALBERTO', 'JORGE SOLLA',\n",
              "       'MÁRIO NEGROMONTE JR.', 'MOEMA GRAMACHO', 'PAULO AZI',\n",
              "       'RONALDO CARLETTO', 'TIA ERON', 'ULDURICO JUNIOR',\n",
              "       'ADAIL CARNEIRO', 'CABO SABINO', 'LUIZIANNE LINS', 'MACEDO',\n",
              "       'ODORICO MONTEIRO', 'VITOR VALIM', 'RÔNEY NEMER',\n",
              "       'EVAIR VIEIRA DE MELO', 'GIVALDO VIEIRA', 'HELDER SALOMÃO',\n",
              "       'SERGIO VIDIGAL', 'ALEXANDRE BALDY', 'CÉLIO SILVEIRA',\n",
              "       'FÁBIO SOUSA', 'GIUSEPPE VECCI', 'LUCAS VERGILIO', 'MARCOS ABRÃO',\n",
              "       'ALUISIO MENDES', 'ANDRÉ FUFUCA', 'ELIZIANE GAMA', 'HILDO ROCHA',\n",
              "       'JUNIOR MARRECA', 'JUSCELINO FILHO', 'RUBENS PEREIRA JÚNIOR',\n",
              "       'VICTOR MENDES', 'ZÉ CARLOS', 'ADELMO CARNEIRO LEÃO',\n",
              "       'CAIO NARCIO', 'DÂMINA PEREIRA', 'DELEGADO EDSON MOREIRA',\n",
              "       'LAUDIVIO CARVALHO', 'MISAEL VARELLA', 'NEWTON CARDOSO JR',\n",
              "       'RODRIGO PACHECO', 'TENENTE LÚCIO', 'CARLOS MARUN',\n",
              "       'TEREZA CRISTINA', 'ZECA DO PT', 'ADILTON SACHETTI',\n",
              "       'EZEQUIEL FONSECA', 'FABIO GARCIA', 'BETO SALAME',\n",
              "       'FRANCISCO CHAPADINHA', 'DELEGADO ÉDER MAURO', 'HÉLIO LEITE',\n",
              "       'JOAQUIM PASSARINHO', 'SIMONE MORGADO', 'PEDRO CUNHA LIMA',\n",
              "       'VENEZIANO VITAL DO RÊGO', 'ADALBERTO CAVALCANTI', 'BETINHO GOMES',\n",
              "       'DANIEL COELHO', 'JOÃO FERNANDO COUTINHO', 'KAIO MANIÇOBA',\n",
              "       'MARINALDO ROSENDO', 'RICARDO TEOBALDO', 'SEBASTIÃO OLIVEIRA',\n",
              "       'TADEU ALENCAR', 'ZECA CAVALCANTI', 'CAPITÃO FÁBIO ABREU',\n",
              "       'REJANE DIAS', 'RODRIGO MARTINS', 'ALIEL MACHADO',\n",
              "       'CHRISTIANE DE SOUZA YARED', 'DIEGO GARCIA', 'ROMAN',\n",
              "       'LUCIANO DUCCI', 'SERGIO SOUZA', 'TONINHO WANDSCHEER',\n",
              "       'ALEXANDRE VALLE', 'ALTINEU CÔRTES', 'CABO DACIOLO', 'DR. JOÃO',\n",
              "       'EZEQUIEL TEIXEIRA', 'MARCO ANTÔNIO CABRAL', 'MARCOS SOARES',\n",
              "       'ROBERTO SALES', 'ROSANGELA GOMES', 'SORAYA SANTOS',\n",
              "       'SÓSTENES CAVALCANTE', 'BETO ROSADO', 'ZENAIDE MAIA',\n",
              "       'ANTÔNIO JÁCOME', 'RAFAEL MOTTA', 'WALTER ALVES', 'EXPEDITO NETTO',\n",
              "       'LUCIO MOSQUINI', 'LUIZ CLÁUDIO', 'MARIANA CARVALHO',\n",
              "       'ABEL MESQUITA JR.', 'CARLOS ANDRADE', 'HIRAN GONÇALVES',\n",
              "       'REMÍDIO MONAI', 'SHÉRIDAN', 'CARLOS GOMES', 'COVATTI FILHO',\n",
              "       'HEITOR SCHUCH', 'JOÃO DERLY', 'GEOVANIA DE SÁ',\n",
              "       'JOÃO PAULO KLEINÜBING', 'ADELSON BARRETO', 'FÁBIO MITIDIERI',\n",
              "       'JOÃO DANIEL', 'JONY MARCOS', 'ALEX MANENTE', 'ANA PERUGINI',\n",
              "       'ANDRES SANCHEZ', 'BALEIA ROSSI', 'BRUNO COVAS', 'EDUARDO CURY',\n",
              "       'FLAVINHO', 'FLORIANO PESARO', 'GOULART', 'HERCULANO PASSOS',\n",
              "       'LUIZ LAURO FILHO', 'MARCIO ALVINO', 'MIGUEL HADDAD',\n",
              "       'MIGUEL LOMBARDI', 'NILTO TATTO', 'ORLANDO SILVA',\n",
              "       'JOÃO PAULO PAPA', 'RENATA ABREU', 'SAMUEL MOREIRA', 'SÉRGIO REIS',\n",
              "       'VITOR LIPPI', 'CARLOS HENRIQUE GAGUIM', 'DULCE MIRANDA',\n",
              "       'ROBERTO GÓES', 'MOSES RODRIGUES', 'RAQUEL MUNIZ', 'BRUNNY',\n",
              "       'MARCELO ÁLVARO ANTÔNIO', 'MÁRCIO BIOLCHI', 'OSMAR BERTOLDI',\n",
              "       'MARQUINHO MENDES', 'ELIZEU DIONIZIO', 'DEOCLIDES MACEDO',\n",
              "       'FRANKLIN', 'SILAS FREIRE', 'MERLONG SOLANO', 'WADIH DAMOUS',\n",
              "       'ZÉ AUGUSTO NALIN', 'ANGELA ALBINO', 'WILSON BESERRA',\n",
              "       'NELSON NAHIM', 'PAULO EDUARDO MARTINS', 'PASTOR LUCIANO BRAGA',\n",
              "       'CREUZA PEREIRA', 'GUILHERME COELHO', 'NIVALDO ALBUQUERQUE',\n",
              "       'CAJAR NARDES', 'JONES MARTINS', 'ANDRÉ AMARAL', 'MOISÉS DINIZ',\n",
              "       'RICARDO BENTINHO', 'MARCELO DELAROLI', 'VAIDON OLIVEIRA',\n",
              "       'POLLYANA GAMA', 'DEJORGE PATRÍCIO', 'LOURIVAL GOMES',\n",
              "       'ADÉRMIS MARINI', 'IZAQUE SILVA', 'LUZIA FERREIRA',\n",
              "       'ROGÉRIO SILVA', 'XUXU DAL MOLIN'], dtype=object)"
            ]
          },
          "execution_count": 148,
          "metadata": {},
          "output_type": "execute_result"
        }
      ],
      "source": [
        "df_reembolso[\"txNomeParlamentar\"].unique()"
      ]
    },
    {
      "cell_type": "code",
      "execution_count": 149,
      "id": "4134f5a6",
      "metadata": {},
      "outputs": [
        {
          "name": "stderr",
          "output_type": "stream",
          "text": [
            "C:\\Users\\Luiz\\AppData\\Local\\Temp\\ipykernel_11072\\4095989880.py:1: SettingWithCopyWarning: \n",
            "A value is trying to be set on a copy of a slice from a DataFrame.\n",
            "Try using .loc[row_indexer,col_indexer] = value instead\n",
            "\n",
            "See the caveats in the documentation: https://pandas.pydata.org/pandas-docs/stable/user_guide/indexing.html#returning-a-view-versus-a-copy\n",
            "  tb_federais[\"Deputados federais eleitos\"] = tb_federais[\"Deputados federais eleitos\"].to_string()\n"
          ]
        }
      ],
      "source": [
        "tb_federais[\"Deputados federais eleitos\"] = tb_federais[\"Deputados federais eleitos\"].to_string()"
      ]
    },
    {
      "cell_type": "code",
      "execution_count": 150,
      "id": "uJvA11V5xuOP",
      "metadata": {
        "id": "uJvA11V5xuOP"
      },
      "outputs": [
        {
          "name": "stderr",
          "output_type": "stream",
          "text": [
            "C:\\Users\\Luiz\\AppData\\Local\\Temp\\ipykernel_11072\\1194135638.py:1: SettingWithCopyWarning: \n",
            "A value is trying to be set on a copy of a slice from a DataFrame\n",
            "\n",
            "See the caveats in the documentation: https://pandas.pydata.org/pandas-docs/stable/user_guide/indexing.html#returning-a-view-versus-a-copy\n",
            "  tb_federais.loc[\"Deputados federais eleitos\"] = tb_federais[\"Deputados federais eleitos\"].str.upper()\n"
          ]
        }
      ],
      "source": [
        "tb_federais.loc[\"Deputados federais eleitos\"] = tb_federais[\"Deputados federais eleitos\"].str.upper()"
      ]
    },
    {
      "cell_type": "code",
      "execution_count": 151,
      "id": "331a5019",
      "metadata": {
        "id": "331a5019",
        "outputId": "fab03654-00c8-4731-ebcc-b516d96a432c"
      },
      "outputs": [
        {
          "data": {
            "text/plain": [
              "array([\"0                        Ulysses Guimarães\\n1                             Herbert Levy\\n2                      Arnaldo Faria de Sá\\n3                        Arlindo Chinaglia\\n4                           Pacheco Chaves\\n5                              Cunha Bueno\\n6                       Nelson Marquezelli\\n7                         Celso Russomanno\\n8                           Luiza Erundina\\n9                    Ernesto Pereira Lopes\\n10                            Ivete Vargas\\n11                  Ademar de Barros Filho\\n12                             Maluly Neto\\n13                         Alberto Goldman\\n14                            José Genoino\\n15                            Ricardo Izar\\n16                            Mendes Thame\\n17                             Aldo Rebelo\\n18                     Jorge Tadeu Mudalen\\n19                     Valdemar Costa Neto\\n20                            Ivan Valente\\n21                          Carlos Sampaio\\n22                           Emilio Carlos\\n23                              Lauro Cruz\\n24                        Arnaldo Cerdeira\\n25                      João Batista Ramos\\n26                           Amaral Furlan\\n27                          Franco Montoro\\n28                       Athiê Jorge Coury\\n29                        Francisco Amaral\\n30                   Roberto Cardoso Alves\\n31                            Diogo Nomura\\n32                            José Camargo\\n33                            Delfim Netto\\n34                             Vadão Gomes\\n35                             Beto Mansur\\n36                        João Paulo Cunha\\n37                            Milton Monti\\n38                  Vicente Paulo da Silva\\n39                        Jefferson Campos\\n40                          Arnaldo Jardim\\n41                        Carlos Zarattini\\n42                          Paulo Teixeira\\n43                       Antônio Feliciano\\n44                           Campos Vergal\\n45                       José João Abdalla\\n46                       Carvalho Sobrinho\\n47                             Cunha Bueno\\n48                           Ferraz Egreja\\n49                        Ferreira Martins\\n50                        Ranieri Mazzilli\\n51                       Yukishigue Tamura\\n52                         Henrique Turner\\n53                        Cantídio Sampaio\\n54                            Dias Menezes\\n55                       Adalberto Camargo\\n56                          Baldacci Filho\\n57                           Gastone Righi\\n58                      Israel Dias Novaes\\n59                       Santilli Sobrinho\\n60                           Freitas Nobre\\n61                         Airton Sandoval\\n62                              João Cunha\\n63                           Tidei de Lima\\n64                           João Herrmann\\n65                             Paulo Maluf\\n66                           Eduardo Jorge\\n67                             Robson Tuma\\n68                Antonio Carlos Pannunzio\\n69                           Edinho Araújo\\n70                             José Aníbal\\n71                            Michel Temer\\n72                       Salvador Zimbaldi\\n73                         Júlio Semeghini\\n74                        Ricardo Berzoini\\n75                             José Mentor\\n76                       Paulinho da Força\\n77                     Gilberto Nascimento\\n78                         Alexandre Leite\\n79                         Marco Feliciano\\n80                      Paulo Freire Costa\\n81                                Tiririca\\n82                           Horácio Lafer\\n83                             Hugo Borghi\\n84                      Carmelo d'Agostino\\n85                           Nelson Omegna\\n86                          Ortiz Monteiro\\n87                             Paulo Abreu\\n88                       André Broca Filho\\n89                          Luiz Francisco\\n90                          Hamilton Prado\\n91                         Harry Normanton\\n92                             Mário Covas\\n93                          Plínio Salgado\\n94                          Sussumu Hirata\\n95                         Bezerra de Melo\\n96                      Cardoso de Almeida\\n97                           Airton Soares\\n98                     Alcides Franciscato\\n99                            Gioia Júnior\\n100                    Otacílio de Almeida\\n101                    Salvador Julianelli\\n102                        Theodoro Mendes\\n103                  Caio Pompeu de Toledo\\n104                       Del Bosco Amaral\\n105                            Ralph Biasi\\n106                            Samir Achôa\\n107                        Francisco Rossi\\n108                           Irma Passoni\\n109                         Mendes Botelho\\n110                         Fabio Feldmann\\n111                               Koyu Iha\\n112                          Luiz Gushiken\\n113                               Ary Kara\\n114                            José Dirceu\\n115                     Luiz Carlos Santos\\n116                       Marcelo Barbieri\\n117                          Aloysio Nunes\\n118                José Aristodemo Pinotti\\n119                       Corauci Sobrinho\\n120                             Paulo Lima\\n121                         Telma de Souza\\n122                          Sílvio Torres\\n123                        Arnaldo Madeira\\n124                        Devanir Ribeiro\\n125                          Dimas Ramalho\\n126                             Lobbe Neto\\n127                        Antônio Bulhões\\n128                        Duarte Nogueira\\n129                        Ricardo Tripoli\\n130                       Vanderlei Macris\\n131                           Bruna Furlan\\n132                       Eli Corrêa Filho\\n133                        Guilherme Mussi\\n134                    Ricardo Izar Júnior\\n135                      Roberto de Lucena\\n136                           Jilmar Tatto\\n137                           Alex Manente\\n138                           Baleia Rossi\\n139                        Capitão Augusto\\n140                      Eduardo Bolsonaro\\n141                          Fausto Pinato\\n142                          Márcio Alvino\\n143                        Miguel Lombardi\\n144                            Nilto Tatto\\n145                           Renata Abreu\\n146                      Vinicius Carvalho\\n147                            Vítor Lippi\\n148                          Eusébio Rocha\\n149                         Novelli Júnior\\n150                            Romeu Fiori\\n151                            Artur Audrá\\n152                        Castilho Cabral\\n153                    Coutinho Cavalcanti\\n154                          Frota Moreira\\n155                             Mário Beni\\n156                    Menotti del Picchia\\n157                            Paulo Lauro\\n158                              Lelo Maia\\n159                           Machado Neto\\n160                          Miguel Leuzzi\\n161                       Afrânio Oliveira\\n162                    Derville Allegretti\\n163                             José Menck\\n164                           Nicolau Tuma\\n165                  Paulo de Tarso Santos\\n166                         Alceu Carvalho\\n167                             Aniz Badra\\n168                           Celso Amaral\\n169                           Evaldo Pinto\\n170                           José Resegue\\n171                           Levi Tavares\\n172                       Maurício Goulart\\n173                          Padre Godinho\\n174               Plínio de Arruda Sampaio\\n175                          Braz de Assis\\n176                        Chaves Amarante\\n177                       Ítalo Fittipaldi\\n178                    Oscar Pedroso Horta\\n179                 Rui de Almeida Barbosa\\n180                José Roberto Faria Lima\\n181                      Sylvio Venturolli\\n182                       Antônio Morimoto\\n183                            João Arruda\\n184                     Joaquim Bevilacqua\\n185                   Jorge Paulo Nogueira\\n186                    Roberto de Carvalho\\n187                               Ruy Codo\\n188                          Aurélio Peres\\n189                          Carlos Nelson\\n190                          Horácio Ortiz\\n191                           José Coimbra\\n192                             Mário Hato\\n193                             Natal Gale\\n194                            Bete Mendes\\n195                      Farabulini Júnior\\n196                         Felipe Cheidde\\n197                           Paulo Zarzur\\n198                           Fausto Rocha\\n199                    Florestan Fernandes\\n200                        Geraldo Alckmin\\n201                      José Maria Eymael\\n202                             José Serra\\n203                         Manoel Moreira\\n204                  Sólon Borges dos Reis\\n205                     Aloizio Mercadante\\n206                          André Benassi\\n207                           Hélio Bicudo\\n208                            Hélio Rosas\\n209                       João Mellão Neto\\n210                          Tuga Angerami\\n211                           Wagner Rossi\\n212                         Antônio Kandir\\n213                      Duilio Pisaneschi\\n214                         Fernando Zuppo\\n215                        Jair Meneguelli\\n216                           José Machado\\n217                          José de Abreu\\n218                           Luciano Zica\\n219                       Paulo de Velasco\\n220                      Régis de Oliveira\\n221                       Vicente Cascione\\n222                      Wagner Salustiano\\n223                           Zulaiê Cobra\\n224                       Ângela Guadagnin\\n225                        Antônio Palocci\\n226                        Evilásio Farias\\n227                        Gilberto Kassab\\n228                           Hélio Santos\\n229                          Iara Bernardi\\n230              Luiz Antônio Fleury Filho\\n231               Luiz Antônio de Medeiros\\n232                            Neuton Lima\\n233                     Professor Luizinho\\n234                       Wanderval Santos\\n235                         Enéas Carneiro\\n236                   José Eduardo Cardozo\\n237                          Marcelo Ortiz\\n238                         Walter Feldman\\n239                     Abelardo Camarinha\\n240                           Aline Corrêa\\n241                     Cândido Vaccarezza\\n242                        Edson Aparecido\\n243                      Emanuel Fernandes\\n244                       Guilherme Campos\\n245                           Janete Pietá\\n246                              João Dado\\n247                          Márcio França\\n248                       Roberto Santiago\\n249               Missionário José Olímpio\\n250                              Keiko Ota\\n251                          Mara Gabrilli\\n252                         Rodrigo Garcia\\n253                        Vicente Cândido\\n254                           Eduardo Cury\\n255                       Herculano Passos\\n256                          Orlando Silva\\n257                          Roberto Alves\\n258                         Samuel Moreira\\n259                         Alberto Mourão\\n260                        Jonas Donizette\\n261                        Adriana Ventura\\n262                        Alencar Santana\\n263                      Alexandre Padilha\\n264                         Carla Zambelli\\n265                   Cezinha de Madureira\\n266                           David Soares\\n267                      Guilherme Derrite\\n268                          Kim Kataguiri\\n269                      Luiz Carlos Motta\\n270    Luiz Philippe de Orléans e Bragança\\n271                       Marco Bertaiolli\\n272                         Marcos Pereira\\n273                            Maria Rosas\\n274                          Milton Vieira\\n275                           Rosana Valle\\n276                             Rui Falcão\\n277                           Sâmia Bomfim\\n278                          Tabata Amaral\\n279                         Altino Arantes\\n280                       Ataliba Nogueira\\n281                        Aureliano Leite\\n282                    Benedito Costa Neto\\n283                            Berto Condê\\n284                   Carlos Cirilo Júnior\\n285                            César Costa\\n286                         Gastão Vidigal\\n287                          Gofredo Teles\\n288                       Guaracy Silveira\\n289                            Jorge Amado\\n290                       José Alves Palma\\n291                           José Armando\\n292                     José Maria Crispim\\n293                           Lopes Ferraz\\n294                           Manuel Vítor\\n295                          Mário Masagão\\n296                            Mário Scott\\n297                          Martins Filho\\n298                        Osvaldo Pacheco\\n299                   Paulo Nogueira Filho\\n300                         Pedroso Júnior\\n301                         Plínio Barreto\\n302                        Romeu Lourenção\\n303                          Sampaio Vidal\\n304                       Sílvio de Campos\\n305                            Toledo Piza\\n306                 Diógenes Arruda Câmara\\n307                       Franklin Almeida\\n308                            Pedro Pomar\\n309                      Plínio Cavalcanti\\n310                         Alberto Botino\\n311                         Anísio Moreira\\n312                  Auro de Moura Andrade\\n313                           Dário Barros\\n314                          Íris Meinberg\\n315                        Lima Figueiredo\\n316                        Manhães Barreto\\n317                          Marrey Júnior\\n318                          Moura Rezende\\n319                         Marino Machado\\n320                 Ubirajara Keutenedjian\\n321                        Vieira Sobrinho\\n322                          Abguar Bastos\\n323                           Carlos Pujol\\n324                  Dagoberto Sales Filho\\n325                          José Miraglia\\n326                            Lauro Gomes\\n327                      Leonardo Barbieri\\n328                       Leônidas Cardoso\\n329                      Lincoln Feliciano\\n330                        Loureiro Júnior\\n331                          Mário Eugênio\\n332                     Monteiro de Barros\\n333                 Orozimbo Roxo Loureiro\\n334                          Plácido Rocha\\n335                       Quirino Ferreira\\n336                    Geraldo de Carvalho\\n337                      Gualberto Moreira\\n338                         Olavo Fontoura\\n339                             Ruy Novaes\\n340                       Salvador Losacco\\n341                        Valdemar Pessoa\\n342                           Adib Chammas\\n343                       Adrião Bernardes\\n344                      Antônio de Barros\\n345                       Francisco Morato\\n346                       Francisco Scarpa\\n347                      Geraldo de Barros\\n348                         Geraldo Santos\\n349                      Hélcio Maghenzani\\n350                          Lino Morganti\\n351                       Milo Cammarosano\\n352                           Paulo Mansur\\n353                    Rio Branco Paranhos\\n354                           Rubens Paiva\\n355                             Rui Amaral\\n356                     Teófilo de Andrade\\n357                            Tufy Nassif\\n358                    Anacleto Campanella\\n359                     Armindo Mastrocola\\n360                            David Lerer\\n361                       Dorival de Abreu\\n362                       Edmundo Monteiro\\n363                          Hélio Navarro\\n364                       José Lurtz Sabiá\\n365                         Lacorte Vitale\\n366                       Marcos Kertzmann\\n367                           Nazir Miguel\\n368                            Pedro Marão\\n369                      Prestes de Barros\\n370                              Aldo Lupo\\n371                        Alfeu Gasparini\\n372                          Artur Fonseca\\n373                        Ildélio Martins\\n374                            João Arruda\\n375                            Mário Teles\\n376                        Maurício Toledo\\n377                     Monteiro de Barros\\n378                       Orensy Rodrigues\\n379                          Paulo Alberto\\n380                         Roberto Gebara\\n381                            Sales Filho\\n382                           Sílvio Lopes\\n383                         Aurélio Campos\\n384                           Blota Júnior\\n385                          Edgar Martins\\n386                      Frederico Brandão\\n387                           Guaçu Piteri\\n388                             João Pedro\\n389                          José Zavaglia\\n390                          Lincoln Grilo\\n391                           Marcelo Gato\\n392                          Odemir Furlan\\n393                         Otávio Ceccato\\n394                           Pedro Carolo\\n395                        Yasunori Kunigo\\n396                          Antônio Russo\\n397                       Antônio Zacarias\\n398                         Audálio Dantas\\n399                      Benedito Marcílio\\n400                          Flávio Chaves\\n401                         Francisco Leão\\n402                          Jairo Maltoni\\n403                     Octávio Torrecilla\\n404                              Rui Silva\\n405                          Walter Garcia\\n406                        Adail Vetorazzo\\n407                       Armando Pinheiro\\n408                           Darci Passos\\n409                             Djalma Bom\\n410                        Eduardo Suplicy\\n411                         Estevam Galvão\\n412                       Ferreira Martins\\n413                     Flávio Bierrenbach\\n414                         Francisco Dias\\n415                            João Bastos\\n416                        Márcio Santilli\\n417                      Marcondes Pereira\\n418                        Mendonça Falcão\\n419                          Moacyr Franco\\n420                        Nelson do Carmo\\n421                         Raimundo Leite\\n422                        Renato Cordeiro\\n423                        Ricardo Ribeiro\\n424                            Sales Leite\\n425                          Afif Domingos\\n426              Agripino de Oliveira Lima\\n427                         Antônio Perosa\\n428                      Arnold Fioravante\\n429                     Dirce Tutu Quadros\\n430                       Doreto Campanari\\n431                     Fernando Gasparian\\n432                       Gerson Marcondes\\n433                    Gumercindo Milhomem\\n434                         Jayme Paliarin\\n435                             João Rezek\\n436                     José Carlos Grecco\\n437                            José Egreja\\n438              Luiz Inácio Lula da Silva\\n439                          Nelson Seixas\\n440                     Roberto Rollemberg\\n441                         Robson Marinho\\n442                         Alberto Haddad\\n443                Edevaldo Alves da Silva\\n444                       Ernesto Gradella\\n445                       Euclides de Melo\\n446                         Fábio Meireles\\n447                          Heitor Franco\\n448                            José Cicote\\n449                        Jurandir Paixão\\n450                       Liberato Caboclo\\n451                     Magalhães Teixeira\\n452               Marcelino Romano Machado\\n453                        Maurici Mariano\\n454                         Osvaldo Stecca\\n455                            Pedro Pavão\\n456                         Tadashi Kuriki\\n457                            Walter Nory\\n458                          Almino Afonso\\n459                             Cunha Lima\\n460                         Ayres da Cunha\\n461                      Carlos Apolinário\\n462                           Celso Daniel\\n463                         Fausto Martelo\\n464                           José Augusto\\n465                        Jurandir Paixão\\n466                       Marquinho Chedid\\n467                          Marta Suplicy\\n468                         Mauricio Najar\\n469                         Ushitaro Kamia\\n470                       Welson Gasparini\\n471                           Celso Giglio\\n472                          Emerson Kapaz\\n473                  José Roberto Batochio\\n474                      Lamartine Posella\\n475                          Marcos Cintra\\n476                       Moreira Ferreira\\n477                           Nelo Rodolfo\\n478                        Paulo Kobayashi\\n479                          Rubens Furlan\\n480                          Sampaio Dória\\n481                          Xico Graziano\\n482                               Zé Índio\\n483                         Amauri Gasques\\n484                         Claudio Magrão\\n485                          Durval Orlato\\n486                            Edna Macedo\\n487                       Elimar Damasceno\\n488                           Ildeu Araujo\\n489                       Irapuan Teixeira\\n490                            Jamil Murad\\n491                           João Batista\\n492                         Jovino Cândido\\n493                Luiz Eduardo Greenhalgh\\n494                          Marcos Abramo\\n495                     Orlando Fantazzini\\n496                        Roberto Gouveia\\n497                        Vanderlei Assis\\n498                     Clodovil Hernandes\\n499                        Fernando Chucre\\n500                           Frank Aguiar\\n501                     João Paulo Toffano\\n502                   Marco Aurélio Ubiali\\n503                     Paulo Renato Souza\\n504                      Reinaldo Nogueira\\n505                           Renato Amary\\n506                          Sérgio Nechar\\n507                      Silvinho Peccioli\\n508                       Talmir Rodrigues\\n509                          Walter Ihoshi\\n510                            William Woo\\n511                      Carlinhos Almeida\\n512                        Gabriel Chalita\\n513                 José de Filippi Júnior\\n514                        José Luiz Penna\\n515                              Junji Abe\\n516                  Luiz Fernando Machado\\n517                         Marcelo Aguiar\\n518                            Newton Lima\\n519                           Otoniel Lima\\n520                     Protógenes Queiroz\\n521                         Roberto Freire\\n522                            Vaz de Lima\\n523                            William Dib\\n524                           Ana Perugini\\n525                         Andrés Sanchez\\n526                        Antônio Goulart\\n527                            Bruno Covas\\n528                          Evandro Gussi\\n529                Flávio Augusto da Silva\\n530                        Floriano Pesaro\\n531                        João Paulo Papa\\n532                       Luiz Lauro Filho\\n533                          Major Olímpio\\n534                      Marcelo Squassoni\\n535                          Miguel Haddad\\n536                            Sérgio Reis\\n537                       Sinval Malheiros\\n538                     Valmir Prascidelli\\n539                              Abou Anni\\n540                        Alexandre Frota\\n541                        Alexis Fonteyne\\n542                          Coronel Tadeu\\n543                          Enrico Misasi\\n544                     General Peternelli\\n545                        Geninho Zuliani\\n546                          Guiga Peixoto\\n547                       Joice Hasselmann\\n548                        Junior Bozzella\\n549                           Katia Sastre\\n550                      Luiz Flávio Gomes\\n551                      Rodrigo Agostinho\\n552                          Vinicius Poit\\n553               Antonio Carlos Rodrigues\\n554                            Bruno Ganem\\n555                             Bruno Lima\\n556                      Delegado da Cunha\\n557                       Delegado Palumbo\\n558                           Erika Hilton\\n559                           Fábio Teruel\\n560                          Felipe Becari\\n561                     Fernando Marangoni\\n562                       Guilherme Boulos\\n563                        Juliana Cardoso\\n564                          Kiko Celeguim\\n565                           Luiz Marinho\\n566                           Marcelo Lima\\n567                           Marina Silva\\n568                            Mário Frias\\n569                         Mauricio Neves\\n570                           Pablo Marçal\\n571                Paulo Alexandre Barbosa\\n572                        Paulo Bilynskyj\\n573                         Ricardo Salles\\n574                          Ricardo Silva\\n575                        Rodrigo Gambale\\n576                         Rosângela Moro\\n577                       Simone Marquetto\\n578                        Sônia Guajajara\",\n",
              "       nan], dtype=object)"
            ]
          },
          "execution_count": 151,
          "metadata": {},
          "output_type": "execute_result"
        }
      ],
      "source": [
        "tb_federais[\"Deputados federais eleitos\"].unique()"
      ]
    },
    {
      "cell_type": "code",
      "execution_count": 152,
      "id": "b4914be6",
      "metadata": {},
      "outputs": [
        {
          "data": {
            "text/plain": [
              "Index(['Deputados federais eleitos', 'Naturalidade ou base', 'Mandatos',\n",
              "       'Ano da eleição', 'Notas', 'sg.UF'],\n",
              "      dtype='object')"
            ]
          },
          "execution_count": 152,
          "metadata": {},
          "output_type": "execute_result"
        }
      ],
      "source": [
        "tb_federais.columns"
      ]
    },
    {
      "cell_type": "code",
      "execution_count": 153,
      "id": "8l478Ztsumez",
      "metadata": {
        "colab": {
          "base_uri": "https://localhost:8080/",
          "height": 652
        },
        "id": "8l478Ztsumez",
        "outputId": "48771a88-b624-496d-a408-a6d145378ce3"
      },
      "outputs": [
        {
          "data": {
            "text/html": [
              "<div>\n",
              "<style scoped>\n",
              "    .dataframe tbody tr th:only-of-type {\n",
              "        vertical-align: middle;\n",
              "    }\n",
              "\n",
              "    .dataframe tbody tr th {\n",
              "        vertical-align: top;\n",
              "    }\n",
              "\n",
              "    .dataframe thead th {\n",
              "        text-align: right;\n",
              "    }\n",
              "</style>\n",
              "<table border=\"1\" class=\"dataframe\">\n",
              "  <thead>\n",
              "    <tr style=\"text-align: right;\">\n",
              "      <th></th>\n",
              "      <th>txNomeParlamentar</th>\n",
              "      <th>cpf</th>\n",
              "      <th>ideCadastro</th>\n",
              "      <th>nuCarteiraParlamentar</th>\n",
              "      <th>nuLegislatura</th>\n",
              "      <th>sgUF</th>\n",
              "      <th>sgPartido</th>\n",
              "      <th>codLegislatura</th>\n",
              "      <th>numSubCota</th>\n",
              "      <th>txtDescricao</th>\n",
              "      <th>...</th>\n",
              "      <th>vlrRestituicao</th>\n",
              "      <th>nuDeputadoId</th>\n",
              "      <th>ideDocumento</th>\n",
              "      <th>urlDocumento</th>\n",
              "      <th>Deputados federais eleitos</th>\n",
              "      <th>Naturalidade ou base</th>\n",
              "      <th>Mandatos</th>\n",
              "      <th>Ano da eleição</th>\n",
              "      <th>Notas</th>\n",
              "      <th>sg.UF</th>\n",
              "    </tr>\n",
              "  </thead>\n",
              "  <tbody>\n",
              "    <tr>\n",
              "      <th>0</th>\n",
              "      <td>FAUSTO PINATO</td>\n",
              "      <td>28022995819</td>\n",
              "      <td>66828</td>\n",
              "      <td>355</td>\n",
              "      <td>2015</td>\n",
              "      <td>SP</td>\n",
              "      <td>PP</td>\n",
              "      <td>55</td>\n",
              "      <td>1</td>\n",
              "      <td>MANUTENÇÃO DE ESCRITÓRIO DE APOIO À ATIVIDADE ...</td>\n",
              "      <td>...</td>\n",
              "      <td>NaN</td>\n",
              "      <td>2917</td>\n",
              "      <td>6196009</td>\n",
              "      <td>https://www.camara.leg.br/cota-parlamentar/doc...</td>\n",
              "      <td>NaN</td>\n",
              "      <td>NaN</td>\n",
              "      <td>NaN</td>\n",
              "      <td>NaN</td>\n",
              "      <td>NaN</td>\n",
              "      <td>NaN</td>\n",
              "    </tr>\n",
              "    <tr>\n",
              "      <th>1</th>\n",
              "      <td>FAUSTO PINATO</td>\n",
              "      <td>28022995819</td>\n",
              "      <td>66828</td>\n",
              "      <td>355</td>\n",
              "      <td>2015</td>\n",
              "      <td>SP</td>\n",
              "      <td>PP</td>\n",
              "      <td>55</td>\n",
              "      <td>1</td>\n",
              "      <td>MANUTENÇÃO DE ESCRITÓRIO DE APOIO À ATIVIDADE ...</td>\n",
              "      <td>...</td>\n",
              "      <td>NaN</td>\n",
              "      <td>2917</td>\n",
              "      <td>6215759</td>\n",
              "      <td>https://www.camara.leg.br/cota-parlamentar/doc...</td>\n",
              "      <td>NaN</td>\n",
              "      <td>NaN</td>\n",
              "      <td>NaN</td>\n",
              "      <td>NaN</td>\n",
              "      <td>NaN</td>\n",
              "      <td>NaN</td>\n",
              "    </tr>\n",
              "    <tr>\n",
              "      <th>2</th>\n",
              "      <td>FAUSTO PINATO</td>\n",
              "      <td>28022995819</td>\n",
              "      <td>66828</td>\n",
              "      <td>355</td>\n",
              "      <td>2015</td>\n",
              "      <td>SP</td>\n",
              "      <td>PP</td>\n",
              "      <td>55</td>\n",
              "      <td>1</td>\n",
              "      <td>MANUTENÇÃO DE ESCRITÓRIO DE APOIO À ATIVIDADE ...</td>\n",
              "      <td>...</td>\n",
              "      <td>NaN</td>\n",
              "      <td>2917</td>\n",
              "      <td>6234538</td>\n",
              "      <td>https://www.camara.leg.br/cota-parlamentar/doc...</td>\n",
              "      <td>NaN</td>\n",
              "      <td>NaN</td>\n",
              "      <td>NaN</td>\n",
              "      <td>NaN</td>\n",
              "      <td>NaN</td>\n",
              "      <td>NaN</td>\n",
              "    </tr>\n",
              "    <tr>\n",
              "      <th>3</th>\n",
              "      <td>FAUSTO PINATO</td>\n",
              "      <td>28022995819</td>\n",
              "      <td>66828</td>\n",
              "      <td>355</td>\n",
              "      <td>2015</td>\n",
              "      <td>SP</td>\n",
              "      <td>PP</td>\n",
              "      <td>55</td>\n",
              "      <td>1</td>\n",
              "      <td>MANUTENÇÃO DE ESCRITÓRIO DE APOIO À ATIVIDADE ...</td>\n",
              "      <td>...</td>\n",
              "      <td>NaN</td>\n",
              "      <td>2917</td>\n",
              "      <td>6254437</td>\n",
              "      <td>https://www.camara.leg.br/cota-parlamentar/doc...</td>\n",
              "      <td>NaN</td>\n",
              "      <td>NaN</td>\n",
              "      <td>NaN</td>\n",
              "      <td>NaN</td>\n",
              "      <td>NaN</td>\n",
              "      <td>NaN</td>\n",
              "    </tr>\n",
              "    <tr>\n",
              "      <th>4</th>\n",
              "      <td>FAUSTO PINATO</td>\n",
              "      <td>28022995819</td>\n",
              "      <td>66828</td>\n",
              "      <td>355</td>\n",
              "      <td>2015</td>\n",
              "      <td>SP</td>\n",
              "      <td>PP</td>\n",
              "      <td>55</td>\n",
              "      <td>1</td>\n",
              "      <td>MANUTENÇÃO DE ESCRITÓRIO DE APOIO À ATIVIDADE ...</td>\n",
              "      <td>...</td>\n",
              "      <td>NaN</td>\n",
              "      <td>2917</td>\n",
              "      <td>6293956</td>\n",
              "      <td>https://www.camara.leg.br/cota-parlamentar/doc...</td>\n",
              "      <td>NaN</td>\n",
              "      <td>NaN</td>\n",
              "      <td>NaN</td>\n",
              "      <td>NaN</td>\n",
              "      <td>NaN</td>\n",
              "      <td>NaN</td>\n",
              "    </tr>\n",
              "  </tbody>\n",
              "</table>\n",
              "<p>5 rows × 38 columns</p>\n",
              "</div>"
            ],
            "text/plain": [
              "  txNomeParlamentar          cpf ideCadastro nuCarteiraParlamentar  \\\n",
              "0     FAUSTO PINATO  28022995819       66828                   355   \n",
              "1     FAUSTO PINATO  28022995819       66828                   355   \n",
              "2     FAUSTO PINATO  28022995819       66828                   355   \n",
              "3     FAUSTO PINATO  28022995819       66828                   355   \n",
              "4     FAUSTO PINATO  28022995819       66828                   355   \n",
              "\n",
              "  nuLegislatura sgUF sgPartido codLegislatura numSubCota  \\\n",
              "0          2015   SP        PP             55          1   \n",
              "1          2015   SP        PP             55          1   \n",
              "2          2015   SP        PP             55          1   \n",
              "3          2015   SP        PP             55          1   \n",
              "4          2015   SP        PP             55          1   \n",
              "\n",
              "                                        txtDescricao  ... vlrRestituicao  \\\n",
              "0  MANUTENÇÃO DE ESCRITÓRIO DE APOIO À ATIVIDADE ...  ...            NaN   \n",
              "1  MANUTENÇÃO DE ESCRITÓRIO DE APOIO À ATIVIDADE ...  ...            NaN   \n",
              "2  MANUTENÇÃO DE ESCRITÓRIO DE APOIO À ATIVIDADE ...  ...            NaN   \n",
              "3  MANUTENÇÃO DE ESCRITÓRIO DE APOIO À ATIVIDADE ...  ...            NaN   \n",
              "4  MANUTENÇÃO DE ESCRITÓRIO DE APOIO À ATIVIDADE ...  ...            NaN   \n",
              "\n",
              "  nuDeputadoId ideDocumento  \\\n",
              "0         2917      6196009   \n",
              "1         2917      6215759   \n",
              "2         2917      6234538   \n",
              "3         2917      6254437   \n",
              "4         2917      6293956   \n",
              "\n",
              "                                        urlDocumento  \\\n",
              "0  https://www.camara.leg.br/cota-parlamentar/doc...   \n",
              "1  https://www.camara.leg.br/cota-parlamentar/doc...   \n",
              "2  https://www.camara.leg.br/cota-parlamentar/doc...   \n",
              "3  https://www.camara.leg.br/cota-parlamentar/doc...   \n",
              "4  https://www.camara.leg.br/cota-parlamentar/doc...   \n",
              "\n",
              "  Deputados federais eleitos Naturalidade ou base Mandatos  Ano da eleição  \\\n",
              "0                        NaN                  NaN      NaN             NaN   \n",
              "1                        NaN                  NaN      NaN             NaN   \n",
              "2                        NaN                  NaN      NaN             NaN   \n",
              "3                        NaN                  NaN      NaN             NaN   \n",
              "4                        NaN                  NaN      NaN             NaN   \n",
              "\n",
              "  Notas  sg.UF  \n",
              "0   NaN    NaN  \n",
              "1   NaN    NaN  \n",
              "2   NaN    NaN  \n",
              "3   NaN    NaN  \n",
              "4   NaN    NaN  \n",
              "\n",
              "[5 rows x 38 columns]"
            ]
          },
          "execution_count": 153,
          "metadata": {},
          "output_type": "execute_result"
        }
      ],
      "source": [
        "df_reembolso_sp = df_reembolso[df_reembolso.sgUF == \"SP\"].merge(\n",
        "    tb_federais,\n",
        "    how=\"left\",\n",
        "    left_on=\"txNomeParlamentar\",\n",
        "    right_on=\"Deputados federais eleitos\"\n",
        ")\n",
        "\n",
        "df_reembolso_sp.head()"
      ]
    },
    {
      "cell_type": "code",
      "execution_count": 154,
      "id": "muOanvaQwRTM",
      "metadata": {
        "colab": {
          "base_uri": "https://localhost:8080/"
        },
        "id": "muOanvaQwRTM",
        "outputId": "6e2a590c-542f-4526-f656-c11bf4ee1d58"
      },
      "outputs": [],
      "source": [
        "depts = ['Arnaldo Faria de Sá']"
      ]
    },
    {
      "cell_type": "code",
      "execution_count": 155,
      "id": "29785796",
      "metadata": {},
      "outputs": [
        {
          "data": {
            "text/plain": [
              "['Arnaldo Faria de Sá']"
            ]
          },
          "execution_count": 155,
          "metadata": {},
          "output_type": "execute_result"
        }
      ],
      "source": [
        "depts"
      ]
    },
    {
      "cell_type": "code",
      "execution_count": 156,
      "id": "oy68AsiKtsLM",
      "metadata": {
        "colab": {
          "base_uri": "https://localhost:8080/",
          "height": 912
        },
        "id": "oy68AsiKtsLM",
        "outputId": "52a3f3ca-c61e-458f-f621-fc21020999a4"
      },
      "outputs": [
        {
          "data": {
            "text/html": [
              "<div>\n",
              "<style scoped>\n",
              "    .dataframe tbody tr th:only-of-type {\n",
              "        vertical-align: middle;\n",
              "    }\n",
              "\n",
              "    .dataframe tbody tr th {\n",
              "        vertical-align: top;\n",
              "    }\n",
              "\n",
              "    .dataframe thead th {\n",
              "        text-align: right;\n",
              "    }\n",
              "</style>\n",
              "<table border=\"1\" class=\"dataframe\">\n",
              "  <thead>\n",
              "    <tr style=\"text-align: right;\">\n",
              "      <th></th>\n",
              "      <th>txNomeParlamentar</th>\n",
              "      <th>cpf</th>\n",
              "      <th>ideCadastro</th>\n",
              "      <th>nuCarteiraParlamentar</th>\n",
              "      <th>nuLegislatura</th>\n",
              "      <th>sgUF</th>\n",
              "      <th>sgPartido</th>\n",
              "      <th>codLegislatura</th>\n",
              "      <th>numSubCota</th>\n",
              "      <th>txtDescricao</th>\n",
              "      <th>...</th>\n",
              "      <th>vlrRestituicao</th>\n",
              "      <th>nuDeputadoId</th>\n",
              "      <th>ideDocumento</th>\n",
              "      <th>urlDocumento</th>\n",
              "      <th>Deputados federais eleitos</th>\n",
              "      <th>Naturalidade ou base</th>\n",
              "      <th>Mandatos</th>\n",
              "      <th>Ano da eleição</th>\n",
              "      <th>Notas</th>\n",
              "      <th>sg.UF</th>\n",
              "    </tr>\n",
              "  </thead>\n",
              "  <tbody>\n",
              "  </tbody>\n",
              "</table>\n",
              "<p>0 rows × 38 columns</p>\n",
              "</div>"
            ],
            "text/plain": [
              "Empty DataFrame\n",
              "Columns: [txNomeParlamentar, cpf, ideCadastro, nuCarteiraParlamentar, nuLegislatura, sgUF, sgPartido, codLegislatura, numSubCota, txtDescricao, numEspecificacaoSubCota, txtDescricaoEspecificacao, txtFornecedor, txtCNPJCPF, txtNumero, indTipoDocumento, datEmissao, vlrDocumento, vlrGlosa, vlrLiquido, numMes, numAno, numParcela, txtPassageiro, txtTrecho, numLote, numRessarcimento, datPagamentoRestituicao, vlrRestituicao, nuDeputadoId, ideDocumento, urlDocumento, Deputados federais eleitos, Naturalidade ou base, Mandatos, Ano da eleição, Notas, sg.UF]\n",
              "Index: []\n",
              "\n",
              "[0 rows x 38 columns]"
            ]
          },
          "execution_count": 156,
          "metadata": {},
          "output_type": "execute_result"
        }
      ],
      "source": [
        "df_reembolso_sp_top1 = df_reembolso_sp[df_reembolso_sp[\"txNomeParlamentar\"].isin(depts)]\n",
        "df_reembolso_sp_top1.head()"
      ]
    },
    {
      "cell_type": "code",
      "execution_count": 157,
      "id": "2u9biiwWuaEj",
      "metadata": {
        "colab": {
          "base_uri": "https://localhost:8080/",
          "height": 238
        },
        "id": "2u9biiwWuaEj",
        "outputId": "0e6de90e-f7ca-451a-ae7a-610872a3d162"
      },
      "outputs": [
        {
          "data": {
            "text/html": [
              "<div>\n",
              "<style scoped>\n",
              "    .dataframe tbody tr th:only-of-type {\n",
              "        vertical-align: middle;\n",
              "    }\n",
              "\n",
              "    .dataframe tbody tr th {\n",
              "        vertical-align: top;\n",
              "    }\n",
              "\n",
              "    .dataframe thead th {\n",
              "        text-align: right;\n",
              "    }\n",
              "</style>\n",
              "<table border=\"1\" class=\"dataframe\">\n",
              "  <thead>\n",
              "    <tr style=\"text-align: right;\">\n",
              "      <th></th>\n",
              "      <th>vlrLiquido</th>\n",
              "    </tr>\n",
              "    <tr>\n",
              "      <th>txtDescricao</th>\n",
              "      <th></th>\n",
              "    </tr>\n",
              "  </thead>\n",
              "  <tbody>\n",
              "  </tbody>\n",
              "</table>\n",
              "</div>"
            ],
            "text/plain": [
              "Empty DataFrame\n",
              "Columns: [vlrLiquido]\n",
              "Index: []"
            ]
          },
          "execution_count": 157,
          "metadata": {},
          "output_type": "execute_result"
        }
      ],
      "source": [
        "df_reembolso_sp_top1.groupby(\"txtDescricao\")[\"vlrLiquido\"].sum().sort_values(ascending=False).to_frame()"
      ]
    },
    {
      "cell_type": "code",
      "execution_count": 158,
      "id": "-5tdXHopyawW",
      "metadata": {
        "colab": {
          "base_uri": "https://localhost:8080/",
          "height": 35
        },
        "id": "-5tdXHopyawW",
        "outputId": "0fcdb304-7a8e-4c02-dcd3-8fd8e5910f18"
      },
      "outputs": [
        {
          "data": {
            "text/plain": [
              "'Valor total gasto R$ 0.0'"
            ]
          },
          "execution_count": 158,
          "metadata": {},
          "output_type": "execute_result"
        }
      ],
      "source": [
        "f\"Valor total gasto R$ {df_reembolso_sp_top1['vlrLiquido'].sum()}\""
      ]
    },
    {
      "cell_type": "code",
      "execution_count": 159,
      "id": "XbjPuGM-yj_h",
      "metadata": {
        "colab": {
          "base_uri": "https://localhost:8080/",
          "height": 582
        },
        "id": "XbjPuGM-yj_h",
        "outputId": "34da83f4-a3b5-4998-9e72-a5424efa784f"
      },
      "outputs": [
        {
          "data": {
            "text/html": [
              "<div>\n",
              "<style scoped>\n",
              "    .dataframe tbody tr th:only-of-type {\n",
              "        vertical-align: middle;\n",
              "    }\n",
              "\n",
              "    .dataframe tbody tr th {\n",
              "        vertical-align: top;\n",
              "    }\n",
              "\n",
              "    .dataframe thead th {\n",
              "        text-align: right;\n",
              "    }\n",
              "</style>\n",
              "<table border=\"1\" class=\"dataframe\">\n",
              "  <thead>\n",
              "    <tr style=\"text-align: right;\">\n",
              "      <th></th>\n",
              "      <th>vlrLiquido</th>\n",
              "    </tr>\n",
              "    <tr>\n",
              "      <th>txtDescricao</th>\n",
              "      <th></th>\n",
              "    </tr>\n",
              "  </thead>\n",
              "  <tbody>\n",
              "    <tr>\n",
              "      <th>PARTICIPAÇÃO EM CURSO, PALESTRA OU EVENTO SIMILAR</th>\n",
              "      <td>6080.000000</td>\n",
              "    </tr>\n",
              "    <tr>\n",
              "      <th>CONSULTORIAS, PESQUISAS E TRABALHOS TÉCNICOS.</th>\n",
              "      <td>5350.332730</td>\n",
              "    </tr>\n",
              "    <tr>\n",
              "      <th>DIVULGAÇÃO DA ATIVIDADE PARLAMENTAR.</th>\n",
              "      <td>4256.524212</td>\n",
              "    </tr>\n",
              "    <tr>\n",
              "      <th>LOCAÇÃO OU FRETAMENTO DE VEÍCULOS AUTOMOTORES</th>\n",
              "      <td>3387.869959</td>\n",
              "    </tr>\n",
              "    <tr>\n",
              "      <th>PASSAGEM AÉREA - REEMBOLSO</th>\n",
              "      <td>1191.655182</td>\n",
              "    </tr>\n",
              "    <tr>\n",
              "      <th>SERVIÇO DE SEGURANÇA PRESTADO POR EMPRESA ESPECIALIZADA.</th>\n",
              "      <td>1065.837097</td>\n",
              "    </tr>\n",
              "    <tr>\n",
              "      <th>MANUTENÇÃO DE ESCRITÓRIO DE APOIO À ATIVIDADE PARLAMENTAR</th>\n",
              "      <td>1060.434920</td>\n",
              "    </tr>\n",
              "    <tr>\n",
              "      <th>PASSAGEM AÉREA - RPA</th>\n",
              "      <td>568.662945</td>\n",
              "    </tr>\n",
              "    <tr>\n",
              "      <th>ASSINATURA DE PUBLICAÇÕES</th>\n",
              "      <td>341.995417</td>\n",
              "    </tr>\n",
              "    <tr>\n",
              "      <th>HOSPEDAGEM ,EXCETO DO PARLAMENTAR NO DISTRITO FEDERAL.</th>\n",
              "      <td>329.061061</td>\n",
              "    </tr>\n",
              "    <tr>\n",
              "      <th>COMBUSTÍVEIS E LUBRIFICANTES.</th>\n",
              "      <td>221.512851</td>\n",
              "    </tr>\n",
              "    <tr>\n",
              "      <th>TELEFONIA</th>\n",
              "      <td>190.343615</td>\n",
              "    </tr>\n",
              "    <tr>\n",
              "      <th>SERVIÇOS POSTAIS</th>\n",
              "      <td>120.986088</td>\n",
              "    </tr>\n",
              "    <tr>\n",
              "      <th>PASSAGENS TERRESTRES, MARÍTIMAS OU FLUVIAIS</th>\n",
              "      <td>59.590917</td>\n",
              "    </tr>\n",
              "    <tr>\n",
              "      <th>FORNECIMENTO DE ALIMENTAÇÃO DO PARLAMENTAR</th>\n",
              "      <td>48.770567</td>\n",
              "    </tr>\n",
              "    <tr>\n",
              "      <th>SERVIÇO DE TÁXI, PEDÁGIO E ESTACIONAMENTO</th>\n",
              "      <td>41.123035</td>\n",
              "    </tr>\n",
              "  </tbody>\n",
              "</table>\n",
              "</div>"
            ],
            "text/plain": [
              "                                                     vlrLiquido\n",
              "txtDescricao                                                   \n",
              "PARTICIPAÇÃO EM CURSO, PALESTRA OU EVENTO SIMILAR   6080.000000\n",
              "CONSULTORIAS, PESQUISAS E TRABALHOS TÉCNICOS.       5350.332730\n",
              "DIVULGAÇÃO DA ATIVIDADE PARLAMENTAR.                4256.524212\n",
              "LOCAÇÃO OU FRETAMENTO DE VEÍCULOS AUTOMOTORES       3387.869959\n",
              "PASSAGEM AÉREA - REEMBOLSO                          1191.655182\n",
              "SERVIÇO DE SEGURANÇA PRESTADO POR EMPRESA ESPEC...  1065.837097\n",
              "MANUTENÇÃO DE ESCRITÓRIO DE APOIO À ATIVIDADE P...  1060.434920\n",
              "PASSAGEM AÉREA - RPA                                 568.662945\n",
              "ASSINATURA DE PUBLICAÇÕES                            341.995417\n",
              "HOSPEDAGEM ,EXCETO DO PARLAMENTAR NO DISTRITO F...   329.061061\n",
              "COMBUSTÍVEIS E LUBRIFICANTES.                        221.512851\n",
              "TELEFONIA                                            190.343615\n",
              "SERVIÇOS POSTAIS                                     120.986088\n",
              "PASSAGENS TERRESTRES, MARÍTIMAS OU FLUVIAIS           59.590917\n",
              "FORNECIMENTO DE ALIMENTAÇÃO DO PARLAMENTAR            48.770567\n",
              "SERVIÇO DE TÁXI, PEDÁGIO E ESTACIONAMENTO             41.123035"
            ]
          },
          "execution_count": 159,
          "metadata": {},
          "output_type": "execute_result"
        }
      ],
      "source": [
        "df_reembolso_sp.groupby(\"txtDescricao\")[\"vlrLiquido\"].mean().sort_values(ascending=False).to_frame()"
      ]
    },
    {
      "cell_type": "code",
      "execution_count": 160,
      "id": "82R6pgsBzFop",
      "metadata": {
        "colab": {
          "base_uri": "https://localhost:8080/"
        },
        "id": "82R6pgsBzFop",
        "outputId": "5ee33705-8a05-4259-8227-75d2aad82038"
      },
      "outputs": [
        {
          "data": {
            "text/plain": [
              "506.4378117108016"
            ]
          },
          "execution_count": 160,
          "metadata": {},
          "output_type": "execute_result"
        }
      ],
      "source": [
        "df_reembolso_sp[\"vlrLiquido\"].mean()"
      ]
    },
    {
      "cell_type": "code",
      "execution_count": 161,
      "id": "2APOYhvEzPHd",
      "metadata": {
        "colab": {
          "base_uri": "https://localhost:8080/",
          "height": 35
        },
        "id": "2APOYhvEzPHd",
        "outputId": "22dd6749-f3fd-4378-81ed-200feefd45c9"
      },
      "outputs": [
        {
          "data": {
            "text/plain": [
              "'Valor medio gasto pelos parlamentares de SP R$ 506.4378117108016'"
            ]
          },
          "execution_count": 161,
          "metadata": {},
          "output_type": "execute_result"
        }
      ],
      "source": [
        "f\"Valor medio gasto pelos parlamentares de SP R$ {df_reembolso_sp['vlrLiquido'].mean()}\""
      ]
    },
    {
      "cell_type": "code",
      "execution_count": null,
      "id": "wIqz1f-zzXYc",
      "metadata": {
        "id": "wIqz1f-zzXYc"
      },
      "outputs": [],
      "source": []
    }
  ],
  "metadata": {
    "colab": {
      "provenance": []
    },
    "kernelspec": {
      "display_name": "Python 3 (ipykernel)",
      "language": "python",
      "name": "python3"
    },
    "language_info": {
      "codemirror_mode": {
        "name": "ipython",
        "version": 3
      },
      "file_extension": ".py",
      "mimetype": "text/x-python",
      "name": "python",
      "nbconvert_exporter": "python",
      "pygments_lexer": "ipython3",
      "version": "3.11.4"
    }
  },
  "nbformat": 4,
  "nbformat_minor": 5
}
