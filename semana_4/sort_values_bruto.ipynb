{
 "cells": [
  {
   "cell_type": "markdown",
   "id": "df066779",
   "metadata": {},
   "source": [
    "O campo txtDescricao informa o tipo de despesa. Quais são os valores presentes no DataFrame? Ordene de forma decrescente o vlrLiquido de cada partido para os gastos com txtDescricao igual a FORNECIMENTO DE ALIMENTAÇÃO DO PARLAMENTA."
   ]
  },
  {
   "cell_type": "code",
   "execution_count": 1,
   "id": "a240d941",
   "metadata": {},
   "outputs": [],
   "source": [
    "import pandas as pd"
   ]
  },
  {
   "cell_type": "code",
   "execution_count": 2,
   "id": "f811b354",
   "metadata": {},
   "outputs": [],
   "source": [
    "df = pd.read_csv('reembolso-2019-completo.csv', dtype={'txtCNPJCPF': str, 'cnpj': str})"
   ]
  },
  {
   "cell_type": "code",
   "execution_count": 3,
   "id": "13069db8",
   "metadata": {},
   "outputs": [
    {
     "data": {
      "text/plain": [
       "array(['FORNECIMENTO DE ALIMENTAÇÃO DO PARLAMENTAR',\n",
       "       'CONSULTORIAS, PESQUISAS E TRABALHOS TÉCNICOS.',\n",
       "       'DIVULGAÇÃO DA ATIVIDADE PARLAMENTAR.',\n",
       "       'ASSINATURA DE PUBLICAÇÕES',\n",
       "       'MANUTENÇÃO DE ESCRITÓRIO DE APOIO À ATIVIDADE PARLAMENTAR',\n",
       "       'COMBUSTÍVEIS E LUBRIFICANTES.', 'PASSAGEM AÉREA - REEMBOLSO',\n",
       "       'LOCAÇÃO OU FRETAMENTO DE VEÍCULOS AUTOMOTORES',\n",
       "       'HOSPEDAGEM ,EXCETO DO PARLAMENTAR NO DISTRITO FEDERAL.',\n",
       "       'PASSAGENS TERRESTRES, MARÍTIMAS OU FLUVIAIS', 'TELEFONIA',\n",
       "       'SERVIÇOS POSTAIS', 'PASSAGEM AÉREA - RPA',\n",
       "       'SERVIÇO DE TÁXI, PEDÁGIO E ESTACIONAMENTO',\n",
       "       'PASSAGEM AÉREA - SIGEPA',\n",
       "       'SERVIÇO DE SEGURANÇA PRESTADO POR EMPRESA ESPECIALIZADA.',\n",
       "       'PARTICIPAÇÃO EM CURSO, PALESTRA OU EVENTO SIMILAR',\n",
       "       'LOCAÇÃO OU FRETAMENTO DE AERONAVES',\n",
       "       'LOCAÇÃO OU FRETAMENTO DE EMBARCAÇÕES'], dtype=object)"
      ]
     },
     "execution_count": 3,
     "metadata": {},
     "output_type": "execute_result"
    }
   ],
   "source": [
    "df.txtDescricao.unique()"
   ]
  },
  {
   "cell_type": "code",
   "execution_count": 4,
   "id": "17acc72c",
   "metadata": {},
   "outputs": [],
   "source": [
    "f = df.txtDescricao == 'FORNECIMENTO DE ALIMENTAÇÃO DO PARLAMENTAR'"
   ]
  },
  {
   "cell_type": "code",
   "execution_count": 5,
   "id": "d442ad52",
   "metadata": {},
   "outputs": [
    {
     "data": {
      "text/html": [
       "<div>\n",
       "<style scoped>\n",
       "    .dataframe tbody tr th:only-of-type {\n",
       "        vertical-align: middle;\n",
       "    }\n",
       "\n",
       "    .dataframe tbody tr th {\n",
       "        vertical-align: top;\n",
       "    }\n",
       "\n",
       "    .dataframe thead th {\n",
       "        text-align: right;\n",
       "    }\n",
       "</style>\n",
       "<table border=\"1\" class=\"dataframe\">\n",
       "  <thead>\n",
       "    <tr style=\"text-align: right;\">\n",
       "      <th></th>\n",
       "      <th>vlrLiquido</th>\n",
       "    </tr>\n",
       "    <tr>\n",
       "      <th>sgPartido</th>\n",
       "      <th></th>\n",
       "    </tr>\n",
       "  </thead>\n",
       "  <tbody>\n",
       "    <tr>\n",
       "      <th>PT</th>\n",
       "      <td>293714.26</td>\n",
       "    </tr>\n",
       "    <tr>\n",
       "      <th>PL</th>\n",
       "      <td>257172.18</td>\n",
       "    </tr>\n",
       "    <tr>\n",
       "      <th>PP</th>\n",
       "      <td>177573.28</td>\n",
       "    </tr>\n",
       "    <tr>\n",
       "      <th>PSD</th>\n",
       "      <td>169884.80</td>\n",
       "    </tr>\n",
       "    <tr>\n",
       "      <th>UNIÃO</th>\n",
       "      <td>157503.94</td>\n",
       "    </tr>\n",
       "    <tr>\n",
       "      <th>REPUBLICANOS</th>\n",
       "      <td>141924.52</td>\n",
       "    </tr>\n",
       "    <tr>\n",
       "      <th>MDB</th>\n",
       "      <td>115218.16</td>\n",
       "    </tr>\n",
       "    <tr>\n",
       "      <th>PSDB</th>\n",
       "      <td>91264.60</td>\n",
       "    </tr>\n",
       "    <tr>\n",
       "      <th>PDT</th>\n",
       "      <td>67359.06</td>\n",
       "    </tr>\n",
       "    <tr>\n",
       "      <th>PSC</th>\n",
       "      <td>38583.38</td>\n",
       "    </tr>\n",
       "    <tr>\n",
       "      <th>CIDADANIA</th>\n",
       "      <td>37982.56</td>\n",
       "    </tr>\n",
       "    <tr>\n",
       "      <th>PROS</th>\n",
       "      <td>37342.52</td>\n",
       "    </tr>\n",
       "    <tr>\n",
       "      <th>PATRIOTA</th>\n",
       "      <td>21887.50</td>\n",
       "    </tr>\n",
       "    <tr>\n",
       "      <th>PODE</th>\n",
       "      <td>20539.32</td>\n",
       "    </tr>\n",
       "    <tr>\n",
       "      <th>SOLIDARIEDADE</th>\n",
       "      <td>18073.76</td>\n",
       "    </tr>\n",
       "    <tr>\n",
       "      <th>PSB</th>\n",
       "      <td>16030.64</td>\n",
       "    </tr>\n",
       "    <tr>\n",
       "      <th>NOVO</th>\n",
       "      <td>15777.86</td>\n",
       "    </tr>\n",
       "    <tr>\n",
       "      <th>DEM</th>\n",
       "      <td>9284.12</td>\n",
       "    </tr>\n",
       "    <tr>\n",
       "      <th>PCdoB</th>\n",
       "      <td>7686.28</td>\n",
       "    </tr>\n",
       "    <tr>\n",
       "      <th>PR</th>\n",
       "      <td>5495.42</td>\n",
       "    </tr>\n",
       "    <tr>\n",
       "      <th>PSOL</th>\n",
       "      <td>5174.12</td>\n",
       "    </tr>\n",
       "    <tr>\n",
       "      <th>AVANTE</th>\n",
       "      <td>3990.02</td>\n",
       "    </tr>\n",
       "    <tr>\n",
       "      <th>PTB</th>\n",
       "      <td>2681.40</td>\n",
       "    </tr>\n",
       "    <tr>\n",
       "      <th>PRB</th>\n",
       "      <td>2395.12</td>\n",
       "    </tr>\n",
       "    <tr>\n",
       "      <th>PSL</th>\n",
       "      <td>2246.62</td>\n",
       "    </tr>\n",
       "    <tr>\n",
       "      <th>PV</th>\n",
       "      <td>2038.14</td>\n",
       "    </tr>\n",
       "    <tr>\n",
       "      <th>PATRI</th>\n",
       "      <td>1412.52</td>\n",
       "    </tr>\n",
       "    <tr>\n",
       "      <th>PPS</th>\n",
       "      <td>997.00</td>\n",
       "    </tr>\n",
       "    <tr>\n",
       "      <th>PHS</th>\n",
       "      <td>367.40</td>\n",
       "    </tr>\n",
       "    <tr>\n",
       "      <th>REDE</th>\n",
       "      <td>196.24</td>\n",
       "    </tr>\n",
       "  </tbody>\n",
       "</table>\n",
       "</div>"
      ],
      "text/plain": [
       "               vlrLiquido\n",
       "sgPartido                \n",
       "PT              293714.26\n",
       "PL              257172.18\n",
       "PP              177573.28\n",
       "PSD             169884.80\n",
       "UNIÃO           157503.94\n",
       "REPUBLICANOS    141924.52\n",
       "MDB             115218.16\n",
       "PSDB             91264.60\n",
       "PDT              67359.06\n",
       "PSC              38583.38\n",
       "CIDADANIA        37982.56\n",
       "PROS             37342.52\n",
       "PATRIOTA         21887.50\n",
       "PODE             20539.32\n",
       "SOLIDARIEDADE    18073.76\n",
       "PSB              16030.64\n",
       "NOVO             15777.86\n",
       "DEM               9284.12\n",
       "PCdoB             7686.28\n",
       "PR                5495.42\n",
       "PSOL              5174.12\n",
       "AVANTE            3990.02\n",
       "PTB               2681.40\n",
       "PRB               2395.12\n",
       "PSL               2246.62\n",
       "PV                2038.14\n",
       "PATRI             1412.52\n",
       "PPS                997.00\n",
       "PHS                367.40\n",
       "REDE               196.24"
      ]
     },
     "execution_count": 5,
     "metadata": {},
     "output_type": "execute_result"
    }
   ],
   "source": [
    "df[f].groupby('sgPartido')['vlrLiquido'].sum().sort_values(ascending=False).to_frame()"
   ]
  },
  {
   "cell_type": "code",
   "execution_count": 6,
   "id": "b5e2b6cb",
   "metadata": {},
   "outputs": [
    {
     "data": {
      "text/html": [
       "<div>\n",
       "<style scoped>\n",
       "    .dataframe tbody tr th:only-of-type {\n",
       "        vertical-align: middle;\n",
       "    }\n",
       "\n",
       "    .dataframe tbody tr th {\n",
       "        vertical-align: top;\n",
       "    }\n",
       "\n",
       "    .dataframe thead th {\n",
       "        text-align: right;\n",
       "    }\n",
       "</style>\n",
       "<table border=\"1\" class=\"dataframe\">\n",
       "  <thead>\n",
       "    <tr style=\"text-align: right;\">\n",
       "      <th></th>\n",
       "      <th></th>\n",
       "      <th>vlrLiquido</th>\n",
       "    </tr>\n",
       "    <tr>\n",
       "      <th>txtCNPJCPF</th>\n",
       "      <th>txtFornecedor</th>\n",
       "      <th></th>\n",
       "    </tr>\n",
       "  </thead>\n",
       "  <tbody>\n",
       "    <tr>\n",
       "      <th>02012862000160</th>\n",
       "      <th>Cia Aérea - TAM</th>\n",
       "      <td>49845733.08</td>\n",
       "    </tr>\n",
       "    <tr>\n",
       "      <th>07575651000159</th>\n",
       "      <th>Cia Aérea - GOL</th>\n",
       "      <td>44014082.60</td>\n",
       "    </tr>\n",
       "    <tr>\n",
       "      <th>09296295000160</th>\n",
       "      <th>Cia Aérea - AZUL</th>\n",
       "      <td>12881535.32</td>\n",
       "    </tr>\n",
       "    <tr>\n",
       "      <th>07319323000191</th>\n",
       "      <th>PANTANAL VEÍCULOS LTDA</th>\n",
       "      <td>4362549.04</td>\n",
       "    </tr>\n",
       "    <tr>\n",
       "      <th>02012862000160</th>\n",
       "      <th>TAM LINHAS AEREAS S/A.</th>\n",
       "      <td>2344253.56</td>\n",
       "    </tr>\n",
       "    <tr>\n",
       "      <th>02575829000148</th>\n",
       "      <th>Cia Aérea - AVIANCA</th>\n",
       "      <td>2275601.26</td>\n",
       "    </tr>\n",
       "    <tr>\n",
       "      <th>23721017000133</th>\n",
       "      <th>T2 COMUNICACAO, VIDEO E PRODUCOES EIRELI - EPP</th>\n",
       "      <td>2194668.00</td>\n",
       "    </tr>\n",
       "    <tr>\n",
       "      <th>00000000000001</th>\n",
       "      <th>CELULAR FUNCIONAL</th>\n",
       "      <td>1745706.86</td>\n",
       "    </tr>\n",
       "    <tr>\n",
       "      <th>02558157000162</th>\n",
       "      <th>TELEFÔNICA BRASIL S.A. VIVO</th>\n",
       "      <td>1721626.30</td>\n",
       "    </tr>\n",
       "    <tr>\n",
       "      <th>02610235000120</th>\n",
       "      <th>DMD Gestão Administrativa LTDA - ME</th>\n",
       "      <td>1610000.00</td>\n",
       "    </tr>\n",
       "  </tbody>\n",
       "</table>\n",
       "</div>"
      ],
      "text/plain": [
       "                                                                vlrLiquido\n",
       "txtCNPJCPF     txtFornecedor                                              \n",
       "02012862000160 Cia Aérea - TAM                                 49845733.08\n",
       "07575651000159 Cia Aérea - GOL                                 44014082.60\n",
       "09296295000160 Cia Aérea - AZUL                                12881535.32\n",
       "07319323000191 PANTANAL VEÍCULOS LTDA                           4362549.04\n",
       "02012862000160 TAM LINHAS AEREAS S/A.                           2344253.56\n",
       "02575829000148 Cia Aérea - AVIANCA                              2275601.26\n",
       "23721017000133 T2 COMUNICACAO, VIDEO E PRODUCOES EIRELI - EPP   2194668.00\n",
       "00000000000001 CELULAR FUNCIONAL                                1745706.86\n",
       "02558157000162 TELEFÔNICA BRASIL S.A. VIVO                      1721626.30\n",
       "02610235000120 DMD Gestão Administrativa LTDA - ME              1610000.00"
      ]
     },
     "execution_count": 6,
     "metadata": {},
     "output_type": "execute_result"
    }
   ],
   "source": [
    "df.groupby(['txtCNPJCPF', 'txtFornecedor'])['vlrLiquido'].sum().sort_values(ascending=False)[:10].to_frame()"
   ]
  },
  {
   "cell_type": "markdown",
   "id": "1c43056d",
   "metadata": {},
   "source": [
    "Aqui eu pensei em separar a coluna de CNPJ em duas: Raiz e Sufixo. Assim consegui agrupar os cnpjs das empresas com base na raiz, agrupando as filiais."
   ]
  },
  {
   "cell_type": "code",
   "execution_count": 9,
   "id": "54ab893f",
   "metadata": {},
   "outputs": [
    {
     "name": "stderr",
     "output_type": "stream",
     "text": [
      "C:\\Users\\Luiz\\AppData\\Local\\Temp\\ipykernel_7236\\592446289.py:7: SettingWithCopyWarning: \n",
      "A value is trying to be set on a copy of a slice from a DataFrame.\n",
      "Try using .loc[row_indexer,col_indexer] = value instead\n",
      "\n",
      "See the caveats in the documentation: https://pandas.pydata.org/pandas-docs/stable/user_guide/indexing.html#returning-a-view-versus-a-copy\n",
      "  df_cnpj['raiz_cnpj'] = df_cnpj['txtCNPJCPF'].str[:8]\n",
      "C:\\Users\\Luiz\\AppData\\Local\\Temp\\ipykernel_7236\\592446289.py:8: SettingWithCopyWarning: \n",
      "A value is trying to be set on a copy of a slice from a DataFrame.\n",
      "Try using .loc[row_indexer,col_indexer] = value instead\n",
      "\n",
      "See the caveats in the documentation: https://pandas.pydata.org/pandas-docs/stable/user_guide/indexing.html#returning-a-view-versus-a-copy\n",
      "  df_cnpj['sufixo_cnpj'] = df_cnpj['txtCNPJCPF'].str[-6:]\n"
     ]
    }
   ],
   "source": [
    "#Selecionando só registros com CNPJ\n",
    "\n",
    "df_cnpj = df[df['txtCNPJCPF'].str.len() > 11]\n",
    "\n",
    "# Separando raiz do cnpj\n",
    "\n",
    "df_cnpj['raiz_cnpj'] = df_cnpj['txtCNPJCPF'].str[:8]\n",
    "df_cnpj['sufixo_cnpj'] = df_cnpj['txtCNPJCPF'].str[-6:]"
   ]
  },
  {
   "cell_type": "code",
   "execution_count": 14,
   "id": "aee87616",
   "metadata": {},
   "outputs": [],
   "source": [
    "df_novo = df_cnpj.groupby(['raiz_cnpj'])['vlrLiquido'].sum().sort_values(ascending=False)[:20].to_frame()"
   ]
  },
  {
   "cell_type": "code",
   "execution_count": 15,
   "id": "2a4ce715",
   "metadata": {},
   "outputs": [
    {
     "data": {
      "text/plain": [
       "(20, 1)"
      ]
     },
     "execution_count": 15,
     "metadata": {},
     "output_type": "execute_result"
    }
   ],
   "source": [
    "df_novo.shape"
   ]
  }
 ],
 "metadata": {
  "kernelspec": {
   "display_name": "Python 3",
   "language": "python",
   "name": "python3"
  },
  "language_info": {
   "codemirror_mode": {
    "name": "ipython",
    "version": 3
   },
   "file_extension": ".py",
   "mimetype": "text/x-python",
   "name": "python",
   "nbconvert_exporter": "python",
   "pygments_lexer": "ipython3",
   "version": "3.11.4"
  }
 },
 "nbformat": 4,
 "nbformat_minor": 5
}
