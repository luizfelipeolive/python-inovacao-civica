{
 "cells": [
  {
   "attachments": {},
   "cell_type": "markdown",
   "id": "32600998",
   "metadata": {},
   "source": [
    "# Exercício\n",
    "\n",
    "Construa um programa que:\n",
    " - Pergunte a usuária 2 números inteiros;\n",
    " - Crie uma lista numérica do intervalo;\n",
    " - Se o número for divisível por 3, substitua-o por \"Tecnologia\";\n",
    " - Se o número for divisível por 5, substitua-o por \"Cívica\";\n",
    " - Se o número for divisível por 3 e 5, substitua-o por \"Tecnologia Cívica\"."
   ]
  },
  {
   "cell_type": "code",
   "execution_count": 3,
   "id": "ec81ec3e",
   "metadata": {},
   "outputs": [],
   "source": [
    "numero_1 = int(input('Informe um número inteiro: '))"
   ]
  },
  {
   "cell_type": "code",
   "execution_count": 4,
   "id": "09b85a68",
   "metadata": {},
   "outputs": [
    {
     "data": {
      "text/plain": [
       "3"
      ]
     },
     "execution_count": 4,
     "metadata": {},
     "output_type": "execute_result"
    }
   ],
   "source": [
    "numero_1"
   ]
  },
  {
   "cell_type": "code",
   "execution_count": 9,
   "id": "c64e54d7",
   "metadata": {},
   "outputs": [],
   "source": [
    "numero_2 = int(input('Informe outro número inteiro maior que o anterior: '))"
   ]
  },
  {
   "cell_type": "code",
   "execution_count": 10,
   "id": "e8c364ff",
   "metadata": {},
   "outputs": [
    {
     "data": {
      "text/plain": [
       "35"
      ]
     },
     "execution_count": 10,
     "metadata": {},
     "output_type": "execute_result"
    }
   ],
   "source": [
    "numero_2"
   ]
  },
  {
   "cell_type": "code",
   "execution_count": 17,
   "id": "573f8c8b",
   "metadata": {},
   "outputs": [
    {
     "data": {
      "text/plain": [
       "[3,\n",
       " 4,\n",
       " 5,\n",
       " 6,\n",
       " 7,\n",
       " 8,\n",
       " 9,\n",
       " 10,\n",
       " 11,\n",
       " 12,\n",
       " 13,\n",
       " 14,\n",
       " 15,\n",
       " 16,\n",
       " 17,\n",
       " 18,\n",
       " 19,\n",
       " 20,\n",
       " 21,\n",
       " 22,\n",
       " 23,\n",
       " 24,\n",
       " 25,\n",
       " 26,\n",
       " 27,\n",
       " 28,\n",
       " 29,\n",
       " 30,\n",
       " 31,\n",
       " 32,\n",
       " 33,\n",
       " 34]"
      ]
     },
     "execution_count": 17,
     "metadata": {},
     "output_type": "execute_result"
    }
   ],
   "source": [
    "lista_numero = list(range(numero_1, numero_2))\n",
    "lista_numero"
   ]
  },
  {
   "cell_type": "code",
   "execution_count": 34,
   "id": "5026d6f2",
   "metadata": {},
   "outputs": [],
   "source": [
    "lista_vazia = []"
   ]
  },
  {
   "cell_type": "code",
   "execution_count": 18,
   "id": "675dbcdf",
   "metadata": {},
   "outputs": [
    {
     "name": "stdout",
     "output_type": "stream",
     "text": [
      "3\n",
      "4\n",
      "5\n",
      "6\n",
      "7\n",
      "8\n",
      "9\n",
      "10\n",
      "11\n",
      "12\n",
      "13\n",
      "14\n",
      "15\n",
      "16\n",
      "17\n",
      "18\n",
      "19\n",
      "20\n",
      "21\n",
      "22\n",
      "23\n",
      "24\n",
      "25\n",
      "26\n",
      "27\n",
      "28\n",
      "29\n",
      "30\n",
      "31\n",
      "32\n",
      "33\n",
      "34\n"
     ]
    }
   ],
   "source": [
    "for item in lista_numero:\n",
    "    print(item)"
   ]
  },
  {
   "cell_type": "code",
   "execution_count": 19,
   "id": "9e5cfc96",
   "metadata": {},
   "outputs": [
    {
     "name": "stdout",
     "output_type": "stream",
     "text": [
      "3\n",
      "6\n",
      "9\n",
      "12\n",
      "15\n",
      "18\n",
      "21\n",
      "24\n",
      "27\n",
      "30\n",
      "33\n"
     ]
    }
   ],
   "source": [
    "for item in lista_numero:\n",
    "    if item % 3 == 0:\n",
    "        print(item)"
   ]
  },
  {
   "cell_type": "code",
   "execution_count": 36,
   "id": "556508cf",
   "metadata": {},
   "outputs": [
    {
     "name": "stdout",
     "output_type": "stream",
     "text": [
      "[['Tecnologia', 3], 4, ['Cívica', 5], ['Tecnologia', 6], 7, 8, ['Tecnologia', 9], ['Cívica', 10], 11, ['Tecnologia', 12], 13, 14, ['Tecnologia Cívica', 15], 16, 17, ['Tecnologia', 18], 19, ['Cívica', 20], ['Tecnologia', 21], 22, 23, ['Tecnologia', 24], ['Cívica', 25], 26, ['Tecnologia', 27], 28, 29, ['Tecnologia Cívica', 30], 31, 32, ['Tecnologia', 33], 34]\n"
     ]
    }
   ],
   "source": [
    "for item in lista_numero:\n",
    "    if item % 3 == 0 and item % 5 == 0:\n",
    "        lista_vazia.append(['Tecnologia Cívica', item])\n",
    "    elif item % 3 == 0:\n",
    "        lista_vazia.append(['Tecnologia', item])\n",
    "    elif item % 5 == 0:\n",
    "        lista_vazia.append(['Cívica', item])\n",
    "    else:\n",
    "         lista_vazia.append(item)\n",
    "\n",
    "\n",
    "print(lista_vazia)"
   ]
  }
 ],
 "metadata": {
  "kernelspec": {
   "display_name": "Python 3 (ipykernel)",
   "language": "python",
   "name": "python3"
  },
  "language_info": {
   "codemirror_mode": {
    "name": "ipython",
    "version": 3
   },
   "file_extension": ".py",
   "mimetype": "text/x-python",
   "name": "python",
   "nbconvert_exporter": "python",
   "pygments_lexer": "ipython3",
   "version": "3.11.4"
  }
 },
 "nbformat": 4,
 "nbformat_minor": 5
}
