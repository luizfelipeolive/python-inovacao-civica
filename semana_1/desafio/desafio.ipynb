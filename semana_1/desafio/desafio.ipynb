{
 "cells": [
  {
   "cell_type": "markdown",
   "id": "b0c02ae8-da85-499a-99c9-8c3da9e1ae05",
   "metadata": {},
   "source": [
    "# Explorando dados\n",
    "\n",
    "Neste desafio colocaremos em prática alguns conceitos apresentado nas aulas. Para isso, usaremos o conjunto de dados [Candidatos - 2022](https://dadosabertos.tse.jus.br/dataset/candidatos-2022) disponível no Portal de Dados Abertos do Tribunal Superior Eleitoral.\n",
    "\n",
    "Os dados também podem ser encontrados na pasta \"Dados\" deste repositório.\n",
    "\n",
    "Siga as orientações abaixo para completar o desafio:"
   ]
  },
  {
   "cell_type": "markdown",
   "id": "d2bf34dd-2879-4dd6-b65b-4944a34c03d4",
   "metadata": {},
   "source": [
    "# Importe os pacotes necessários"
   ]
  },
  {
   "cell_type": "code",
   "execution_count": null,
   "id": "f0d60145-c06b-4936-9049-ff0c9688cc3a",
   "metadata": {},
   "outputs": [],
   "source": []
  },
  {
   "cell_type": "markdown",
   "id": "ced62f05-5e3c-4565-b13c-f359fb8c35bf",
   "metadata": {},
   "source": [
    "# Crie uma lista com o título dos arquivos usando a biblioteca Gloob"
   ]
  },
  {
   "cell_type": "code",
   "execution_count": null,
   "id": "af1882de-0244-47bf-a1fb-a17dee302da2",
   "metadata": {},
   "outputs": [],
   "source": []
  },
  {
   "cell_type": "markdown",
   "id": "cf29db73-447b-4375-bad5-2df7aa7c4743",
   "metadata": {},
   "source": [
    "# Crie um laço (loop) para ler todos os arquivos da lista (usando a biblioteca Pandas) e armazenar os dataframes em uma lista"
   ]
  },
  {
   "cell_type": "code",
   "execution_count": null,
   "id": "6b3869e6-a1fa-409e-b861-2cba2efd7e6e",
   "metadata": {},
   "outputs": [],
   "source": []
  },
  {
   "cell_type": "markdown",
   "id": "310bca4e-c1c2-4030-a427-ecda54601106",
   "metadata": {},
   "source": [
    "# Concatene todos os dataframes da lista"
   ]
  },
  {
   "cell_type": "code",
   "execution_count": null,
   "id": "5437f1dd-3ae6-48e3-a029-ec9c0b219637",
   "metadata": {},
   "outputs": [],
   "source": []
  },
  {
   "cell_type": "markdown",
   "id": "0c1bee1c-a55d-4152-98cd-471028d2d73a",
   "metadata": {},
   "source": [
    "# Apresente 5 linhas aleatórias do dataframe"
   ]
  },
  {
   "cell_type": "code",
   "execution_count": null,
   "id": "8c0c87ab-8525-4a30-beba-119e77e146cc",
   "metadata": {},
   "outputs": [],
   "source": []
  },
  {
   "cell_type": "markdown",
   "id": "a8238419-ff3d-4f00-bc36-ad1f4da01920",
   "metadata": {},
   "source": [
    "# Quantas candidaturas estão em situação de reeleição?"
   ]
  },
  {
   "cell_type": "code",
   "execution_count": null,
   "id": "1ddfef3a-55cf-4fea-aee1-e18652b789c6",
   "metadata": {},
   "outputs": [],
   "source": []
  },
  {
   "cell_type": "markdown",
   "id": "7cd5434f-9c0d-4fb6-a3ef-ce44498fea2e",
   "metadata": {},
   "source": [
    "# Quais cargos serão preenchidos nesse pleito?"
   ]
  },
  {
   "cell_type": "code",
   "execution_count": null,
   "id": "21ddcbb0-9eaa-4199-b2c0-c5a499884394",
   "metadata": {},
   "outputs": [],
   "source": []
  },
  {
   "cell_type": "markdown",
   "id": "c7b17015-ce8b-4f42-aea3-6b8bcdad0df4",
   "metadata": {},
   "source": [
    "# Liste todas a ocupações declaradas pelas candidaturas a Câmara de Deputados Federal"
   ]
  },
  {
   "cell_type": "code",
   "execution_count": null,
   "id": "669165d2-8864-4190-888b-f72d20dc3feb",
   "metadata": {},
   "outputs": [],
   "source": []
  },
  {
   "cell_type": "markdown",
   "id": "f92cd033-7c9a-47ac-acad-d5db0035e6ff",
   "metadata": {},
   "source": [
    "# Quantos anos tería a pessoa candidata mais velha no ato da posse?"
   ]
  },
  {
   "cell_type": "code",
   "execution_count": null,
   "id": "0b318c42-a896-4033-bdbf-24ce948682a0",
   "metadata": {},
   "outputs": [],
   "source": []
  },
  {
   "cell_type": "markdown",
   "id": "de5c48c3-c0b9-418c-bba2-bb20c5312bd8",
   "metadata": {},
   "source": [
    "# Quantos anos tería a pessoa candidata mais jovem no ato da posse?"
   ]
  },
  {
   "cell_type": "code",
   "execution_count": null,
   "id": "0657ab7f-e1e4-4f58-a17b-25dec24380fc",
   "metadata": {},
   "outputs": [],
   "source": []
  },
  {
   "cell_type": "markdown",
   "id": "f18ae4e7-ccca-4152-9971-65c543847936",
   "metadata": {},
   "source": [
    "# Qual é o nome da pessoa candidata mais velha?"
   ]
  },
  {
   "cell_type": "code",
   "execution_count": null,
   "id": "fe9f3ec7-715d-4eb0-a103-4a916fb09ed3",
   "metadata": {},
   "outputs": [],
   "source": []
  },
  {
   "cell_type": "markdown",
   "id": "f6ddfb4c-7012-4f0b-befb-f44cde4c06a8",
   "metadata": {},
   "source": [
    "# Qual é o nome da pessoa candidata mais jovem?"
   ]
  },
  {
   "cell_type": "code",
   "execution_count": null,
   "id": "e80d8e19-614e-44e4-9b88-32dc84c88747",
   "metadata": {},
   "outputs": [],
   "source": []
  },
  {
   "cell_type": "markdown",
   "id": "2499f3fc-a421-4e60-9170-d438392b9ed7",
   "metadata": {},
   "source": [
    "# Quantas candidaturas existem para \"Deputado federal\" seu estado?"
   ]
  },
  {
   "cell_type": "code",
   "execution_count": null,
   "id": "b2e3af0e-3073-4010-ba44-159d0ae73ee0",
   "metadata": {},
   "outputs": [],
   "source": []
  },
  {
   "cell_type": "markdown",
   "id": "6658e4f9-9271-4f0e-b6f8-575e33e5d8c9",
   "metadata": {},
   "source": [
    "# Qual é a média do valor máximo de despesas de campanha?"
   ]
  },
  {
   "cell_type": "code",
   "execution_count": null,
   "id": "93e40e7a-effb-4650-98ba-c52631971631",
   "metadata": {},
   "outputs": [],
   "source": []
  }
 ],
 "metadata": {
  "kernelspec": {
   "display_name": "Python 3 (ipykernel)",
   "language": "python",
   "name": "python3"
  },
  "language_info": {
   "codemirror_mode": {
    "name": "ipython",
    "version": 3
   },
   "file_extension": ".py",
   "mimetype": "text/x-python",
   "name": "python",
   "nbconvert_exporter": "python",
   "pygments_lexer": "ipython3",
   "version": "3.10.6"
  }
 },
 "nbformat": 4,
 "nbformat_minor": 5
}
