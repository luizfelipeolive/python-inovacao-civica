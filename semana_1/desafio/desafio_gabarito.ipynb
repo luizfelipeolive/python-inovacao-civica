{
 "cells": [
  {
   "cell_type": "markdown",
   "id": "b0c02ae8-da85-499a-99c9-8c3da9e1ae05",
   "metadata": {},
   "source": [
    "# Explorando dados\n",
    "\n",
    "Neste desafio colocaremos em prática alguns conceitos apresentado nas aulas. Para isso, usaremos o conjunto de dados [Candidatos - 2022](https://dadosabertos.tse.jus.br/dataset/candidatos-2022) disponível no Portal de Dados Abertos do Tribunal Superior Eleitoral.\n",
    "\n",
    "Os dados também podem ser encontrados na pasta \"Dados\" deste repositório.\n",
    "\n",
    "Siga as orientações abaixo para completar o desafio:"
   ]
  },
  {
   "cell_type": "markdown",
   "id": "d2bf34dd-2879-4dd6-b65b-4944a34c03d4",
   "metadata": {},
   "source": [
    "# Importe os pacotes necessários"
   ]
  },
  {
   "cell_type": "code",
   "execution_count": 3,
   "id": "b286617f-43b9-4c20-8b0e-5ae0da7e4a9f",
   "metadata": {},
   "outputs": [],
   "source": [
    "import pandas as pd\n",
    "import glob as gb"
   ]
  },
  {
   "cell_type": "markdown",
   "id": "ced62f05-5e3c-4565-b13c-f359fb8c35bf",
   "metadata": {},
   "source": [
    "# Crie uma lista com o título dos arquivos usando a biblioteca Gloob"
   ]
  },
  {
   "cell_type": "code",
   "execution_count": 4,
   "id": "45b0cb8f-d567-4274-877f-53e8faa7d1be",
   "metadata": {},
   "outputs": [],
   "source": [
    "arquivos = gb.glob('../base_dados/consulta_*.csv')"
   ]
  },
  {
   "cell_type": "code",
   "execution_count": 5,
   "id": "441c3129-301b-4ebc-a325-8af71313dedb",
   "metadata": {},
   "outputs": [
    {
     "data": {
      "text/plain": [
       "['../base_dados/consulta_cand_2022_PA.csv',\n",
       " '../base_dados/consulta_cand_2022_AP.csv']"
      ]
     },
     "execution_count": 5,
     "metadata": {},
     "output_type": "execute_result"
    }
   ],
   "source": [
    "arquivos"
   ]
  },
  {
   "cell_type": "markdown",
   "id": "cf29db73-447b-4375-bad5-2df7aa7c4743",
   "metadata": {},
   "source": [
    "# Crie um laço (loop) para ler todos os arquivos da lista (usando a biblioteca Pandas) e armazenar os dataframes em uma lista"
   ]
  },
  {
   "cell_type": "code",
   "execution_count": 6,
   "id": "dd63f03d-147e-4fda-ba61-9edb0bdee254",
   "metadata": {},
   "outputs": [],
   "source": [
    "lista_df = []"
   ]
  },
  {
   "cell_type": "code",
   "execution_count": 7,
   "id": "ea0cf56a-9120-40bd-a3ac-d40d816a1fe2",
   "metadata": {},
   "outputs": [],
   "source": [
    "for csv in arquivos:\n",
    "  df = pd.read_csv(csv, encoding=\"Latin 1\", engine= 'python', sep=';', na_values=['#NULO#', -1])\n",
    "  lista_df.append(df) "
   ]
  },
  {
   "cell_type": "code",
   "execution_count": 8,
   "id": "b7746711-f240-42e5-80ab-dd5339bd31f4",
   "metadata": {},
   "outputs": [
    {
     "data": {
      "text/html": [
       "<div>\n",
       "<style scoped>\n",
       "    .dataframe tbody tr th:only-of-type {\n",
       "        vertical-align: middle;\n",
       "    }\n",
       "\n",
       "    .dataframe tbody tr th {\n",
       "        vertical-align: top;\n",
       "    }\n",
       "\n",
       "    .dataframe thead th {\n",
       "        text-align: right;\n",
       "    }\n",
       "</style>\n",
       "<table border=\"1\" class=\"dataframe\">\n",
       "  <thead>\n",
       "    <tr style=\"text-align: right;\">\n",
       "      <th></th>\n",
       "      <th>DT_GERACAO</th>\n",
       "      <th>HH_GERACAO</th>\n",
       "      <th>ANO_ELEICAO</th>\n",
       "      <th>CD_TIPO_ELEICAO</th>\n",
       "      <th>NM_TIPO_ELEICAO</th>\n",
       "      <th>NR_TURNO</th>\n",
       "      <th>CD_ELEICAO</th>\n",
       "      <th>DS_ELEICAO</th>\n",
       "      <th>DT_ELEICAO</th>\n",
       "      <th>TP_ABRANGENCIA</th>\n",
       "      <th>...</th>\n",
       "      <th>NR_PROCESSO</th>\n",
       "      <th>CD_SITUACAO_CANDIDATO_PLEITO</th>\n",
       "      <th>DS_SITUACAO_CANDIDATO_PLEITO</th>\n",
       "      <th>CD_SITUACAO_CANDIDATO_URNA</th>\n",
       "      <th>DS_SITUACAO_CANDIDATO_URNA</th>\n",
       "      <th>ST_CANDIDATO_INSERIDO_URNA</th>\n",
       "      <th>NM_TIPO_DESTINACAO_VOTOS</th>\n",
       "      <th>CD_SITUACAO_CANDIDATO_TOT</th>\n",
       "      <th>DS_SITUACAO_CANDIDATO_TOT</th>\n",
       "      <th>ST_PREST_CONTAS</th>\n",
       "    </tr>\n",
       "  </thead>\n",
       "  <tbody>\n",
       "    <tr>\n",
       "      <th>0</th>\n",
       "      <td>13/05/2023</td>\n",
       "      <td>19:32:48</td>\n",
       "      <td>2022</td>\n",
       "      <td>2</td>\n",
       "      <td>ELEIÇÃO ORDINÁRIA</td>\n",
       "      <td>1</td>\n",
       "      <td>546</td>\n",
       "      <td>Eleições Gerais Estaduais 2022</td>\n",
       "      <td>02/10/2022</td>\n",
       "      <td>ESTADUAL</td>\n",
       "      <td>...</td>\n",
       "      <td>6006408620226140000</td>\n",
       "      <td>2.0</td>\n",
       "      <td>DEFERIDO</td>\n",
       "      <td>2.0</td>\n",
       "      <td>DEFERIDO</td>\n",
       "      <td>SIM</td>\n",
       "      <td>Válido</td>\n",
       "      <td>2.0</td>\n",
       "      <td>Deferido</td>\n",
       "      <td>S</td>\n",
       "    </tr>\n",
       "    <tr>\n",
       "      <th>1</th>\n",
       "      <td>13/05/2023</td>\n",
       "      <td>19:32:48</td>\n",
       "      <td>2022</td>\n",
       "      <td>2</td>\n",
       "      <td>ELEIÇÃO ORDINÁRIA</td>\n",
       "      <td>1</td>\n",
       "      <td>546</td>\n",
       "      <td>Eleições Gerais Estaduais 2022</td>\n",
       "      <td>02/10/2022</td>\n",
       "      <td>ESTADUAL</td>\n",
       "      <td>...</td>\n",
       "      <td>6011397020226140000</td>\n",
       "      <td>NaN</td>\n",
       "      <td>NaN</td>\n",
       "      <td>NaN</td>\n",
       "      <td>NaN</td>\n",
       "      <td>NÃO</td>\n",
       "      <td>NaN</td>\n",
       "      <td>NaN</td>\n",
       "      <td>NaN</td>\n",
       "      <td>N</td>\n",
       "    </tr>\n",
       "    <tr>\n",
       "      <th>2</th>\n",
       "      <td>13/05/2023</td>\n",
       "      <td>19:32:48</td>\n",
       "      <td>2022</td>\n",
       "      <td>2</td>\n",
       "      <td>ELEIÇÃO ORDINÁRIA</td>\n",
       "      <td>1</td>\n",
       "      <td>546</td>\n",
       "      <td>Eleições Gerais Estaduais 2022</td>\n",
       "      <td>02/10/2022</td>\n",
       "      <td>ESTADUAL</td>\n",
       "      <td>...</td>\n",
       "      <td>6012245620226140000</td>\n",
       "      <td>NaN</td>\n",
       "      <td>NaN</td>\n",
       "      <td>NaN</td>\n",
       "      <td>NaN</td>\n",
       "      <td>NÃO</td>\n",
       "      <td>NaN</td>\n",
       "      <td>NaN</td>\n",
       "      <td>NaN</td>\n",
       "      <td>N</td>\n",
       "    </tr>\n",
       "    <tr>\n",
       "      <th>3</th>\n",
       "      <td>13/05/2023</td>\n",
       "      <td>19:32:48</td>\n",
       "      <td>2022</td>\n",
       "      <td>2</td>\n",
       "      <td>ELEIÇÃO ORDINÁRIA</td>\n",
       "      <td>1</td>\n",
       "      <td>546</td>\n",
       "      <td>Eleições Gerais Estaduais 2022</td>\n",
       "      <td>02/10/2022</td>\n",
       "      <td>ESTADUAL</td>\n",
       "      <td>...</td>\n",
       "      <td>6006754620226140000</td>\n",
       "      <td>2.0</td>\n",
       "      <td>DEFERIDO</td>\n",
       "      <td>2.0</td>\n",
       "      <td>DEFERIDO</td>\n",
       "      <td>SIM</td>\n",
       "      <td>Válido</td>\n",
       "      <td>2.0</td>\n",
       "      <td>Deferido</td>\n",
       "      <td>S</td>\n",
       "    </tr>\n",
       "    <tr>\n",
       "      <th>4</th>\n",
       "      <td>13/05/2023</td>\n",
       "      <td>19:32:48</td>\n",
       "      <td>2022</td>\n",
       "      <td>2</td>\n",
       "      <td>ELEIÇÃO ORDINÁRIA</td>\n",
       "      <td>1</td>\n",
       "      <td>546</td>\n",
       "      <td>Eleições Gerais Estaduais 2022</td>\n",
       "      <td>02/10/2022</td>\n",
       "      <td>ESTADUAL</td>\n",
       "      <td>...</td>\n",
       "      <td>6008876720226140000</td>\n",
       "      <td>2.0</td>\n",
       "      <td>DEFERIDO</td>\n",
       "      <td>2.0</td>\n",
       "      <td>DEFERIDO</td>\n",
       "      <td>SIM</td>\n",
       "      <td>Válido</td>\n",
       "      <td>2.0</td>\n",
       "      <td>Deferido</td>\n",
       "      <td>S</td>\n",
       "    </tr>\n",
       "    <tr>\n",
       "      <th>...</th>\n",
       "      <td>...</td>\n",
       "      <td>...</td>\n",
       "      <td>...</td>\n",
       "      <td>...</td>\n",
       "      <td>...</td>\n",
       "      <td>...</td>\n",
       "      <td>...</td>\n",
       "      <td>...</td>\n",
       "      <td>...</td>\n",
       "      <td>...</td>\n",
       "      <td>...</td>\n",
       "      <td>...</td>\n",
       "      <td>...</td>\n",
       "      <td>...</td>\n",
       "      <td>...</td>\n",
       "      <td>...</td>\n",
       "      <td>...</td>\n",
       "      <td>...</td>\n",
       "      <td>...</td>\n",
       "      <td>...</td>\n",
       "      <td>...</td>\n",
       "    </tr>\n",
       "    <tr>\n",
       "      <th>1038</th>\n",
       "      <td>13/05/2023</td>\n",
       "      <td>19:32:48</td>\n",
       "      <td>2022</td>\n",
       "      <td>2</td>\n",
       "      <td>ELEIÇÃO ORDINÁRIA</td>\n",
       "      <td>1</td>\n",
       "      <td>546</td>\n",
       "      <td>Eleições Gerais Estaduais 2022</td>\n",
       "      <td>02/10/2022</td>\n",
       "      <td>ESTADUAL</td>\n",
       "      <td>...</td>\n",
       "      <td>6002268820226140000</td>\n",
       "      <td>2.0</td>\n",
       "      <td>DEFERIDO</td>\n",
       "      <td>2.0</td>\n",
       "      <td>DEFERIDO</td>\n",
       "      <td>SIM</td>\n",
       "      <td>Válido</td>\n",
       "      <td>2.0</td>\n",
       "      <td>Deferido</td>\n",
       "      <td>S</td>\n",
       "    </tr>\n",
       "    <tr>\n",
       "      <th>1039</th>\n",
       "      <td>13/05/2023</td>\n",
       "      <td>19:32:48</td>\n",
       "      <td>2022</td>\n",
       "      <td>2</td>\n",
       "      <td>ELEIÇÃO ORDINÁRIA</td>\n",
       "      <td>1</td>\n",
       "      <td>546</td>\n",
       "      <td>Eleições Gerais Estaduais 2022</td>\n",
       "      <td>02/10/2022</td>\n",
       "      <td>ESTADUAL</td>\n",
       "      <td>...</td>\n",
       "      <td>6005637720226140000</td>\n",
       "      <td>4.0</td>\n",
       "      <td>INDEFERIDO COM RECURSO</td>\n",
       "      <td>4.0</td>\n",
       "      <td>INDEFERIDO COM RECURSO</td>\n",
       "      <td>SIM</td>\n",
       "      <td>Anulado sub judice</td>\n",
       "      <td>4.0</td>\n",
       "      <td>Indeferido com recurso</td>\n",
       "      <td>N</td>\n",
       "    </tr>\n",
       "    <tr>\n",
       "      <th>1040</th>\n",
       "      <td>13/05/2023</td>\n",
       "      <td>19:32:48</td>\n",
       "      <td>2022</td>\n",
       "      <td>2</td>\n",
       "      <td>ELEIÇÃO ORDINÁRIA</td>\n",
       "      <td>1</td>\n",
       "      <td>546</td>\n",
       "      <td>Eleições Gerais Estaduais 2022</td>\n",
       "      <td>02/10/2022</td>\n",
       "      <td>ESTADUAL</td>\n",
       "      <td>...</td>\n",
       "      <td>6004866820226140000</td>\n",
       "      <td>2.0</td>\n",
       "      <td>DEFERIDO</td>\n",
       "      <td>2.0</td>\n",
       "      <td>DEFERIDO</td>\n",
       "      <td>SIM</td>\n",
       "      <td>Válido</td>\n",
       "      <td>2.0</td>\n",
       "      <td>Deferido</td>\n",
       "      <td>S</td>\n",
       "    </tr>\n",
       "    <tr>\n",
       "      <th>1041</th>\n",
       "      <td>13/05/2023</td>\n",
       "      <td>19:32:48</td>\n",
       "      <td>2022</td>\n",
       "      <td>2</td>\n",
       "      <td>ELEIÇÃO ORDINÁRIA</td>\n",
       "      <td>1</td>\n",
       "      <td>546</td>\n",
       "      <td>Eleições Gerais Estaduais 2022</td>\n",
       "      <td>02/10/2022</td>\n",
       "      <td>ESTADUAL</td>\n",
       "      <td>...</td>\n",
       "      <td>6004312020226140000</td>\n",
       "      <td>2.0</td>\n",
       "      <td>DEFERIDO</td>\n",
       "      <td>2.0</td>\n",
       "      <td>DEFERIDO</td>\n",
       "      <td>SIM</td>\n",
       "      <td>Válido</td>\n",
       "      <td>2.0</td>\n",
       "      <td>Deferido</td>\n",
       "      <td>S</td>\n",
       "    </tr>\n",
       "    <tr>\n",
       "      <th>1042</th>\n",
       "      <td>13/05/2023</td>\n",
       "      <td>19:32:48</td>\n",
       "      <td>2022</td>\n",
       "      <td>2</td>\n",
       "      <td>ELEIÇÃO ORDINÁRIA</td>\n",
       "      <td>1</td>\n",
       "      <td>546</td>\n",
       "      <td>Eleições Gerais Estaduais 2022</td>\n",
       "      <td>02/10/2022</td>\n",
       "      <td>ESTADUAL</td>\n",
       "      <td>...</td>\n",
       "      <td>6009040620226140000</td>\n",
       "      <td>2.0</td>\n",
       "      <td>DEFERIDO</td>\n",
       "      <td>2.0</td>\n",
       "      <td>DEFERIDO</td>\n",
       "      <td>SIM</td>\n",
       "      <td>Válido</td>\n",
       "      <td>2.0</td>\n",
       "      <td>Deferido</td>\n",
       "      <td>S</td>\n",
       "    </tr>\n",
       "  </tbody>\n",
       "</table>\n",
       "<p>1043 rows × 71 columns</p>\n",
       "</div>"
      ],
      "text/plain": [
       "      DT_GERACAO HH_GERACAO  ANO_ELEICAO  CD_TIPO_ELEICAO    NM_TIPO_ELEICAO  \\\n",
       "0     13/05/2023   19:32:48         2022                2  ELEIÇÃO ORDINÁRIA   \n",
       "1     13/05/2023   19:32:48         2022                2  ELEIÇÃO ORDINÁRIA   \n",
       "2     13/05/2023   19:32:48         2022                2  ELEIÇÃO ORDINÁRIA   \n",
       "3     13/05/2023   19:32:48         2022                2  ELEIÇÃO ORDINÁRIA   \n",
       "4     13/05/2023   19:32:48         2022                2  ELEIÇÃO ORDINÁRIA   \n",
       "...          ...        ...          ...              ...                ...   \n",
       "1038  13/05/2023   19:32:48         2022                2  ELEIÇÃO ORDINÁRIA   \n",
       "1039  13/05/2023   19:32:48         2022                2  ELEIÇÃO ORDINÁRIA   \n",
       "1040  13/05/2023   19:32:48         2022                2  ELEIÇÃO ORDINÁRIA   \n",
       "1041  13/05/2023   19:32:48         2022                2  ELEIÇÃO ORDINÁRIA   \n",
       "1042  13/05/2023   19:32:48         2022                2  ELEIÇÃO ORDINÁRIA   \n",
       "\n",
       "      NR_TURNO  CD_ELEICAO                      DS_ELEICAO  DT_ELEICAO  \\\n",
       "0            1         546  Eleições Gerais Estaduais 2022  02/10/2022   \n",
       "1            1         546  Eleições Gerais Estaduais 2022  02/10/2022   \n",
       "2            1         546  Eleições Gerais Estaduais 2022  02/10/2022   \n",
       "3            1         546  Eleições Gerais Estaduais 2022  02/10/2022   \n",
       "4            1         546  Eleições Gerais Estaduais 2022  02/10/2022   \n",
       "...        ...         ...                             ...         ...   \n",
       "1038         1         546  Eleições Gerais Estaduais 2022  02/10/2022   \n",
       "1039         1         546  Eleições Gerais Estaduais 2022  02/10/2022   \n",
       "1040         1         546  Eleições Gerais Estaduais 2022  02/10/2022   \n",
       "1041         1         546  Eleições Gerais Estaduais 2022  02/10/2022   \n",
       "1042         1         546  Eleições Gerais Estaduais 2022  02/10/2022   \n",
       "\n",
       "     TP_ABRANGENCIA  ...          NR_PROCESSO CD_SITUACAO_CANDIDATO_PLEITO  \\\n",
       "0          ESTADUAL  ...  6006408620226140000                          2.0   \n",
       "1          ESTADUAL  ...  6011397020226140000                          NaN   \n",
       "2          ESTADUAL  ...  6012245620226140000                          NaN   \n",
       "3          ESTADUAL  ...  6006754620226140000                          2.0   \n",
       "4          ESTADUAL  ...  6008876720226140000                          2.0   \n",
       "...             ...  ...                  ...                          ...   \n",
       "1038       ESTADUAL  ...  6002268820226140000                          2.0   \n",
       "1039       ESTADUAL  ...  6005637720226140000                          4.0   \n",
       "1040       ESTADUAL  ...  6004866820226140000                          2.0   \n",
       "1041       ESTADUAL  ...  6004312020226140000                          2.0   \n",
       "1042       ESTADUAL  ...  6009040620226140000                          2.0   \n",
       "\n",
       "     DS_SITUACAO_CANDIDATO_PLEITO  CD_SITUACAO_CANDIDATO_URNA  \\\n",
       "0                        DEFERIDO                         2.0   \n",
       "1                             NaN                         NaN   \n",
       "2                             NaN                         NaN   \n",
       "3                        DEFERIDO                         2.0   \n",
       "4                        DEFERIDO                         2.0   \n",
       "...                           ...                         ...   \n",
       "1038                     DEFERIDO                         2.0   \n",
       "1039       INDEFERIDO COM RECURSO                         4.0   \n",
       "1040                     DEFERIDO                         2.0   \n",
       "1041                     DEFERIDO                         2.0   \n",
       "1042                     DEFERIDO                         2.0   \n",
       "\n",
       "     DS_SITUACAO_CANDIDATO_URNA  ST_CANDIDATO_INSERIDO_URNA  \\\n",
       "0                      DEFERIDO                         SIM   \n",
       "1                           NaN                         NÃO   \n",
       "2                           NaN                         NÃO   \n",
       "3                      DEFERIDO                         SIM   \n",
       "4                      DEFERIDO                         SIM   \n",
       "...                         ...                         ...   \n",
       "1038                   DEFERIDO                         SIM   \n",
       "1039     INDEFERIDO COM RECURSO                         SIM   \n",
       "1040                   DEFERIDO                         SIM   \n",
       "1041                   DEFERIDO                         SIM   \n",
       "1042                   DEFERIDO                         SIM   \n",
       "\n",
       "      NM_TIPO_DESTINACAO_VOTOS CD_SITUACAO_CANDIDATO_TOT  \\\n",
       "0                       Válido                       2.0   \n",
       "1                          NaN                       NaN   \n",
       "2                          NaN                       NaN   \n",
       "3                       Válido                       2.0   \n",
       "4                       Válido                       2.0   \n",
       "...                        ...                       ...   \n",
       "1038                    Válido                       2.0   \n",
       "1039        Anulado sub judice                       4.0   \n",
       "1040                    Válido                       2.0   \n",
       "1041                    Válido                       2.0   \n",
       "1042                    Válido                       2.0   \n",
       "\n",
       "     DS_SITUACAO_CANDIDATO_TOT ST_PREST_CONTAS  \n",
       "0                     Deferido               S  \n",
       "1                          NaN               N  \n",
       "2                          NaN               N  \n",
       "3                     Deferido               S  \n",
       "4                     Deferido               S  \n",
       "...                        ...             ...  \n",
       "1038                  Deferido               S  \n",
       "1039    Indeferido com recurso               N  \n",
       "1040                  Deferido               S  \n",
       "1041                  Deferido               S  \n",
       "1042                  Deferido               S  \n",
       "\n",
       "[1043 rows x 71 columns]"
      ]
     },
     "execution_count": 8,
     "metadata": {},
     "output_type": "execute_result"
    }
   ],
   "source": [
    "lista_df[0]"
   ]
  },
  {
   "cell_type": "markdown",
   "id": "310bca4e-c1c2-4030-a427-ecda54601106",
   "metadata": {},
   "source": [
    "# Concatene todos os dataframes da lista"
   ]
  },
  {
   "cell_type": "code",
   "execution_count": 9,
   "id": "997a08ff-f355-40c1-9257-cf4a196517bd",
   "metadata": {},
   "outputs": [],
   "source": [
    "candidaturas = pd.concat(lista_df, axis=0, ignore_index=True)"
   ]
  },
  {
   "cell_type": "code",
   "execution_count": 10,
   "id": "33bc1b95-1ca7-41be-ba40-afc4f447fd3c",
   "metadata": {},
   "outputs": [
    {
     "data": {
      "text/plain": [
       "(1600, 71)"
      ]
     },
     "execution_count": 10,
     "metadata": {},
     "output_type": "execute_result"
    }
   ],
   "source": [
    "candidaturas.shape"
   ]
  },
  {
   "cell_type": "markdown",
   "id": "0c1bee1c-a55d-4152-98cd-471028d2d73a",
   "metadata": {},
   "source": [
    "# Apresente 5 linhas aleatórias do dataframe"
   ]
  },
  {
   "cell_type": "code",
   "execution_count": 11,
   "id": "b7b7124c-f6fa-4d90-b157-88678e82076e",
   "metadata": {},
   "outputs": [
    {
     "data": {
      "text/html": [
       "<div>\n",
       "<style scoped>\n",
       "    .dataframe tbody tr th:only-of-type {\n",
       "        vertical-align: middle;\n",
       "    }\n",
       "\n",
       "    .dataframe tbody tr th {\n",
       "        vertical-align: top;\n",
       "    }\n",
       "\n",
       "    .dataframe thead th {\n",
       "        text-align: right;\n",
       "    }\n",
       "</style>\n",
       "<table border=\"1\" class=\"dataframe\">\n",
       "  <thead>\n",
       "    <tr style=\"text-align: right;\">\n",
       "      <th></th>\n",
       "      <th>DT_GERACAO</th>\n",
       "      <th>HH_GERACAO</th>\n",
       "      <th>ANO_ELEICAO</th>\n",
       "      <th>CD_TIPO_ELEICAO</th>\n",
       "      <th>NM_TIPO_ELEICAO</th>\n",
       "      <th>NR_TURNO</th>\n",
       "      <th>CD_ELEICAO</th>\n",
       "      <th>DS_ELEICAO</th>\n",
       "      <th>DT_ELEICAO</th>\n",
       "      <th>TP_ABRANGENCIA</th>\n",
       "      <th>...</th>\n",
       "      <th>NR_PROCESSO</th>\n",
       "      <th>CD_SITUACAO_CANDIDATO_PLEITO</th>\n",
       "      <th>DS_SITUACAO_CANDIDATO_PLEITO</th>\n",
       "      <th>CD_SITUACAO_CANDIDATO_URNA</th>\n",
       "      <th>DS_SITUACAO_CANDIDATO_URNA</th>\n",
       "      <th>ST_CANDIDATO_INSERIDO_URNA</th>\n",
       "      <th>NM_TIPO_DESTINACAO_VOTOS</th>\n",
       "      <th>CD_SITUACAO_CANDIDATO_TOT</th>\n",
       "      <th>DS_SITUACAO_CANDIDATO_TOT</th>\n",
       "      <th>ST_PREST_CONTAS</th>\n",
       "    </tr>\n",
       "  </thead>\n",
       "  <tbody>\n",
       "    <tr>\n",
       "      <th>198</th>\n",
       "      <td>13/05/2023</td>\n",
       "      <td>19:32:48</td>\n",
       "      <td>2022</td>\n",
       "      <td>2</td>\n",
       "      <td>ELEIÇÃO ORDINÁRIA</td>\n",
       "      <td>1</td>\n",
       "      <td>546</td>\n",
       "      <td>Eleições Gerais Estaduais 2022</td>\n",
       "      <td>02/10/2022</td>\n",
       "      <td>ESTADUAL</td>\n",
       "      <td>...</td>\n",
       "      <td>6004251320226140000</td>\n",
       "      <td>2.0</td>\n",
       "      <td>DEFERIDO</td>\n",
       "      <td>2.0</td>\n",
       "      <td>DEFERIDO</td>\n",
       "      <td>SIM</td>\n",
       "      <td>Válido</td>\n",
       "      <td>2.0</td>\n",
       "      <td>Deferido</td>\n",
       "      <td>S</td>\n",
       "    </tr>\n",
       "    <tr>\n",
       "      <th>940</th>\n",
       "      <td>13/05/2023</td>\n",
       "      <td>19:32:48</td>\n",
       "      <td>2022</td>\n",
       "      <td>2</td>\n",
       "      <td>ELEIÇÃO ORDINÁRIA</td>\n",
       "      <td>1</td>\n",
       "      <td>546</td>\n",
       "      <td>Eleições Gerais Estaduais 2022</td>\n",
       "      <td>02/10/2022</td>\n",
       "      <td>ESTADUAL</td>\n",
       "      <td>...</td>\n",
       "      <td>6009404820226140000</td>\n",
       "      <td>2.0</td>\n",
       "      <td>DEFERIDO</td>\n",
       "      <td>2.0</td>\n",
       "      <td>DEFERIDO</td>\n",
       "      <td>SIM</td>\n",
       "      <td>Válido</td>\n",
       "      <td>2.0</td>\n",
       "      <td>Deferido</td>\n",
       "      <td>S</td>\n",
       "    </tr>\n",
       "    <tr>\n",
       "      <th>360</th>\n",
       "      <td>13/05/2023</td>\n",
       "      <td>19:32:48</td>\n",
       "      <td>2022</td>\n",
       "      <td>2</td>\n",
       "      <td>ELEIÇÃO ORDINÁRIA</td>\n",
       "      <td>1</td>\n",
       "      <td>546</td>\n",
       "      <td>Eleições Gerais Estaduais 2022</td>\n",
       "      <td>02/10/2022</td>\n",
       "      <td>ESTADUAL</td>\n",
       "      <td>...</td>\n",
       "      <td>6014211120226140000</td>\n",
       "      <td>2.0</td>\n",
       "      <td>DEFERIDO</td>\n",
       "      <td>2.0</td>\n",
       "      <td>DEFERIDO</td>\n",
       "      <td>SIM</td>\n",
       "      <td>NaN</td>\n",
       "      <td>2.0</td>\n",
       "      <td>Deferido</td>\n",
       "      <td>N</td>\n",
       "    </tr>\n",
       "    <tr>\n",
       "      <th>121</th>\n",
       "      <td>13/05/2023</td>\n",
       "      <td>19:32:48</td>\n",
       "      <td>2022</td>\n",
       "      <td>2</td>\n",
       "      <td>ELEIÇÃO ORDINÁRIA</td>\n",
       "      <td>1</td>\n",
       "      <td>546</td>\n",
       "      <td>Eleições Gerais Estaduais 2022</td>\n",
       "      <td>02/10/2022</td>\n",
       "      <td>ESTADUAL</td>\n",
       "      <td>...</td>\n",
       "      <td>6002822420226140000</td>\n",
       "      <td>2.0</td>\n",
       "      <td>DEFERIDO</td>\n",
       "      <td>2.0</td>\n",
       "      <td>DEFERIDO</td>\n",
       "      <td>SIM</td>\n",
       "      <td>Válido</td>\n",
       "      <td>2.0</td>\n",
       "      <td>Deferido</td>\n",
       "      <td>S</td>\n",
       "    </tr>\n",
       "    <tr>\n",
       "      <th>1329</th>\n",
       "      <td>13/05/2023</td>\n",
       "      <td>19:32:48</td>\n",
       "      <td>2022</td>\n",
       "      <td>2</td>\n",
       "      <td>ELEIÇÃO ORDINÁRIA</td>\n",
       "      <td>1</td>\n",
       "      <td>546</td>\n",
       "      <td>Eleições Gerais Estaduais 2022</td>\n",
       "      <td>02/10/2022</td>\n",
       "      <td>ESTADUAL</td>\n",
       "      <td>...</td>\n",
       "      <td>6003516220226030000</td>\n",
       "      <td>4.0</td>\n",
       "      <td>INDEFERIDO COM RECURSO</td>\n",
       "      <td>4.0</td>\n",
       "      <td>INDEFERIDO COM RECURSO</td>\n",
       "      <td>SIM</td>\n",
       "      <td>Anulado sub judice</td>\n",
       "      <td>4.0</td>\n",
       "      <td>Indeferido com recurso</td>\n",
       "      <td>S</td>\n",
       "    </tr>\n",
       "  </tbody>\n",
       "</table>\n",
       "<p>5 rows × 71 columns</p>\n",
       "</div>"
      ],
      "text/plain": [
       "      DT_GERACAO HH_GERACAO  ANO_ELEICAO  CD_TIPO_ELEICAO    NM_TIPO_ELEICAO  \\\n",
       "198   13/05/2023   19:32:48         2022                2  ELEIÇÃO ORDINÁRIA   \n",
       "940   13/05/2023   19:32:48         2022                2  ELEIÇÃO ORDINÁRIA   \n",
       "360   13/05/2023   19:32:48         2022                2  ELEIÇÃO ORDINÁRIA   \n",
       "121   13/05/2023   19:32:48         2022                2  ELEIÇÃO ORDINÁRIA   \n",
       "1329  13/05/2023   19:32:48         2022                2  ELEIÇÃO ORDINÁRIA   \n",
       "\n",
       "      NR_TURNO  CD_ELEICAO                      DS_ELEICAO  DT_ELEICAO  \\\n",
       "198          1         546  Eleições Gerais Estaduais 2022  02/10/2022   \n",
       "940          1         546  Eleições Gerais Estaduais 2022  02/10/2022   \n",
       "360          1         546  Eleições Gerais Estaduais 2022  02/10/2022   \n",
       "121          1         546  Eleições Gerais Estaduais 2022  02/10/2022   \n",
       "1329         1         546  Eleições Gerais Estaduais 2022  02/10/2022   \n",
       "\n",
       "     TP_ABRANGENCIA  ...          NR_PROCESSO CD_SITUACAO_CANDIDATO_PLEITO  \\\n",
       "198        ESTADUAL  ...  6004251320226140000                          2.0   \n",
       "940        ESTADUAL  ...  6009404820226140000                          2.0   \n",
       "360        ESTADUAL  ...  6014211120226140000                          2.0   \n",
       "121        ESTADUAL  ...  6002822420226140000                          2.0   \n",
       "1329       ESTADUAL  ...  6003516220226030000                          4.0   \n",
       "\n",
       "     DS_SITUACAO_CANDIDATO_PLEITO  CD_SITUACAO_CANDIDATO_URNA  \\\n",
       "198                      DEFERIDO                         2.0   \n",
       "940                      DEFERIDO                         2.0   \n",
       "360                      DEFERIDO                         2.0   \n",
       "121                      DEFERIDO                         2.0   \n",
       "1329       INDEFERIDO COM RECURSO                         4.0   \n",
       "\n",
       "     DS_SITUACAO_CANDIDATO_URNA  ST_CANDIDATO_INSERIDO_URNA  \\\n",
       "198                    DEFERIDO                         SIM   \n",
       "940                    DEFERIDO                         SIM   \n",
       "360                    DEFERIDO                         SIM   \n",
       "121                    DEFERIDO                         SIM   \n",
       "1329     INDEFERIDO COM RECURSO                         SIM   \n",
       "\n",
       "      NM_TIPO_DESTINACAO_VOTOS CD_SITUACAO_CANDIDATO_TOT  \\\n",
       "198                     Válido                       2.0   \n",
       "940                     Válido                       2.0   \n",
       "360                        NaN                       2.0   \n",
       "121                     Válido                       2.0   \n",
       "1329        Anulado sub judice                       4.0   \n",
       "\n",
       "     DS_SITUACAO_CANDIDATO_TOT ST_PREST_CONTAS  \n",
       "198                   Deferido               S  \n",
       "940                   Deferido               S  \n",
       "360                   Deferido               N  \n",
       "121                   Deferido               S  \n",
       "1329    Indeferido com recurso               S  \n",
       "\n",
       "[5 rows x 71 columns]"
      ]
     },
     "execution_count": 11,
     "metadata": {},
     "output_type": "execute_result"
    }
   ],
   "source": [
    "candidaturas.sample(5)"
   ]
  },
  {
   "cell_type": "markdown",
   "id": "a8238419-ff3d-4f00-bc36-ad1f4da01920",
   "metadata": {},
   "source": [
    "# Quantas candidaturas estão em situação de reeleição?"
   ]
  },
  {
   "cell_type": "code",
   "execution_count": 12,
   "id": "28055dde-c74b-403e-bcc3-deb82a828084",
   "metadata": {},
   "outputs": [
    {
     "name": "stdout",
     "output_type": "stream",
     "text": [
      "<class 'pandas.core.frame.DataFrame'>\n",
      "RangeIndex: 1600 entries, 0 to 1599\n",
      "Data columns (total 71 columns):\n",
      " #   Column                         Non-Null Count  Dtype  \n",
      "---  ------                         --------------  -----  \n",
      " 0   DT_GERACAO                     1600 non-null   object \n",
      " 1   HH_GERACAO                     1600 non-null   object \n",
      " 2   ANO_ELEICAO                    1600 non-null   int64  \n",
      " 3   CD_TIPO_ELEICAO                1600 non-null   int64  \n",
      " 4   NM_TIPO_ELEICAO                1600 non-null   object \n",
      " 5   NR_TURNO                       1600 non-null   int64  \n",
      " 6   CD_ELEICAO                     1600 non-null   int64  \n",
      " 7   DS_ELEICAO                     1600 non-null   object \n",
      " 8   DT_ELEICAO                     1600 non-null   object \n",
      " 9   TP_ABRANGENCIA                 1600 non-null   object \n",
      " 10  SG_UF                          1600 non-null   object \n",
      " 11  SG_UE                          1600 non-null   object \n",
      " 12  NM_UE                          1600 non-null   object \n",
      " 13  CD_CARGO                       1600 non-null   int64  \n",
      " 14  DS_CARGO                       1600 non-null   object \n",
      " 15  SQ_CANDIDATO                   1600 non-null   int64  \n",
      " 16  NR_CANDIDATO                   1600 non-null   int64  \n",
      " 17  NM_CANDIDATO                   1600 non-null   object \n",
      " 18  NM_URNA_CANDIDATO              1600 non-null   object \n",
      " 19  NM_SOCIAL_CANDIDATO            5 non-null      object \n",
      " 20  NR_CPF_CANDIDATO               1600 non-null   int64  \n",
      " 21  NM_EMAIL                       1600 non-null   object \n",
      " 22  CD_SITUACAO_CANDIDATURA        1600 non-null   int64  \n",
      " 23  DS_SITUACAO_CANDIDATURA        1600 non-null   object \n",
      " 24  CD_DETALHE_SITUACAO_CAND       1600 non-null   int64  \n",
      " 25  DS_DETALHE_SITUACAO_CAND       1600 non-null   object \n",
      " 26  TP_AGREMIACAO                  1600 non-null   object \n",
      " 27  NR_PARTIDO                     1600 non-null   int64  \n",
      " 28  SG_PARTIDO                     1600 non-null   object \n",
      " 29  NM_PARTIDO                     1600 non-null   object \n",
      " 30  NR_FEDERACAO                   269 non-null    float64\n",
      " 31  NM_FEDERACAO                   269 non-null    object \n",
      " 32  SG_FEDERACAO                   269 non-null    object \n",
      " 33  DS_COMPOSICAO_FEDERACAO        269 non-null    object \n",
      " 34  SQ_COLIGACAO                   1600 non-null   int64  \n",
      " 35  NM_COLIGACAO                   1600 non-null   object \n",
      " 36  DS_COMPOSICAO_COLIGACAO        1600 non-null   object \n",
      " 37  CD_NACIONALIDADE               1600 non-null   int64  \n",
      " 38  DS_NACIONALIDADE               1600 non-null   object \n",
      " 39  SG_UF_NASCIMENTO               1600 non-null   object \n",
      " 40  CD_MUNICIPIO_NASCIMENTO        1600 non-null   int64  \n",
      " 41  NM_MUNICIPIO_NASCIMENTO        1600 non-null   object \n",
      " 42  DT_NASCIMENTO                  1599 non-null   object \n",
      " 43  NR_IDADE_DATA_POSSE            1599 non-null   float64\n",
      " 44  NR_TITULO_ELEITORAL_CANDIDATO  1600 non-null   int64  \n",
      " 45  CD_GENERO                      1600 non-null   int64  \n",
      " 46  DS_GENERO                      1600 non-null   object \n",
      " 47  CD_GRAU_INSTRUCAO              1600 non-null   int64  \n",
      " 48  DS_GRAU_INSTRUCAO              1600 non-null   object \n",
      " 49  CD_ESTADO_CIVIL                1600 non-null   int64  \n",
      " 50  DS_ESTADO_CIVIL                1600 non-null   object \n",
      " 51  CD_COR_RACA                    1600 non-null   int64  \n",
      " 52  DS_COR_RACA                    1600 non-null   object \n",
      " 53  CD_OCUPACAO                    1600 non-null   int64  \n",
      " 54  DS_OCUPACAO                    1600 non-null   object \n",
      " 55  VR_DESPESA_MAX_CAMPANHA        1529 non-null   float64\n",
      " 56  CD_SIT_TOT_TURNO               1476 non-null   float64\n",
      " 57  DS_SIT_TOT_TURNO               1476 non-null   object \n",
      " 58  ST_REELEICAO                   1600 non-null   object \n",
      " 59  ST_DECLARAR_BENS               1600 non-null   object \n",
      " 60  NR_PROTOCOLO_CANDIDATURA       0 non-null      float64\n",
      " 61  NR_PROCESSO                    1600 non-null   int64  \n",
      " 62  CD_SITUACAO_CANDIDATO_PLEITO   1476 non-null   float64\n",
      " 63  DS_SITUACAO_CANDIDATO_PLEITO   1476 non-null   object \n",
      " 64  CD_SITUACAO_CANDIDATO_URNA     1476 non-null   float64\n",
      " 65  DS_SITUACAO_CANDIDATO_URNA     1476 non-null   object \n",
      " 66  ST_CANDIDATO_INSERIDO_URNA     1600 non-null   object \n",
      " 67  NM_TIPO_DESTINACAO_VOTOS       1423 non-null   object \n",
      " 68  CD_SITUACAO_CANDIDATO_TOT      1476 non-null   float64\n",
      " 69  DS_SITUACAO_CANDIDATO_TOT      1476 non-null   object \n",
      " 70  ST_PREST_CONTAS                1600 non-null   object \n",
      "dtypes: float64(8), int64(21), object(42)\n",
      "memory usage: 887.6+ KB\n"
     ]
    }
   ],
   "source": [
    "candidaturas.info()"
   ]
  },
  {
   "cell_type": "code",
   "execution_count": 13,
   "id": "37988c87-c6f8-4d60-83e3-c5a757557697",
   "metadata": {},
   "outputs": [
    {
     "data": {
      "text/plain": [
       "array(['N', 'S', 'Não divulgável'], dtype=object)"
      ]
     },
     "execution_count": 13,
     "metadata": {},
     "output_type": "execute_result"
    }
   ],
   "source": [
    "candidaturas['ST_REELEICAO'].unique()"
   ]
  },
  {
   "cell_type": "code",
   "execution_count": 14,
   "id": "9dbab22a-7f32-4a2c-9c59-36801b398b96",
   "metadata": {},
   "outputs": [
    {
     "data": {
      "text/plain": [
       "ST_REELEICAO\n",
       "N                 1518\n",
       "S                   81\n",
       "Não divulgável       1\n",
       "Name: count, dtype: int64"
      ]
     },
     "execution_count": 14,
     "metadata": {},
     "output_type": "execute_result"
    }
   ],
   "source": [
    "candidaturas['ST_REELEICAO'].value_counts()"
   ]
  },
  {
   "cell_type": "markdown",
   "id": "7cd5434f-9c0d-4fb6-a3ef-ce44498fea2e",
   "metadata": {},
   "source": [
    "# Quais cargos serão preenchidos nesse pleito?"
   ]
  },
  {
   "cell_type": "code",
   "execution_count": 15,
   "id": "d4388824-85ee-4e8c-adbe-b1573f037017",
   "metadata": {},
   "outputs": [
    {
     "data": {
      "text/plain": [
       "array(['DEPUTADO ESTADUAL', 'VICE-GOVERNADOR', 'DEPUTADO FEDERAL',\n",
       "       '2º SUPLENTE', '1º SUPLENTE', 'GOVERNADOR', 'SENADOR'],\n",
       "      dtype=object)"
      ]
     },
     "execution_count": 15,
     "metadata": {},
     "output_type": "execute_result"
    }
   ],
   "source": [
    "candidaturas['DS_CARGO'].unique()"
   ]
  },
  {
   "cell_type": "markdown",
   "id": "c7b17015-ce8b-4f42-aea3-6b8bcdad0df4",
   "metadata": {},
   "source": [
    "# Liste todas a ocupações declaradas pelas candidaturas a Câmara de Deputados Federal"
   ]
  },
  {
   "cell_type": "code",
   "execution_count": 16,
   "id": "ef30c1ab-703f-4c65-8ba5-1cde6c183f88",
   "metadata": {},
   "outputs": [],
   "source": [
    "candidaturas_dep_fed = candidaturas[candidaturas[\"DS_CARGO\"] == \"DEPUTADO FEDERAL\"].copy()"
   ]
  },
  {
   "cell_type": "code",
   "execution_count": 17,
   "id": "2c1b1090-39e6-4b28-b675-fda756b307d1",
   "metadata": {},
   "outputs": [
    {
     "data": {
      "text/plain": [
       "array(['DEPUTADO FEDERAL'], dtype=object)"
      ]
     },
     "execution_count": 17,
     "metadata": {},
     "output_type": "execute_result"
    }
   ],
   "source": [
    "candidaturas_dep_fed['DS_CARGO'].unique()"
   ]
  },
  {
   "cell_type": "code",
   "execution_count": 18,
   "id": "ba88f1ce-55c1-418f-8b55-554eb38078d3",
   "metadata": {},
   "outputs": [
    {
     "data": {
      "text/plain": [
       "array(['ADVOGADO', 'ADMINISTRADOR', 'JORNALISTA E REDATOR',\n",
       "       'SENADOR, DEPUTADO E VEREADOR', 'DEPUTADO', 'OUTROS',\n",
       "       'OCUPANTE DE CARGO EM COMISSÃO', 'POLICIAL MILITAR',\n",
       "       'VENDEDOR DE COMÉRCIO VAREJISTA E ATACADISTA', 'AGRICULTOR',\n",
       "       'APOSENTADO (EXCETO SERVIDOR PÚBLICO)', 'EMPRESÁRIO',\n",
       "       'PROFESSOR DE ENSINO MÉDIO',\n",
       "       'TÉCNICO DE ENFERMAGEM E ASSEMELHADOS (EXCETO ENFERMEIRO)',\n",
       "       'PECUARISTA', 'MÉDICO', 'NUTRICIONISTA E ASSEMELHADOS', 'VEREADOR',\n",
       "       'VETERINÁRIO', 'DIRETOR DE EMPRESAS', 'ENGENHEIRO', 'DONA DE CASA',\n",
       "       'CORRETOR DE IMÓVEIS, SEGUROS, TÍTULOS E VALORES',\n",
       "       'SERVIDOR PÚBLICO FEDERAL', 'ECONOMISTA',\n",
       "       'VENDEDOR PRACISTA, REPRESENTANTE, CAIXEIRO-VIAJANTE E ASSEMELHADOS',\n",
       "       'SACERDOTE OU MEMBRO DE ORDEM OU SEITA RELIGIOSA', 'ENFERMEIRO',\n",
       "       'COMERCIANTE',\n",
       "       'PORTEIRO DE EDIFÍCIO, ASCENSORISTA, GARAGISTA E ZELADOR',\n",
       "       'PROFESSOR DE ENSINO FUNDAMENTAL', 'CONTADOR', 'MOTOBOY',\n",
       "       'SERVIDOR PÚBLICO CIVIL APOSENTADO',\n",
       "       'PRODUTOR DE ESPETÁCULOS PÚBLICOS', 'BIÓLOGO',\n",
       "       'PROFESSOR DE ENSINO SUPERIOR', 'MILITAR REFORMADO',\n",
       "       'TÉCNICO EM INFORMÁTICA', 'POLICIAL CIVIL', 'FONOAUDIÓLOGO',\n",
       "       'PEDAGOGO', 'BANCÁRIO E ECONOMIÁRIO', 'SERVIDOR PÚBLICO MUNICIPAL',\n",
       "       'MEMBRO DAS FORÇAS ARMADAS',\n",
       "       'LOCUTOR E COMENTARISTA DE RÁDIO E TELEVISÃO E RADIALISTA',\n",
       "       'ASSISTENTE SOCIAL', 'ODONTÓLOGO', 'AGENTE ADMINISTRATIVO',\n",
       "       'SERVIDOR PÚBLICO ESTADUAL', 'SOCIÓLOGO',\n",
       "       'ESTUDANTE, BOLSISTA, ESTAGIÁRIO E ASSEMELHADOS',\n",
       "       'BOMBEIRO MILITAR', 'ZOOTECNISTA',\n",
       "       'ATLETA PROFISSIONAL E TÉCNICO EM DESPORTOS',\n",
       "       'PROFESSOR E INSTRUTOR DE FORMAÇÃO PROFISSIONAL',\n",
       "       'SECRETÁRIO E DATILÓGRAFO',\n",
       "       'AUXILIAR DE ESCRITÓRIO E ASSEMELHADOS', 'MOTORISTA PARTICULAR',\n",
       "       'GARIMPEIRO', 'ESTETICISTA', 'VIGILANTE',\n",
       "       'CARPINTEIRO, MARCENEIRO E ASSEMELHADOS',\n",
       "       'SUPERVISOR, INSPETOR E AGENTE DE COMPRAS E VENDAS', 'COMERCIÁRIO',\n",
       "       'ANALISTA DE SISTEMAS',\n",
       "       'TÉCNICO DE OBRAS CIVIS, ESTRADAS, SANEAMENTO E ASSEMELHADOS',\n",
       "       'CANTOR E COMPOSITOR', 'FISIOTERAPEUTA E TERAPEUTA OCUPACIONAL',\n",
       "       'PESCADOR', 'RECEPCIONISTA', 'ARQUITETO', 'MASSAGISTA'],\n",
       "      dtype=object)"
      ]
     },
     "execution_count": 18,
     "metadata": {},
     "output_type": "execute_result"
    }
   ],
   "source": [
    "candidaturas_dep_fed['DS_OCUPACAO'].unique()"
   ]
  },
  {
   "cell_type": "code",
   "execution_count": 19,
   "id": "40e348c7-759b-4c50-a7e3-87781098f4e8",
   "metadata": {},
   "outputs": [
    {
     "data": {
      "text/plain": [
       "DS_OCUPACAO\n",
       "OUTROS                                             72\n",
       "EMPRESÁRIO                                         62\n",
       "DEPUTADO                                           30\n",
       "POLICIAL MILITAR                                   28\n",
       "ADVOGADO                                           27\n",
       "                                                   ..\n",
       "CONTADOR                                            1\n",
       "SACERDOTE OU MEMBRO DE ORDEM OU SEITA RELIGIOSA     1\n",
       "DIRETOR DE EMPRESAS                                 1\n",
       "VETERINÁRIO                                         1\n",
       "MASSAGISTA                                          1\n",
       "Name: count, Length: 73, dtype: int64"
      ]
     },
     "execution_count": 19,
     "metadata": {},
     "output_type": "execute_result"
    }
   ],
   "source": [
    "candidaturas_dep_fed['DS_OCUPACAO'].value_counts(dropna=True)"
   ]
  },
  {
   "cell_type": "markdown",
   "id": "f92cd033-7c9a-47ac-acad-d5db0035e6ff",
   "metadata": {},
   "source": [
    "# Quantos anos tería a pessoa candidata mais velha no ato da posse?"
   ]
  },
  {
   "cell_type": "code",
   "execution_count": 20,
   "id": "53b023a1-812e-4587-897d-703bf0a2a746",
   "metadata": {},
   "outputs": [
    {
     "data": {
      "text/plain": [
       "81.0"
      ]
     },
     "execution_count": 20,
     "metadata": {},
     "output_type": "execute_result"
    }
   ],
   "source": [
    "candidaturas['NR_IDADE_DATA_POSSE'].max() "
   ]
  },
  {
   "cell_type": "markdown",
   "id": "de5c48c3-c0b9-418c-bba2-bb20c5312bd8",
   "metadata": {},
   "source": [
    "# Quantos anos tería a pessoa candidata mais jovem no ato da posse?"
   ]
  },
  {
   "cell_type": "code",
   "execution_count": 21,
   "id": "19c454cb-784f-48ab-8a82-61343b045bb8",
   "metadata": {},
   "outputs": [
    {
     "data": {
      "text/plain": [
       "19.0"
      ]
     },
     "execution_count": 21,
     "metadata": {},
     "output_type": "execute_result"
    }
   ],
   "source": [
    "candidaturas['NR_IDADE_DATA_POSSE'].min() "
   ]
  },
  {
   "cell_type": "markdown",
   "id": "f18ae4e7-ccca-4152-9971-65c543847936",
   "metadata": {},
   "source": [
    "# Qual é o nome da pessoa candidata mais velha?"
   ]
  },
  {
   "cell_type": "code",
   "execution_count": 22,
   "id": "c7059bae-72e9-4c4b-ae70-71c9085b2a1f",
   "metadata": {},
   "outputs": [],
   "source": [
    "candidata_mais_velha = candidaturas[candidaturas['NR_IDADE_DATA_POSSE'] == 81]['NM_CANDIDATO']"
   ]
  },
  {
   "cell_type": "code",
   "execution_count": 23,
   "id": "3908320a-5e1b-46ac-9df7-c9c2f7f15d64",
   "metadata": {},
   "outputs": [
    {
     "data": {
      "text/plain": [
       "49    MARIA DE LOURDES PEREIRA DE FARIAS\n",
       "Name: NM_CANDIDATO, dtype: object"
      ]
     },
     "execution_count": 23,
     "metadata": {},
     "output_type": "execute_result"
    }
   ],
   "source": [
    "candidata_mais_velha"
   ]
  },
  {
   "cell_type": "markdown",
   "id": "f6ddfb4c-7012-4f0b-befb-f44cde4c06a8",
   "metadata": {},
   "source": [
    "# Qual é o nome da pessoa candidata mais jovem?"
   ]
  },
  {
   "cell_type": "code",
   "execution_count": 24,
   "id": "296cf282-614d-4769-8aea-c3430aac8fa4",
   "metadata": {},
   "outputs": [],
   "source": [
    "candidata_mais_jovem = candidaturas[candidaturas['NR_IDADE_DATA_POSSE'] == 19]['NM_CANDIDATO']"
   ]
  },
  {
   "cell_type": "code",
   "execution_count": 25,
   "id": "390096bf-43d8-4ba9-b5bd-a265b343942a",
   "metadata": {},
   "outputs": [
    {
     "data": {
      "text/plain": [
       "462    NATALIA CRISTINA MAIA COSTA\n",
       "Name: NM_CANDIDATO, dtype: object"
      ]
     },
     "execution_count": 25,
     "metadata": {},
     "output_type": "execute_result"
    }
   ],
   "source": [
    "candidata_mais_jovem"
   ]
  },
  {
   "cell_type": "markdown",
   "id": "2499f3fc-a421-4e60-9170-d438392b9ed7",
   "metadata": {},
   "source": [
    "# Quantas candidaturas existem para \"Deputado federal\" seu estado?"
   ]
  },
  {
   "cell_type": "code",
   "execution_count": 26,
   "id": "ae815f6f-7403-4067-af0b-175b21f45172",
   "metadata": {},
   "outputs": [],
   "source": [
    "candidaturas_ap = candidaturas[(candidaturas['SG_UF'] == 'AP') & (candidaturas[\"DS_CARGO\"] == \"DEPUTADO FEDERAL\")]"
   ]
  },
  {
   "cell_type": "code",
   "execution_count": 27,
   "id": "ae660c23-4ffa-4430-8648-1cf0478accaf",
   "metadata": {},
   "outputs": [],
   "source": [
    "candidaturas_ap = candidaturas_ap.shape[0]"
   ]
  },
  {
   "cell_type": "code",
   "execution_count": 28,
   "id": "a2898319-7703-4f3e-82fc-a3a8e75da77a",
   "metadata": {},
   "outputs": [],
   "source": [
    "total_cand_dep_federal = candidaturas_dep_fed.shape[0]"
   ]
  },
  {
   "cell_type": "code",
   "execution_count": 29,
   "id": "1e886622-a8ef-4aeb-80b7-7781cc8d7d69",
   "metadata": {},
   "outputs": [
    {
     "name": "stdout",
     "output_type": "stream",
     "text": [
      "No pleito de 2022 nos estados de Amapá e Pará existem 477 pessoas candidatas a Câmara de Deputados Federal, sendo 154 no Amapá e 323 no Pará\n"
     ]
    }
   ],
   "source": [
    "print(f'No pleito de 2022 nos estados de Amapá e Pará existem {total_cand_dep_federal} pessoas candidatas a Câmara de Deputados Federal, sendo {candidaturas_ap} no Amapá e {total_cand_dep_federal-candidaturas_ap} no Pará')"
   ]
  },
  {
   "cell_type": "markdown",
   "id": "6658e4f9-9271-4f0e-b6f8-575e33e5d8c9",
   "metadata": {},
   "source": [
    "# Qual é a média do valor máximo de despesas de campanha?"
   ]
  },
  {
   "cell_type": "code",
   "execution_count": 30,
   "id": "1b8283db-c218-44cd-908b-e4a2f041a435",
   "metadata": {},
   "outputs": [],
   "source": [
    "soma_despesas = candidaturas['VR_DESPESA_MAX_CAMPANHA'].sum()"
   ]
  },
  {
   "cell_type": "code",
   "execution_count": 33,
   "id": "b9ffa7da-e637-434c-90e7-c1b1549348da",
   "metadata": {},
   "outputs": [
    {
     "data": {
      "text/plain": [
       "1968851.7"
      ]
     },
     "execution_count": 33,
     "metadata": {},
     "output_type": "execute_result"
    }
   ],
   "source": [
    "round(candidaturas['VR_DESPESA_MAX_CAMPANHA'].mean(), 2) "
   ]
  }
 ],
 "metadata": {
  "kernelspec": {
   "display_name": "Python 3 (ipykernel)",
   "language": "python",
   "name": "python3"
  },
  "language_info": {
   "codemirror_mode": {
    "name": "ipython",
    "version": 3
   },
   "file_extension": ".py",
   "mimetype": "text/x-python",
   "name": "python",
   "nbconvert_exporter": "python",
   "pygments_lexer": "ipython3",
   "version": "3.10.6"
  }
 },
 "nbformat": 4,
 "nbformat_minor": 5
}
