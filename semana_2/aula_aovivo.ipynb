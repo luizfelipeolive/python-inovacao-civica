{
 "cells": [
  {
   "cell_type": "markdown",
   "id": "7187e3e9",
   "metadata": {
    "id": "7187e3e9"
   },
   "source": [
    "# Escola de Dados - Python para inovação cívica\n",
    "\n",
    "Os dados que usaremos nesse notebook pode ser encontrado em: [Candidatos - 2016](https://dadosabertos.tse.jus.br/dataset/candidatos-2016) e [Candidatos - 2020](https://dadosabertos.tse.jus.br/dataset/candidatos-2020-subtemas) disponível no Portal de Dados Abertos do Tribunal Superior Eleitoral.\n",
    "\n",
    "\n",
    "Os dados também podem ser encontrados na pasta \"Dados\" deste repositório.\n",
    "\n",
    "\n",
    "------\n",
    "Pontos para aula:\n",
    "\n",
    "- Quantas candidaturas para a Câmara de Vereadores houveram em cada ano agrupado por gênero ? \n",
    "- Qual a faixa etária média das pessoas candidatas para a Câmara de Vereadores?\n",
    "- Há correlação entre idade, gênero e custo da campanha?\n",
    "- Visualização gráfica da distribuição da variável DS_COR_RACA em 2020"
   ]
  },
  {
   "cell_type": "code",
   "execution_count": 1,
   "id": "1e9c912a",
   "metadata": {},
   "outputs": [],
   "source": [
    "import matplotlib.pyplot as plt\n",
    "import pandas as pd\n",
    "import glob as gb"
   ]
  },
  {
   "cell_type": "code",
   "execution_count": 2,
   "id": "32b4107b",
   "metadata": {},
   "outputs": [
    {
     "name": "stdout",
     "output_type": "stream",
     "text": [
      "['./base_dados\\\\consulta_cand_2016_AP.csv', './base_dados\\\\consulta_cand_2016_PA.csv', './base_dados\\\\consulta_cand_2020_AP.csv', './base_dados\\\\consulta_cand_2020_PA.csv']\n"
     ]
    }
   ],
   "source": [
    "path = './base_dados'\n",
    "\n",
    "uf_choices = ['2016_AP','2016_PA','2020_AP','2020_PA']\n",
    "\n",
    "dados_ap_pa = []\n",
    "\n",
    "for choice in uf_choices:\n",
    "    pattern = f'{path}/consulta_cand_*{choice}.csv'\n",
    "    for files in gb.glob(pattern):\n",
    "        if files:\n",
    "            dados_ap_pa.append(files)\n",
    "        else:\n",
    "            print('Arquivo {pattern} não encontrado')\n",
    "\n",
    "print(dados_ap_pa)"
   ]
  },
  {
   "cell_type": "code",
   "execution_count": 3,
   "id": "c73be2b0",
   "metadata": {},
   "outputs": [
    {
     "data": {
      "text/plain": [
       "['./base_dados\\\\consulta_cand_2016_AP.csv',\n",
       " './base_dados\\\\consulta_cand_2016_PA.csv',\n",
       " './base_dados\\\\consulta_cand_2020_AP.csv',\n",
       " './base_dados\\\\consulta_cand_2020_PA.csv']"
      ]
     },
     "execution_count": 3,
     "metadata": {},
     "output_type": "execute_result"
    }
   ],
   "source": [
    "dados_ap_pa"
   ]
  },
  {
   "cell_type": "code",
   "execution_count": 4,
   "id": "a6eaae5b",
   "metadata": {},
   "outputs": [],
   "source": [
    "lista_df=[]"
   ]
  },
  {
   "cell_type": "code",
   "execution_count": 5,
   "id": "170e36ba",
   "metadata": {},
   "outputs": [
    {
     "name": "stderr",
     "output_type": "stream",
     "text": [
      "C:\\Users\\Luiz\\AppData\\Local\\Temp\\ipykernel_5008\\694575308.py:2: DtypeWarning: Columns (31,32,33) have mixed types. Specify dtype option on import or set low_memory=False.\n",
      "  df_estado = pd.read_csv(dados_estado, sep=';',encoding='latin_1',na_values=['#NULO#'])\n"
     ]
    }
   ],
   "source": [
    "for dados_estado in dados_ap_pa:\n",
    "    df_estado = pd.read_csv(dados_estado, sep=';',encoding='latin_1',na_values=['#NULO#'])\n",
    "    lista_df.append(df_estado)"
   ]
  },
  {
   "cell_type": "markdown",
   "id": "3293927c",
   "metadata": {},
   "source": [
    "Para eu consultar se os títulos das colunas de todos os itens da lista (ou seja, cada arquivo .csv) são todos iguais"
   ]
  },
  {
   "cell_type": "code",
   "execution_count": 6,
   "id": "30fc4f42",
   "metadata": {},
   "outputs": [
    {
     "data": {
      "text/plain": [
       "4"
      ]
     },
     "execution_count": 6,
     "metadata": {},
     "output_type": "execute_result"
    }
   ],
   "source": [
    "#Para ver o número de elementos na lista\n",
    "len(lista_df)"
   ]
  },
  {
   "cell_type": "code",
   "execution_count": 7,
   "id": "7338fd86",
   "metadata": {},
   "outputs": [
    {
     "data": {
      "text/plain": [
       "array([ True,  True,  True,  True,  True,  True,  True,  True,  True,\n",
       "        True,  True,  True,  True,  True,  True,  True,  True,  True,\n",
       "        True,  True,  True,  True,  True,  True,  True,  True,  True,\n",
       "        True,  True,  True,  True,  True,  True,  True,  True,  True,\n",
       "        True,  True,  True,  True,  True,  True,  True,  True,  True,\n",
       "        True,  True,  True,  True,  True,  True,  True,  True,  True,\n",
       "        True,  True,  True,  True,  True,  True,  True,  True,  True,\n",
       "        True,  True,  True,  True,  True,  True,  True,  True])"
      ]
     },
     "execution_count": 7,
     "metadata": {},
     "output_type": "execute_result"
    }
   ],
   "source": [
    "lista_df[0].columns == lista_df[3].columns"
   ]
  },
  {
   "cell_type": "code",
   "execution_count": 8,
   "id": "8820f0a5",
   "metadata": {},
   "outputs": [
    {
     "data": {
      "text/plain": [
       "array([ True,  True,  True,  True,  True,  True,  True,  True,  True,\n",
       "        True,  True,  True,  True,  True,  True,  True,  True,  True,\n",
       "        True,  True,  True,  True,  True,  True,  True,  True,  True,\n",
       "        True,  True,  True,  True,  True,  True,  True,  True,  True,\n",
       "        True,  True,  True,  True,  True,  True,  True,  True,  True,\n",
       "        True,  True,  True,  True,  True,  True,  True,  True,  True,\n",
       "        True,  True,  True,  True,  True,  True,  True,  True,  True,\n",
       "        True,  True,  True,  True,  True,  True,  True,  True])"
      ]
     },
     "execution_count": 8,
     "metadata": {},
     "output_type": "execute_result"
    }
   ],
   "source": [
    "lista_df[0].columns == lista_df[1].columns"
   ]
  },
  {
   "cell_type": "code",
   "execution_count": 9,
   "id": "288b91f4",
   "metadata": {},
   "outputs": [
    {
     "data": {
      "text/plain": [
       "array([ True,  True,  True,  True,  True,  True,  True,  True,  True,\n",
       "        True,  True,  True,  True,  True,  True,  True,  True,  True,\n",
       "        True,  True,  True,  True,  True,  True,  True,  True,  True,\n",
       "        True,  True,  True,  True,  True,  True,  True,  True,  True,\n",
       "        True,  True,  True,  True,  True,  True,  True,  True,  True,\n",
       "        True,  True,  True,  True,  True,  True,  True,  True,  True,\n",
       "        True,  True,  True,  True,  True,  True,  True,  True,  True,\n",
       "        True,  True,  True,  True,  True,  True,  True,  True])"
      ]
     },
     "execution_count": 9,
     "metadata": {},
     "output_type": "execute_result"
    }
   ],
   "source": [
    "lista_df[0].columns == lista_df[2].columns"
   ]
  },
  {
   "cell_type": "markdown",
   "id": "055211c4",
   "metadata": {},
   "source": [
    "Agora preciso concaternar os quatro dataframes em um único df:"
   ]
  },
  {
   "cell_type": "code",
   "execution_count": 10,
   "id": "9c3c2eb8",
   "metadata": {},
   "outputs": [
    {
     "data": {
      "text/html": [
       "<div>\n",
       "<style scoped>\n",
       "    .dataframe tbody tr th:only-of-type {\n",
       "        vertical-align: middle;\n",
       "    }\n",
       "\n",
       "    .dataframe tbody tr th {\n",
       "        vertical-align: top;\n",
       "    }\n",
       "\n",
       "    .dataframe thead th {\n",
       "        text-align: right;\n",
       "    }\n",
       "</style>\n",
       "<table border=\"1\" class=\"dataframe\">\n",
       "  <thead>\n",
       "    <tr style=\"text-align: right;\">\n",
       "      <th></th>\n",
       "      <th>DT_GERACAO</th>\n",
       "      <th>HH_GERACAO</th>\n",
       "      <th>ANO_ELEICAO</th>\n",
       "      <th>CD_TIPO_ELEICAO</th>\n",
       "      <th>NM_TIPO_ELEICAO</th>\n",
       "      <th>NR_TURNO</th>\n",
       "      <th>CD_ELEICAO</th>\n",
       "      <th>DS_ELEICAO</th>\n",
       "      <th>DT_ELEICAO</th>\n",
       "      <th>TP_ABRANGENCIA</th>\n",
       "      <th>...</th>\n",
       "      <th>NR_PROCESSO</th>\n",
       "      <th>CD_SITUACAO_CANDIDATO_PLEITO</th>\n",
       "      <th>DS_SITUACAO_CANDIDATO_PLEITO</th>\n",
       "      <th>CD_SITUACAO_CANDIDATO_URNA</th>\n",
       "      <th>DS_SITUACAO_CANDIDATO_URNA</th>\n",
       "      <th>ST_CANDIDATO_INSERIDO_URNA</th>\n",
       "      <th>NM_TIPO_DESTINACAO_VOTOS</th>\n",
       "      <th>CD_SITUACAO_CANDIDATO_TOT</th>\n",
       "      <th>DS_SITUACAO_CANDIDATO_TOT</th>\n",
       "      <th>ST_PREST_CONTAS</th>\n",
       "    </tr>\n",
       "  </thead>\n",
       "  <tbody>\n",
       "    <tr>\n",
       "      <th>41512</th>\n",
       "      <td>06/05/2023</td>\n",
       "      <td>08:21:53</td>\n",
       "      <td>2020</td>\n",
       "      <td>2</td>\n",
       "      <td>ELEIÇÃO ORDINÁRIA</td>\n",
       "      <td>1</td>\n",
       "      <td>426</td>\n",
       "      <td>Eleições Municipais 2020</td>\n",
       "      <td>15/11/2020</td>\n",
       "      <td>MUNICIPAL</td>\n",
       "      <td>...</td>\n",
       "      <td>6003580820206140036</td>\n",
       "      <td>-1</td>\n",
       "      <td>NaN</td>\n",
       "      <td>-1</td>\n",
       "      <td>NaN</td>\n",
       "      <td>NÃO</td>\n",
       "      <td>NaN</td>\n",
       "      <td>-1</td>\n",
       "      <td>NaN</td>\n",
       "      <td>N</td>\n",
       "    </tr>\n",
       "    <tr>\n",
       "      <th>17945</th>\n",
       "      <td>13/03/2023</td>\n",
       "      <td>15:28:45</td>\n",
       "      <td>2016</td>\n",
       "      <td>2</td>\n",
       "      <td>ELEIÇÃO ORDINÁRIA</td>\n",
       "      <td>1</td>\n",
       "      <td>220</td>\n",
       "      <td>Eleições Municipais 2016</td>\n",
       "      <td>02/10/2016</td>\n",
       "      <td>MUNICIPAL</td>\n",
       "      <td>...</td>\n",
       "      <td>396120166140026</td>\n",
       "      <td>2</td>\n",
       "      <td>DEFERIDO</td>\n",
       "      <td>2</td>\n",
       "      <td>DEFERIDO</td>\n",
       "      <td>SIM</td>\n",
       "      <td>Válido</td>\n",
       "      <td>2</td>\n",
       "      <td>Deferido</td>\n",
       "      <td>S</td>\n",
       "    </tr>\n",
       "    <tr>\n",
       "      <th>20970</th>\n",
       "      <td>13/03/2023</td>\n",
       "      <td>15:28:45</td>\n",
       "      <td>2016</td>\n",
       "      <td>2</td>\n",
       "      <td>ELEIÇÃO ORDINÁRIA</td>\n",
       "      <td>1</td>\n",
       "      <td>220</td>\n",
       "      <td>Eleições Municipais 2016</td>\n",
       "      <td>02/10/2016</td>\n",
       "      <td>MUNICIPAL</td>\n",
       "      <td>...</td>\n",
       "      <td>1996220166140034</td>\n",
       "      <td>2</td>\n",
       "      <td>DEFERIDO</td>\n",
       "      <td>2</td>\n",
       "      <td>DEFERIDO</td>\n",
       "      <td>SIM</td>\n",
       "      <td>Válido</td>\n",
       "      <td>2</td>\n",
       "      <td>Deferido</td>\n",
       "      <td>S</td>\n",
       "    </tr>\n",
       "    <tr>\n",
       "      <th>34027</th>\n",
       "      <td>06/05/2023</td>\n",
       "      <td>08:21:53</td>\n",
       "      <td>2020</td>\n",
       "      <td>2</td>\n",
       "      <td>ELEIÇÃO ORDINÁRIA</td>\n",
       "      <td>1</td>\n",
       "      <td>426</td>\n",
       "      <td>Eleições Municipais 2020</td>\n",
       "      <td>15/11/2020</td>\n",
       "      <td>MUNICIPAL</td>\n",
       "      <td>...</td>\n",
       "      <td>6006278620206140023</td>\n",
       "      <td>4</td>\n",
       "      <td>INDEFERIDO COM RECURSO</td>\n",
       "      <td>4</td>\n",
       "      <td>INDEFERIDO COM RECURSO</td>\n",
       "      <td>SIM</td>\n",
       "      <td>Anulado sub judice</td>\n",
       "      <td>4</td>\n",
       "      <td>Indeferido com recurso</td>\n",
       "      <td>S</td>\n",
       "    </tr>\n",
       "    <tr>\n",
       "      <th>11446</th>\n",
       "      <td>13/03/2023</td>\n",
       "      <td>15:28:45</td>\n",
       "      <td>2016</td>\n",
       "      <td>2</td>\n",
       "      <td>ELEIÇÃO ORDINÁRIA</td>\n",
       "      <td>1</td>\n",
       "      <td>220</td>\n",
       "      <td>Eleições Municipais 2016</td>\n",
       "      <td>02/10/2016</td>\n",
       "      <td>MUNICIPAL</td>\n",
       "      <td>...</td>\n",
       "      <td>1034420166140035</td>\n",
       "      <td>2</td>\n",
       "      <td>DEFERIDO</td>\n",
       "      <td>2</td>\n",
       "      <td>DEFERIDO</td>\n",
       "      <td>SIM</td>\n",
       "      <td>Válido</td>\n",
       "      <td>2</td>\n",
       "      <td>Deferido</td>\n",
       "      <td>S</td>\n",
       "    </tr>\n",
       "  </tbody>\n",
       "</table>\n",
       "<p>5 rows × 71 columns</p>\n",
       "</div>"
      ],
      "text/plain": [
       "       DT_GERACAO HH_GERACAO  ANO_ELEICAO  CD_TIPO_ELEICAO    NM_TIPO_ELEICAO  \\\n",
       "41512  06/05/2023   08:21:53         2020                2  ELEIÇÃO ORDINÁRIA   \n",
       "17945  13/03/2023   15:28:45         2016                2  ELEIÇÃO ORDINÁRIA   \n",
       "20970  13/03/2023   15:28:45         2016                2  ELEIÇÃO ORDINÁRIA   \n",
       "34027  06/05/2023   08:21:53         2020                2  ELEIÇÃO ORDINÁRIA   \n",
       "11446  13/03/2023   15:28:45         2016                2  ELEIÇÃO ORDINÁRIA   \n",
       "\n",
       "       NR_TURNO  CD_ELEICAO                DS_ELEICAO  DT_ELEICAO  \\\n",
       "41512         1         426  Eleições Municipais 2020  15/11/2020   \n",
       "17945         1         220  Eleições Municipais 2016  02/10/2016   \n",
       "20970         1         220  Eleições Municipais 2016  02/10/2016   \n",
       "34027         1         426  Eleições Municipais 2020  15/11/2020   \n",
       "11446         1         220  Eleições Municipais 2016  02/10/2016   \n",
       "\n",
       "      TP_ABRANGENCIA  ...          NR_PROCESSO  CD_SITUACAO_CANDIDATO_PLEITO  \\\n",
       "41512      MUNICIPAL  ...  6003580820206140036                            -1   \n",
       "17945      MUNICIPAL  ...      396120166140026                             2   \n",
       "20970      MUNICIPAL  ...     1996220166140034                             2   \n",
       "34027      MUNICIPAL  ...  6006278620206140023                             4   \n",
       "11446      MUNICIPAL  ...     1034420166140035                             2   \n",
       "\n",
       "      DS_SITUACAO_CANDIDATO_PLEITO  CD_SITUACAO_CANDIDATO_URNA  \\\n",
       "41512                          NaN                          -1   \n",
       "17945                     DEFERIDO                           2   \n",
       "20970                     DEFERIDO                           2   \n",
       "34027       INDEFERIDO COM RECURSO                           4   \n",
       "11446                     DEFERIDO                           2   \n",
       "\n",
       "      DS_SITUACAO_CANDIDATO_URNA  ST_CANDIDATO_INSERIDO_URNA  \\\n",
       "41512                        NaN                         NÃO   \n",
       "17945                   DEFERIDO                         SIM   \n",
       "20970                   DEFERIDO                         SIM   \n",
       "34027     INDEFERIDO COM RECURSO                         SIM   \n",
       "11446                   DEFERIDO                         SIM   \n",
       "\n",
       "       NM_TIPO_DESTINACAO_VOTOS CD_SITUACAO_CANDIDATO_TOT  \\\n",
       "41512                       NaN                        -1   \n",
       "17945                    Válido                         2   \n",
       "20970                    Válido                         2   \n",
       "34027        Anulado sub judice                         4   \n",
       "11446                    Válido                         2   \n",
       "\n",
       "      DS_SITUACAO_CANDIDATO_TOT ST_PREST_CONTAS  \n",
       "41512                       NaN               N  \n",
       "17945                  Deferido               S  \n",
       "20970                  Deferido               S  \n",
       "34027    Indeferido com recurso               S  \n",
       "11446                  Deferido               S  \n",
       "\n",
       "[5 rows x 71 columns]"
      ]
     },
     "execution_count": 10,
     "metadata": {},
     "output_type": "execute_result"
    }
   ],
   "source": [
    "df_completo = pd.concat(lista_df, axis=0, ignore_index=True)\n",
    "\n",
    "df_completo.sample(5)"
   ]
  },
  {
   "cell_type": "code",
   "execution_count": 11,
   "id": "27f7de27",
   "metadata": {},
   "outputs": [
    {
     "data": {
      "text/plain": [
       "(48682, 71)"
      ]
     },
     "execution_count": 11,
     "metadata": {},
     "output_type": "execute_result"
    }
   ],
   "source": [
    "df_completo.shape"
   ]
  },
  {
   "cell_type": "code",
   "execution_count": 12,
   "id": "79303c3d",
   "metadata": {},
   "outputs": [
    {
     "name": "stdout",
     "output_type": "stream",
     "text": [
      "<class 'pandas.core.frame.DataFrame'>\n",
      "RangeIndex: 48682 entries, 0 to 48681\n",
      "Data columns (total 71 columns):\n",
      " #   Column                         Non-Null Count  Dtype  \n",
      "---  ------                         --------------  -----  \n",
      " 0   DT_GERACAO                     48682 non-null  object \n",
      " 1   HH_GERACAO                     48682 non-null  object \n",
      " 2   ANO_ELEICAO                    48682 non-null  int64  \n",
      " 3   CD_TIPO_ELEICAO                48682 non-null  int64  \n",
      " 4   NM_TIPO_ELEICAO                48682 non-null  object \n",
      " 5   NR_TURNO                       48682 non-null  int64  \n",
      " 6   CD_ELEICAO                     48682 non-null  int64  \n",
      " 7   DS_ELEICAO                     48682 non-null  object \n",
      " 8   DT_ELEICAO                     48682 non-null  object \n",
      " 9   TP_ABRANGENCIA                 48682 non-null  object \n",
      " 10  SG_UF                          48682 non-null  object \n",
      " 11  SG_UE                          48682 non-null  int64  \n",
      " 12  NM_UE                          48682 non-null  object \n",
      " 13  CD_CARGO                       48682 non-null  int64  \n",
      " 14  DS_CARGO                       48682 non-null  object \n",
      " 15  SQ_CANDIDATO                   48682 non-null  int64  \n",
      " 16  NR_CANDIDATO                   48682 non-null  int64  \n",
      " 17  NM_CANDIDATO                   48682 non-null  object \n",
      " 18  NM_URNA_CANDIDATO              48682 non-null  object \n",
      " 19  NM_SOCIAL_CANDIDATO            15 non-null     object \n",
      " 20  NR_CPF_CANDIDATO               48682 non-null  int64  \n",
      " 21  NM_EMAIL                       48682 non-null  object \n",
      " 22  CD_SITUACAO_CANDIDATURA        48682 non-null  int64  \n",
      " 23  DS_SITUACAO_CANDIDATURA        48682 non-null  object \n",
      " 24  CD_DETALHE_SITUACAO_CAND       48682 non-null  int64  \n",
      " 25  DS_DETALHE_SITUACAO_CAND       48682 non-null  object \n",
      " 26  TP_AGREMIACAO                  48682 non-null  object \n",
      " 27  NR_PARTIDO                     48682 non-null  int64  \n",
      " 28  SG_PARTIDO                     48682 non-null  object \n",
      " 29  NM_PARTIDO                     48682 non-null  object \n",
      " 30  NR_FEDERACAO                   48682 non-null  int64  \n",
      " 31  NM_FEDERACAO                   1 non-null      object \n",
      " 32  SG_FEDERACAO                   1 non-null      object \n",
      " 33  DS_COMPOSICAO_FEDERACAO        1 non-null      object \n",
      " 34  SQ_COLIGACAO                   48682 non-null  int64  \n",
      " 35  NM_COLIGACAO                   48682 non-null  object \n",
      " 36  DS_COMPOSICAO_COLIGACAO        48642 non-null  object \n",
      " 37  CD_NACIONALIDADE               48682 non-null  int64  \n",
      " 38  DS_NACIONALIDADE               48682 non-null  object \n",
      " 39  SG_UF_NASCIMENTO               48682 non-null  object \n",
      " 40  CD_MUNICIPIO_NASCIMENTO        48682 non-null  int64  \n",
      " 41  NM_MUNICIPIO_NASCIMENTO        48682 non-null  object \n",
      " 42  DT_NASCIMENTO                  48675 non-null  object \n",
      " 43  NR_IDADE_DATA_POSSE            48675 non-null  float64\n",
      " 44  NR_TITULO_ELEITORAL_CANDIDATO  48682 non-null  int64  \n",
      " 45  CD_GENERO                      48682 non-null  int64  \n",
      " 46  DS_GENERO                      48682 non-null  object \n",
      " 47  CD_GRAU_INSTRUCAO              48682 non-null  int64  \n",
      " 48  DS_GRAU_INSTRUCAO              48682 non-null  object \n",
      " 49  CD_ESTADO_CIVIL                48682 non-null  int64  \n",
      " 50  DS_ESTADO_CIVIL                48682 non-null  object \n",
      " 51  CD_COR_RACA                    48682 non-null  int64  \n",
      " 52  DS_COR_RACA                    48682 non-null  object \n",
      " 53  CD_OCUPACAO                    48682 non-null  int64  \n",
      " 54  DS_OCUPACAO                    48682 non-null  object \n",
      " 55  VR_DESPESA_MAX_CAMPANHA        48682 non-null  float64\n",
      " 56  CD_SIT_TOT_TURNO               48682 non-null  int64  \n",
      " 57  DS_SIT_TOT_TURNO               46687 non-null  object \n",
      " 58  ST_REELEICAO                   48682 non-null  object \n",
      " 59  ST_DECLARAR_BENS               48682 non-null  object \n",
      " 60  NR_PROTOCOLO_CANDIDATURA       48682 non-null  int64  \n",
      " 61  NR_PROCESSO                    48682 non-null  object \n",
      " 62  CD_SITUACAO_CANDIDATO_PLEITO   48682 non-null  int64  \n",
      " 63  DS_SITUACAO_CANDIDATO_PLEITO   46687 non-null  object \n",
      " 64  CD_SITUACAO_CANDIDATO_URNA     48682 non-null  int64  \n",
      " 65  DS_SITUACAO_CANDIDATO_URNA     46687 non-null  object \n",
      " 66  ST_CANDIDATO_INSERIDO_URNA     48682 non-null  object \n",
      " 67  NM_TIPO_DESTINACAO_VOTOS       45319 non-null  object \n",
      " 68  CD_SITUACAO_CANDIDATO_TOT      48682 non-null  int64  \n",
      " 69  DS_SITUACAO_CANDIDATO_TOT      46687 non-null  object \n",
      " 70  ST_PREST_CONTAS                48682 non-null  object \n",
      "dtypes: float64(2), int64(27), object(42)\n",
      "memory usage: 26.4+ MB\n"
     ]
    }
   ],
   "source": [
    "df_completo.info()"
   ]
  },
  {
   "cell_type": "markdown",
   "id": "0ee17084",
   "metadata": {},
   "source": [
    "Quais cargos foram disputados nessas eleições?"
   ]
  },
  {
   "cell_type": "code",
   "execution_count": 13,
   "id": "11d11857",
   "metadata": {},
   "outputs": [
    {
     "data": {
      "text/plain": [
       "array(['VEREADOR', 'PREFEITO', 'VICE-PREFEITO'], dtype=object)"
      ]
     },
     "execution_count": 13,
     "metadata": {},
     "output_type": "execute_result"
    }
   ],
   "source": [
    "df_completo['DS_CARGO'].unique()"
   ]
  },
  {
   "cell_type": "markdown",
   "id": "3da2372f",
   "metadata": {},
   "source": [
    "E as situações das candidaturas?"
   ]
  },
  {
   "cell_type": "code",
   "execution_count": 14,
   "id": "2b8249b9",
   "metadata": {},
   "outputs": [
    {
     "data": {
      "text/plain": [
       "array(['DEFERIDO', 'RENÚNCIA', 'INDEFERIDO', 'NÃO CONHECIMENTO DO PEDIDO',\n",
       "       'INDEFERIDO COM RECURSO', 'DEFERIDO COM RECURSO', 'CANCELADO',\n",
       "       'CASSADO COM RECURSO', 'PENDENTE DE JULGAMENTO', 'FALECIDO',\n",
       "       'CASSADO', 'PEDIDO NÃO CONHECIDO',\n",
       "       'PEDIDO NÃO CONHECIDO COM RECURSO'], dtype=object)"
      ]
     },
     "execution_count": 14,
     "metadata": {},
     "output_type": "execute_result"
    }
   ],
   "source": [
    "df_completo['DS_DETALHE_SITUACAO_CAND'].unique()"
   ]
  },
  {
   "cell_type": "markdown",
   "id": "2936a1e3",
   "metadata": {},
   "source": [
    "Selecionando só os vereadores"
   ]
  },
  {
   "cell_type": "code",
   "execution_count": 15,
   "id": "f5109ffc",
   "metadata": {},
   "outputs": [],
   "source": [
    "filtro_cargo = df_completo['DS_CARGO'] == 'VEREADOR'"
   ]
  },
  {
   "cell_type": "code",
   "execution_count": 16,
   "id": "9f8b67e2",
   "metadata": {},
   "outputs": [],
   "source": [
    "filtro_deferimento_1 = df_completo['DS_DETALHE_SITUACAO_CAND'] == 'DEFERIDO'"
   ]
  },
  {
   "cell_type": "code",
   "execution_count": 17,
   "id": "a3c3bc52",
   "metadata": {},
   "outputs": [],
   "source": [
    "filtro_deferimento_2 = df_completo['DS_DETALHE_SITUACAO_CAND'] == 'DEFERIDO COM RECURSO'"
   ]
  },
  {
   "cell_type": "code",
   "execution_count": 18,
   "id": "aa0ab34a",
   "metadata": {},
   "outputs": [],
   "source": [
    "# no pandas a gente usa a versão bitwise dos operadores relacionais, onde and = & e or = |. \n",
    "# o comando .copy() serve para criar uma cópia do df não atrelado ao df original\n",
    "\n",
    "df_vereadores = df_completo[filtro_cargo & (filtro_deferimento_1 | filtro_deferimento_2)].copy()"
   ]
  },
  {
   "cell_type": "code",
   "execution_count": 19,
   "id": "5a34ae06",
   "metadata": {},
   "outputs": [
    {
     "data": {
      "text/plain": [
       "(42742, 71)"
      ]
     },
     "execution_count": 19,
     "metadata": {},
     "output_type": "execute_result"
    }
   ],
   "source": [
    "df_vereadores.shape"
   ]
  },
  {
   "cell_type": "markdown",
   "id": "b7ed3f57",
   "metadata": {},
   "source": [
    "# Quantas candidaturas de vereadores houveram em cada ano agrupado por gênero ? "
   ]
  },
  {
   "cell_type": "code",
   "execution_count": 20,
   "id": "b8a71881",
   "metadata": {},
   "outputs": [],
   "source": [
    "df_raca_genero = df_vereadores[['ANO_ELEICAO','CD_CARGO','SG_UF','NR_PARTIDO','SG_PARTIDO','CD_GENERO',\n",
    "                               'DS_GENERO','CD_COR_RACA','DS_COR_RACA','NR_IDADE_DATA_POSSE','VR_DESPESA_MAX_CAMPANHA' ]].copy()"
   ]
  },
  {
   "cell_type": "code",
   "execution_count": 21,
   "id": "368fbd1d",
   "metadata": {},
   "outputs": [
    {
     "data": {
      "text/plain": [
       "(42742, 11)"
      ]
     },
     "execution_count": 21,
     "metadata": {},
     "output_type": "execute_result"
    }
   ],
   "source": [
    "df_raca_genero.shape"
   ]
  },
  {
   "cell_type": "code",
   "execution_count": 22,
   "id": "7b37bed4",
   "metadata": {},
   "outputs": [
    {
     "data": {
      "text/html": [
       "<div>\n",
       "<style scoped>\n",
       "    .dataframe tbody tr th:only-of-type {\n",
       "        vertical-align: middle;\n",
       "    }\n",
       "\n",
       "    .dataframe tbody tr th {\n",
       "        vertical-align: top;\n",
       "    }\n",
       "\n",
       "    .dataframe thead th {\n",
       "        text-align: right;\n",
       "    }\n",
       "</style>\n",
       "<table border=\"1\" class=\"dataframe\">\n",
       "  <thead>\n",
       "    <tr style=\"text-align: right;\">\n",
       "      <th></th>\n",
       "      <th>ANO_ELEICAO</th>\n",
       "      <th>CD_CARGO</th>\n",
       "      <th>SG_UF</th>\n",
       "      <th>NR_PARTIDO</th>\n",
       "      <th>SG_PARTIDO</th>\n",
       "      <th>CD_GENERO</th>\n",
       "      <th>DS_GENERO</th>\n",
       "      <th>CD_COR_RACA</th>\n",
       "      <th>DS_COR_RACA</th>\n",
       "      <th>NR_IDADE_DATA_POSSE</th>\n",
       "      <th>VR_DESPESA_MAX_CAMPANHA</th>\n",
       "    </tr>\n",
       "  </thead>\n",
       "  <tbody>\n",
       "    <tr>\n",
       "      <th>0</th>\n",
       "      <td>2016</td>\n",
       "      <td>13</td>\n",
       "      <td>AP</td>\n",
       "      <td>12</td>\n",
       "      <td>PDT</td>\n",
       "      <td>2</td>\n",
       "      <td>MASCULINO</td>\n",
       "      <td>1</td>\n",
       "      <td>BRANCA</td>\n",
       "      <td>25.0</td>\n",
       "      <td>133202.77</td>\n",
       "    </tr>\n",
       "    <tr>\n",
       "      <th>1</th>\n",
       "      <td>2016</td>\n",
       "      <td>13</td>\n",
       "      <td>AP</td>\n",
       "      <td>20</td>\n",
       "      <td>PSC</td>\n",
       "      <td>2</td>\n",
       "      <td>MASCULINO</td>\n",
       "      <td>3</td>\n",
       "      <td>PARDA</td>\n",
       "      <td>32.0</td>\n",
       "      <td>10803.91</td>\n",
       "    </tr>\n",
       "    <tr>\n",
       "      <th>2</th>\n",
       "      <td>2016</td>\n",
       "      <td>13</td>\n",
       "      <td>AP</td>\n",
       "      <td>23</td>\n",
       "      <td>PPS</td>\n",
       "      <td>2</td>\n",
       "      <td>MASCULINO</td>\n",
       "      <td>1</td>\n",
       "      <td>BRANCA</td>\n",
       "      <td>45.0</td>\n",
       "      <td>133202.77</td>\n",
       "    </tr>\n",
       "    <tr>\n",
       "      <th>3</th>\n",
       "      <td>2016</td>\n",
       "      <td>13</td>\n",
       "      <td>AP</td>\n",
       "      <td>25</td>\n",
       "      <td>DEM</td>\n",
       "      <td>2</td>\n",
       "      <td>MASCULINO</td>\n",
       "      <td>3</td>\n",
       "      <td>PARDA</td>\n",
       "      <td>41.0</td>\n",
       "      <td>133202.77</td>\n",
       "    </tr>\n",
       "    <tr>\n",
       "      <th>4</th>\n",
       "      <td>2016</td>\n",
       "      <td>13</td>\n",
       "      <td>AP</td>\n",
       "      <td>45</td>\n",
       "      <td>PSDB</td>\n",
       "      <td>4</td>\n",
       "      <td>FEMININO</td>\n",
       "      <td>3</td>\n",
       "      <td>PARDA</td>\n",
       "      <td>38.0</td>\n",
       "      <td>10803.91</td>\n",
       "    </tr>\n",
       "  </tbody>\n",
       "</table>\n",
       "</div>"
      ],
      "text/plain": [
       "   ANO_ELEICAO  CD_CARGO SG_UF  NR_PARTIDO SG_PARTIDO  CD_GENERO  DS_GENERO  \\\n",
       "0         2016        13    AP          12        PDT          2  MASCULINO   \n",
       "1         2016        13    AP          20        PSC          2  MASCULINO   \n",
       "2         2016        13    AP          23        PPS          2  MASCULINO   \n",
       "3         2016        13    AP          25        DEM          2  MASCULINO   \n",
       "4         2016        13    AP          45       PSDB          4   FEMININO   \n",
       "\n",
       "   CD_COR_RACA DS_COR_RACA  NR_IDADE_DATA_POSSE  VR_DESPESA_MAX_CAMPANHA  \n",
       "0            1      BRANCA                 25.0                133202.77  \n",
       "1            3       PARDA                 32.0                 10803.91  \n",
       "2            1      BRANCA                 45.0                133202.77  \n",
       "3            3       PARDA                 41.0                133202.77  \n",
       "4            3       PARDA                 38.0                 10803.91  "
      ]
     },
     "execution_count": 22,
     "metadata": {},
     "output_type": "execute_result"
    }
   ],
   "source": [
    "df_raca_genero.head()"
   ]
  },
  {
   "cell_type": "code",
   "execution_count": 23,
   "id": "bb7ca382",
   "metadata": {},
   "outputs": [],
   "source": [
    "agrupamento_ano_genero = df_raca_genero[['ANO_ELEICAO','DS_GENERO','CD_CARGO']].groupby(by=['ANO_ELEICAO','DS_GENERO']).count()"
   ]
  },
  {
   "cell_type": "code",
   "execution_count": 24,
   "id": "a7c5e89e",
   "metadata": {},
   "outputs": [
    {
     "name": "stdout",
     "output_type": "stream",
     "text": [
      "                       CD_CARGO\n",
      "ANO_ELEICAO DS_GENERO          \n",
      "2016        FEMININO       6305\n",
      "            MASCULINO     13348\n",
      "2020        FEMININO       8021\n",
      "            MASCULINO     15068\n"
     ]
    }
   ],
   "source": [
    "print(agrupamento_ano_genero)"
   ]
  },
  {
   "cell_type": "markdown",
   "id": "7f0e12a6",
   "metadata": {},
   "source": [
    "E se eu separasse por estados?"
   ]
  },
  {
   "cell_type": "code",
   "execution_count": 25,
   "id": "dd15393b",
   "metadata": {},
   "outputs": [
    {
     "data": {
      "text/html": [
       "<div>\n",
       "<style scoped>\n",
       "    .dataframe tbody tr th:only-of-type {\n",
       "        vertical-align: middle;\n",
       "    }\n",
       "\n",
       "    .dataframe tbody tr th {\n",
       "        vertical-align: top;\n",
       "    }\n",
       "\n",
       "    .dataframe thead th {\n",
       "        text-align: right;\n",
       "    }\n",
       "</style>\n",
       "<table border=\"1\" class=\"dataframe\">\n",
       "  <thead>\n",
       "    <tr style=\"text-align: right;\">\n",
       "      <th></th>\n",
       "      <th></th>\n",
       "      <th></th>\n",
       "      <th>CD_CARGO</th>\n",
       "    </tr>\n",
       "    <tr>\n",
       "      <th>ANO_ELEICAO</th>\n",
       "      <th>DS_GENERO</th>\n",
       "      <th>SG_UF</th>\n",
       "      <th></th>\n",
       "    </tr>\n",
       "  </thead>\n",
       "  <tbody>\n",
       "    <tr>\n",
       "      <th rowspan=\"4\" valign=\"top\">2016</th>\n",
       "      <th rowspan=\"2\" valign=\"top\">FEMININO</th>\n",
       "      <th>AP</th>\n",
       "      <td>536</td>\n",
       "    </tr>\n",
       "    <tr>\n",
       "      <th>PA</th>\n",
       "      <td>5769</td>\n",
       "    </tr>\n",
       "    <tr>\n",
       "      <th rowspan=\"2\" valign=\"top\">MASCULINO</th>\n",
       "      <th>AP</th>\n",
       "      <td>1079</td>\n",
       "    </tr>\n",
       "    <tr>\n",
       "      <th>PA</th>\n",
       "      <td>12269</td>\n",
       "    </tr>\n",
       "    <tr>\n",
       "      <th rowspan=\"4\" valign=\"top\">2020</th>\n",
       "      <th rowspan=\"2\" valign=\"top\">FEMININO</th>\n",
       "      <th>AP</th>\n",
       "      <td>765</td>\n",
       "    </tr>\n",
       "    <tr>\n",
       "      <th>PA</th>\n",
       "      <td>7256</td>\n",
       "    </tr>\n",
       "    <tr>\n",
       "      <th rowspan=\"2\" valign=\"top\">MASCULINO</th>\n",
       "      <th>AP</th>\n",
       "      <td>1349</td>\n",
       "    </tr>\n",
       "    <tr>\n",
       "      <th>PA</th>\n",
       "      <td>13719</td>\n",
       "    </tr>\n",
       "  </tbody>\n",
       "</table>\n",
       "</div>"
      ],
      "text/plain": [
       "                             CD_CARGO\n",
       "ANO_ELEICAO DS_GENERO SG_UF          \n",
       "2016        FEMININO  AP          536\n",
       "                      PA         5769\n",
       "            MASCULINO AP         1079\n",
       "                      PA        12269\n",
       "2020        FEMININO  AP          765\n",
       "                      PA         7256\n",
       "            MASCULINO AP         1349\n",
       "                      PA        13719"
      ]
     },
     "execution_count": 25,
     "metadata": {},
     "output_type": "execute_result"
    }
   ],
   "source": [
    "df_raca_genero[['ANO_ELEICAO','DS_GENERO','SG_UF','CD_CARGO']].groupby(by=['ANO_ELEICAO','DS_GENERO','SG_UF']).count()"
   ]
  },
  {
   "cell_type": "code",
   "execution_count": 26,
   "id": "7da39efe",
   "metadata": {},
   "outputs": [
    {
     "data": {
      "text/plain": [
       "pandas.core.frame.DataFrame"
      ]
     },
     "execution_count": 26,
     "metadata": {},
     "output_type": "execute_result"
    }
   ],
   "source": [
    "type(agrupamento_ano_genero)"
   ]
  },
  {
   "cell_type": "markdown",
   "id": "5b50fe83",
   "metadata": {},
   "source": [
    "Se eu gerar com o as_index=False ele me gera o df com cada linha preenchida, compare com o anterior para ver a diferença:"
   ]
  },
  {
   "cell_type": "code",
   "execution_count": 27,
   "id": "531ea005",
   "metadata": {},
   "outputs": [],
   "source": [
    "df_ano_genero = df_raca_genero[['ANO_ELEICAO','DS_GENERO','CD_CARGO']].groupby(by=['ANO_ELEICAO','DS_GENERO'], as_index=False).count()"
   ]
  },
  {
   "cell_type": "code",
   "execution_count": 28,
   "id": "087cac14",
   "metadata": {},
   "outputs": [
    {
     "data": {
      "text/html": [
       "<div>\n",
       "<style scoped>\n",
       "    .dataframe tbody tr th:only-of-type {\n",
       "        vertical-align: middle;\n",
       "    }\n",
       "\n",
       "    .dataframe tbody tr th {\n",
       "        vertical-align: top;\n",
       "    }\n",
       "\n",
       "    .dataframe thead th {\n",
       "        text-align: right;\n",
       "    }\n",
       "</style>\n",
       "<table border=\"1\" class=\"dataframe\">\n",
       "  <thead>\n",
       "    <tr style=\"text-align: right;\">\n",
       "      <th></th>\n",
       "      <th>ANO_ELEICAO</th>\n",
       "      <th>DS_GENERO</th>\n",
       "      <th>CD_CARGO</th>\n",
       "    </tr>\n",
       "  </thead>\n",
       "  <tbody>\n",
       "    <tr>\n",
       "      <th>0</th>\n",
       "      <td>2016</td>\n",
       "      <td>FEMININO</td>\n",
       "      <td>6305</td>\n",
       "    </tr>\n",
       "    <tr>\n",
       "      <th>1</th>\n",
       "      <td>2016</td>\n",
       "      <td>MASCULINO</td>\n",
       "      <td>13348</td>\n",
       "    </tr>\n",
       "    <tr>\n",
       "      <th>2</th>\n",
       "      <td>2020</td>\n",
       "      <td>FEMININO</td>\n",
       "      <td>8021</td>\n",
       "    </tr>\n",
       "    <tr>\n",
       "      <th>3</th>\n",
       "      <td>2020</td>\n",
       "      <td>MASCULINO</td>\n",
       "      <td>15068</td>\n",
       "    </tr>\n",
       "  </tbody>\n",
       "</table>\n",
       "</div>"
      ],
      "text/plain": [
       "   ANO_ELEICAO  DS_GENERO  CD_CARGO\n",
       "0         2016   FEMININO      6305\n",
       "1         2016  MASCULINO     13348\n",
       "2         2020   FEMININO      8021\n",
       "3         2020  MASCULINO     15068"
      ]
     },
     "execution_count": 28,
     "metadata": {},
     "output_type": "execute_result"
    }
   ],
   "source": [
    "df_ano_genero"
   ]
  },
  {
   "cell_type": "code",
   "execution_count": 29,
   "id": "e15b029c",
   "metadata": {},
   "outputs": [
    {
     "data": {
      "text/plain": [
       "<Axes: xlabel='DS_GENERO'>"
      ]
     },
     "execution_count": 29,
     "metadata": {},
     "output_type": "execute_result"
    },
    {
     "data": {
      "image/png": "[encoded data removed]",
      "text/plain": [
       "<Figure size 640x480 with 1 Axes>"
      ]
     },
     "metadata": {},
     "output_type": "display_data"
    }
   ],
   "source": [
    "df_ano_genero.groupby(['ANO_ELEICAO','DS_GENERO']).sum().unstack(0).plot(kind='bar')"
   ]
  },
  {
   "cell_type": "markdown",
   "id": "cfba9f5c",
   "metadata": {},
   "source": [
    "# Qual a faixa etária média das pessoas candidatas para a Câmara de Vereadores?"
   ]
  },
  {
   "cell_type": "code",
   "execution_count": 30,
   "id": "c93b68d6",
   "metadata": {},
   "outputs": [
    {
     "data": {
      "text/html": [
       "<div>\n",
       "<style scoped>\n",
       "    .dataframe tbody tr th:only-of-type {\n",
       "        vertical-align: middle;\n",
       "    }\n",
       "\n",
       "    .dataframe tbody tr th {\n",
       "        vertical-align: top;\n",
       "    }\n",
       "\n",
       "    .dataframe thead th {\n",
       "        text-align: right;\n",
       "    }\n",
       "</style>\n",
       "<table border=\"1\" class=\"dataframe\">\n",
       "  <thead>\n",
       "    <tr style=\"text-align: right;\">\n",
       "      <th></th>\n",
       "      <th>ANO_ELEICAO</th>\n",
       "      <th>CD_CARGO</th>\n",
       "      <th>SG_UF</th>\n",
       "      <th>NR_PARTIDO</th>\n",
       "      <th>SG_PARTIDO</th>\n",
       "      <th>CD_GENERO</th>\n",
       "      <th>DS_GENERO</th>\n",
       "      <th>CD_COR_RACA</th>\n",
       "      <th>DS_COR_RACA</th>\n",
       "      <th>NR_IDADE_DATA_POSSE</th>\n",
       "      <th>VR_DESPESA_MAX_CAMPANHA</th>\n",
       "    </tr>\n",
       "  </thead>\n",
       "  <tbody>\n",
       "    <tr>\n",
       "      <th>0</th>\n",
       "      <td>2016</td>\n",
       "      <td>13</td>\n",
       "      <td>AP</td>\n",
       "      <td>12</td>\n",
       "      <td>PDT</td>\n",
       "      <td>2</td>\n",
       "      <td>MASCULINO</td>\n",
       "      <td>1</td>\n",
       "      <td>BRANCA</td>\n",
       "      <td>25.0</td>\n",
       "      <td>133202.77</td>\n",
       "    </tr>\n",
       "    <tr>\n",
       "      <th>1</th>\n",
       "      <td>2016</td>\n",
       "      <td>13</td>\n",
       "      <td>AP</td>\n",
       "      <td>20</td>\n",
       "      <td>PSC</td>\n",
       "      <td>2</td>\n",
       "      <td>MASCULINO</td>\n",
       "      <td>3</td>\n",
       "      <td>PARDA</td>\n",
       "      <td>32.0</td>\n",
       "      <td>10803.91</td>\n",
       "    </tr>\n",
       "    <tr>\n",
       "      <th>2</th>\n",
       "      <td>2016</td>\n",
       "      <td>13</td>\n",
       "      <td>AP</td>\n",
       "      <td>23</td>\n",
       "      <td>PPS</td>\n",
       "      <td>2</td>\n",
       "      <td>MASCULINO</td>\n",
       "      <td>1</td>\n",
       "      <td>BRANCA</td>\n",
       "      <td>45.0</td>\n",
       "      <td>133202.77</td>\n",
       "    </tr>\n",
       "    <tr>\n",
       "      <th>3</th>\n",
       "      <td>2016</td>\n",
       "      <td>13</td>\n",
       "      <td>AP</td>\n",
       "      <td>25</td>\n",
       "      <td>DEM</td>\n",
       "      <td>2</td>\n",
       "      <td>MASCULINO</td>\n",
       "      <td>3</td>\n",
       "      <td>PARDA</td>\n",
       "      <td>41.0</td>\n",
       "      <td>133202.77</td>\n",
       "    </tr>\n",
       "    <tr>\n",
       "      <th>4</th>\n",
       "      <td>2016</td>\n",
       "      <td>13</td>\n",
       "      <td>AP</td>\n",
       "      <td>45</td>\n",
       "      <td>PSDB</td>\n",
       "      <td>4</td>\n",
       "      <td>FEMININO</td>\n",
       "      <td>3</td>\n",
       "      <td>PARDA</td>\n",
       "      <td>38.0</td>\n",
       "      <td>10803.91</td>\n",
       "    </tr>\n",
       "  </tbody>\n",
       "</table>\n",
       "</div>"
      ],
      "text/plain": [
       "   ANO_ELEICAO  CD_CARGO SG_UF  NR_PARTIDO SG_PARTIDO  CD_GENERO  DS_GENERO  \\\n",
       "0         2016        13    AP          12        PDT          2  MASCULINO   \n",
       "1         2016        13    AP          20        PSC          2  MASCULINO   \n",
       "2         2016        13    AP          23        PPS          2  MASCULINO   \n",
       "3         2016        13    AP          25        DEM          2  MASCULINO   \n",
       "4         2016        13    AP          45       PSDB          4   FEMININO   \n",
       "\n",
       "   CD_COR_RACA DS_COR_RACA  NR_IDADE_DATA_POSSE  VR_DESPESA_MAX_CAMPANHA  \n",
       "0            1      BRANCA                 25.0                133202.77  \n",
       "1            3       PARDA                 32.0                 10803.91  \n",
       "2            1      BRANCA                 45.0                133202.77  \n",
       "3            3       PARDA                 41.0                133202.77  \n",
       "4            3       PARDA                 38.0                 10803.91  "
      ]
     },
     "execution_count": 30,
     "metadata": {},
     "output_type": "execute_result"
    }
   ],
   "source": [
    "df_raca_genero.head()"
   ]
  },
  {
   "cell_type": "code",
   "execution_count": 40,
   "id": "10ac9e17",
   "metadata": {},
   "outputs": [],
   "source": [
    "cortes = [18,24,34,44,54,64,100]"
   ]
  },
  {
   "cell_type": "code",
   "execution_count": 37,
   "id": "2fa43351",
   "metadata": {},
   "outputs": [],
   "source": [
    "categorias = ['18 a 24','25 a 34','35 a 44','45 a 54','55 a 64','acima de 64']"
   ]
  },
  {
   "cell_type": "code",
   "execution_count": 41,
   "id": "45a49203",
   "metadata": {},
   "outputs": [],
   "source": [
    "df_raca_genero['FAIXA_ETARIA'] = pd.cut(df_raca_genero['NR_IDADE_DATA_POSSE'],cortes , labels=categorias)"
   ]
  },
  {
   "cell_type": "code",
   "execution_count": 42,
   "id": "0202fd69",
   "metadata": {},
   "outputs": [
    {
     "data": {
      "text/html": [
       "<div>\n",
       "<style scoped>\n",
       "    .dataframe tbody tr th:only-of-type {\n",
       "        vertical-align: middle;\n",
       "    }\n",
       "\n",
       "    .dataframe tbody tr th {\n",
       "        vertical-align: top;\n",
       "    }\n",
       "\n",
       "    .dataframe thead th {\n",
       "        text-align: right;\n",
       "    }\n",
       "</style>\n",
       "<table border=\"1\" class=\"dataframe\">\n",
       "  <thead>\n",
       "    <tr style=\"text-align: right;\">\n",
       "      <th></th>\n",
       "      <th>ANO_ELEICAO</th>\n",
       "      <th>CD_CARGO</th>\n",
       "      <th>SG_UF</th>\n",
       "      <th>NR_PARTIDO</th>\n",
       "      <th>SG_PARTIDO</th>\n",
       "      <th>CD_GENERO</th>\n",
       "      <th>DS_GENERO</th>\n",
       "      <th>CD_COR_RACA</th>\n",
       "      <th>DS_COR_RACA</th>\n",
       "      <th>NR_IDADE_DATA_POSSE</th>\n",
       "      <th>VR_DESPESA_MAX_CAMPANHA</th>\n",
       "      <th>FAIXA_ETARIA</th>\n",
       "    </tr>\n",
       "  </thead>\n",
       "  <tbody>\n",
       "    <tr>\n",
       "      <th>0</th>\n",
       "      <td>2016</td>\n",
       "      <td>13</td>\n",
       "      <td>AP</td>\n",
       "      <td>12</td>\n",
       "      <td>PDT</td>\n",
       "      <td>2</td>\n",
       "      <td>MASCULINO</td>\n",
       "      <td>1</td>\n",
       "      <td>BRANCA</td>\n",
       "      <td>25.0</td>\n",
       "      <td>133202.77</td>\n",
       "      <td>25 a 34</td>\n",
       "    </tr>\n",
       "    <tr>\n",
       "      <th>1</th>\n",
       "      <td>2016</td>\n",
       "      <td>13</td>\n",
       "      <td>AP</td>\n",
       "      <td>20</td>\n",
       "      <td>PSC</td>\n",
       "      <td>2</td>\n",
       "      <td>MASCULINO</td>\n",
       "      <td>3</td>\n",
       "      <td>PARDA</td>\n",
       "      <td>32.0</td>\n",
       "      <td>10803.91</td>\n",
       "      <td>25 a 34</td>\n",
       "    </tr>\n",
       "    <tr>\n",
       "      <th>2</th>\n",
       "      <td>2016</td>\n",
       "      <td>13</td>\n",
       "      <td>AP</td>\n",
       "      <td>23</td>\n",
       "      <td>PPS</td>\n",
       "      <td>2</td>\n",
       "      <td>MASCULINO</td>\n",
       "      <td>1</td>\n",
       "      <td>BRANCA</td>\n",
       "      <td>45.0</td>\n",
       "      <td>133202.77</td>\n",
       "      <td>45 a 54</td>\n",
       "    </tr>\n",
       "    <tr>\n",
       "      <th>3</th>\n",
       "      <td>2016</td>\n",
       "      <td>13</td>\n",
       "      <td>AP</td>\n",
       "      <td>25</td>\n",
       "      <td>DEM</td>\n",
       "      <td>2</td>\n",
       "      <td>MASCULINO</td>\n",
       "      <td>3</td>\n",
       "      <td>PARDA</td>\n",
       "      <td>41.0</td>\n",
       "      <td>133202.77</td>\n",
       "      <td>35 a 44</td>\n",
       "    </tr>\n",
       "    <tr>\n",
       "      <th>4</th>\n",
       "      <td>2016</td>\n",
       "      <td>13</td>\n",
       "      <td>AP</td>\n",
       "      <td>45</td>\n",
       "      <td>PSDB</td>\n",
       "      <td>4</td>\n",
       "      <td>FEMININO</td>\n",
       "      <td>3</td>\n",
       "      <td>PARDA</td>\n",
       "      <td>38.0</td>\n",
       "      <td>10803.91</td>\n",
       "      <td>35 a 44</td>\n",
       "    </tr>\n",
       "  </tbody>\n",
       "</table>\n",
       "</div>"
      ],
      "text/plain": [
       "   ANO_ELEICAO  CD_CARGO SG_UF  NR_PARTIDO SG_PARTIDO  CD_GENERO  DS_GENERO  \\\n",
       "0         2016        13    AP          12        PDT          2  MASCULINO   \n",
       "1         2016        13    AP          20        PSC          2  MASCULINO   \n",
       "2         2016        13    AP          23        PPS          2  MASCULINO   \n",
       "3         2016        13    AP          25        DEM          2  MASCULINO   \n",
       "4         2016        13    AP          45       PSDB          4   FEMININO   \n",
       "\n",
       "   CD_COR_RACA DS_COR_RACA  NR_IDADE_DATA_POSSE  VR_DESPESA_MAX_CAMPANHA  \\\n",
       "0            1      BRANCA                 25.0                133202.77   \n",
       "1            3       PARDA                 32.0                 10803.91   \n",
       "2            1      BRANCA                 45.0                133202.77   \n",
       "3            3       PARDA                 41.0                133202.77   \n",
       "4            3       PARDA                 38.0                 10803.91   \n",
       "\n",
       "  FAIXA_ETARIA  \n",
       "0      25 a 34  \n",
       "1      25 a 34  \n",
       "2      45 a 54  \n",
       "3      35 a 44  \n",
       "4      35 a 44  "
      ]
     },
     "execution_count": 42,
     "metadata": {},
     "output_type": "execute_result"
    }
   ],
   "source": [
    "df_raca_genero.head()"
   ]
  },
  {
   "cell_type": "code",
   "execution_count": 44,
   "id": "8a57f1ef",
   "metadata": {},
   "outputs": [
    {
     "data": {
      "text/plain": [
       "0    35 a 44\n",
       "Name: FAIXA_ETARIA, dtype: category\n",
       "Categories (6, object): ['18 a 24' < '25 a 34' < '35 a 44' < '45 a 54' < '55 a 64' < 'acima de 64']"
      ]
     },
     "execution_count": 44,
     "metadata": {},
     "output_type": "execute_result"
    }
   ],
   "source": [
    "df_raca_genero['FAIXA_ETARIA'].mode()"
   ]
  },
  {
   "cell_type": "markdown",
   "id": "173e6e5f",
   "metadata": {
    "id": "173e6e5f"
   },
   "source": [
    "# Visualize graficamente a distribuição da variável DS_COR_RACA em 2020"
   ]
  },
  {
   "cell_type": "code",
   "execution_count": 45,
   "id": "add56a8b",
   "metadata": {},
   "outputs": [],
   "source": [
    "df_raca_2020 = df_raca_genero[df_raca_genero['ANO_ELEICAO'] == 2020].copy()"
   ]
  },
  {
   "cell_type": "code",
   "execution_count": 46,
   "id": "9db42e3d",
   "metadata": {},
   "outputs": [
    {
     "data": {
      "text/html": [
       "<div>\n",
       "<style scoped>\n",
       "    .dataframe tbody tr th:only-of-type {\n",
       "        vertical-align: middle;\n",
       "    }\n",
       "\n",
       "    .dataframe tbody tr th {\n",
       "        vertical-align: top;\n",
       "    }\n",
       "\n",
       "    .dataframe thead th {\n",
       "        text-align: right;\n",
       "    }\n",
       "</style>\n",
       "<table border=\"1\" class=\"dataframe\">\n",
       "  <thead>\n",
       "    <tr style=\"text-align: right;\">\n",
       "      <th></th>\n",
       "      <th>CD_COR_RACA</th>\n",
       "    </tr>\n",
       "    <tr>\n",
       "      <th>DS_COR_RACA</th>\n",
       "      <th></th>\n",
       "    </tr>\n",
       "  </thead>\n",
       "  <tbody>\n",
       "    <tr>\n",
       "      <th>AMARELA</th>\n",
       "      <td>56</td>\n",
       "    </tr>\n",
       "    <tr>\n",
       "      <th>BRANCA</th>\n",
       "      <td>4032</td>\n",
       "    </tr>\n",
       "    <tr>\n",
       "      <th>INDÍGENA</th>\n",
       "      <td>122</td>\n",
       "    </tr>\n",
       "    <tr>\n",
       "      <th>NÃO INFORMADO</th>\n",
       "      <td>320</td>\n",
       "    </tr>\n",
       "    <tr>\n",
       "      <th>PARDA</th>\n",
       "      <td>16021</td>\n",
       "    </tr>\n",
       "    <tr>\n",
       "      <th>PRETA</th>\n",
       "      <td>2538</td>\n",
       "    </tr>\n",
       "  </tbody>\n",
       "</table>\n",
       "</div>"
      ],
      "text/plain": [
       "               CD_COR_RACA\n",
       "DS_COR_RACA               \n",
       "AMARELA                 56\n",
       "BRANCA                4032\n",
       "INDÍGENA               122\n",
       "NÃO INFORMADO          320\n",
       "PARDA                16021\n",
       "PRETA                 2538"
      ]
     },
     "execution_count": 46,
     "metadata": {},
     "output_type": "execute_result"
    }
   ],
   "source": [
    "df_raca_2020[['CD_COR_RACA','DS_COR_RACA']].groupby(['DS_COR_RACA']).count()"
   ]
  },
  {
   "cell_type": "code",
   "execution_count": 47,
   "id": "a3dd73c3",
   "metadata": {},
   "outputs": [],
   "source": [
    "raca = df_raca_2020['DS_COR_RACA'].unique().tolist()"
   ]
  },
  {
   "cell_type": "code",
   "execution_count": 50,
   "id": "e1427128",
   "metadata": {},
   "outputs": [
    {
     "name": "stdout",
     "output_type": "stream",
     "text": [
      "['PRETA', 'PARDA', 'BRANCA', 'INDÍGENA', 'NÃO INFORMADO', 'AMARELA']\n"
     ]
    }
   ],
   "source": [
    "print(raca)"
   ]
  },
  {
   "cell_type": "markdown",
   "id": "33d44e77",
   "metadata": {},
   "source": [
    "O comando sort=false irá manter o mesmo ordenamento de lista conforme as categorias armazenadas na lista anterior:"
   ]
  },
  {
   "cell_type": "code",
   "execution_count": 52,
   "id": "48b3ce88",
   "metadata": {},
   "outputs": [],
   "source": [
    "frequencia = df_raca_2020['DS_COR_RACA'].value_counts(sort=False).tolist()"
   ]
  },
  {
   "cell_type": "code",
   "execution_count": 53,
   "id": "0859eb8f",
   "metadata": {},
   "outputs": [
    {
     "name": "stdout",
     "output_type": "stream",
     "text": [
      "[2538, 16021, 4032, 122, 320, 56]\n"
     ]
    }
   ],
   "source": [
    "print(frequencia)"
   ]
  },
  {
   "cell_type": "code",
   "execution_count": 55,
   "id": "8ef85622",
   "metadata": {},
   "outputs": [
    {
     "data": {
      "text/plain": [
       "<function matplotlib.pyplot.show(close=None, block=None)>"
      ]
     },
     "execution_count": 55,
     "metadata": {},
     "output_type": "execute_result"
    },
    {
     "data": {
      "image/png": "[encoded data removed]",
      "text/plain": [
       "<Figure size 640x480 with 1 Axes>"
      ]
     },
     "metadata": {},
     "output_type": "display_data"
    }
   ],
   "source": [
    "plt.bar(raca, frequencia)\n",
    "plt.xticks(rotation=45)\n",
    "plt.title('Distribuicao racial de candidaturas a vereador em 2020 (PA e AM')\n",
    "plt.ylabel('Quantidade de candidaturas')\n",
    "plt.show"
   ]
  },
  {
   "cell_type": "markdown",
   "id": "85ffe243",
   "metadata": {},
   "source": [
    "# Há correlação entre idade, gênero e custo da campanha?"
   ]
  },
  {
   "cell_type": "code",
   "execution_count": 56,
   "id": "6f656742",
   "metadata": {},
   "outputs": [
    {
     "data": {
      "text/html": [
       "<div>\n",
       "<style scoped>\n",
       "    .dataframe tbody tr th:only-of-type {\n",
       "        vertical-align: middle;\n",
       "    }\n",
       "\n",
       "    .dataframe tbody tr th {\n",
       "        vertical-align: top;\n",
       "    }\n",
       "\n",
       "    .dataframe thead th {\n",
       "        text-align: right;\n",
       "    }\n",
       "</style>\n",
       "<table border=\"1\" class=\"dataframe\">\n",
       "  <thead>\n",
       "    <tr style=\"text-align: right;\">\n",
       "      <th></th>\n",
       "      <th>NR_IDADE_DATA_POSSE</th>\n",
       "      <th>CD_GENERO</th>\n",
       "      <th>VR_DESPESA_MAX_CAMPANHA</th>\n",
       "    </tr>\n",
       "  </thead>\n",
       "  <tbody>\n",
       "    <tr>\n",
       "      <th>NR_IDADE_DATA_POSSE</th>\n",
       "      <td>1.000000</td>\n",
       "      <td>-0.091149</td>\n",
       "      <td>0.071978</td>\n",
       "    </tr>\n",
       "    <tr>\n",
       "      <th>CD_GENERO</th>\n",
       "      <td>-0.091149</td>\n",
       "      <td>1.000000</td>\n",
       "      <td>-0.014853</td>\n",
       "    </tr>\n",
       "    <tr>\n",
       "      <th>VR_DESPESA_MAX_CAMPANHA</th>\n",
       "      <td>0.071978</td>\n",
       "      <td>-0.014853</td>\n",
       "      <td>1.000000</td>\n",
       "    </tr>\n",
       "  </tbody>\n",
       "</table>\n",
       "</div>"
      ],
      "text/plain": [
       "                         NR_IDADE_DATA_POSSE  CD_GENERO  \\\n",
       "NR_IDADE_DATA_POSSE                 1.000000  -0.091149   \n",
       "CD_GENERO                          -0.091149   1.000000   \n",
       "VR_DESPESA_MAX_CAMPANHA             0.071978  -0.014853   \n",
       "\n",
       "                         VR_DESPESA_MAX_CAMPANHA  \n",
       "NR_IDADE_DATA_POSSE                     0.071978  \n",
       "CD_GENERO                              -0.014853  \n",
       "VR_DESPESA_MAX_CAMPANHA                 1.000000  "
      ]
     },
     "execution_count": 56,
     "metadata": {},
     "output_type": "execute_result"
    }
   ],
   "source": [
    "df_raca_genero[['NR_IDADE_DATA_POSSE','CD_GENERO','VR_DESPESA_MAX_CAMPANHA']].corr(method='pearson')"
   ]
  },
  {
   "cell_type": "markdown",
   "id": "87060063",
   "metadata": {},
   "source": [
    "Sugestão: Biblioteca Seaborn faz um mapa de calor, sugestão olhar para correlações!"
   ]
  }
 ],
 "metadata": {
  "colab": {
   "collapsed_sections": [],
   "name": "aula_aovivo.ipynb",
   "provenance": []
  },
  "kernelspec": {
   "display_name": "Python 3 (ipykernel)",
   "language": "python",
   "name": "python3"
  },
  "language_info": {
   "codemirror_mode": {
    "name": "ipython",
    "version": 3
   },
   "file_extension": ".py",
   "mimetype": "text/x-python",
   "name": "python",
   "nbconvert_exporter": "python",
   "pygments_lexer": "ipython3",
   "version": "3.11.4"
  }
 },
 "nbformat": 4,
 "nbformat_minor": 5
}
