{
 "cells": [
  {
   "cell_type": "markdown",
   "id": "7187e3e9",
   "metadata": {
    "id": "7187e3e9"
   },
   "source": [
    "# Escola de Dados - Python para inovação cívica\n",
    "\n",
    "Os dados que usaremos nesse notebook pode ser encontrado em: [Candidatos - 2016](https://dadosabertos.tse.jus.br/dataset/candidatos-2016) e [Candidatos - 2020](https://dadosabertos.tse.jus.br/dataset/candidatos-2020-subtemas) disponível no Portal de Dados Abertos do Tribunal Superior Eleitoral.\n",
    "\n",
    "\n",
    "Os dados também podem ser encontrados na pasta \"Dados\" deste repositório.\n",
    "\n",
    "\n",
    "------\n",
    "Pontos para aula:\n",
    "\n",
    "- Quantas candidaturas para a Câmara de Vereadores houveram em cada ano agrupado por gênero ? \n",
    "- Qual a faixa etária média das pessoas candidatas para a Câmara de Vereadores?\n",
    "- Há correlação entre idade, gênero e custo da campanha?\n",
    "- Visualização gráfica da distribuição da variável DS_COR_RACA em 2020"
   ]
  },
  {
   "cell_type": "code",
   "execution_count": 50,
   "id": "6a996d66",
   "metadata": {
    "id": "6a996d66",
    "tags": []
   },
   "outputs": [],
   "source": [
    "import matplotlib.pyplot as plt\n",
    "import pandas as pd\n",
    "import glob"
   ]
  },
  {
   "cell_type": "code",
   "execution_count": 51,
   "id": "bc0a96bc",
   "metadata": {
    "id": "bc0a96bc",
    "outputId": "c2025c1f-8c99-4885-9de1-710564ea7d19",
    "tags": []
   },
   "outputs": [
    {
     "name": "stdout",
     "output_type": "stream",
     "text": [
      "['base_dados/consulta_cand_2016_AP.csv', 'base_dados/consulta_cand_2020_AP.csv', 'base_dados/consulta_cand_2016_PA.csv', 'base_dados/consulta_cand_2020_PA.csv']\n"
     ]
    }
   ],
   "source": [
    "dados_ap_pa = glob.glob('base_dados/consulta*.csv')\n",
    "print(dados_ap_pa)"
   ]
  },
  {
   "cell_type": "code",
   "execution_count": 52,
   "id": "57c7595c",
   "metadata": {
    "id": "57c7595c",
    "tags": []
   },
   "outputs": [
    {
     "name": "stderr",
     "output_type": "stream",
     "text": [
      "/tmp/ipykernel_67164/2630639665.py:4: DtypeWarning: Columns (31,32,33) have mixed types. Specify dtype option on import or set low_memory=False.\n",
      "  df_estado = pd.read_csv(dados_estado, sep=\";\", encoding='latin_1', na_values=['#NULO#'])\n"
     ]
    }
   ],
   "source": [
    "lista_df = []\n",
    "\n",
    "for dados_estado in dados_ap_pa:\n",
    "    df_estado = pd.read_csv(dados_estado, sep=\";\", encoding='latin_1', na_values=['#NULO#'])\n",
    "    lista_df.append(df_estado)"
   ]
  },
  {
   "cell_type": "code",
   "execution_count": 53,
   "id": "d854e293",
   "metadata": {
    "id": "d854e293",
    "outputId": "85abaf47-c8fd-4838-b9b6-9b129de1f7fd",
    "tags": []
   },
   "outputs": [
    {
     "data": {
      "text/plain": [
       "array([ True,  True,  True,  True,  True,  True,  True,  True,  True,\n",
       "        True,  True,  True,  True,  True,  True,  True,  True,  True,\n",
       "        True,  True,  True,  True,  True,  True,  True,  True,  True,\n",
       "        True,  True,  True,  True,  True,  True,  True,  True,  True,\n",
       "        True,  True,  True,  True,  True,  True,  True,  True,  True,\n",
       "        True,  True,  True,  True,  True,  True,  True,  True,  True,\n",
       "        True,  True,  True,  True,  True,  True,  True,  True,  True,\n",
       "        True,  True,  True,  True,  True,  True,  True,  True])"
      ]
     },
     "execution_count": 53,
     "metadata": {},
     "output_type": "execute_result"
    }
   ],
   "source": [
    "lista_df[0].columns == lista_df[3].columns"
   ]
  },
  {
   "cell_type": "code",
   "execution_count": 54,
   "id": "582e0ca5",
   "metadata": {
    "id": "582e0ca5",
    "tags": []
   },
   "outputs": [],
   "source": [
    "df_completo = pd.concat(lista_df, axis=0, ignore_index=True)"
   ]
  },
  {
   "cell_type": "code",
   "execution_count": 55,
   "id": "e332acab",
   "metadata": {
    "id": "e332acab",
    "outputId": "e9332682-3ebb-4e87-a4e2-7add188bcbdc",
    "tags": []
   },
   "outputs": [
    {
     "data": {
      "text/plain": [
       "(48682, 71)"
      ]
     },
     "execution_count": 55,
     "metadata": {},
     "output_type": "execute_result"
    }
   ],
   "source": [
    "df_completo.shape"
   ]
  },
  {
   "cell_type": "code",
   "execution_count": 56,
   "id": "ac039a8c",
   "metadata": {
    "id": "ac039a8c",
    "outputId": "19b37703-8874-4ad2-ff0c-94f6d5cf3bbc",
    "tags": []
   },
   "outputs": [
    {
     "name": "stdout",
     "output_type": "stream",
     "text": [
      "<class 'pandas.core.frame.DataFrame'>\n",
      "RangeIndex: 48682 entries, 0 to 48681\n",
      "Data columns (total 71 columns):\n",
      " #   Column                         Non-Null Count  Dtype  \n",
      "---  ------                         --------------  -----  \n",
      " 0   DT_GERACAO                     48682 non-null  object \n",
      " 1   HH_GERACAO                     48682 non-null  object \n",
      " 2   ANO_ELEICAO                    48682 non-null  int64  \n",
      " 3   CD_TIPO_ELEICAO                48682 non-null  int64  \n",
      " 4   NM_TIPO_ELEICAO                48682 non-null  object \n",
      " 5   NR_TURNO                       48682 non-null  int64  \n",
      " 6   CD_ELEICAO                     48682 non-null  int64  \n",
      " 7   DS_ELEICAO                     48682 non-null  object \n",
      " 8   DT_ELEICAO                     48682 non-null  object \n",
      " 9   TP_ABRANGENCIA                 48682 non-null  object \n",
      " 10  SG_UF                          48682 non-null  object \n",
      " 11  SG_UE                          48682 non-null  int64  \n",
      " 12  NM_UE                          48682 non-null  object \n",
      " 13  CD_CARGO                       48682 non-null  int64  \n",
      " 14  DS_CARGO                       48682 non-null  object \n",
      " 15  SQ_CANDIDATO                   48682 non-null  int64  \n",
      " 16  NR_CANDIDATO                   48682 non-null  int64  \n",
      " 17  NM_CANDIDATO                   48682 non-null  object \n",
      " 18  NM_URNA_CANDIDATO              48682 non-null  object \n",
      " 19  NM_SOCIAL_CANDIDATO            15 non-null     object \n",
      " 20  NR_CPF_CANDIDATO               48682 non-null  int64  \n",
      " 21  NM_EMAIL                       48682 non-null  object \n",
      " 22  CD_SITUACAO_CANDIDATURA        48682 non-null  int64  \n",
      " 23  DS_SITUACAO_CANDIDATURA        48682 non-null  object \n",
      " 24  CD_DETALHE_SITUACAO_CAND       48682 non-null  int64  \n",
      " 25  DS_DETALHE_SITUACAO_CAND       48682 non-null  object \n",
      " 26  TP_AGREMIACAO                  48682 non-null  object \n",
      " 27  NR_PARTIDO                     48682 non-null  int64  \n",
      " 28  SG_PARTIDO                     48682 non-null  object \n",
      " 29  NM_PARTIDO                     48682 non-null  object \n",
      " 30  NR_FEDERACAO                   48682 non-null  int64  \n",
      " 31  NM_FEDERACAO                   1 non-null      object \n",
      " 32  SG_FEDERACAO                   1 non-null      object \n",
      " 33  DS_COMPOSICAO_FEDERACAO        1 non-null      object \n",
      " 34  SQ_COLIGACAO                   48682 non-null  int64  \n",
      " 35  NM_COLIGACAO                   48682 non-null  object \n",
      " 36  DS_COMPOSICAO_COLIGACAO        48642 non-null  object \n",
      " 37  CD_NACIONALIDADE               48682 non-null  int64  \n",
      " 38  DS_NACIONALIDADE               48682 non-null  object \n",
      " 39  SG_UF_NASCIMENTO               48682 non-null  object \n",
      " 40  CD_MUNICIPIO_NASCIMENTO        48682 non-null  int64  \n",
      " 41  NM_MUNICIPIO_NASCIMENTO        48682 non-null  object \n",
      " 42  DT_NASCIMENTO                  48675 non-null  object \n",
      " 43  NR_IDADE_DATA_POSSE            48675 non-null  float64\n",
      " 44  NR_TITULO_ELEITORAL_CANDIDATO  48682 non-null  int64  \n",
      " 45  CD_GENERO                      48682 non-null  int64  \n",
      " 46  DS_GENERO                      48682 non-null  object \n",
      " 47  CD_GRAU_INSTRUCAO              48682 non-null  int64  \n",
      " 48  DS_GRAU_INSTRUCAO              48682 non-null  object \n",
      " 49  CD_ESTADO_CIVIL                48682 non-null  int64  \n",
      " 50  DS_ESTADO_CIVIL                48682 non-null  object \n",
      " 51  CD_COR_RACA                    48682 non-null  int64  \n",
      " 52  DS_COR_RACA                    48682 non-null  object \n",
      " 53  CD_OCUPACAO                    48682 non-null  int64  \n",
      " 54  DS_OCUPACAO                    48682 non-null  object \n",
      " 55  VR_DESPESA_MAX_CAMPANHA        48682 non-null  float64\n",
      " 56  CD_SIT_TOT_TURNO               48682 non-null  int64  \n",
      " 57  DS_SIT_TOT_TURNO               46687 non-null  object \n",
      " 58  ST_REELEICAO                   48682 non-null  object \n",
      " 59  ST_DECLARAR_BENS               48682 non-null  object \n",
      " 60  NR_PROTOCOLO_CANDIDATURA       48682 non-null  int64  \n",
      " 61  NR_PROCESSO                    48682 non-null  object \n",
      " 62  CD_SITUACAO_CANDIDATO_PLEITO   48682 non-null  int64  \n",
      " 63  DS_SITUACAO_CANDIDATO_PLEITO   46687 non-null  object \n",
      " 64  CD_SITUACAO_CANDIDATO_URNA     48682 non-null  int64  \n",
      " 65  DS_SITUACAO_CANDIDATO_URNA     46687 non-null  object \n",
      " 66  ST_CANDIDATO_INSERIDO_URNA     48682 non-null  object \n",
      " 67  NM_TIPO_DESTINACAO_VOTOS       45319 non-null  object \n",
      " 68  CD_SITUACAO_CANDIDATO_TOT      48682 non-null  int64  \n",
      " 69  DS_SITUACAO_CANDIDATO_TOT      46687 non-null  object \n",
      " 70  ST_PREST_CONTAS                48682 non-null  object \n",
      "dtypes: float64(2), int64(27), object(42)\n",
      "memory usage: 26.4+ MB\n"
     ]
    }
   ],
   "source": [
    "df_completo.info()"
   ]
  },
  {
   "cell_type": "code",
   "execution_count": 57,
   "id": "1cc6f4ad",
   "metadata": {
    "id": "1cc6f4ad",
    "outputId": "584ccb9e-d6b4-4f04-a4e1-ebafda3fd660",
    "tags": []
   },
   "outputs": [
    {
     "data": {
      "text/plain": [
       "array(['VEREADOR', 'PREFEITO', 'VICE-PREFEITO'], dtype=object)"
      ]
     },
     "execution_count": 57,
     "metadata": {},
     "output_type": "execute_result"
    }
   ],
   "source": [
    "df_completo['DS_CARGO'].unique()"
   ]
  },
  {
   "cell_type": "code",
   "execution_count": 58,
   "id": "7fc56a1e",
   "metadata": {
    "id": "7fc56a1e",
    "outputId": "ef6c880a-7cb7-4dd5-cde6-86828f9f6813",
    "tags": []
   },
   "outputs": [
    {
     "data": {
      "text/plain": [
       "array(['DEFERIDO', 'RENÚNCIA', 'INDEFERIDO', 'NÃO CONHECIMENTO DO PEDIDO',\n",
       "       'INDEFERIDO COM RECURSO', 'DEFERIDO COM RECURSO', 'CANCELADO',\n",
       "       'FALECIDO', 'PEDIDO NÃO CONHECIDO', 'CASSADO',\n",
       "       'CASSADO COM RECURSO', 'PENDENTE DE JULGAMENTO',\n",
       "       'PEDIDO NÃO CONHECIDO COM RECURSO'], dtype=object)"
      ]
     },
     "execution_count": 58,
     "metadata": {},
     "output_type": "execute_result"
    }
   ],
   "source": [
    "df_completo['DS_DETALHE_SITUACAO_CAND'].unique()"
   ]
  },
  {
   "cell_type": "code",
   "execution_count": 59,
   "id": "706e8b6e",
   "metadata": {
    "id": "706e8b6e",
    "tags": []
   },
   "outputs": [],
   "source": [
    "df_vereadores = df_completo[\n",
    "    (df_completo['CD_CARGO'] == 13) &\n",
    "    ((df_completo['DS_DETALHE_SITUACAO_CAND'] == 'DEFERIDO') | \n",
    "    (df_completo['DS_DETALHE_SITUACAO_CAND'] == 'DEFERIDO COM RECURSO'))\n",
    "].copy()"
   ]
  },
  {
   "cell_type": "code",
   "execution_count": 60,
   "id": "5230c4ad",
   "metadata": {
    "id": "5230c4ad",
    "outputId": "2119057c-fced-4ba0-eddf-98fec914d5d2",
    "tags": []
   },
   "outputs": [
    {
     "data": {
      "text/plain": [
       "(42742, 71)"
      ]
     },
     "execution_count": 60,
     "metadata": {},
     "output_type": "execute_result"
    }
   ],
   "source": [
    "df_vereadores.shape"
   ]
  },
  {
   "cell_type": "code",
   "execution_count": 61,
   "id": "82d05ad0",
   "metadata": {
    "id": "82d05ad0",
    "tags": []
   },
   "outputs": [],
   "source": [
    "df_raca_genero = df_vereadores[['ANO_ELEICAO', 'CD_CARGO', 'SG_UF', 'NR_PARTIDO', 'SG_PARTIDO', 'CD_GENERO', \n",
    "                                'DS_GENERO', 'CD_COR_RACA', 'DS_COR_RACA', 'NR_IDADE_DATA_POSSE', \n",
    "                                'VR_DESPESA_MAX_CAMPANHA']].copy()"
   ]
  },
  {
   "cell_type": "code",
   "execution_count": 62,
   "id": "3ac272b1",
   "metadata": {
    "id": "3ac272b1",
    "outputId": "1a8cae1c-6587-4253-d328-42f637247e11",
    "tags": []
   },
   "outputs": [
    {
     "data": {
      "text/html": [
       "<div>\n",
       "<style scoped>\n",
       "    .dataframe tbody tr th:only-of-type {\n",
       "        vertical-align: middle;\n",
       "    }\n",
       "\n",
       "    .dataframe tbody tr th {\n",
       "        vertical-align: top;\n",
       "    }\n",
       "\n",
       "    .dataframe thead th {\n",
       "        text-align: right;\n",
       "    }\n",
       "</style>\n",
       "<table border=\"1\" class=\"dataframe\">\n",
       "  <thead>\n",
       "    <tr style=\"text-align: right;\">\n",
       "      <th></th>\n",
       "      <th>ANO_ELEICAO</th>\n",
       "      <th>CD_CARGO</th>\n",
       "      <th>SG_UF</th>\n",
       "      <th>NR_PARTIDO</th>\n",
       "      <th>SG_PARTIDO</th>\n",
       "      <th>CD_GENERO</th>\n",
       "      <th>DS_GENERO</th>\n",
       "      <th>CD_COR_RACA</th>\n",
       "      <th>DS_COR_RACA</th>\n",
       "      <th>NR_IDADE_DATA_POSSE</th>\n",
       "      <th>VR_DESPESA_MAX_CAMPANHA</th>\n",
       "    </tr>\n",
       "  </thead>\n",
       "  <tbody>\n",
       "    <tr>\n",
       "      <th>0</th>\n",
       "      <td>2016</td>\n",
       "      <td>13</td>\n",
       "      <td>AP</td>\n",
       "      <td>12</td>\n",
       "      <td>PDT</td>\n",
       "      <td>2</td>\n",
       "      <td>MASCULINO</td>\n",
       "      <td>1</td>\n",
       "      <td>BRANCA</td>\n",
       "      <td>25.0</td>\n",
       "      <td>133202.77</td>\n",
       "    </tr>\n",
       "    <tr>\n",
       "      <th>1</th>\n",
       "      <td>2016</td>\n",
       "      <td>13</td>\n",
       "      <td>AP</td>\n",
       "      <td>20</td>\n",
       "      <td>PSC</td>\n",
       "      <td>2</td>\n",
       "      <td>MASCULINO</td>\n",
       "      <td>3</td>\n",
       "      <td>PARDA</td>\n",
       "      <td>32.0</td>\n",
       "      <td>10803.91</td>\n",
       "    </tr>\n",
       "    <tr>\n",
       "      <th>2</th>\n",
       "      <td>2016</td>\n",
       "      <td>13</td>\n",
       "      <td>AP</td>\n",
       "      <td>23</td>\n",
       "      <td>PPS</td>\n",
       "      <td>2</td>\n",
       "      <td>MASCULINO</td>\n",
       "      <td>1</td>\n",
       "      <td>BRANCA</td>\n",
       "      <td>45.0</td>\n",
       "      <td>133202.77</td>\n",
       "    </tr>\n",
       "    <tr>\n",
       "      <th>3</th>\n",
       "      <td>2016</td>\n",
       "      <td>13</td>\n",
       "      <td>AP</td>\n",
       "      <td>25</td>\n",
       "      <td>DEM</td>\n",
       "      <td>2</td>\n",
       "      <td>MASCULINO</td>\n",
       "      <td>3</td>\n",
       "      <td>PARDA</td>\n",
       "      <td>41.0</td>\n",
       "      <td>133202.77</td>\n",
       "    </tr>\n",
       "    <tr>\n",
       "      <th>4</th>\n",
       "      <td>2016</td>\n",
       "      <td>13</td>\n",
       "      <td>AP</td>\n",
       "      <td>45</td>\n",
       "      <td>PSDB</td>\n",
       "      <td>4</td>\n",
       "      <td>FEMININO</td>\n",
       "      <td>3</td>\n",
       "      <td>PARDA</td>\n",
       "      <td>38.0</td>\n",
       "      <td>10803.91</td>\n",
       "    </tr>\n",
       "  </tbody>\n",
       "</table>\n",
       "</div>"
      ],
      "text/plain": [
       "   ANO_ELEICAO  CD_CARGO SG_UF  NR_PARTIDO SG_PARTIDO  CD_GENERO  DS_GENERO  \\\n",
       "0         2016        13    AP          12        PDT          2  MASCULINO   \n",
       "1         2016        13    AP          20        PSC          2  MASCULINO   \n",
       "2         2016        13    AP          23        PPS          2  MASCULINO   \n",
       "3         2016        13    AP          25        DEM          2  MASCULINO   \n",
       "4         2016        13    AP          45       PSDB          4   FEMININO   \n",
       "\n",
       "   CD_COR_RACA DS_COR_RACA  NR_IDADE_DATA_POSSE  VR_DESPESA_MAX_CAMPANHA  \n",
       "0            1      BRANCA                 25.0                133202.77  \n",
       "1            3       PARDA                 32.0                 10803.91  \n",
       "2            1      BRANCA                 45.0                133202.77  \n",
       "3            3       PARDA                 41.0                133202.77  \n",
       "4            3       PARDA                 38.0                 10803.91  "
      ]
     },
     "execution_count": 62,
     "metadata": {},
     "output_type": "execute_result"
    }
   ],
   "source": [
    "df_raca_genero.head()"
   ]
  },
  {
   "cell_type": "markdown",
   "id": "d2aa52d3",
   "metadata": {
    "id": "d2aa52d3"
   },
   "source": [
    "# Quantas candidaturas houveram em cada ano agrupado por gênero ? "
   ]
  },
  {
   "cell_type": "code",
   "execution_count": 63,
   "id": "5e6d362a",
   "metadata": {
    "id": "5e6d362a",
    "outputId": "c61f73d8-29f4-40b3-9a91-a014782438d7",
    "tags": []
   },
   "outputs": [
    {
     "data": {
      "text/html": [
       "<div>\n",
       "<style scoped>\n",
       "    .dataframe tbody tr th:only-of-type {\n",
       "        vertical-align: middle;\n",
       "    }\n",
       "\n",
       "    .dataframe tbody tr th {\n",
       "        vertical-align: top;\n",
       "    }\n",
       "\n",
       "    .dataframe thead th {\n",
       "        text-align: right;\n",
       "    }\n",
       "</style>\n",
       "<table border=\"1\" class=\"dataframe\">\n",
       "  <thead>\n",
       "    <tr style=\"text-align: right;\">\n",
       "      <th></th>\n",
       "      <th></th>\n",
       "      <th>CD_CARGO</th>\n",
       "    </tr>\n",
       "    <tr>\n",
       "      <th>ANO_ELEICAO</th>\n",
       "      <th>DS_GENERO</th>\n",
       "      <th></th>\n",
       "    </tr>\n",
       "  </thead>\n",
       "  <tbody>\n",
       "    <tr>\n",
       "      <th rowspan=\"2\" valign=\"top\">2016</th>\n",
       "      <th>FEMININO</th>\n",
       "      <td>6305</td>\n",
       "    </tr>\n",
       "    <tr>\n",
       "      <th>MASCULINO</th>\n",
       "      <td>13348</td>\n",
       "    </tr>\n",
       "    <tr>\n",
       "      <th rowspan=\"2\" valign=\"top\">2020</th>\n",
       "      <th>FEMININO</th>\n",
       "      <td>8021</td>\n",
       "    </tr>\n",
       "    <tr>\n",
       "      <th>MASCULINO</th>\n",
       "      <td>15068</td>\n",
       "    </tr>\n",
       "  </tbody>\n",
       "</table>\n",
       "</div>"
      ],
      "text/plain": [
       "                       CD_CARGO\n",
       "ANO_ELEICAO DS_GENERO          \n",
       "2016        FEMININO       6305\n",
       "            MASCULINO     13348\n",
       "2020        FEMININO       8021\n",
       "            MASCULINO     15068"
      ]
     },
     "execution_count": 63,
     "metadata": {},
     "output_type": "execute_result"
    }
   ],
   "source": [
    "df_raca_genero[['ANO_ELEICAO', 'DS_GENERO', 'CD_CARGO']].groupby(by=['ANO_ELEICAO', 'DS_GENERO']).count()"
   ]
  },
  {
   "cell_type": "code",
   "execution_count": 64,
   "id": "2865de82-e091-486f-b1ff-cbe8d28dd871",
   "metadata": {
    "tags": []
   },
   "outputs": [],
   "source": [
    "df_ano_genero = df_raca_genero[['ANO_ELEICAO', 'DS_GENERO', 'CD_CARGO']].groupby(by=['ANO_ELEICAO', 'DS_GENERO'], as_index=False).count()"
   ]
  },
  {
   "cell_type": "code",
   "execution_count": 65,
   "id": "89baab6b-600d-46e4-82d5-c6322bdcacbc",
   "metadata": {
    "tags": []
   },
   "outputs": [
    {
     "data": {
      "text/html": [
       "<div>\n",
       "<style scoped>\n",
       "    .dataframe tbody tr th:only-of-type {\n",
       "        vertical-align: middle;\n",
       "    }\n",
       "\n",
       "    .dataframe tbody tr th {\n",
       "        vertical-align: top;\n",
       "    }\n",
       "\n",
       "    .dataframe thead th {\n",
       "        text-align: right;\n",
       "    }\n",
       "</style>\n",
       "<table border=\"1\" class=\"dataframe\">\n",
       "  <thead>\n",
       "    <tr style=\"text-align: right;\">\n",
       "      <th></th>\n",
       "      <th>ANO_ELEICAO</th>\n",
       "      <th>DS_GENERO</th>\n",
       "      <th>CD_CARGO</th>\n",
       "    </tr>\n",
       "  </thead>\n",
       "  <tbody>\n",
       "    <tr>\n",
       "      <th>0</th>\n",
       "      <td>2016</td>\n",
       "      <td>FEMININO</td>\n",
       "      <td>6305</td>\n",
       "    </tr>\n",
       "    <tr>\n",
       "      <th>1</th>\n",
       "      <td>2016</td>\n",
       "      <td>MASCULINO</td>\n",
       "      <td>13348</td>\n",
       "    </tr>\n",
       "    <tr>\n",
       "      <th>2</th>\n",
       "      <td>2020</td>\n",
       "      <td>FEMININO</td>\n",
       "      <td>8021</td>\n",
       "    </tr>\n",
       "    <tr>\n",
       "      <th>3</th>\n",
       "      <td>2020</td>\n",
       "      <td>MASCULINO</td>\n",
       "      <td>15068</td>\n",
       "    </tr>\n",
       "  </tbody>\n",
       "</table>\n",
       "</div>"
      ],
      "text/plain": [
       "   ANO_ELEICAO  DS_GENERO  CD_CARGO\n",
       "0         2016   FEMININO      6305\n",
       "1         2016  MASCULINO     13348\n",
       "2         2020   FEMININO      8021\n",
       "3         2020  MASCULINO     15068"
      ]
     },
     "execution_count": 65,
     "metadata": {},
     "output_type": "execute_result"
    }
   ],
   "source": [
    "df_ano_genero"
   ]
  },
  {
   "cell_type": "code",
   "execution_count": 66,
   "id": "a3cc9c5f-51da-400e-8087-2eebffeb82e9",
   "metadata": {
    "tags": []
   },
   "outputs": [
    {
     "data": {
      "text/plain": [
       "<AxesSubplot: xlabel='DS_GENERO'>"
      ]
     },
     "execution_count": 66,
     "metadata": {},
     "output_type": "execute_result"
    },
    {
     "data": {
      "image/png": "[encoded data removed]",
      "text/plain": [
       "<Figure size 640x480 with 1 Axes>"
      ]
     },
     "metadata": {},
     "output_type": "display_data"
    }
   ],
   "source": [
    "df_ano_genero.groupby(['ANO_ELEICAO', 'DS_GENERO']).sum().unstack(0).plot(kind=\"bar\")"
   ]
  },
  {
   "cell_type": "markdown",
   "id": "aaeb951e",
   "metadata": {
    "id": "aaeb951e"
   },
   "source": [
    "# Qual a faixa etária média das pessoas candidatas para a Câmara de Vereadores?"
   ]
  },
  {
   "cell_type": "code",
   "execution_count": 67,
   "id": "2ec02938",
   "metadata": {
    "id": "2ec02938",
    "outputId": "4df0e717-fb7d-4531-a7ba-5d539bbf1e22",
    "tags": []
   },
   "outputs": [
    {
     "data": {
      "text/html": [
       "<div>\n",
       "<style scoped>\n",
       "    .dataframe tbody tr th:only-of-type {\n",
       "        vertical-align: middle;\n",
       "    }\n",
       "\n",
       "    .dataframe tbody tr th {\n",
       "        vertical-align: top;\n",
       "    }\n",
       "\n",
       "    .dataframe thead th {\n",
       "        text-align: right;\n",
       "    }\n",
       "</style>\n",
       "<table border=\"1\" class=\"dataframe\">\n",
       "  <thead>\n",
       "    <tr style=\"text-align: right;\">\n",
       "      <th></th>\n",
       "      <th>ANO_ELEICAO</th>\n",
       "      <th>CD_CARGO</th>\n",
       "      <th>SG_UF</th>\n",
       "      <th>NR_PARTIDO</th>\n",
       "      <th>SG_PARTIDO</th>\n",
       "      <th>CD_GENERO</th>\n",
       "      <th>DS_GENERO</th>\n",
       "      <th>CD_COR_RACA</th>\n",
       "      <th>DS_COR_RACA</th>\n",
       "      <th>NR_IDADE_DATA_POSSE</th>\n",
       "      <th>VR_DESPESA_MAX_CAMPANHA</th>\n",
       "    </tr>\n",
       "  </thead>\n",
       "  <tbody>\n",
       "    <tr>\n",
       "      <th>0</th>\n",
       "      <td>2016</td>\n",
       "      <td>13</td>\n",
       "      <td>AP</td>\n",
       "      <td>12</td>\n",
       "      <td>PDT</td>\n",
       "      <td>2</td>\n",
       "      <td>MASCULINO</td>\n",
       "      <td>1</td>\n",
       "      <td>BRANCA</td>\n",
       "      <td>25.0</td>\n",
       "      <td>133202.77</td>\n",
       "    </tr>\n",
       "    <tr>\n",
       "      <th>1</th>\n",
       "      <td>2016</td>\n",
       "      <td>13</td>\n",
       "      <td>AP</td>\n",
       "      <td>20</td>\n",
       "      <td>PSC</td>\n",
       "      <td>2</td>\n",
       "      <td>MASCULINO</td>\n",
       "      <td>3</td>\n",
       "      <td>PARDA</td>\n",
       "      <td>32.0</td>\n",
       "      <td>10803.91</td>\n",
       "    </tr>\n",
       "    <tr>\n",
       "      <th>2</th>\n",
       "      <td>2016</td>\n",
       "      <td>13</td>\n",
       "      <td>AP</td>\n",
       "      <td>23</td>\n",
       "      <td>PPS</td>\n",
       "      <td>2</td>\n",
       "      <td>MASCULINO</td>\n",
       "      <td>1</td>\n",
       "      <td>BRANCA</td>\n",
       "      <td>45.0</td>\n",
       "      <td>133202.77</td>\n",
       "    </tr>\n",
       "    <tr>\n",
       "      <th>3</th>\n",
       "      <td>2016</td>\n",
       "      <td>13</td>\n",
       "      <td>AP</td>\n",
       "      <td>25</td>\n",
       "      <td>DEM</td>\n",
       "      <td>2</td>\n",
       "      <td>MASCULINO</td>\n",
       "      <td>3</td>\n",
       "      <td>PARDA</td>\n",
       "      <td>41.0</td>\n",
       "      <td>133202.77</td>\n",
       "    </tr>\n",
       "    <tr>\n",
       "      <th>4</th>\n",
       "      <td>2016</td>\n",
       "      <td>13</td>\n",
       "      <td>AP</td>\n",
       "      <td>45</td>\n",
       "      <td>PSDB</td>\n",
       "      <td>4</td>\n",
       "      <td>FEMININO</td>\n",
       "      <td>3</td>\n",
       "      <td>PARDA</td>\n",
       "      <td>38.0</td>\n",
       "      <td>10803.91</td>\n",
       "    </tr>\n",
       "  </tbody>\n",
       "</table>\n",
       "</div>"
      ],
      "text/plain": [
       "   ANO_ELEICAO  CD_CARGO SG_UF  NR_PARTIDO SG_PARTIDO  CD_GENERO  DS_GENERO  \\\n",
       "0         2016        13    AP          12        PDT          2  MASCULINO   \n",
       "1         2016        13    AP          20        PSC          2  MASCULINO   \n",
       "2         2016        13    AP          23        PPS          2  MASCULINO   \n",
       "3         2016        13    AP          25        DEM          2  MASCULINO   \n",
       "4         2016        13    AP          45       PSDB          4   FEMININO   \n",
       "\n",
       "   CD_COR_RACA DS_COR_RACA  NR_IDADE_DATA_POSSE  VR_DESPESA_MAX_CAMPANHA  \n",
       "0            1      BRANCA                 25.0                133202.77  \n",
       "1            3       PARDA                 32.0                 10803.91  \n",
       "2            1      BRANCA                 45.0                133202.77  \n",
       "3            3       PARDA                 41.0                133202.77  \n",
       "4            3       PARDA                 38.0                 10803.91  "
      ]
     },
     "execution_count": 67,
     "metadata": {},
     "output_type": "execute_result"
    }
   ],
   "source": [
    "df_raca_genero.head()"
   ]
  },
  {
   "cell_type": "code",
   "execution_count": 68,
   "id": "a78c5263",
   "metadata": {
    "id": "a78c5263",
    "outputId": "761215f9-726b-4244-8636-928086588559",
    "tags": []
   },
   "outputs": [
    {
     "data": {
      "text/html": [
       "<div>\n",
       "<style scoped>\n",
       "    .dataframe tbody tr th:only-of-type {\n",
       "        vertical-align: middle;\n",
       "    }\n",
       "\n",
       "    .dataframe tbody tr th {\n",
       "        vertical-align: top;\n",
       "    }\n",
       "\n",
       "    .dataframe thead th {\n",
       "        text-align: right;\n",
       "    }\n",
       "</style>\n",
       "<table border=\"1\" class=\"dataframe\">\n",
       "  <thead>\n",
       "    <tr style=\"text-align: right;\">\n",
       "      <th></th>\n",
       "      <th>ANO_ELEICAO</th>\n",
       "      <th>CD_CARGO</th>\n",
       "      <th>NR_PARTIDO</th>\n",
       "      <th>CD_GENERO</th>\n",
       "      <th>CD_COR_RACA</th>\n",
       "      <th>NR_IDADE_DATA_POSSE</th>\n",
       "      <th>VR_DESPESA_MAX_CAMPANHA</th>\n",
       "    </tr>\n",
       "  </thead>\n",
       "  <tbody>\n",
       "    <tr>\n",
       "      <th>count</th>\n",
       "      <td>42742.000000</td>\n",
       "      <td>42742.0</td>\n",
       "      <td>42742.000000</td>\n",
       "      <td>42742.000000</td>\n",
       "      <td>42742.000000</td>\n",
       "      <td>42742.000000</td>\n",
       "      <td>42742.000000</td>\n",
       "    </tr>\n",
       "    <tr>\n",
       "      <th>mean</th>\n",
       "      <td>2018.160779</td>\n",
       "      <td>13.0</td>\n",
       "      <td>31.390646</td>\n",
       "      <td>2.670348</td>\n",
       "      <td>2.578330</td>\n",
       "      <td>42.791540</td>\n",
       "      <td>54508.850652</td>\n",
       "    </tr>\n",
       "    <tr>\n",
       "      <th>std</th>\n",
       "      <td>1.993550</td>\n",
       "      <td>0.0</td>\n",
       "      <td>20.483877</td>\n",
       "      <td>0.944113</td>\n",
       "      <td>0.848221</td>\n",
       "      <td>10.848362</td>\n",
       "      <td>86728.097359</td>\n",
       "    </tr>\n",
       "    <tr>\n",
       "      <th>min</th>\n",
       "      <td>2016.000000</td>\n",
       "      <td>13.0</td>\n",
       "      <td>10.000000</td>\n",
       "      <td>2.000000</td>\n",
       "      <td>1.000000</td>\n",
       "      <td>18.000000</td>\n",
       "      <td>10803.910000</td>\n",
       "    </tr>\n",
       "    <tr>\n",
       "      <th>25%</th>\n",
       "      <td>2016.000000</td>\n",
       "      <td>13.0</td>\n",
       "      <td>15.000000</td>\n",
       "      <td>2.000000</td>\n",
       "      <td>2.000000</td>\n",
       "      <td>35.000000</td>\n",
       "      <td>13417.590000</td>\n",
       "    </tr>\n",
       "    <tr>\n",
       "      <th>50%</th>\n",
       "      <td>2020.000000</td>\n",
       "      <td>13.0</td>\n",
       "      <td>23.000000</td>\n",
       "      <td>2.000000</td>\n",
       "      <td>3.000000</td>\n",
       "      <td>42.000000</td>\n",
       "      <td>22378.500000</td>\n",
       "    </tr>\n",
       "    <tr>\n",
       "      <th>75%</th>\n",
       "      <td>2020.000000</td>\n",
       "      <td>13.0</td>\n",
       "      <td>45.000000</td>\n",
       "      <td>4.000000</td>\n",
       "      <td>3.000000</td>\n",
       "      <td>50.000000</td>\n",
       "      <td>49644.560000</td>\n",
       "    </tr>\n",
       "    <tr>\n",
       "      <th>max</th>\n",
       "      <td>2020.000000</td>\n",
       "      <td>13.0</td>\n",
       "      <td>90.000000</td>\n",
       "      <td>4.000000</td>\n",
       "      <td>6.000000</td>\n",
       "      <td>91.000000</td>\n",
       "      <td>438043.030000</td>\n",
       "    </tr>\n",
       "  </tbody>\n",
       "</table>\n",
       "</div>"
      ],
      "text/plain": [
       "        ANO_ELEICAO  CD_CARGO    NR_PARTIDO     CD_GENERO   CD_COR_RACA  \\\n",
       "count  42742.000000   42742.0  42742.000000  42742.000000  42742.000000   \n",
       "mean    2018.160779      13.0     31.390646      2.670348      2.578330   \n",
       "std        1.993550       0.0     20.483877      0.944113      0.848221   \n",
       "min     2016.000000      13.0     10.000000      2.000000      1.000000   \n",
       "25%     2016.000000      13.0     15.000000      2.000000      2.000000   \n",
       "50%     2020.000000      13.0     23.000000      2.000000      3.000000   \n",
       "75%     2020.000000      13.0     45.000000      4.000000      3.000000   \n",
       "max     2020.000000      13.0     90.000000      4.000000      6.000000   \n",
       "\n",
       "       NR_IDADE_DATA_POSSE  VR_DESPESA_MAX_CAMPANHA  \n",
       "count         42742.000000             42742.000000  \n",
       "mean             42.791540             54508.850652  \n",
       "std              10.848362             86728.097359  \n",
       "min              18.000000             10803.910000  \n",
       "25%              35.000000             13417.590000  \n",
       "50%              42.000000             22378.500000  \n",
       "75%              50.000000             49644.560000  \n",
       "max              91.000000            438043.030000  "
      ]
     },
     "execution_count": 68,
     "metadata": {},
     "output_type": "execute_result"
    }
   ],
   "source": [
    "df_raca_genero.describe()"
   ]
  },
  {
   "cell_type": "code",
   "execution_count": 69,
   "id": "71be20b8",
   "metadata": {
    "id": "71be20b8",
    "tags": []
   },
   "outputs": [],
   "source": [
    "cortes = [18, 24, 34, 44, 54, 64, 100]\n",
    "categorias = ['18 a 24 anos', '25 a 34 anos', '35 a 44 anos', '45 a 54 anos', '55 a 64 anos', 'acima de 64 anos']"
   ]
  },
  {
   "cell_type": "code",
   "execution_count": 70,
   "id": "4c423687",
   "metadata": {
    "id": "4c423687",
    "tags": []
   },
   "outputs": [],
   "source": [
    "df_raca_genero['FAIXA_ETARIA'] = pd.cut(df_raca_genero['NR_IDADE_DATA_POSSE'], cortes, labels=categorias, include_lowest=True)"
   ]
  },
  {
   "cell_type": "code",
   "execution_count": 71,
   "id": "6fcc29d2",
   "metadata": {
    "id": "6fcc29d2",
    "outputId": "42e71f66-adb3-4e9d-c8ea-2822451a04d3",
    "tags": []
   },
   "outputs": [
    {
     "data": {
      "text/html": [
       "<div>\n",
       "<style scoped>\n",
       "    .dataframe tbody tr th:only-of-type {\n",
       "        vertical-align: middle;\n",
       "    }\n",
       "\n",
       "    .dataframe tbody tr th {\n",
       "        vertical-align: top;\n",
       "    }\n",
       "\n",
       "    .dataframe thead th {\n",
       "        text-align: right;\n",
       "    }\n",
       "</style>\n",
       "<table border=\"1\" class=\"dataframe\">\n",
       "  <thead>\n",
       "    <tr style=\"text-align: right;\">\n",
       "      <th></th>\n",
       "      <th>ANO_ELEICAO</th>\n",
       "      <th>CD_CARGO</th>\n",
       "      <th>SG_UF</th>\n",
       "      <th>NR_PARTIDO</th>\n",
       "      <th>SG_PARTIDO</th>\n",
       "      <th>CD_GENERO</th>\n",
       "      <th>DS_GENERO</th>\n",
       "      <th>CD_COR_RACA</th>\n",
       "      <th>DS_COR_RACA</th>\n",
       "      <th>NR_IDADE_DATA_POSSE</th>\n",
       "      <th>VR_DESPESA_MAX_CAMPANHA</th>\n",
       "      <th>FAIXA_ETARIA</th>\n",
       "    </tr>\n",
       "  </thead>\n",
       "  <tbody>\n",
       "    <tr>\n",
       "      <th>0</th>\n",
       "      <td>2016</td>\n",
       "      <td>13</td>\n",
       "      <td>AP</td>\n",
       "      <td>12</td>\n",
       "      <td>PDT</td>\n",
       "      <td>2</td>\n",
       "      <td>MASCULINO</td>\n",
       "      <td>1</td>\n",
       "      <td>BRANCA</td>\n",
       "      <td>25.0</td>\n",
       "      <td>133202.77</td>\n",
       "      <td>18 a 24 anos</td>\n",
       "    </tr>\n",
       "    <tr>\n",
       "      <th>1</th>\n",
       "      <td>2016</td>\n",
       "      <td>13</td>\n",
       "      <td>AP</td>\n",
       "      <td>20</td>\n",
       "      <td>PSC</td>\n",
       "      <td>2</td>\n",
       "      <td>MASCULINO</td>\n",
       "      <td>3</td>\n",
       "      <td>PARDA</td>\n",
       "      <td>32.0</td>\n",
       "      <td>10803.91</td>\n",
       "      <td>25 a 34 anos</td>\n",
       "    </tr>\n",
       "    <tr>\n",
       "      <th>2</th>\n",
       "      <td>2016</td>\n",
       "      <td>13</td>\n",
       "      <td>AP</td>\n",
       "      <td>23</td>\n",
       "      <td>PPS</td>\n",
       "      <td>2</td>\n",
       "      <td>MASCULINO</td>\n",
       "      <td>1</td>\n",
       "      <td>BRANCA</td>\n",
       "      <td>45.0</td>\n",
       "      <td>133202.77</td>\n",
       "      <td>35 a 44 anos</td>\n",
       "    </tr>\n",
       "    <tr>\n",
       "      <th>3</th>\n",
       "      <td>2016</td>\n",
       "      <td>13</td>\n",
       "      <td>AP</td>\n",
       "      <td>25</td>\n",
       "      <td>DEM</td>\n",
       "      <td>2</td>\n",
       "      <td>MASCULINO</td>\n",
       "      <td>3</td>\n",
       "      <td>PARDA</td>\n",
       "      <td>41.0</td>\n",
       "      <td>133202.77</td>\n",
       "      <td>35 a 44 anos</td>\n",
       "    </tr>\n",
       "    <tr>\n",
       "      <th>4</th>\n",
       "      <td>2016</td>\n",
       "      <td>13</td>\n",
       "      <td>AP</td>\n",
       "      <td>45</td>\n",
       "      <td>PSDB</td>\n",
       "      <td>4</td>\n",
       "      <td>FEMININO</td>\n",
       "      <td>3</td>\n",
       "      <td>PARDA</td>\n",
       "      <td>38.0</td>\n",
       "      <td>10803.91</td>\n",
       "      <td>35 a 44 anos</td>\n",
       "    </tr>\n",
       "  </tbody>\n",
       "</table>\n",
       "</div>"
      ],
      "text/plain": [
       "   ANO_ELEICAO  CD_CARGO SG_UF  NR_PARTIDO SG_PARTIDO  CD_GENERO  DS_GENERO  \\\n",
       "0         2016        13    AP          12        PDT          2  MASCULINO   \n",
       "1         2016        13    AP          20        PSC          2  MASCULINO   \n",
       "2         2016        13    AP          23        PPS          2  MASCULINO   \n",
       "3         2016        13    AP          25        DEM          2  MASCULINO   \n",
       "4         2016        13    AP          45       PSDB          4   FEMININO   \n",
       "\n",
       "   CD_COR_RACA DS_COR_RACA  NR_IDADE_DATA_POSSE  VR_DESPESA_MAX_CAMPANHA  \\\n",
       "0            1      BRANCA                 25.0                133202.77   \n",
       "1            3       PARDA                 32.0                 10803.91   \n",
       "2            1      BRANCA                 45.0                133202.77   \n",
       "3            3       PARDA                 41.0                133202.77   \n",
       "4            3       PARDA                 38.0                 10803.91   \n",
       "\n",
       "   FAIXA_ETARIA  \n",
       "0  18 a 24 anos  \n",
       "1  25 a 34 anos  \n",
       "2  35 a 44 anos  \n",
       "3  35 a 44 anos  \n",
       "4  35 a 44 anos  "
      ]
     },
     "execution_count": 71,
     "metadata": {},
     "output_type": "execute_result"
    }
   ],
   "source": [
    "df_raca_genero.head()"
   ]
  },
  {
   "cell_type": "code",
   "execution_count": 72,
   "id": "19841090",
   "metadata": {
    "id": "19841090",
    "outputId": "b7582218-c052-4ad5-9059-a6e99e8b2d54",
    "tags": []
   },
   "outputs": [
    {
     "data": {
      "text/plain": [
       "0    35 a 44 anos\n",
       "Name: FAIXA_ETARIA, dtype: category\n",
       "Categories (6, object): ['18 a 24 anos' < '25 a 34 anos' < '35 a 44 anos' < '45 a 54 anos' < '55 a 64 anos' < 'acima de 64 anos']"
      ]
     },
     "execution_count": 72,
     "metadata": {},
     "output_type": "execute_result"
    }
   ],
   "source": [
    "df_raca_genero['FAIXA_ETARIA'].mode()"
   ]
  },
  {
   "cell_type": "markdown",
   "id": "173e6e5f",
   "metadata": {
    "id": "173e6e5f"
   },
   "source": [
    "# Visualize graficamente a distribuição da variável DS_COR_RACA em 2016"
   ]
  },
  {
   "cell_type": "code",
   "execution_count": 73,
   "id": "5877851b",
   "metadata": {
    "id": "5877851b",
    "tags": []
   },
   "outputs": [],
   "source": [
    "df_raca_2016 = df_raca_genero[df_raca_genero['ANO_ELEICAO'] == 2016].copy()"
   ]
  },
  {
   "cell_type": "code",
   "execution_count": 74,
   "id": "bed1e3f0",
   "metadata": {
    "id": "bed1e3f0",
    "outputId": "2e5e6ea5-78db-4749-88e1-933bef004fa9",
    "tags": []
   },
   "outputs": [
    {
     "data": {
      "text/html": [
       "<div>\n",
       "<style scoped>\n",
       "    .dataframe tbody tr th:only-of-type {\n",
       "        vertical-align: middle;\n",
       "    }\n",
       "\n",
       "    .dataframe tbody tr th {\n",
       "        vertical-align: top;\n",
       "    }\n",
       "\n",
       "    .dataframe thead th {\n",
       "        text-align: right;\n",
       "    }\n",
       "</style>\n",
       "<table border=\"1\" class=\"dataframe\">\n",
       "  <thead>\n",
       "    <tr style=\"text-align: right;\">\n",
       "      <th></th>\n",
       "      <th>CD_COR_RACA</th>\n",
       "    </tr>\n",
       "    <tr>\n",
       "      <th>DS_COR_RACA</th>\n",
       "      <th></th>\n",
       "    </tr>\n",
       "  </thead>\n",
       "  <tbody>\n",
       "    <tr>\n",
       "      <th>AMARELA</th>\n",
       "      <td>81</td>\n",
       "    </tr>\n",
       "    <tr>\n",
       "      <th>BRANCA</th>\n",
       "      <td>3520</td>\n",
       "    </tr>\n",
       "    <tr>\n",
       "      <th>INDÍGENA</th>\n",
       "      <td>63</td>\n",
       "    </tr>\n",
       "    <tr>\n",
       "      <th>PARDA</th>\n",
       "      <td>14141</td>\n",
       "    </tr>\n",
       "    <tr>\n",
       "      <th>PRETA</th>\n",
       "      <td>1848</td>\n",
       "    </tr>\n",
       "  </tbody>\n",
       "</table>\n",
       "</div>"
      ],
      "text/plain": [
       "             CD_COR_RACA\n",
       "DS_COR_RACA             \n",
       "AMARELA               81\n",
       "BRANCA              3520\n",
       "INDÍGENA              63\n",
       "PARDA              14141\n",
       "PRETA               1848"
      ]
     },
     "execution_count": 74,
     "metadata": {},
     "output_type": "execute_result"
    }
   ],
   "source": [
    "df_raca_2016[['CD_COR_RACA', 'DS_COR_RACA']].groupby(['DS_COR_RACA']).count()"
   ]
  },
  {
   "cell_type": "code",
   "execution_count": 75,
   "id": "3afdf2a3",
   "metadata": {
    "id": "3afdf2a3",
    "outputId": "ea73721d-550a-4901-a929-615c0fd4f5af",
    "tags": []
   },
   "outputs": [
    {
     "name": "stdout",
     "output_type": "stream",
     "text": [
      "['BRANCA', 'PARDA', 'PRETA', 'INDÍGENA', 'AMARELA']\n"
     ]
    }
   ],
   "source": [
    "raca = df_raca_2016['DS_COR_RACA'].unique().tolist()\n",
    "print(raca)"
   ]
  },
  {
   "cell_type": "code",
   "execution_count": 76,
   "id": "a275cfd2",
   "metadata": {
    "id": "a275cfd2",
    "outputId": "66751490-da17-41c6-c10a-3cec577d4bab",
    "tags": []
   },
   "outputs": [
    {
     "name": "stdout",
     "output_type": "stream",
     "text": [
      "[14141, 3520, 1848, 81, 63]\n"
     ]
    }
   ],
   "source": [
    "frequencia = df_raca_2016['DS_COR_RACA'].value_counts().tolist()\n",
    "print(frequencia)"
   ]
  },
  {
   "cell_type": "code",
   "execution_count": 77,
   "id": "86cdbba7",
   "metadata": {
    "id": "86cdbba7",
    "outputId": "396745d2-eb60-4c60-a578-ea6fcd351da6",
    "tags": []
   },
   "outputs": [
    {
     "data": {
      "image/png": "[encoded data removed]",
      "text/plain": [
       "<Figure size 640x480 with 1 Axes>"
      ]
     },
     "metadata": {},
     "output_type": "display_data"
    }
   ],
   "source": [
    "plt.bar(raca, frequencia)\n",
    "\n",
    "plt.xticks(rotation=45) \n",
    "plt.title('Distribuição por raça em 2016')\n",
    "plt.ylabel('Quantitativo de candidaturas')\n",
    "\n",
    "plt.savefig('distribuicao_raca_2016.pdf')"
   ]
  },
  {
   "cell_type": "markdown",
   "id": "9c79b476",
   "metadata": {
    "id": "9c79b476"
   },
   "source": [
    "# Há correlação entre idade, gênero e custo da campanha?"
   ]
  },
  {
   "cell_type": "code",
   "execution_count": 78,
   "id": "481151a6",
   "metadata": {
    "id": "481151a6",
    "outputId": "3ab20d39-9469-46d1-b63e-4d38d574125a",
    "tags": []
   },
   "outputs": [
    {
     "data": {
      "text/html": [
       "<div>\n",
       "<style scoped>\n",
       "    .dataframe tbody tr th:only-of-type {\n",
       "        vertical-align: middle;\n",
       "    }\n",
       "\n",
       "    .dataframe tbody tr th {\n",
       "        vertical-align: top;\n",
       "    }\n",
       "\n",
       "    .dataframe thead th {\n",
       "        text-align: right;\n",
       "    }\n",
       "</style>\n",
       "<table border=\"1\" class=\"dataframe\">\n",
       "  <thead>\n",
       "    <tr style=\"text-align: right;\">\n",
       "      <th></th>\n",
       "      <th>NR_IDADE_DATA_POSSE</th>\n",
       "      <th>CD_GENERO</th>\n",
       "      <th>VR_DESPESA_MAX_CAMPANHA</th>\n",
       "    </tr>\n",
       "  </thead>\n",
       "  <tbody>\n",
       "    <tr>\n",
       "      <th>NR_IDADE_DATA_POSSE</th>\n",
       "      <td>1.000000</td>\n",
       "      <td>-0.091149</td>\n",
       "      <td>0.071978</td>\n",
       "    </tr>\n",
       "    <tr>\n",
       "      <th>CD_GENERO</th>\n",
       "      <td>-0.091149</td>\n",
       "      <td>1.000000</td>\n",
       "      <td>-0.014853</td>\n",
       "    </tr>\n",
       "    <tr>\n",
       "      <th>VR_DESPESA_MAX_CAMPANHA</th>\n",
       "      <td>0.071978</td>\n",
       "      <td>-0.014853</td>\n",
       "      <td>1.000000</td>\n",
       "    </tr>\n",
       "  </tbody>\n",
       "</table>\n",
       "</div>"
      ],
      "text/plain": [
       "                         NR_IDADE_DATA_POSSE  CD_GENERO  \\\n",
       "NR_IDADE_DATA_POSSE                 1.000000  -0.091149   \n",
       "CD_GENERO                          -0.091149   1.000000   \n",
       "VR_DESPESA_MAX_CAMPANHA             0.071978  -0.014853   \n",
       "\n",
       "                         VR_DESPESA_MAX_CAMPANHA  \n",
       "NR_IDADE_DATA_POSSE                     0.071978  \n",
       "CD_GENERO                              -0.014853  \n",
       "VR_DESPESA_MAX_CAMPANHA                 1.000000  "
      ]
     },
     "execution_count": 78,
     "metadata": {},
     "output_type": "execute_result"
    }
   ],
   "source": [
    "df_raca_genero[['NR_IDADE_DATA_POSSE', 'CD_GENERO', 'VR_DESPESA_MAX_CAMPANHA']].corr(method='pearson')"
   ]
  }
 ],
 "metadata": {
  "colab": {
   "collapsed_sections": [],
   "name": "aula_aovivo.ipynb",
   "provenance": []
  },
  "kernelspec": {
   "display_name": "Python 3 (ipykernel)",
   "language": "python",
   "name": "python3"
  },
  "language_info": {
   "codemirror_mode": {
    "name": "ipython",
    "version": 3
   },
   "file_extension": ".py",
   "mimetype": "text/x-python",
   "name": "python",
   "nbconvert_exporter": "python",
   "pygments_lexer": "ipython3",
   "version": "3.10.6"
  }
 },
 "nbformat": 4,
 "nbformat_minor": 5
}
